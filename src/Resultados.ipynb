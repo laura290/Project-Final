{
 "cells": [
  {
   "cell_type": "code",
   "execution_count": 70,
   "metadata": {},
   "outputs": [],
   "source": [
    "import pandas as pd\n",
    "import numpy as np\n",
    "import matplotlib.pyplot as plt\n",
    "import seaborn as sns\n",
    "import plotly\n",
    "import plotly.express as px\n",
    "import plotly.io as pio\n",
    "import plotly.graph_objects as go\n",
    "df1 = pd.read_csv('jerarquico_cluster')\n",
    "df2= pd.read_csv('kmeans_cluster')"
   ]
  },
  {
   "cell_type": "markdown",
   "metadata": {},
   "source": [
    "Unificamos ambos dataset que contienen los valores iniciales propuestos como hipótesis ,y los clusters obtenidos por ambos métodos,se eliminan las columnas que se duplican como unión de estos."
   ]
  },
  {
   "cell_type": "code",
   "execution_count": 71,
   "metadata": {},
   "outputs": [
    {
     "data": {
      "text/html": [
       "<div>\n",
       "<style scoped>\n",
       "    .dataframe tbody tr th:only-of-type {\n",
       "        vertical-align: middle;\n",
       "    }\n",
       "\n",
       "    .dataframe tbody tr th {\n",
       "        vertical-align: top;\n",
       "    }\n",
       "\n",
       "    .dataframe thead th {\n",
       "        text-align: right;\n",
       "    }\n",
       "</style>\n",
       "<table border=\"1\" class=\"dataframe\">\n",
       "  <thead>\n",
       "    <tr style=\"text-align: right;\">\n",
       "      <th></th>\n",
       "      <th>DBO5_x</th>\n",
       "      <th>NT_x</th>\n",
       "      <th>PT_x</th>\n",
       "      <th>SS_x</th>\n",
       "      <th>DEPURADORA_2_x</th>\n",
       "      <th>Cluster</th>\n",
       "      <th>KMeans_Cluster</th>\n",
       "    </tr>\n",
       "  </thead>\n",
       "  <tbody>\n",
       "    <tr>\n",
       "      <th>0</th>\n",
       "      <td>5.0</td>\n",
       "      <td>15.8</td>\n",
       "      <td>0.91</td>\n",
       "      <td>5.0</td>\n",
       "      <td>0</td>\n",
       "      <td>1</td>\n",
       "      <td>1</td>\n",
       "    </tr>\n",
       "    <tr>\n",
       "      <th>1</th>\n",
       "      <td>5.0</td>\n",
       "      <td>14.9</td>\n",
       "      <td>0.84</td>\n",
       "      <td>4.0</td>\n",
       "      <td>0</td>\n",
       "      <td>1</td>\n",
       "      <td>1</td>\n",
       "    </tr>\n",
       "    <tr>\n",
       "      <th>2</th>\n",
       "      <td>5.0</td>\n",
       "      <td>9.8</td>\n",
       "      <td>0.63</td>\n",
       "      <td>3.0</td>\n",
       "      <td>0</td>\n",
       "      <td>4</td>\n",
       "      <td>1</td>\n",
       "    </tr>\n",
       "    <tr>\n",
       "      <th>3</th>\n",
       "      <td>5.0</td>\n",
       "      <td>7.0</td>\n",
       "      <td>0.67</td>\n",
       "      <td>3.0</td>\n",
       "      <td>0</td>\n",
       "      <td>4</td>\n",
       "      <td>1</td>\n",
       "    </tr>\n",
       "    <tr>\n",
       "      <th>4</th>\n",
       "      <td>5.0</td>\n",
       "      <td>9.7</td>\n",
       "      <td>0.85</td>\n",
       "      <td>4.0</td>\n",
       "      <td>0</td>\n",
       "      <td>4</td>\n",
       "      <td>1</td>\n",
       "    </tr>\n",
       "  </tbody>\n",
       "</table>\n",
       "</div>"
      ],
      "text/plain": [
       "   DBO5_x  NT_x  PT_x  SS_x  DEPURADORA_2_x  Cluster  KMeans_Cluster\n",
       "0     5.0  15.8  0.91   5.0               0        1               1\n",
       "1     5.0  14.9  0.84   4.0               0        1               1\n",
       "2     5.0   9.8  0.63   3.0               0        4               1\n",
       "3     5.0   7.0  0.67   3.0               0        4               1\n",
       "4     5.0   9.7  0.85   4.0               0        4               1"
      ]
     },
     "execution_count": 71,
     "metadata": {},
     "output_type": "execute_result"
    }
   ],
   "source": [
    "data=pd.merge(df1, df2, on='Unnamed: 0')\n",
    "data_2=data.drop(columns=['DBO5_y','Unnamed: 0', 'NT_y', 'DEPURADORA_2_y','PT_y','SS_y'], axis=1)\n",
    "data_2.head()"
   ]
  },
  {
   "cell_type": "code",
   "execution_count": 72,
   "metadata": {},
   "outputs": [
    {
     "data": {
      "text/html": [
       "<div>\n",
       "<style scoped>\n",
       "    .dataframe tbody tr th:only-of-type {\n",
       "        vertical-align: middle;\n",
       "    }\n",
       "\n",
       "    .dataframe tbody tr th {\n",
       "        vertical-align: top;\n",
       "    }\n",
       "\n",
       "    .dataframe thead th {\n",
       "        text-align: right;\n",
       "    }\n",
       "</style>\n",
       "<table border=\"1\" class=\"dataframe\">\n",
       "  <thead>\n",
       "    <tr style=\"text-align: right;\">\n",
       "      <th></th>\n",
       "      <th>DBO5_x</th>\n",
       "      <th>NT_x</th>\n",
       "      <th>PT_x</th>\n",
       "      <th>SS_x</th>\n",
       "      <th>DEPURADORA_2_x</th>\n",
       "      <th>Cluster</th>\n",
       "      <th>KMeans_Cluster</th>\n",
       "    </tr>\n",
       "  </thead>\n",
       "  <tbody>\n",
       "    <tr>\n",
       "      <th>356</th>\n",
       "      <td>5.0</td>\n",
       "      <td>15.231902</td>\n",
       "      <td>0.23</td>\n",
       "      <td>9.0</td>\n",
       "      <td>1</td>\n",
       "      <td>1</td>\n",
       "      <td>3</td>\n",
       "    </tr>\n",
       "    <tr>\n",
       "      <th>299</th>\n",
       "      <td>6.0</td>\n",
       "      <td>12.661963</td>\n",
       "      <td>0.41</td>\n",
       "      <td>9.0</td>\n",
       "      <td>2</td>\n",
       "      <td>1</td>\n",
       "      <td>3</td>\n",
       "    </tr>\n",
       "    <tr>\n",
       "      <th>424</th>\n",
       "      <td>4.0</td>\n",
       "      <td>9.630000</td>\n",
       "      <td>0.41</td>\n",
       "      <td>8.1</td>\n",
       "      <td>1</td>\n",
       "      <td>1</td>\n",
       "      <td>1</td>\n",
       "    </tr>\n",
       "    <tr>\n",
       "      <th>313</th>\n",
       "      <td>10.0</td>\n",
       "      <td>13.358896</td>\n",
       "      <td>0.47</td>\n",
       "      <td>9.0</td>\n",
       "      <td>1</td>\n",
       "      <td>0</td>\n",
       "      <td>3</td>\n",
       "    </tr>\n",
       "    <tr>\n",
       "      <th>428</th>\n",
       "      <td>4.0</td>\n",
       "      <td>9.650000</td>\n",
       "      <td>0.42</td>\n",
       "      <td>4.0</td>\n",
       "      <td>1</td>\n",
       "      <td>4</td>\n",
       "      <td>1</td>\n",
       "    </tr>\n",
       "    <tr>\n",
       "      <th>52</th>\n",
       "      <td>5.0</td>\n",
       "      <td>8.500000</td>\n",
       "      <td>0.49</td>\n",
       "      <td>3.0</td>\n",
       "      <td>0</td>\n",
       "      <td>4</td>\n",
       "      <td>1</td>\n",
       "    </tr>\n",
       "    <tr>\n",
       "      <th>235</th>\n",
       "      <td>5.0</td>\n",
       "      <td>9.874233</td>\n",
       "      <td>0.41</td>\n",
       "      <td>12.0</td>\n",
       "      <td>2</td>\n",
       "      <td>1</td>\n",
       "      <td>3</td>\n",
       "    </tr>\n",
       "    <tr>\n",
       "      <th>454</th>\n",
       "      <td>10.0</td>\n",
       "      <td>8.140000</td>\n",
       "      <td>0.57</td>\n",
       "      <td>5.6</td>\n",
       "      <td>1</td>\n",
       "      <td>1</td>\n",
       "      <td>1</td>\n",
       "    </tr>\n",
       "    <tr>\n",
       "      <th>358</th>\n",
       "      <td>8.0</td>\n",
       "      <td>15.319018</td>\n",
       "      <td>0.68</td>\n",
       "      <td>14.0</td>\n",
       "      <td>1</td>\n",
       "      <td>0</td>\n",
       "      <td>3</td>\n",
       "    </tr>\n",
       "    <tr>\n",
       "      <th>213</th>\n",
       "      <td>7.0</td>\n",
       "      <td>5.600000</td>\n",
       "      <td>0.35</td>\n",
       "      <td>2.4</td>\n",
       "      <td>2</td>\n",
       "      <td>1</td>\n",
       "      <td>1</td>\n",
       "    </tr>\n",
       "  </tbody>\n",
       "</table>\n",
       "</div>"
      ],
      "text/plain": [
       "     DBO5_x       NT_x  PT_x  SS_x  DEPURADORA_2_x  Cluster  KMeans_Cluster\n",
       "356     5.0  15.231902  0.23   9.0               1        1               3\n",
       "299     6.0  12.661963  0.41   9.0               2        1               3\n",
       "424     4.0   9.630000  0.41   8.1               1        1               1\n",
       "313    10.0  13.358896  0.47   9.0               1        0               3\n",
       "428     4.0   9.650000  0.42   4.0               1        4               1\n",
       "52      5.0   8.500000  0.49   3.0               0        4               1\n",
       "235     5.0   9.874233  0.41  12.0               2        1               3\n",
       "454    10.0   8.140000  0.57   5.6               1        1               1\n",
       "358     8.0  15.319018  0.68  14.0               1        0               3\n",
       "213     7.0   5.600000  0.35   2.4               2        1               1"
      ]
     },
     "execution_count": 72,
     "metadata": {},
     "output_type": "execute_result"
    }
   ],
   "source": [
    "c=data_2.sample(10, random_state = 0)\n",
    "c"
   ]
  },
  {
   "cell_type": "code",
   "execution_count": 78,
   "metadata": {},
   "outputs": [
    {
     "data": {
      "application/vnd.plotly.v1+json": {
       "config": {
        "plotlyServerURL": "https://plot.ly"
       },
       "data": [
        {
         "hovertemplate": "DEPURADORA_2_x=0<br>DBO5_x=%{x}<br>PT_x=%{y}<extra></extra>",
         "legendgroup": "",
         "marker": {
          "color": "#F8766D",
          "symbol": "circle"
         },
         "mode": "markers",
         "name": "",
         "orientation": "v",
         "showlegend": false,
         "type": "scatter",
         "x": [
          5,
          5,
          5,
          5,
          5,
          5,
          6,
          5,
          5,
          5,
          5,
          3.5,
          5,
          5,
          5,
          5,
          5,
          6,
          5,
          5,
          5,
          5,
          5,
          5,
          5,
          5,
          5,
          5,
          5,
          6,
          5,
          11,
          12,
          5,
          5,
          5,
          6,
          5,
          5,
          5,
          6,
          5,
          5,
          5,
          5,
          6,
          5,
          5,
          5,
          5,
          5,
          5,
          5,
          5,
          5,
          8,
          5,
          5,
          5,
          6,
          5,
          5,
          5,
          5,
          5,
          5,
          5,
          5,
          5,
          8,
          4.5,
          4.3,
          5,
          6,
          5,
          5,
          5,
          5
         ],
         "xaxis": "x",
         "y": [
          0.91,
          0.84,
          0.63,
          0.67,
          0.85,
          0.75,
          0.75,
          0.71,
          0.57,
          0.69,
          0.91,
          13,
          0.72,
          0.7,
          0.55,
          0.6,
          0.77,
          0.53,
          0.51,
          0.51,
          0.53,
          0.41,
          0.33,
          0.45,
          0.43,
          0.7,
          0.47,
          0.56,
          0.53,
          0.39,
          0.39,
          0.35,
          0.6,
          0.68,
          0.53,
          0.67,
          0.73,
          0.64,
          0.62,
          0.66,
          0.64,
          0.64,
          0.5,
          0.58,
          0.44,
          0.62,
          0.56,
          0.67,
          1,
          1.02,
          0.52,
          0.55,
          0.49,
          0.46,
          0.49,
          0.46,
          0.37,
          0.59,
          0.64,
          0.58,
          0.56,
          0.42,
          0.61,
          0.59,
          0.44,
          0.57,
          0.62,
          0.49,
          0.5,
          0.74,
          0.53,
          0.68,
          0.6,
          0.6,
          0.69,
          0.75,
          0.66,
          0.67
         ],
         "yaxis": "y"
        },
        {
         "hovertemplate": "DEPURADORA_2_x=3<br>DBO5_x=%{x}<br>PT_x=%{y}<extra></extra>",
         "legendgroup": "",
         "marker": {
          "color": "#F8766D",
          "symbol": "circle"
         },
         "mode": "markers",
         "name": "",
         "orientation": "v",
         "showlegend": false,
         "type": "scatter",
         "x": [
          5,
          5,
          5,
          5,
          5,
          8,
          6,
          6,
          5,
          5,
          5,
          5,
          5,
          5,
          5,
          5,
          5,
          5,
          5,
          5,
          5,
          5,
          5,
          5,
          5,
          5,
          5,
          5,
          5,
          5,
          5,
          5,
          5,
          5,
          5,
          5,
          5,
          5,
          5,
          6,
          12,
          5,
          5,
          5,
          9.5,
          4.1,
          8.3,
          8,
          2,
          2,
          2,
          3,
          2,
          2,
          3,
          2,
          2,
          4,
          3,
          10,
          6,
          7,
          5,
          2,
          6,
          7,
          3,
          2,
          2,
          2,
          3,
          2,
          2,
          2,
          3,
          2,
          2,
          2
         ],
         "xaxis": "x2",
         "y": [
          0.25,
          0.52,
          0.53,
          0.58,
          0.71,
          0.61,
          0.49,
          0.3,
          0.54,
          0.6,
          0.18,
          0.14,
          0.48,
          0.27,
          0.7,
          0.52,
          0.66,
          0.64,
          0.58,
          0.27,
          0.77,
          0.42,
          0.44,
          0.48,
          0.44,
          0.59,
          0.35,
          0.65,
          0.42,
          0.43,
          0.62,
          0.51,
          0.73,
          0.61,
          0.51,
          0.75,
          0.55,
          0.61,
          0.55,
          0.68,
          0.46,
          0.22,
          0.2,
          0.32,
          0.4,
          0.52,
          0.24,
          0.58,
          0.75,
          0.75,
          0.74,
          0.68,
          0.55,
          0.74,
          0.57,
          0.68,
          0.58,
          0.65,
          0.44,
          0.55,
          0.38,
          0.44,
          0.21,
          0.67,
          0.63,
          0.6,
          0.69,
          0.66,
          0.4,
          0.68,
          0.626,
          0.643,
          0.637,
          0.7979999999999999,
          0.71,
          0.6559999999999999,
          0.703,
          0.857
         ],
         "yaxis": "y2"
        },
        {
         "hovertemplate": "DEPURADORA_2_x=2<br>DBO5_x=%{x}<br>PT_x=%{y}<extra></extra>",
         "legendgroup": "",
         "marker": {
          "color": "#F8766D",
          "symbol": "circle"
         },
         "mode": "markers",
         "name": "",
         "orientation": "v",
         "showlegend": false,
         "type": "scatter",
         "x": [
          5,
          2,
          3,
          2,
          3,
          4,
          7,
          3,
          3,
          2,
          5,
          9,
          8,
          6,
          6,
          4,
          8,
          2,
          6,
          3,
          2,
          2,
          3,
          2,
          2,
          3,
          8,
          3,
          3,
          2,
          3,
          3,
          5,
          3,
          11,
          3,
          2,
          6,
          7,
          6,
          3,
          6,
          7,
          3,
          10.2,
          3.8,
          8.7,
          5,
          2,
          5,
          2,
          4,
          2,
          2,
          3,
          3,
          3,
          7,
          4,
          5,
          8,
          7,
          9,
          2,
          11,
          5,
          4,
          2,
          3,
          2,
          10,
          1.8,
          5,
          5,
          4,
          4,
          4,
          2,
          18,
          5,
          8,
          8,
          18,
          10,
          11,
          5,
          8,
          8,
          9,
          6,
          7,
          10,
          7,
          5,
          7,
          6,
          11,
          7,
          7,
          8,
          5,
          10,
          14,
          14,
          9,
          12,
          5,
          8,
          9,
          5,
          8,
          8,
          10,
          8,
          8,
          7,
          12,
          11,
          5,
          9,
          5,
          20,
          17,
          5,
          7,
          11,
          6,
          11,
          7,
          5,
          8,
          12,
          10,
          7,
          6,
          7,
          11,
          5,
          12,
          9,
          9,
          30,
          15,
          6,
          5,
          8,
          21,
          13,
          4.8,
          10,
          12,
          9,
          5,
          8,
          5,
          7
         ],
         "xaxis": "x3",
         "y": [
          0.72,
          0.59,
          0.7,
          0.79,
          0.88,
          0.87,
          1.27,
          0.85,
          0.98,
          0.96,
          1.02,
          0.75,
          0.69,
          0.59,
          0.71,
          0.41,
          0.47,
          0.4,
          0.56,
          0.72,
          0.91,
          0.59,
          0.52,
          1.11,
          0.77,
          0.51,
          0.59,
          0.41,
          0.39,
          0.34,
          0.4,
          0.36,
          0.79,
          0.67,
          0.37,
          0.43,
          0.48,
          0.4,
          0.41,
          0.59,
          0.5,
          0.6,
          0.34,
          0.49,
          0.36,
          0.36,
          0.5,
          0.73,
          0.51,
          0.48,
          0.26,
          0.49,
          0.31,
          0.43,
          0.38,
          0.61,
          0.51,
          0.35,
          0.58,
          0.53,
          0.63,
          0.75,
          0.73,
          0.7,
          0.54,
          0.77,
          0.64,
          0.5,
          0.49,
          0.56,
          0.556,
          0.264,
          0.605,
          0.611,
          0.765,
          0.747,
          0.752,
          0.6729999999999999,
          1.2,
          0.41,
          0.28,
          0.41,
          0.63,
          0.36,
          0.46,
          0.36,
          0.39,
          0.54,
          0.58,
          0.8,
          0.42,
          0.3,
          0.3,
          0.34,
          0.44,
          0.61,
          0.44,
          0.24,
          0.44,
          0.37,
          0.31,
          0.36,
          0.53,
          0.59,
          0.21,
          0.52,
          0.25,
          0.4,
          0.27,
          0.2,
          0.45,
          0.61,
          0.34,
          0.75,
          0.53,
          0.54,
          0.46,
          0.59,
          0.4,
          0.45,
          0.47,
          0.35,
          0.81,
          0.22,
          0.46,
          0.42,
          0.79,
          0.6,
          0.26,
          0.57,
          0.65,
          0.61,
          0.66,
          0.45,
          0.75,
          0.49,
          0.56,
          0.68,
          0.49,
          0.53,
          0.45,
          0.61,
          0.45,
          0.41,
          0.62,
          0.51,
          0.8,
          0.6,
          0.45,
          0.45,
          0.65,
          0.6,
          0.67,
          0.68,
          0.59,
          0.36
         ],
         "yaxis": "y3"
        },
        {
         "hovertemplate": "DEPURADORA_2_x=1<br>DBO5_x=%{x}<br>PT_x=%{y}<extra></extra>",
         "legendgroup": "",
         "marker": {
          "color": "#F8766D",
          "symbol": "circle"
         },
         "mode": "markers",
         "name": "",
         "orientation": "v",
         "showlegend": false,
         "type": "scatter",
         "x": [
          5,
          10,
          8,
          5,
          10,
          8,
          8.5,
          10,
          20,
          8,
          9,
          4.5,
          8,
          5,
          11,
          5,
          6,
          5,
          12,
          5,
          16,
          5,
          12,
          6,
          6,
          5,
          8,
          17,
          5,
          5,
          12,
          5,
          5,
          7,
          7,
          7,
          7,
          5,
          15,
          8,
          5,
          11,
          30,
          11,
          5,
          5,
          8,
          7,
          6,
          5,
          5,
          5,
          9,
          8,
          10,
          6,
          6,
          7,
          5,
          9,
          7,
          7,
          5,
          5,
          14,
          12,
          5,
          11,
          7,
          11,
          4.7,
          11,
          12,
          5,
          8,
          5,
          5,
          11,
          6,
          2,
          3,
          3,
          7,
          6,
          6,
          5,
          5,
          6,
          6,
          3,
          7,
          3,
          4,
          4,
          5,
          3,
          3,
          2,
          5,
          4,
          3,
          7,
          9,
          6,
          3,
          6,
          2,
          5,
          3,
          9,
          8,
          3,
          4,
          3,
          6,
          8,
          4,
          5,
          4,
          6,
          2,
          3,
          11,
          8.9,
          9.8,
          4,
          3,
          2,
          2,
          5,
          2,
          2,
          2,
          2,
          4,
          5,
          5,
          6,
          7,
          5,
          8,
          6,
          10,
          5,
          5,
          3,
          3,
          2,
          8,
          2,
          5,
          3,
          5,
          2,
          3,
          2,
          13,
          15,
          13,
          17,
          20,
          13,
          12,
          10,
          14,
          13,
          12,
          11,
          19,
          7,
          8,
          10,
          15,
          18,
          13,
          7,
          16,
          16,
          12,
          10,
          11,
          8,
          10,
          15,
          29,
          35,
          12,
          5,
          10,
          8,
          6,
          8,
          11,
          10,
          10,
          12,
          9,
          13,
          6,
          5,
          16.3,
          13.2,
          10.1,
          10,
          15,
          12,
          9,
          16,
          13,
          9,
          11,
          9,
          13,
          9,
          12,
          12,
          15,
          7,
          9,
          9,
          13,
          9,
          12,
          11,
          16,
          15,
          11,
          14,
          14,
          18,
          15,
          15,
          23,
          14,
          17,
          16,
          10,
          13,
          8,
          4,
          11,
          13,
          9,
          7,
          18,
          12,
          9,
          7,
          6,
          10,
          14,
          11,
          10,
          8,
          9,
          17,
          9,
          11,
          13,
          9,
          21,
          38,
          10,
          7,
          9,
          7,
          7,
          9,
          16,
          9,
          7,
          2,
          14,
          11,
          8,
          13,
          12,
          9,
          15.4,
          11.9,
          14,
          9,
          15,
          15,
          13,
          18,
          7,
          8,
          6,
          7,
          10,
          16,
          6,
          12,
          14,
          5,
          10,
          17,
          12,
          11,
          13,
          9,
          9,
          14,
          2,
          13,
          12,
          6,
          15,
          15,
          14,
          12
         ],
         "xaxis": "x4",
         "y": [
          0.57,
          0.47,
          0.57,
          0.53,
          0.77,
          0.61,
          0.61,
          1.09,
          0.83,
          0.54,
          0.65,
          0.83,
          0.54,
          0.35,
          0.46,
          0.69,
          0.89,
          0.33,
          0.71,
          0.42,
          0.48,
          0.26,
          0.27,
          0.56,
          0.27,
          0.42,
          0.15,
          0.34,
          0.28,
          0.42,
          0.53,
          0.75,
          0.41,
          0.64,
          0.73,
          0.52,
          0.38,
          0.25,
          0.91,
          0.59,
          0.45,
          0.38,
          0.33,
          0.4,
          0.23,
          1.01,
          0.68,
          0.39,
          0.8,
          0.67,
          0.47,
          0.38,
          0.55,
          0.36,
          0.45,
          0.38,
          0.45,
          0.31,
          0.41,
          0.56,
          0.35,
          0.3,
          0.74,
          0.67,
          0.54,
          0.78,
          0.71,
          1,
          1.08,
          0.58,
          0.71,
          0.67,
          0.82,
          0.63,
          0.59,
          0.51,
          0.43,
          0.43,
          0.68,
          0.62,
          0.55,
          0.57,
          0.63,
          0.79,
          0.76,
          0.76,
          0.61,
          0.61,
          0.73,
          0.86,
          0.97,
          0.69,
          0.63,
          0.57,
          0.65,
          0.57,
          0.57,
          0.25,
          0.53,
          0.55,
          0.41,
          0.43,
          1.02,
          0.3,
          0.46,
          0.71,
          0.4,
          0.54,
          0.54,
          0.68,
          0.45,
          0.63,
          0.41,
          0.38,
          0.48,
          0.46,
          0.42,
          0.68,
          0.35,
          0.61,
          0.36,
          0.31,
          0.33,
          0.41,
          0.28,
          0.61,
          0.24,
          0.48,
          1.88,
          0.52,
          0.23,
          0.32,
          0.22,
          0.37,
          0.22,
          0.17,
          0.21,
          0.6,
          0.25,
          0.39,
          0.44,
          0.39,
          0.57,
          0.54,
          0.35,
          0.49,
          0.25,
          0.39,
          0.617,
          0.379,
          0.203,
          0.45899999999999996,
          0.48200000000000004,
          0.213,
          0.54,
          0.617,
          0.85,
          0.62,
          0.6,
          0.56,
          0.99,
          0.59,
          0.81,
          0.93,
          0.75,
          0.72,
          0.82,
          0.69,
          1.04,
          0.64,
          0.53,
          0.63,
          0.78,
          0.53,
          1.31,
          0.43,
          0.7,
          0.53,
          0.71,
          0.51,
          0.42,
          0.65,
          0.64,
          0.98,
          0.52,
          1.41,
          0.63,
          0.7,
          0.51,
          0.41,
          0.75,
          0.54,
          0.57,
          0.59,
          0.84,
          0.63,
          1.3,
          1.01,
          0.53,
          0.52,
          1.55,
          0.56,
          0.95,
          0.52,
          0.95,
          0.61,
          0.66,
          0.4,
          0.47,
          0.59,
          0.72,
          1.03,
          0.61,
          0.46,
          0.8,
          0.53,
          0.68,
          0.56,
          0.45,
          0.6,
          0.63,
          0.42,
          0.66,
          0.53,
          0.67,
          0.63,
          0.299,
          0.645,
          0.653,
          0.853,
          0.502,
          0.779,
          1.36,
          0.6,
          0.78,
          0.98,
          0.57,
          0.6,
          0.63,
          0.5,
          0.63,
          0.77,
          0.62,
          0.44,
          0.86,
          0.66,
          0.36,
          0.5,
          0.25,
          0.32,
          0.46,
          0.66,
          0.58,
          0.65,
          6.5,
          0.73,
          0.6,
          0.48,
          0.56,
          0.42,
          1.4,
          0.94,
          0.58,
          0.51,
          0.56,
          0.85,
          0.37,
          0.55,
          0.65,
          0.65,
          0.73,
          0.73,
          0.81,
          0.84,
          0.53,
          0.63,
          0.88,
          0.75,
          0.65,
          0.57,
          0.6,
          0.84,
          0.85,
          0.65,
          0.49,
          0.6,
          0.79,
          0.61,
          0.57,
          0.47,
          0.72,
          0.54,
          0.74,
          0.66,
          0.74,
          0.67,
          0.62,
          0.39,
          0.44,
          0.47,
          0.63,
          0.73,
          0.79,
          0.63,
          0.785,
          0.735,
          0.9329999999999999,
          0.7959999999999999,
          0.703,
          0.826,
          0.856,
          0.893
         ],
         "yaxis": "y4"
        }
       ],
       "layout": {
        "annotations": [
         {
          "font": {},
          "showarrow": false,
          "text": "DEPURADORA_2_x=0",
          "x": 0.1175,
          "xanchor": "center",
          "xref": "paper",
          "y": 1,
          "yanchor": "bottom",
          "yref": "paper"
         },
         {
          "font": {},
          "showarrow": false,
          "text": "DEPURADORA_2_x=3",
          "x": 0.3725,
          "xanchor": "center",
          "xref": "paper",
          "y": 1,
          "yanchor": "bottom",
          "yref": "paper"
         },
         {
          "font": {},
          "showarrow": false,
          "text": "DEPURADORA_2_x=2",
          "x": 0.6275,
          "xanchor": "center",
          "xref": "paper",
          "y": 1,
          "yanchor": "bottom",
          "yref": "paper"
         },
         {
          "font": {},
          "showarrow": false,
          "text": "DEPURADORA_2_x=1",
          "x": 0.8824999999999998,
          "xanchor": "center",
          "xref": "paper",
          "y": 1,
          "yanchor": "bottom",
          "yref": "paper"
         }
        ],
        "legend": {
         "tracegroupgap": 0
        },
        "template": {
         "data": {
          "bar": [
           {
            "error_x": {
             "color": "rgb(51,51,51)"
            },
            "error_y": {
             "color": "rgb(51,51,51)"
            },
            "marker": {
             "line": {
              "color": "rgb(237,237,237)",
              "width": 0.5
             }
            },
            "type": "bar"
           }
          ],
          "barpolar": [
           {
            "marker": {
             "line": {
              "color": "rgb(237,237,237)",
              "width": 0.5
             }
            },
            "type": "barpolar"
           }
          ],
          "carpet": [
           {
            "aaxis": {
             "endlinecolor": "rgb(51,51,51)",
             "gridcolor": "white",
             "linecolor": "white",
             "minorgridcolor": "white",
             "startlinecolor": "rgb(51,51,51)"
            },
            "baxis": {
             "endlinecolor": "rgb(51,51,51)",
             "gridcolor": "white",
             "linecolor": "white",
             "minorgridcolor": "white",
             "startlinecolor": "rgb(51,51,51)"
            },
            "type": "carpet"
           }
          ],
          "choropleth": [
           {
            "colorbar": {
             "outlinewidth": 0,
             "tickcolor": "rgb(237,237,237)",
             "ticklen": 6,
             "ticks": "inside"
            },
            "type": "choropleth"
           }
          ],
          "contour": [
           {
            "colorbar": {
             "outlinewidth": 0,
             "tickcolor": "rgb(237,237,237)",
             "ticklen": 6,
             "ticks": "inside"
            },
            "colorscale": [
             [
              0,
              "rgb(20,44,66)"
             ],
             [
              1,
              "rgb(90,179,244)"
             ]
            ],
            "type": "contour"
           }
          ],
          "contourcarpet": [
           {
            "colorbar": {
             "outlinewidth": 0,
             "tickcolor": "rgb(237,237,237)",
             "ticklen": 6,
             "ticks": "inside"
            },
            "type": "contourcarpet"
           }
          ],
          "heatmap": [
           {
            "colorbar": {
             "outlinewidth": 0,
             "tickcolor": "rgb(237,237,237)",
             "ticklen": 6,
             "ticks": "inside"
            },
            "colorscale": [
             [
              0,
              "rgb(20,44,66)"
             ],
             [
              1,
              "rgb(90,179,244)"
             ]
            ],
            "type": "heatmap"
           }
          ],
          "heatmapgl": [
           {
            "colorbar": {
             "outlinewidth": 0,
             "tickcolor": "rgb(237,237,237)",
             "ticklen": 6,
             "ticks": "inside"
            },
            "colorscale": [
             [
              0,
              "rgb(20,44,66)"
             ],
             [
              1,
              "rgb(90,179,244)"
             ]
            ],
            "type": "heatmapgl"
           }
          ],
          "histogram": [
           {
            "marker": {
             "colorbar": {
              "outlinewidth": 0,
              "tickcolor": "rgb(237,237,237)",
              "ticklen": 6,
              "ticks": "inside"
             }
            },
            "type": "histogram"
           }
          ],
          "histogram2d": [
           {
            "colorbar": {
             "outlinewidth": 0,
             "tickcolor": "rgb(237,237,237)",
             "ticklen": 6,
             "ticks": "inside"
            },
            "colorscale": [
             [
              0,
              "rgb(20,44,66)"
             ],
             [
              1,
              "rgb(90,179,244)"
             ]
            ],
            "type": "histogram2d"
           }
          ],
          "histogram2dcontour": [
           {
            "colorbar": {
             "outlinewidth": 0,
             "tickcolor": "rgb(237,237,237)",
             "ticklen": 6,
             "ticks": "inside"
            },
            "colorscale": [
             [
              0,
              "rgb(20,44,66)"
             ],
             [
              1,
              "rgb(90,179,244)"
             ]
            ],
            "type": "histogram2dcontour"
           }
          ],
          "mesh3d": [
           {
            "colorbar": {
             "outlinewidth": 0,
             "tickcolor": "rgb(237,237,237)",
             "ticklen": 6,
             "ticks": "inside"
            },
            "type": "mesh3d"
           }
          ],
          "parcoords": [
           {
            "line": {
             "colorbar": {
              "outlinewidth": 0,
              "tickcolor": "rgb(237,237,237)",
              "ticklen": 6,
              "ticks": "inside"
             }
            },
            "type": "parcoords"
           }
          ],
          "pie": [
           {
            "automargin": true,
            "type": "pie"
           }
          ],
          "scatter": [
           {
            "marker": {
             "colorbar": {
              "outlinewidth": 0,
              "tickcolor": "rgb(237,237,237)",
              "ticklen": 6,
              "ticks": "inside"
             }
            },
            "type": "scatter"
           }
          ],
          "scatter3d": [
           {
            "line": {
             "colorbar": {
              "outlinewidth": 0,
              "tickcolor": "rgb(237,237,237)",
              "ticklen": 6,
              "ticks": "inside"
             }
            },
            "marker": {
             "colorbar": {
              "outlinewidth": 0,
              "tickcolor": "rgb(237,237,237)",
              "ticklen": 6,
              "ticks": "inside"
             }
            },
            "type": "scatter3d"
           }
          ],
          "scattercarpet": [
           {
            "marker": {
             "colorbar": {
              "outlinewidth": 0,
              "tickcolor": "rgb(237,237,237)",
              "ticklen": 6,
              "ticks": "inside"
             }
            },
            "type": "scattercarpet"
           }
          ],
          "scattergeo": [
           {
            "marker": {
             "colorbar": {
              "outlinewidth": 0,
              "tickcolor": "rgb(237,237,237)",
              "ticklen": 6,
              "ticks": "inside"
             }
            },
            "type": "scattergeo"
           }
          ],
          "scattergl": [
           {
            "marker": {
             "colorbar": {
              "outlinewidth": 0,
              "tickcolor": "rgb(237,237,237)",
              "ticklen": 6,
              "ticks": "inside"
             }
            },
            "type": "scattergl"
           }
          ],
          "scattermapbox": [
           {
            "marker": {
             "colorbar": {
              "outlinewidth": 0,
              "tickcolor": "rgb(237,237,237)",
              "ticklen": 6,
              "ticks": "inside"
             }
            },
            "type": "scattermapbox"
           }
          ],
          "scatterpolar": [
           {
            "marker": {
             "colorbar": {
              "outlinewidth": 0,
              "tickcolor": "rgb(237,237,237)",
              "ticklen": 6,
              "ticks": "inside"
             }
            },
            "type": "scatterpolar"
           }
          ],
          "scatterpolargl": [
           {
            "marker": {
             "colorbar": {
              "outlinewidth": 0,
              "tickcolor": "rgb(237,237,237)",
              "ticklen": 6,
              "ticks": "inside"
             }
            },
            "type": "scatterpolargl"
           }
          ],
          "scatterternary": [
           {
            "marker": {
             "colorbar": {
              "outlinewidth": 0,
              "tickcolor": "rgb(237,237,237)",
              "ticklen": 6,
              "ticks": "inside"
             }
            },
            "type": "scatterternary"
           }
          ],
          "surface": [
           {
            "colorbar": {
             "outlinewidth": 0,
             "tickcolor": "rgb(237,237,237)",
             "ticklen": 6,
             "ticks": "inside"
            },
            "colorscale": [
             [
              0,
              "rgb(20,44,66)"
             ],
             [
              1,
              "rgb(90,179,244)"
             ]
            ],
            "type": "surface"
           }
          ],
          "table": [
           {
            "cells": {
             "fill": {
              "color": "rgb(237,237,237)"
             },
             "line": {
              "color": "white"
             }
            },
            "header": {
             "fill": {
              "color": "rgb(217,217,217)"
             },
             "line": {
              "color": "white"
             }
            },
            "type": "table"
           }
          ]
         },
         "layout": {
          "annotationdefaults": {
           "arrowhead": 0,
           "arrowwidth": 1
          },
          "coloraxis": {
           "colorbar": {
            "outlinewidth": 0,
            "tickcolor": "rgb(237,237,237)",
            "ticklen": 6,
            "ticks": "inside"
           }
          },
          "colorscale": {
           "sequential": [
            [
             0,
             "rgb(20,44,66)"
            ],
            [
             1,
             "rgb(90,179,244)"
            ]
           ],
           "sequentialminus": [
            [
             0,
             "rgb(20,44,66)"
            ],
            [
             1,
             "rgb(90,179,244)"
            ]
           ]
          },
          "colorway": [
           "#F8766D",
           "#A3A500",
           "#00BF7D",
           "#00B0F6",
           "#E76BF3"
          ],
          "font": {
           "color": "rgb(51,51,51)"
          },
          "geo": {
           "bgcolor": "white",
           "lakecolor": "white",
           "landcolor": "rgb(237,237,237)",
           "showlakes": true,
           "showland": true,
           "subunitcolor": "white"
          },
          "hoverlabel": {
           "align": "left"
          },
          "hovermode": "closest",
          "paper_bgcolor": "white",
          "plot_bgcolor": "rgb(237,237,237)",
          "polar": {
           "angularaxis": {
            "gridcolor": "white",
            "linecolor": "white",
            "showgrid": true,
            "tickcolor": "rgb(51,51,51)",
            "ticks": "outside"
           },
           "bgcolor": "rgb(237,237,237)",
           "radialaxis": {
            "gridcolor": "white",
            "linecolor": "white",
            "showgrid": true,
            "tickcolor": "rgb(51,51,51)",
            "ticks": "outside"
           }
          },
          "scene": {
           "xaxis": {
            "backgroundcolor": "rgb(237,237,237)",
            "gridcolor": "white",
            "gridwidth": 2,
            "linecolor": "white",
            "showbackground": true,
            "showgrid": true,
            "tickcolor": "rgb(51,51,51)",
            "ticks": "outside",
            "zerolinecolor": "white"
           },
           "yaxis": {
            "backgroundcolor": "rgb(237,237,237)",
            "gridcolor": "white",
            "gridwidth": 2,
            "linecolor": "white",
            "showbackground": true,
            "showgrid": true,
            "tickcolor": "rgb(51,51,51)",
            "ticks": "outside",
            "zerolinecolor": "white"
           },
           "zaxis": {
            "backgroundcolor": "rgb(237,237,237)",
            "gridcolor": "white",
            "gridwidth": 2,
            "linecolor": "white",
            "showbackground": true,
            "showgrid": true,
            "tickcolor": "rgb(51,51,51)",
            "ticks": "outside",
            "zerolinecolor": "white"
           }
          },
          "shapedefaults": {
           "fillcolor": "black",
           "line": {
            "width": 0
           },
           "opacity": 0.3
          },
          "ternary": {
           "aaxis": {
            "gridcolor": "white",
            "linecolor": "white",
            "showgrid": true,
            "tickcolor": "rgb(51,51,51)",
            "ticks": "outside"
           },
           "baxis": {
            "gridcolor": "white",
            "linecolor": "white",
            "showgrid": true,
            "tickcolor": "rgb(51,51,51)",
            "ticks": "outside"
           },
           "bgcolor": "rgb(237,237,237)",
           "caxis": {
            "gridcolor": "white",
            "linecolor": "white",
            "showgrid": true,
            "tickcolor": "rgb(51,51,51)",
            "ticks": "outside"
           }
          },
          "xaxis": {
           "automargin": true,
           "gridcolor": "white",
           "linecolor": "white",
           "showgrid": true,
           "tickcolor": "rgb(51,51,51)",
           "ticks": "outside",
           "title": {
            "standoff": 15
           },
           "zerolinecolor": "white"
          },
          "yaxis": {
           "automargin": true,
           "gridcolor": "white",
           "linecolor": "white",
           "showgrid": true,
           "tickcolor": "rgb(51,51,51)",
           "ticks": "outside",
           "title": {
            "standoff": 15
           },
           "zerolinecolor": "white"
          }
         }
        },
        "title": {
         "text": "Datos de PT y DBO5 en función Depuradora(ubicación)"
        },
        "xaxis": {
         "anchor": "y",
         "domain": [
          0,
          0.235
         ],
         "title": {
          "text": "DBO5_x"
         }
        },
        "xaxis2": {
         "anchor": "y2",
         "domain": [
          0.255,
          0.49
         ],
         "matches": "x",
         "title": {
          "text": "DBO5_x"
         }
        },
        "xaxis3": {
         "anchor": "y3",
         "domain": [
          0.51,
          0.745
         ],
         "matches": "x",
         "title": {
          "text": "DBO5_x"
         }
        },
        "xaxis4": {
         "anchor": "y4",
         "domain": [
          0.7649999999999999,
          0.9999999999999999
         ],
         "matches": "x",
         "title": {
          "text": "DBO5_x"
         }
        },
        "yaxis": {
         "anchor": "x",
         "domain": [
          0,
          1
         ],
         "title": {
          "text": "PT_x"
         }
        },
        "yaxis2": {
         "anchor": "x2",
         "domain": [
          0,
          1
         ],
         "matches": "y",
         "showticklabels": false
        },
        "yaxis3": {
         "anchor": "x3",
         "domain": [
          0,
          1
         ],
         "matches": "y",
         "showticklabels": false
        },
        "yaxis4": {
         "anchor": "x4",
         "domain": [
          0,
          1
         ],
         "matches": "y",
         "showticklabels": false
        }
       }
      },
      "text/html": [
       "<div>                            <div id=\"fdb107d7-ddd2-4d65-af52-2806cfa2f236\" class=\"plotly-graph-div\" style=\"height:525px; width:100%;\"></div>            <script type=\"text/javascript\">                require([\"plotly\"], function(Plotly) {                    window.PLOTLYENV=window.PLOTLYENV || {};                                    if (document.getElementById(\"fdb107d7-ddd2-4d65-af52-2806cfa2f236\")) {                    Plotly.newPlot(                        \"fdb107d7-ddd2-4d65-af52-2806cfa2f236\",                        [{\"hovertemplate\": \"DEPURADORA_2_x=0<br>DBO5_x=%{x}<br>PT_x=%{y}<extra></extra>\", \"legendgroup\": \"\", \"marker\": {\"color\": \"#F8766D\", \"symbol\": \"circle\"}, \"mode\": \"markers\", \"name\": \"\", \"orientation\": \"v\", \"showlegend\": false, \"type\": \"scatter\", \"x\": [5.0, 5.0, 5.0, 5.0, 5.0, 5.0, 6.0, 5.0, 5.0, 5.0, 5.0, 3.5, 5.0, 5.0, 5.0, 5.0, 5.0, 6.0, 5.0, 5.0, 5.0, 5.0, 5.0, 5.0, 5.0, 5.0, 5.0, 5.0, 5.0, 6.0, 5.0, 11.0, 12.0, 5.0, 5.0, 5.0, 6.0, 5.0, 5.0, 5.0, 6.0, 5.0, 5.0, 5.0, 5.0, 6.0, 5.0, 5.0, 5.0, 5.0, 5.0, 5.0, 5.0, 5.0, 5.0, 8.0, 5.0, 5.0, 5.0, 6.0, 5.0, 5.0, 5.0, 5.0, 5.0, 5.0, 5.0, 5.0, 5.0, 8.0, 4.5, 4.3, 5.0, 6.0, 5.0, 5.0, 5.0, 5.0], \"xaxis\": \"x\", \"y\": [0.91, 0.84, 0.63, 0.67, 0.85, 0.75, 0.75, 0.71, 0.57, 0.69, 0.91, 13.0, 0.72, 0.7, 0.55, 0.6, 0.77, 0.53, 0.51, 0.51, 0.53, 0.41, 0.33, 0.45, 0.43, 0.7, 0.47, 0.56, 0.53, 0.39, 0.39, 0.35, 0.6, 0.68, 0.53, 0.67, 0.73, 0.64, 0.62, 0.66, 0.64, 0.64, 0.5, 0.58, 0.44, 0.62, 0.56, 0.67, 1.0, 1.02, 0.52, 0.55, 0.49, 0.46, 0.49, 0.46, 0.37, 0.59, 0.64, 0.58, 0.56, 0.42, 0.61, 0.59, 0.44, 0.57, 0.62, 0.49, 0.5, 0.74, 0.53, 0.68, 0.6, 0.6, 0.69, 0.75, 0.66, 0.67], \"yaxis\": \"y\"}, {\"hovertemplate\": \"DEPURADORA_2_x=3<br>DBO5_x=%{x}<br>PT_x=%{y}<extra></extra>\", \"legendgroup\": \"\", \"marker\": {\"color\": \"#F8766D\", \"symbol\": \"circle\"}, \"mode\": \"markers\", \"name\": \"\", \"orientation\": \"v\", \"showlegend\": false, \"type\": \"scatter\", \"x\": [5.0, 5.0, 5.0, 5.0, 5.0, 8.0, 6.0, 6.0, 5.0, 5.0, 5.0, 5.0, 5.0, 5.0, 5.0, 5.0, 5.0, 5.0, 5.0, 5.0, 5.0, 5.0, 5.0, 5.0, 5.0, 5.0, 5.0, 5.0, 5.0, 5.0, 5.0, 5.0, 5.0, 5.0, 5.0, 5.0, 5.0, 5.0, 5.0, 6.0, 12.0, 5.0, 5.0, 5.0, 9.5, 4.1, 8.3, 8.0, 2.0, 2.0, 2.0, 3.0, 2.0, 2.0, 3.0, 2.0, 2.0, 4.0, 3.0, 10.0, 6.0, 7.0, 5.0, 2.0, 6.0, 7.0, 3.0, 2.0, 2.0, 2.0, 3.0, 2.0, 2.0, 2.0, 3.0, 2.0, 2.0, 2.0], \"xaxis\": \"x2\", \"y\": [0.25, 0.52, 0.53, 0.58, 0.71, 0.61, 0.49, 0.3, 0.54, 0.6, 0.18, 0.14, 0.48, 0.27, 0.7, 0.52, 0.66, 0.64, 0.58, 0.27, 0.77, 0.42, 0.44, 0.48, 0.44, 0.59, 0.35, 0.65, 0.42, 0.43, 0.62, 0.51, 0.73, 0.61, 0.51, 0.75, 0.55, 0.61, 0.55, 0.68, 0.46, 0.22, 0.2, 0.32, 0.4, 0.52, 0.24, 0.58, 0.75, 0.75, 0.74, 0.68, 0.55, 0.74, 0.57, 0.68, 0.58, 0.65, 0.44, 0.55, 0.38, 0.44, 0.21, 0.67, 0.63, 0.6, 0.69, 0.66, 0.4, 0.68, 0.626, 0.643, 0.637, 0.7979999999999999, 0.71, 0.6559999999999999, 0.703, 0.857], \"yaxis\": \"y2\"}, {\"hovertemplate\": \"DEPURADORA_2_x=2<br>DBO5_x=%{x}<br>PT_x=%{y}<extra></extra>\", \"legendgroup\": \"\", \"marker\": {\"color\": \"#F8766D\", \"symbol\": \"circle\"}, \"mode\": \"markers\", \"name\": \"\", \"orientation\": \"v\", \"showlegend\": false, \"type\": \"scatter\", \"x\": [5.0, 2.0, 3.0, 2.0, 3.0, 4.0, 7.0, 3.0, 3.0, 2.0, 5.0, 9.0, 8.0, 6.0, 6.0, 4.0, 8.0, 2.0, 6.0, 3.0, 2.0, 2.0, 3.0, 2.0, 2.0, 3.0, 8.0, 3.0, 3.0, 2.0, 3.0, 3.0, 5.0, 3.0, 11.0, 3.0, 2.0, 6.0, 7.0, 6.0, 3.0, 6.0, 7.0, 3.0, 10.2, 3.8, 8.7, 5.0, 2.0, 5.0, 2.0, 4.0, 2.0, 2.0, 3.0, 3.0, 3.0, 7.0, 4.0, 5.0, 8.0, 7.0, 9.0, 2.0, 11.0, 5.0, 4.0, 2.0, 3.0, 2.0, 10.0, 1.8, 5.0, 5.0, 4.0, 4.0, 4.0, 2.0, 18.0, 5.0, 8.0, 8.0, 18.0, 10.0, 11.0, 5.0, 8.0, 8.0, 9.0, 6.0, 7.0, 10.0, 7.0, 5.0, 7.0, 6.0, 11.0, 7.0, 7.0, 8.0, 5.0, 10.0, 14.0, 14.0, 9.0, 12.0, 5.0, 8.0, 9.0, 5.0, 8.0, 8.0, 10.0, 8.0, 8.0, 7.0, 12.0, 11.0, 5.0, 9.0, 5.0, 20.0, 17.0, 5.0, 7.0, 11.0, 6.0, 11.0, 7.0, 5.0, 8.0, 12.0, 10.0, 7.0, 6.0, 7.0, 11.0, 5.0, 12.0, 9.0, 9.0, 30.0, 15.0, 6.0, 5.0, 8.0, 21.0, 13.0, 4.8, 10.0, 12.0, 9.0, 5.0, 8.0, 5.0, 7.0], \"xaxis\": \"x3\", \"y\": [0.72, 0.59, 0.7, 0.79, 0.88, 0.87, 1.27, 0.85, 0.98, 0.96, 1.02, 0.75, 0.69, 0.59, 0.71, 0.41, 0.47, 0.4, 0.56, 0.72, 0.91, 0.59, 0.52, 1.11, 0.77, 0.51, 0.59, 0.41, 0.39, 0.34, 0.4, 0.36, 0.79, 0.67, 0.37, 0.43, 0.48, 0.4, 0.41, 0.59, 0.5, 0.6, 0.34, 0.49, 0.36, 0.36, 0.5, 0.73, 0.51, 0.48, 0.26, 0.49, 0.31, 0.43, 0.38, 0.61, 0.51, 0.35, 0.58, 0.53, 0.63, 0.75, 0.73, 0.7, 0.54, 0.77, 0.64, 0.5, 0.49, 0.56, 0.556, 0.264, 0.605, 0.611, 0.765, 0.747, 0.752, 0.6729999999999999, 1.2, 0.41, 0.28, 0.41, 0.63, 0.36, 0.46, 0.36, 0.39, 0.54, 0.58, 0.8, 0.42, 0.3, 0.3, 0.34, 0.44, 0.61, 0.44, 0.24, 0.44, 0.37, 0.31, 0.36, 0.53, 0.59, 0.21, 0.52, 0.25, 0.4, 0.27, 0.2, 0.45, 0.61, 0.34, 0.75, 0.53, 0.54, 0.46, 0.59, 0.4, 0.45, 0.47, 0.35, 0.81, 0.22, 0.46, 0.42, 0.79, 0.6, 0.26, 0.57, 0.65, 0.61, 0.66, 0.45, 0.75, 0.49, 0.56, 0.68, 0.49, 0.53, 0.45, 0.61, 0.45, 0.41, 0.62, 0.51, 0.8, 0.6, 0.45, 0.45, 0.65, 0.6, 0.67, 0.68, 0.59, 0.36], \"yaxis\": \"y3\"}, {\"hovertemplate\": \"DEPURADORA_2_x=1<br>DBO5_x=%{x}<br>PT_x=%{y}<extra></extra>\", \"legendgroup\": \"\", \"marker\": {\"color\": \"#F8766D\", \"symbol\": \"circle\"}, \"mode\": \"markers\", \"name\": \"\", \"orientation\": \"v\", \"showlegend\": false, \"type\": \"scatter\", \"x\": [5.0, 10.0, 8.0, 5.0, 10.0, 8.0, 8.5, 10.0, 20.0, 8.0, 9.0, 4.5, 8.0, 5.0, 11.0, 5.0, 6.0, 5.0, 12.0, 5.0, 16.0, 5.0, 12.0, 6.0, 6.0, 5.0, 8.0, 17.0, 5.0, 5.0, 12.0, 5.0, 5.0, 7.0, 7.0, 7.0, 7.0, 5.0, 15.0, 8.0, 5.0, 11.0, 30.0, 11.0, 5.0, 5.0, 8.0, 7.0, 6.0, 5.0, 5.0, 5.0, 9.0, 8.0, 10.0, 6.0, 6.0, 7.0, 5.0, 9.0, 7.0, 7.0, 5.0, 5.0, 14.0, 12.0, 5.0, 11.0, 7.0, 11.0, 4.7, 11.0, 12.0, 5.0, 8.0, 5.0, 5.0, 11.0, 6.0, 2.0, 3.0, 3.0, 7.0, 6.0, 6.0, 5.0, 5.0, 6.0, 6.0, 3.0, 7.0, 3.0, 4.0, 4.0, 5.0, 3.0, 3.0, 2.0, 5.0, 4.0, 3.0, 7.0, 9.0, 6.0, 3.0, 6.0, 2.0, 5.0, 3.0, 9.0, 8.0, 3.0, 4.0, 3.0, 6.0, 8.0, 4.0, 5.0, 4.0, 6.0, 2.0, 3.0, 11.0, 8.9, 9.8, 4.0, 3.0, 2.0, 2.0, 5.0, 2.0, 2.0, 2.0, 2.0, 4.0, 5.0, 5.0, 6.0, 7.0, 5.0, 8.0, 6.0, 10.0, 5.0, 5.0, 3.0, 3.0, 2.0, 8.0, 2.0, 5.0, 3.0, 5.0, 2.0, 3.0, 2.0, 13.0, 15.0, 13.0, 17.0, 20.0, 13.0, 12.0, 10.0, 14.0, 13.0, 12.0, 11.0, 19.0, 7.0, 8.0, 10.0, 15.0, 18.0, 13.0, 7.0, 16.0, 16.0, 12.0, 10.0, 11.0, 8.0, 10.0, 15.0, 29.0, 35.0, 12.0, 5.0, 10.0, 8.0, 6.0, 8.0, 11.0, 10.0, 10.0, 12.0, 9.0, 13.0, 6.0, 5.0, 16.3, 13.2, 10.1, 10.0, 15.0, 12.0, 9.0, 16.0, 13.0, 9.0, 11.0, 9.0, 13.0, 9.0, 12.0, 12.0, 15.0, 7.0, 9.0, 9.0, 13.0, 9.0, 12.0, 11.0, 16.0, 15.0, 11.0, 14.0, 14.0, 18.0, 15.0, 15.0, 23.0, 14.0, 17.0, 16.0, 10.0, 13.0, 8.0, 4.0, 11.0, 13.0, 9.0, 7.0, 18.0, 12.0, 9.0, 7.0, 6.0, 10.0, 14.0, 11.0, 10.0, 8.0, 9.0, 17.0, 9.0, 11.0, 13.0, 9.0, 21.0, 38.0, 10.0, 7.0, 9.0, 7.0, 7.0, 9.0, 16.0, 9.0, 7.0, 2.0, 14.0, 11.0, 8.0, 13.0, 12.0, 9.0, 15.4, 11.9, 14.0, 9.0, 15.0, 15.0, 13.0, 18.0, 7.0, 8.0, 6.0, 7.0, 10.0, 16.0, 6.0, 12.0, 14.0, 5.0, 10.0, 17.0, 12.0, 11.0, 13.0, 9.0, 9.0, 14.0, 2.0, 13.0, 12.0, 6.0, 15.0, 15.0, 14.0, 12.0], \"xaxis\": \"x4\", \"y\": [0.57, 0.47, 0.57, 0.53, 0.77, 0.61, 0.61, 1.09, 0.83, 0.54, 0.65, 0.83, 0.54, 0.35, 0.46, 0.69, 0.89, 0.33, 0.71, 0.42, 0.48, 0.26, 0.27, 0.56, 0.27, 0.42, 0.15, 0.34, 0.28, 0.42, 0.53, 0.75, 0.41, 0.64, 0.73, 0.52, 0.38, 0.25, 0.91, 0.59, 0.45, 0.38, 0.33, 0.4, 0.23, 1.01, 0.68, 0.39, 0.8, 0.67, 0.47, 0.38, 0.55, 0.36, 0.45, 0.38, 0.45, 0.31, 0.41, 0.56, 0.35, 0.3, 0.74, 0.67, 0.54, 0.78, 0.71, 1.0, 1.08, 0.58, 0.71, 0.67, 0.82, 0.63, 0.59, 0.51, 0.43, 0.43, 0.68, 0.62, 0.55, 0.57, 0.63, 0.79, 0.76, 0.76, 0.61, 0.61, 0.73, 0.86, 0.97, 0.69, 0.63, 0.57, 0.65, 0.57, 0.57, 0.25, 0.53, 0.55, 0.41, 0.43, 1.02, 0.3, 0.46, 0.71, 0.4, 0.54, 0.54, 0.68, 0.45, 0.63, 0.41, 0.38, 0.48, 0.46, 0.42, 0.68, 0.35, 0.61, 0.36, 0.31, 0.33, 0.41, 0.28, 0.61, 0.24, 0.48, 1.88, 0.52, 0.23, 0.32, 0.22, 0.37, 0.22, 0.17, 0.21, 0.6, 0.25, 0.39, 0.44, 0.39, 0.57, 0.54, 0.35, 0.49, 0.25, 0.39, 0.617, 0.379, 0.203, 0.45899999999999996, 0.48200000000000004, 0.213, 0.54, 0.617, 0.85, 0.62, 0.6, 0.56, 0.99, 0.59, 0.81, 0.93, 0.75, 0.72, 0.82, 0.69, 1.04, 0.64, 0.53, 0.63, 0.78, 0.53, 1.31, 0.43, 0.7, 0.53, 0.71, 0.51, 0.42, 0.65, 0.64, 0.98, 0.52, 1.41, 0.63, 0.7, 0.51, 0.41, 0.75, 0.54, 0.57, 0.59, 0.84, 0.63, 1.3, 1.01, 0.53, 0.52, 1.55, 0.56, 0.95, 0.52, 0.95, 0.61, 0.66, 0.4, 0.47, 0.59, 0.72, 1.03, 0.61, 0.46, 0.8, 0.53, 0.68, 0.56, 0.45, 0.6, 0.63, 0.42, 0.66, 0.53, 0.67, 0.63, 0.299, 0.645, 0.653, 0.853, 0.502, 0.779, 1.36, 0.6, 0.78, 0.98, 0.57, 0.6, 0.63, 0.5, 0.63, 0.77, 0.62, 0.44, 0.86, 0.66, 0.36, 0.5, 0.25, 0.32, 0.46, 0.66, 0.58, 0.65, 6.5, 0.73, 0.6, 0.48, 0.56, 0.42, 1.4, 0.94, 0.58, 0.51, 0.56, 0.85, 0.37, 0.55, 0.65, 0.65, 0.73, 0.73, 0.81, 0.84, 0.53, 0.63, 0.88, 0.75, 0.65, 0.57, 0.6, 0.84, 0.85, 0.65, 0.49, 0.6, 0.79, 0.61, 0.57, 0.47, 0.72, 0.54, 0.74, 0.66, 0.74, 0.67, 0.62, 0.39, 0.44, 0.47, 0.63, 0.73, 0.79, 0.63, 0.785, 0.735, 0.9329999999999999, 0.7959999999999999, 0.703, 0.826, 0.856, 0.893], \"yaxis\": \"y4\"}],                        {\"annotations\": [{\"font\": {}, \"showarrow\": false, \"text\": \"DEPURADORA_2_x=0\", \"x\": 0.1175, \"xanchor\": \"center\", \"xref\": \"paper\", \"y\": 1.0, \"yanchor\": \"bottom\", \"yref\": \"paper\"}, {\"font\": {}, \"showarrow\": false, \"text\": \"DEPURADORA_2_x=3\", \"x\": 0.3725, \"xanchor\": \"center\", \"xref\": \"paper\", \"y\": 1.0, \"yanchor\": \"bottom\", \"yref\": \"paper\"}, {\"font\": {}, \"showarrow\": false, \"text\": \"DEPURADORA_2_x=2\", \"x\": 0.6275, \"xanchor\": \"center\", \"xref\": \"paper\", \"y\": 1.0, \"yanchor\": \"bottom\", \"yref\": \"paper\"}, {\"font\": {}, \"showarrow\": false, \"text\": \"DEPURADORA_2_x=1\", \"x\": 0.8824999999999998, \"xanchor\": \"center\", \"xref\": \"paper\", \"y\": 1.0, \"yanchor\": \"bottom\", \"yref\": \"paper\"}], \"legend\": {\"tracegroupgap\": 0}, \"template\": {\"data\": {\"bar\": [{\"error_x\": {\"color\": \"rgb(51,51,51)\"}, \"error_y\": {\"color\": \"rgb(51,51,51)\"}, \"marker\": {\"line\": {\"color\": \"rgb(237,237,237)\", \"width\": 0.5}}, \"type\": \"bar\"}], \"barpolar\": [{\"marker\": {\"line\": {\"color\": \"rgb(237,237,237)\", \"width\": 0.5}}, \"type\": \"barpolar\"}], \"carpet\": [{\"aaxis\": {\"endlinecolor\": \"rgb(51,51,51)\", \"gridcolor\": \"white\", \"linecolor\": \"white\", \"minorgridcolor\": \"white\", \"startlinecolor\": \"rgb(51,51,51)\"}, \"baxis\": {\"endlinecolor\": \"rgb(51,51,51)\", \"gridcolor\": \"white\", \"linecolor\": \"white\", \"minorgridcolor\": \"white\", \"startlinecolor\": \"rgb(51,51,51)\"}, \"type\": \"carpet\"}], \"choropleth\": [{\"colorbar\": {\"outlinewidth\": 0, \"tickcolor\": \"rgb(237,237,237)\", \"ticklen\": 6, \"ticks\": \"inside\"}, \"type\": \"choropleth\"}], \"contour\": [{\"colorbar\": {\"outlinewidth\": 0, \"tickcolor\": \"rgb(237,237,237)\", \"ticklen\": 6, \"ticks\": \"inside\"}, \"colorscale\": [[0, \"rgb(20,44,66)\"], [1, \"rgb(90,179,244)\"]], \"type\": \"contour\"}], \"contourcarpet\": [{\"colorbar\": {\"outlinewidth\": 0, \"tickcolor\": \"rgb(237,237,237)\", \"ticklen\": 6, \"ticks\": \"inside\"}, \"type\": \"contourcarpet\"}], \"heatmap\": [{\"colorbar\": {\"outlinewidth\": 0, \"tickcolor\": \"rgb(237,237,237)\", \"ticklen\": 6, \"ticks\": \"inside\"}, \"colorscale\": [[0, \"rgb(20,44,66)\"], [1, \"rgb(90,179,244)\"]], \"type\": \"heatmap\"}], \"heatmapgl\": [{\"colorbar\": {\"outlinewidth\": 0, \"tickcolor\": \"rgb(237,237,237)\", \"ticklen\": 6, \"ticks\": \"inside\"}, \"colorscale\": [[0, \"rgb(20,44,66)\"], [1, \"rgb(90,179,244)\"]], \"type\": \"heatmapgl\"}], \"histogram\": [{\"marker\": {\"colorbar\": {\"outlinewidth\": 0, \"tickcolor\": \"rgb(237,237,237)\", \"ticklen\": 6, \"ticks\": \"inside\"}}, \"type\": \"histogram\"}], \"histogram2d\": [{\"colorbar\": {\"outlinewidth\": 0, \"tickcolor\": \"rgb(237,237,237)\", \"ticklen\": 6, \"ticks\": \"inside\"}, \"colorscale\": [[0, \"rgb(20,44,66)\"], [1, \"rgb(90,179,244)\"]], \"type\": \"histogram2d\"}], \"histogram2dcontour\": [{\"colorbar\": {\"outlinewidth\": 0, \"tickcolor\": \"rgb(237,237,237)\", \"ticklen\": 6, \"ticks\": \"inside\"}, \"colorscale\": [[0, \"rgb(20,44,66)\"], [1, \"rgb(90,179,244)\"]], \"type\": \"histogram2dcontour\"}], \"mesh3d\": [{\"colorbar\": {\"outlinewidth\": 0, \"tickcolor\": \"rgb(237,237,237)\", \"ticklen\": 6, \"ticks\": \"inside\"}, \"type\": \"mesh3d\"}], \"parcoords\": [{\"line\": {\"colorbar\": {\"outlinewidth\": 0, \"tickcolor\": \"rgb(237,237,237)\", \"ticklen\": 6, \"ticks\": \"inside\"}}, \"type\": \"parcoords\"}], \"pie\": [{\"automargin\": true, \"type\": \"pie\"}], \"scatter\": [{\"marker\": {\"colorbar\": {\"outlinewidth\": 0, \"tickcolor\": \"rgb(237,237,237)\", \"ticklen\": 6, \"ticks\": \"inside\"}}, \"type\": \"scatter\"}], \"scatter3d\": [{\"line\": {\"colorbar\": {\"outlinewidth\": 0, \"tickcolor\": \"rgb(237,237,237)\", \"ticklen\": 6, \"ticks\": \"inside\"}}, \"marker\": {\"colorbar\": {\"outlinewidth\": 0, \"tickcolor\": \"rgb(237,237,237)\", \"ticklen\": 6, \"ticks\": \"inside\"}}, \"type\": \"scatter3d\"}], \"scattercarpet\": [{\"marker\": {\"colorbar\": {\"outlinewidth\": 0, \"tickcolor\": \"rgb(237,237,237)\", \"ticklen\": 6, \"ticks\": \"inside\"}}, \"type\": \"scattercarpet\"}], \"scattergeo\": [{\"marker\": {\"colorbar\": {\"outlinewidth\": 0, \"tickcolor\": \"rgb(237,237,237)\", \"ticklen\": 6, \"ticks\": \"inside\"}}, \"type\": \"scattergeo\"}], \"scattergl\": [{\"marker\": {\"colorbar\": {\"outlinewidth\": 0, \"tickcolor\": \"rgb(237,237,237)\", \"ticklen\": 6, \"ticks\": \"inside\"}}, \"type\": \"scattergl\"}], \"scattermapbox\": [{\"marker\": {\"colorbar\": {\"outlinewidth\": 0, \"tickcolor\": \"rgb(237,237,237)\", \"ticklen\": 6, \"ticks\": \"inside\"}}, \"type\": \"scattermapbox\"}], \"scatterpolar\": [{\"marker\": {\"colorbar\": {\"outlinewidth\": 0, \"tickcolor\": \"rgb(237,237,237)\", \"ticklen\": 6, \"ticks\": \"inside\"}}, \"type\": \"scatterpolar\"}], \"scatterpolargl\": [{\"marker\": {\"colorbar\": {\"outlinewidth\": 0, \"tickcolor\": \"rgb(237,237,237)\", \"ticklen\": 6, \"ticks\": \"inside\"}}, \"type\": \"scatterpolargl\"}], \"scatterternary\": [{\"marker\": {\"colorbar\": {\"outlinewidth\": 0, \"tickcolor\": \"rgb(237,237,237)\", \"ticklen\": 6, \"ticks\": \"inside\"}}, \"type\": \"scatterternary\"}], \"surface\": [{\"colorbar\": {\"outlinewidth\": 0, \"tickcolor\": \"rgb(237,237,237)\", \"ticklen\": 6, \"ticks\": \"inside\"}, \"colorscale\": [[0, \"rgb(20,44,66)\"], [1, \"rgb(90,179,244)\"]], \"type\": \"surface\"}], \"table\": [{\"cells\": {\"fill\": {\"color\": \"rgb(237,237,237)\"}, \"line\": {\"color\": \"white\"}}, \"header\": {\"fill\": {\"color\": \"rgb(217,217,217)\"}, \"line\": {\"color\": \"white\"}}, \"type\": \"table\"}]}, \"layout\": {\"annotationdefaults\": {\"arrowhead\": 0, \"arrowwidth\": 1}, \"coloraxis\": {\"colorbar\": {\"outlinewidth\": 0, \"tickcolor\": \"rgb(237,237,237)\", \"ticklen\": 6, \"ticks\": \"inside\"}}, \"colorscale\": {\"sequential\": [[0, \"rgb(20,44,66)\"], [1, \"rgb(90,179,244)\"]], \"sequentialminus\": [[0, \"rgb(20,44,66)\"], [1, \"rgb(90,179,244)\"]]}, \"colorway\": [\"#F8766D\", \"#A3A500\", \"#00BF7D\", \"#00B0F6\", \"#E76BF3\"], \"font\": {\"color\": \"rgb(51,51,51)\"}, \"geo\": {\"bgcolor\": \"white\", \"lakecolor\": \"white\", \"landcolor\": \"rgb(237,237,237)\", \"showlakes\": true, \"showland\": true, \"subunitcolor\": \"white\"}, \"hoverlabel\": {\"align\": \"left\"}, \"hovermode\": \"closest\", \"paper_bgcolor\": \"white\", \"plot_bgcolor\": \"rgb(237,237,237)\", \"polar\": {\"angularaxis\": {\"gridcolor\": \"white\", \"linecolor\": \"white\", \"showgrid\": true, \"tickcolor\": \"rgb(51,51,51)\", \"ticks\": \"outside\"}, \"bgcolor\": \"rgb(237,237,237)\", \"radialaxis\": {\"gridcolor\": \"white\", \"linecolor\": \"white\", \"showgrid\": true, \"tickcolor\": \"rgb(51,51,51)\", \"ticks\": \"outside\"}}, \"scene\": {\"xaxis\": {\"backgroundcolor\": \"rgb(237,237,237)\", \"gridcolor\": \"white\", \"gridwidth\": 2, \"linecolor\": \"white\", \"showbackground\": true, \"showgrid\": true, \"tickcolor\": \"rgb(51,51,51)\", \"ticks\": \"outside\", \"zerolinecolor\": \"white\"}, \"yaxis\": {\"backgroundcolor\": \"rgb(237,237,237)\", \"gridcolor\": \"white\", \"gridwidth\": 2, \"linecolor\": \"white\", \"showbackground\": true, \"showgrid\": true, \"tickcolor\": \"rgb(51,51,51)\", \"ticks\": \"outside\", \"zerolinecolor\": \"white\"}, \"zaxis\": {\"backgroundcolor\": \"rgb(237,237,237)\", \"gridcolor\": \"white\", \"gridwidth\": 2, \"linecolor\": \"white\", \"showbackground\": true, \"showgrid\": true, \"tickcolor\": \"rgb(51,51,51)\", \"ticks\": \"outside\", \"zerolinecolor\": \"white\"}}, \"shapedefaults\": {\"fillcolor\": \"black\", \"line\": {\"width\": 0}, \"opacity\": 0.3}, \"ternary\": {\"aaxis\": {\"gridcolor\": \"white\", \"linecolor\": \"white\", \"showgrid\": true, \"tickcolor\": \"rgb(51,51,51)\", \"ticks\": \"outside\"}, \"baxis\": {\"gridcolor\": \"white\", \"linecolor\": \"white\", \"showgrid\": true, \"tickcolor\": \"rgb(51,51,51)\", \"ticks\": \"outside\"}, \"bgcolor\": \"rgb(237,237,237)\", \"caxis\": {\"gridcolor\": \"white\", \"linecolor\": \"white\", \"showgrid\": true, \"tickcolor\": \"rgb(51,51,51)\", \"ticks\": \"outside\"}}, \"xaxis\": {\"automargin\": true, \"gridcolor\": \"white\", \"linecolor\": \"white\", \"showgrid\": true, \"tickcolor\": \"rgb(51,51,51)\", \"ticks\": \"outside\", \"title\": {\"standoff\": 15}, \"zerolinecolor\": \"white\"}, \"yaxis\": {\"automargin\": true, \"gridcolor\": \"white\", \"linecolor\": \"white\", \"showgrid\": true, \"tickcolor\": \"rgb(51,51,51)\", \"ticks\": \"outside\", \"title\": {\"standoff\": 15}, \"zerolinecolor\": \"white\"}}}, \"title\": {\"text\": \"Datos de PT y DBO5 en funci\\u00f3n Depuradora(ubicaci\\u00f3n)\"}, \"xaxis\": {\"anchor\": \"y\", \"domain\": [0.0, 0.235], \"title\": {\"text\": \"DBO5_x\"}}, \"xaxis2\": {\"anchor\": \"y2\", \"domain\": [0.255, 0.49], \"matches\": \"x\", \"title\": {\"text\": \"DBO5_x\"}}, \"xaxis3\": {\"anchor\": \"y3\", \"domain\": [0.51, 0.745], \"matches\": \"x\", \"title\": {\"text\": \"DBO5_x\"}}, \"xaxis4\": {\"anchor\": \"y4\", \"domain\": [0.7649999999999999, 0.9999999999999999], \"matches\": \"x\", \"title\": {\"text\": \"DBO5_x\"}}, \"yaxis\": {\"anchor\": \"x\", \"domain\": [0.0, 1.0], \"title\": {\"text\": \"PT_x\"}}, \"yaxis2\": {\"anchor\": \"x2\", \"domain\": [0.0, 1.0], \"matches\": \"y\", \"showticklabels\": false}, \"yaxis3\": {\"anchor\": \"x3\", \"domain\": [0.0, 1.0], \"matches\": \"y\", \"showticklabels\": false}, \"yaxis4\": {\"anchor\": \"x4\", \"domain\": [0.0, 1.0], \"matches\": \"y\", \"showticklabels\": false}},                        {\"responsive\": true}                    ).then(function(){\n",
       "                            \n",
       "var gd = document.getElementById('fdb107d7-ddd2-4d65-af52-2806cfa2f236');\n",
       "var x = new MutationObserver(function (mutations, observer) {{\n",
       "        var display = window.getComputedStyle(gd).display;\n",
       "        if (!display || display === 'none') {{\n",
       "            console.log([gd, 'removed!']);\n",
       "            Plotly.purge(gd);\n",
       "            observer.disconnect();\n",
       "        }}\n",
       "}});\n",
       "\n",
       "// Listen for the removal of the full notebook cells\n",
       "var notebookContainer = gd.closest('#notebook-container');\n",
       "if (notebookContainer) {{\n",
       "    x.observe(notebookContainer, {childList: true});\n",
       "}}\n",
       "\n",
       "// Listen for the clearing of the current output cell\n",
       "var outputEl = gd.closest('.output');\n",
       "if (outputEl) {{\n",
       "    x.observe(outputEl, {childList: true});\n",
       "}}\n",
       "\n",
       "                        })                };                });            </script>        </div>"
      ]
     },
     "metadata": {},
     "output_type": "display_data"
    }
   ],
   "source": [
    "fig1 = px.scatter(\n",
    "  data_2, x=data_2['DBO5_x'], y=data_2[\"PT_x\"], \n",
    "  template=\"ggplot2\", facet_col = data_2['DEPURADORA_2_x']\n",
    ", title=\"Datos de PT y DBO5 en función Depuradora(ubicación)\", \n",
    ")\n",
    "fig1"
   ]
  },
  {
   "cell_type": "code",
   "execution_count": 79,
   "metadata": {},
   "outputs": [
    {
     "data": {
      "application/vnd.plotly.v1+json": {
       "config": {
        "plotlyServerURL": "https://plot.ly"
       },
       "data": [
        {
         "hovertemplate": "Cluster=1<br>DBO5_x=%{x}<br>PT_x=%{y}<extra></extra>",
         "legendgroup": "",
         "marker": {
          "color": "#F8766D",
          "symbol": "circle"
         },
         "mode": "markers",
         "name": "",
         "orientation": "v",
         "showlegend": false,
         "type": "scatter",
         "x": [
          5,
          5,
          5,
          3.5,
          5,
          5,
          11,
          12,
          6,
          5,
          5,
          6,
          5,
          5,
          5,
          5,
          8,
          5,
          8,
          5,
          5,
          5,
          5,
          5,
          5,
          12,
          5,
          9.5,
          8.3,
          8,
          2,
          3,
          2,
          3,
          10,
          5,
          6,
          3,
          2,
          5,
          2,
          3,
          3,
          4,
          2,
          5,
          9,
          8,
          6,
          8,
          6,
          2,
          2,
          2,
          2,
          3,
          8,
          3,
          3,
          2,
          5,
          3,
          11,
          3,
          10.2,
          8.7,
          2,
          5,
          2,
          7,
          8,
          7,
          9,
          11,
          3,
          10,
          5,
          5,
          4,
          4,
          4,
          2,
          5,
          8,
          8,
          10,
          8,
          8,
          9,
          6,
          7,
          10,
          7,
          5,
          7,
          6,
          11,
          7,
          7,
          8,
          5,
          10,
          9,
          12,
          8,
          9,
          8,
          8,
          8,
          8,
          7,
          12,
          11,
          5,
          6,
          7,
          6,
          12,
          6,
          5,
          4.8,
          5,
          5,
          4.5,
          5,
          5,
          5,
          6,
          5,
          5,
          5,
          5,
          7,
          7,
          7,
          7,
          5,
          5,
          7,
          6,
          5,
          5,
          5,
          8,
          6,
          6,
          5,
          7,
          7,
          5,
          5,
          5,
          5,
          6,
          2,
          3,
          3,
          7,
          6,
          6,
          5,
          5,
          6,
          6,
          3,
          7,
          3,
          4,
          4,
          3,
          6,
          3,
          2,
          5,
          3,
          8,
          3,
          4,
          3,
          8,
          6,
          3,
          11,
          8.9,
          9.8,
          4,
          3,
          2,
          2,
          5,
          2,
          2,
          2,
          6,
          7,
          8,
          10,
          3,
          5,
          3,
          2,
          3,
          2,
          7,
          8,
          10,
          7,
          10,
          10,
          5,
          10,
          8,
          6,
          8,
          11,
          10,
          10,
          12,
          6,
          5,
          10.1,
          10,
          9,
          11,
          9,
          9,
          12,
          15,
          7,
          9,
          13,
          9,
          11,
          11,
          4,
          7,
          9,
          7,
          6,
          10,
          8,
          9,
          13,
          10,
          7,
          9,
          7,
          7,
          9,
          9,
          2,
          11,
          8,
          9,
          7,
          8,
          6,
          7,
          10,
          12,
          5,
          10,
          11,
          9,
          2,
          6
         ],
         "xaxis": "x",
         "y": [
          0.91,
          0.84,
          0.71,
          13,
          0.72,
          0.7,
          0.35,
          0.6,
          0.73,
          0.5,
          0.58,
          0.62,
          0.56,
          0.67,
          1,
          1.02,
          0.46,
          0.5,
          0.74,
          0.75,
          0.25,
          0.52,
          0.6,
          0.18,
          0.43,
          0.46,
          0.32,
          0.4,
          0.24,
          0.58,
          0.75,
          0.68,
          0.74,
          0.57,
          0.55,
          0.21,
          0.63,
          0.626,
          0.857,
          0.72,
          0.59,
          0.7,
          0.88,
          0.87,
          0.96,
          1.02,
          0.75,
          0.69,
          0.59,
          0.47,
          0.56,
          0.91,
          0.59,
          1.11,
          0.77,
          0.51,
          0.59,
          0.41,
          0.39,
          0.34,
          0.79,
          0.67,
          0.37,
          0.43,
          0.36,
          0.5,
          0.51,
          0.48,
          0.43,
          0.35,
          0.63,
          0.75,
          0.73,
          0.54,
          0.49,
          0.556,
          0.605,
          0.611,
          0.765,
          0.747,
          0.752,
          0.6729999999999999,
          0.41,
          0.28,
          0.41,
          0.36,
          0.39,
          0.54,
          0.58,
          0.8,
          0.42,
          0.3,
          0.3,
          0.34,
          0.44,
          0.61,
          0.44,
          0.24,
          0.44,
          0.37,
          0.31,
          0.36,
          0.21,
          0.52,
          0.4,
          0.27,
          0.45,
          0.61,
          0.75,
          0.53,
          0.54,
          0.46,
          0.59,
          0.4,
          0.79,
          0.45,
          0.75,
          0.49,
          0.41,
          0.62,
          0.45,
          0.59,
          0.57,
          0.83,
          0.35,
          0.42,
          0.26,
          0.27,
          0.42,
          0.28,
          0.42,
          0.41,
          0.64,
          0.73,
          0.52,
          0.38,
          0.25,
          0.23,
          0.39,
          0.8,
          0.67,
          0.47,
          0.38,
          0.36,
          0.38,
          0.45,
          0.41,
          0.35,
          0.3,
          0.74,
          0.67,
          0.71,
          0.51,
          0.68,
          0.62,
          0.55,
          0.57,
          0.63,
          0.79,
          0.76,
          0.76,
          0.61,
          0.61,
          0.73,
          0.86,
          0.97,
          0.69,
          0.63,
          0.55,
          0.41,
          0.3,
          0.46,
          0.4,
          0.54,
          0.54,
          0.45,
          0.63,
          0.41,
          0.38,
          0.46,
          0.61,
          0.31,
          0.33,
          0.41,
          0.28,
          0.61,
          0.24,
          0.48,
          1.88,
          0.52,
          0.23,
          0.32,
          0.37,
          0.6,
          0.25,
          0.44,
          0.57,
          0.49,
          0.203,
          0.45899999999999996,
          0.213,
          0.54,
          0.617,
          0.64,
          0.53,
          0.63,
          0.43,
          0.51,
          0.64,
          0.7,
          0.51,
          0.41,
          0.75,
          0.54,
          0.57,
          0.59,
          0.84,
          0.63,
          0.53,
          0.52,
          0.95,
          0.52,
          0.59,
          0.72,
          1.03,
          0.46,
          0.53,
          0.68,
          0.56,
          0.6,
          0.63,
          0.42,
          0.53,
          0.299,
          0.5,
          0.44,
          0.36,
          0.5,
          0.25,
          0.32,
          0.65,
          0.6,
          0.56,
          0.58,
          0.51,
          0.56,
          0.85,
          0.37,
          0.55,
          0.65,
          0.73,
          0.84,
          0.53,
          0.75,
          0.79,
          0.61,
          0.57,
          0.47,
          0.72,
          0.66,
          0.67,
          0.62,
          0.47,
          0.73,
          0.785,
          0.7959999999999999
         ],
         "yaxis": "y"
        },
        {
         "hovertemplate": "Cluster=4<br>DBO5_x=%{x}<br>PT_x=%{y}<extra></extra>",
         "legendgroup": "",
         "marker": {
          "color": "#F8766D",
          "symbol": "circle"
         },
         "mode": "markers",
         "name": "",
         "orientation": "v",
         "showlegend": false,
         "type": "scatter",
         "x": [
          5,
          5,
          5,
          5,
          6,
          5,
          5,
          5,
          5,
          5,
          5,
          5,
          6,
          5,
          5,
          5,
          5,
          5,
          5,
          5,
          5,
          5,
          5,
          6,
          5,
          5,
          5,
          5,
          5,
          5,
          5,
          6,
          5,
          5,
          5,
          5,
          5,
          5,
          5,
          5,
          5,
          5,
          6,
          5,
          5,
          5,
          5,
          5,
          5,
          5,
          5,
          4.5,
          4.3,
          5,
          6,
          5,
          5,
          5,
          5,
          5,
          5,
          5,
          5,
          5,
          5,
          5,
          5,
          5,
          5,
          5,
          5,
          5,
          5,
          5,
          5,
          5,
          5,
          5,
          5,
          5,
          5,
          5,
          5,
          5,
          5,
          6,
          5,
          5,
          4.1,
          2,
          2,
          2,
          2,
          2,
          4,
          3,
          6,
          7,
          2,
          7,
          3,
          2,
          2,
          2,
          2,
          2,
          3,
          2,
          2,
          2,
          3,
          3,
          6,
          4,
          2,
          3,
          3,
          3,
          3,
          2,
          6,
          7,
          6,
          3,
          6,
          7,
          3,
          3.8,
          5,
          2,
          4,
          2,
          3,
          3,
          3,
          4,
          5,
          2,
          5,
          4,
          2,
          2,
          1.8,
          5,
          5,
          5,
          4,
          5,
          3,
          3,
          2,
          5,
          4,
          5,
          4,
          2,
          2,
          4,
          5,
          5,
          5,
          6,
          5,
          3,
          2,
          2,
          5
         ],
         "xaxis": "x2",
         "y": [
          0.63,
          0.67,
          0.85,
          0.75,
          0.75,
          0.57,
          0.69,
          0.91,
          0.7,
          0.55,
          0.6,
          0.77,
          0.53,
          0.51,
          0.51,
          0.53,
          0.41,
          0.33,
          0.45,
          0.43,
          0.47,
          0.56,
          0.53,
          0.39,
          0.39,
          0.68,
          0.53,
          0.67,
          0.64,
          0.62,
          0.66,
          0.64,
          0.64,
          0.44,
          0.52,
          0.55,
          0.49,
          0.46,
          0.49,
          0.37,
          0.59,
          0.64,
          0.58,
          0.56,
          0.42,
          0.61,
          0.59,
          0.44,
          0.57,
          0.62,
          0.49,
          0.53,
          0.68,
          0.6,
          0.6,
          0.69,
          0.66,
          0.67,
          0.14,
          0.48,
          0.27,
          0.7,
          0.52,
          0.66,
          0.64,
          0.58,
          0.27,
          0.77,
          0.42,
          0.44,
          0.48,
          0.44,
          0.59,
          0.35,
          0.65,
          0.42,
          0.62,
          0.51,
          0.73,
          0.61,
          0.51,
          0.75,
          0.55,
          0.61,
          0.55,
          0.68,
          0.22,
          0.2,
          0.52,
          0.75,
          0.74,
          0.55,
          0.68,
          0.58,
          0.65,
          0.44,
          0.38,
          0.44,
          0.67,
          0.6,
          0.69,
          0.66,
          0.4,
          0.643,
          0.637,
          0.7979999999999999,
          0.71,
          0.6559999999999999,
          0.703,
          0.79,
          0.85,
          0.98,
          0.71,
          0.41,
          0.4,
          0.72,
          0.52,
          0.4,
          0.36,
          0.48,
          0.4,
          0.41,
          0.59,
          0.5,
          0.6,
          0.34,
          0.49,
          0.36,
          0.73,
          0.26,
          0.49,
          0.31,
          0.38,
          0.61,
          0.51,
          0.58,
          0.53,
          0.7,
          0.77,
          0.64,
          0.5,
          0.56,
          0.264,
          0.36,
          0.25,
          0.2,
          0.57,
          0.65,
          0.57,
          0.57,
          0.25,
          0.53,
          0.42,
          0.68,
          0.35,
          0.36,
          0.22,
          0.22,
          0.17,
          0.21,
          0.39,
          0.39,
          0.54,
          0.25,
          0.39,
          0.379,
          0.48200000000000004
         ],
         "yaxis": "y2"
        },
        {
         "hovertemplate": "Cluster=2<br>DBO5_x=%{x}<br>PT_x=%{y}<extra></extra>",
         "legendgroup": "",
         "marker": {
          "color": "#F8766D",
          "symbol": "circle"
         },
         "mode": "markers",
         "name": "",
         "orientation": "v",
         "showlegend": false,
         "type": "scatter",
         "x": [
          5,
          5,
          5,
          8,
          6,
          6,
          5
         ],
         "xaxis": "x3",
         "y": [
          0.53,
          0.58,
          0.71,
          0.61,
          0.49,
          0.3,
          0.54
         ],
         "yaxis": "y3"
        },
        {
         "hovertemplate": "Cluster=0<br>DBO5_x=%{x}<br>PT_x=%{y}<extra></extra>",
         "legendgroup": "",
         "marker": {
          "color": "#F8766D",
          "symbol": "circle"
         },
         "mode": "markers",
         "name": "",
         "orientation": "v",
         "showlegend": false,
         "type": "scatter",
         "x": [
          2,
          7,
          18,
          18,
          11,
          14,
          14,
          10,
          9,
          5,
          20,
          17,
          7,
          11,
          11,
          7,
          5,
          8,
          12,
          10,
          7,
          11,
          5,
          9,
          9,
          30,
          15,
          8,
          21,
          13,
          10,
          12,
          9,
          5,
          8,
          7,
          10,
          8,
          5,
          10,
          8,
          8.5,
          10,
          20,
          8,
          9,
          8,
          11,
          5,
          6,
          5,
          12,
          16,
          12,
          6,
          8,
          17,
          12,
          5,
          15,
          8,
          5,
          11,
          30,
          11,
          5,
          8,
          9,
          10,
          7,
          9,
          14,
          12,
          11,
          7,
          11,
          4.7,
          11,
          12,
          5,
          8,
          5,
          11,
          7,
          9,
          6,
          5,
          8,
          13,
          15,
          13,
          17,
          20,
          13,
          12,
          10,
          14,
          13,
          12,
          11,
          15,
          18,
          13,
          16,
          16,
          12,
          11,
          8,
          29,
          35,
          12,
          9,
          13,
          16.3,
          13.2,
          15,
          12,
          9,
          16,
          13,
          13,
          12,
          9,
          16,
          15,
          14,
          14,
          18,
          15,
          15,
          23,
          14,
          17,
          16,
          10,
          13,
          8,
          11,
          13,
          9,
          18,
          12,
          14,
          11,
          10,
          9,
          11,
          9,
          21,
          38,
          16,
          7,
          14,
          13,
          12,
          15.4,
          11.9,
          14,
          9,
          15,
          13,
          18,
          16,
          6,
          14,
          17,
          12,
          9,
          14,
          13,
          12,
          15,
          15,
          14,
          12
         ],
         "xaxis": "x4",
         "y": [
          0.68,
          1.27,
          1.2,
          0.63,
          0.46,
          0.53,
          0.59,
          0.34,
          0.45,
          0.47,
          0.35,
          0.81,
          0.46,
          0.42,
          0.6,
          0.26,
          0.57,
          0.65,
          0.61,
          0.66,
          0.49,
          0.56,
          0.68,
          0.53,
          0.45,
          0.61,
          0.45,
          0.51,
          0.8,
          0.6,
          0.45,
          0.65,
          0.6,
          0.67,
          0.68,
          0.36,
          0.47,
          0.57,
          0.53,
          0.77,
          0.61,
          0.61,
          1.09,
          0.83,
          0.54,
          0.65,
          0.54,
          0.46,
          0.69,
          0.89,
          0.33,
          0.71,
          0.48,
          0.27,
          0.56,
          0.15,
          0.34,
          0.53,
          0.75,
          0.91,
          0.59,
          0.45,
          0.38,
          0.33,
          0.4,
          1.01,
          0.68,
          0.55,
          0.45,
          0.31,
          0.56,
          0.54,
          0.78,
          1,
          1.08,
          0.58,
          0.71,
          0.67,
          0.82,
          0.63,
          0.59,
          0.43,
          0.43,
          0.43,
          0.68,
          0.48,
          0.35,
          0.617,
          0.85,
          0.62,
          0.6,
          0.56,
          0.99,
          0.59,
          0.81,
          0.93,
          0.75,
          0.72,
          0.82,
          0.69,
          0.78,
          0.53,
          1.31,
          0.7,
          0.53,
          0.71,
          0.42,
          0.65,
          0.52,
          1.41,
          0.63,
          1.3,
          1.01,
          1.55,
          0.56,
          0.95,
          0.61,
          0.66,
          0.4,
          0.47,
          0.61,
          0.8,
          0.45,
          0.67,
          0.63,
          0.645,
          0.653,
          0.853,
          0.502,
          0.779,
          1.36,
          0.6,
          0.78,
          0.98,
          0.57,
          0.6,
          0.63,
          0.63,
          0.77,
          0.62,
          0.86,
          0.66,
          0.46,
          0.66,
          0.58,
          6.5,
          0.48,
          0.42,
          1.4,
          0.94,
          0.65,
          0.73,
          0.81,
          0.63,
          0.88,
          0.65,
          0.57,
          0.6,
          0.84,
          0.65,
          0.49,
          0.6,
          0.54,
          0.74,
          0.74,
          0.39,
          0.44,
          0.79,
          0.63,
          0.735,
          0.9329999999999999,
          0.703,
          0.826,
          0.856,
          0.893
         ],
         "yaxis": "y4"
        },
        {
         "hovertemplate": "Cluster=3<br>DBO5_x=%{x}<br>PT_x=%{y}<extra></extra>",
         "legendgroup": "",
         "marker": {
          "color": "#F8766D",
          "symbol": "circle"
         },
         "mode": "markers",
         "name": "",
         "orientation": "v",
         "showlegend": false,
         "type": "scatter",
         "x": [
          5,
          9,
          6,
          19,
          15,
          12,
          17,
          15,
          13
         ],
         "xaxis": "x5",
         "y": [
          0.22,
          1.02,
          0.71,
          1.04,
          0.98,
          0.66,
          0.73,
          0.85,
          0.63
         ],
         "yaxis": "y5"
        }
       ],
       "layout": {
        "annotations": [
         {
          "font": {},
          "showarrow": false,
          "text": "Cluster=1",
          "x": 0.09200000000000001,
          "xanchor": "center",
          "xref": "paper",
          "y": 1,
          "yanchor": "bottom",
          "yref": "paper"
         },
         {
          "font": {},
          "showarrow": false,
          "text": "Cluster=4",
          "x": 0.29600000000000004,
          "xanchor": "center",
          "xref": "paper",
          "y": 1,
          "yanchor": "bottom",
          "yref": "paper"
         },
         {
          "font": {},
          "showarrow": false,
          "text": "Cluster=2",
          "x": 0.5,
          "xanchor": "center",
          "xref": "paper",
          "y": 1,
          "yanchor": "bottom",
          "yref": "paper"
         },
         {
          "font": {},
          "showarrow": false,
          "text": "Cluster=0",
          "x": 0.7040000000000002,
          "xanchor": "center",
          "xref": "paper",
          "y": 1,
          "yanchor": "bottom",
          "yref": "paper"
         },
         {
          "font": {},
          "showarrow": false,
          "text": "Cluster=3",
          "x": 0.908,
          "xanchor": "center",
          "xref": "paper",
          "y": 1,
          "yanchor": "bottom",
          "yref": "paper"
         }
        ],
        "legend": {
         "tracegroupgap": 0
        },
        "template": {
         "data": {
          "bar": [
           {
            "error_x": {
             "color": "rgb(51,51,51)"
            },
            "error_y": {
             "color": "rgb(51,51,51)"
            },
            "marker": {
             "line": {
              "color": "rgb(237,237,237)",
              "width": 0.5
             }
            },
            "type": "bar"
           }
          ],
          "barpolar": [
           {
            "marker": {
             "line": {
              "color": "rgb(237,237,237)",
              "width": 0.5
             }
            },
            "type": "barpolar"
           }
          ],
          "carpet": [
           {
            "aaxis": {
             "endlinecolor": "rgb(51,51,51)",
             "gridcolor": "white",
             "linecolor": "white",
             "minorgridcolor": "white",
             "startlinecolor": "rgb(51,51,51)"
            },
            "baxis": {
             "endlinecolor": "rgb(51,51,51)",
             "gridcolor": "white",
             "linecolor": "white",
             "minorgridcolor": "white",
             "startlinecolor": "rgb(51,51,51)"
            },
            "type": "carpet"
           }
          ],
          "choropleth": [
           {
            "colorbar": {
             "outlinewidth": 0,
             "tickcolor": "rgb(237,237,237)",
             "ticklen": 6,
             "ticks": "inside"
            },
            "type": "choropleth"
           }
          ],
          "contour": [
           {
            "colorbar": {
             "outlinewidth": 0,
             "tickcolor": "rgb(237,237,237)",
             "ticklen": 6,
             "ticks": "inside"
            },
            "colorscale": [
             [
              0,
              "rgb(20,44,66)"
             ],
             [
              1,
              "rgb(90,179,244)"
             ]
            ],
            "type": "contour"
           }
          ],
          "contourcarpet": [
           {
            "colorbar": {
             "outlinewidth": 0,
             "tickcolor": "rgb(237,237,237)",
             "ticklen": 6,
             "ticks": "inside"
            },
            "type": "contourcarpet"
           }
          ],
          "heatmap": [
           {
            "colorbar": {
             "outlinewidth": 0,
             "tickcolor": "rgb(237,237,237)",
             "ticklen": 6,
             "ticks": "inside"
            },
            "colorscale": [
             [
              0,
              "rgb(20,44,66)"
             ],
             [
              1,
              "rgb(90,179,244)"
             ]
            ],
            "type": "heatmap"
           }
          ],
          "heatmapgl": [
           {
            "colorbar": {
             "outlinewidth": 0,
             "tickcolor": "rgb(237,237,237)",
             "ticklen": 6,
             "ticks": "inside"
            },
            "colorscale": [
             [
              0,
              "rgb(20,44,66)"
             ],
             [
              1,
              "rgb(90,179,244)"
             ]
            ],
            "type": "heatmapgl"
           }
          ],
          "histogram": [
           {
            "marker": {
             "colorbar": {
              "outlinewidth": 0,
              "tickcolor": "rgb(237,237,237)",
              "ticklen": 6,
              "ticks": "inside"
             }
            },
            "type": "histogram"
           }
          ],
          "histogram2d": [
           {
            "colorbar": {
             "outlinewidth": 0,
             "tickcolor": "rgb(237,237,237)",
             "ticklen": 6,
             "ticks": "inside"
            },
            "colorscale": [
             [
              0,
              "rgb(20,44,66)"
             ],
             [
              1,
              "rgb(90,179,244)"
             ]
            ],
            "type": "histogram2d"
           }
          ],
          "histogram2dcontour": [
           {
            "colorbar": {
             "outlinewidth": 0,
             "tickcolor": "rgb(237,237,237)",
             "ticklen": 6,
             "ticks": "inside"
            },
            "colorscale": [
             [
              0,
              "rgb(20,44,66)"
             ],
             [
              1,
              "rgb(90,179,244)"
             ]
            ],
            "type": "histogram2dcontour"
           }
          ],
          "mesh3d": [
           {
            "colorbar": {
             "outlinewidth": 0,
             "tickcolor": "rgb(237,237,237)",
             "ticklen": 6,
             "ticks": "inside"
            },
            "type": "mesh3d"
           }
          ],
          "parcoords": [
           {
            "line": {
             "colorbar": {
              "outlinewidth": 0,
              "tickcolor": "rgb(237,237,237)",
              "ticklen": 6,
              "ticks": "inside"
             }
            },
            "type": "parcoords"
           }
          ],
          "pie": [
           {
            "automargin": true,
            "type": "pie"
           }
          ],
          "scatter": [
           {
            "marker": {
             "colorbar": {
              "outlinewidth": 0,
              "tickcolor": "rgb(237,237,237)",
              "ticklen": 6,
              "ticks": "inside"
             }
            },
            "type": "scatter"
           }
          ],
          "scatter3d": [
           {
            "line": {
             "colorbar": {
              "outlinewidth": 0,
              "tickcolor": "rgb(237,237,237)",
              "ticklen": 6,
              "ticks": "inside"
             }
            },
            "marker": {
             "colorbar": {
              "outlinewidth": 0,
              "tickcolor": "rgb(237,237,237)",
              "ticklen": 6,
              "ticks": "inside"
             }
            },
            "type": "scatter3d"
           }
          ],
          "scattercarpet": [
           {
            "marker": {
             "colorbar": {
              "outlinewidth": 0,
              "tickcolor": "rgb(237,237,237)",
              "ticklen": 6,
              "ticks": "inside"
             }
            },
            "type": "scattercarpet"
           }
          ],
          "scattergeo": [
           {
            "marker": {
             "colorbar": {
              "outlinewidth": 0,
              "tickcolor": "rgb(237,237,237)",
              "ticklen": 6,
              "ticks": "inside"
             }
            },
            "type": "scattergeo"
           }
          ],
          "scattergl": [
           {
            "marker": {
             "colorbar": {
              "outlinewidth": 0,
              "tickcolor": "rgb(237,237,237)",
              "ticklen": 6,
              "ticks": "inside"
             }
            },
            "type": "scattergl"
           }
          ],
          "scattermapbox": [
           {
            "marker": {
             "colorbar": {
              "outlinewidth": 0,
              "tickcolor": "rgb(237,237,237)",
              "ticklen": 6,
              "ticks": "inside"
             }
            },
            "type": "scattermapbox"
           }
          ],
          "scatterpolar": [
           {
            "marker": {
             "colorbar": {
              "outlinewidth": 0,
              "tickcolor": "rgb(237,237,237)",
              "ticklen": 6,
              "ticks": "inside"
             }
            },
            "type": "scatterpolar"
           }
          ],
          "scatterpolargl": [
           {
            "marker": {
             "colorbar": {
              "outlinewidth": 0,
              "tickcolor": "rgb(237,237,237)",
              "ticklen": 6,
              "ticks": "inside"
             }
            },
            "type": "scatterpolargl"
           }
          ],
          "scatterternary": [
           {
            "marker": {
             "colorbar": {
              "outlinewidth": 0,
              "tickcolor": "rgb(237,237,237)",
              "ticklen": 6,
              "ticks": "inside"
             }
            },
            "type": "scatterternary"
           }
          ],
          "surface": [
           {
            "colorbar": {
             "outlinewidth": 0,
             "tickcolor": "rgb(237,237,237)",
             "ticklen": 6,
             "ticks": "inside"
            },
            "colorscale": [
             [
              0,
              "rgb(20,44,66)"
             ],
             [
              1,
              "rgb(90,179,244)"
             ]
            ],
            "type": "surface"
           }
          ],
          "table": [
           {
            "cells": {
             "fill": {
              "color": "rgb(237,237,237)"
             },
             "line": {
              "color": "white"
             }
            },
            "header": {
             "fill": {
              "color": "rgb(217,217,217)"
             },
             "line": {
              "color": "white"
             }
            },
            "type": "table"
           }
          ]
         },
         "layout": {
          "annotationdefaults": {
           "arrowhead": 0,
           "arrowwidth": 1
          },
          "coloraxis": {
           "colorbar": {
            "outlinewidth": 0,
            "tickcolor": "rgb(237,237,237)",
            "ticklen": 6,
            "ticks": "inside"
           }
          },
          "colorscale": {
           "sequential": [
            [
             0,
             "rgb(20,44,66)"
            ],
            [
             1,
             "rgb(90,179,244)"
            ]
           ],
           "sequentialminus": [
            [
             0,
             "rgb(20,44,66)"
            ],
            [
             1,
             "rgb(90,179,244)"
            ]
           ]
          },
          "colorway": [
           "#F8766D",
           "#A3A500",
           "#00BF7D",
           "#00B0F6",
           "#E76BF3"
          ],
          "font": {
           "color": "rgb(51,51,51)"
          },
          "geo": {
           "bgcolor": "white",
           "lakecolor": "white",
           "landcolor": "rgb(237,237,237)",
           "showlakes": true,
           "showland": true,
           "subunitcolor": "white"
          },
          "hoverlabel": {
           "align": "left"
          },
          "hovermode": "closest",
          "paper_bgcolor": "white",
          "plot_bgcolor": "rgb(237,237,237)",
          "polar": {
           "angularaxis": {
            "gridcolor": "white",
            "linecolor": "white",
            "showgrid": true,
            "tickcolor": "rgb(51,51,51)",
            "ticks": "outside"
           },
           "bgcolor": "rgb(237,237,237)",
           "radialaxis": {
            "gridcolor": "white",
            "linecolor": "white",
            "showgrid": true,
            "tickcolor": "rgb(51,51,51)",
            "ticks": "outside"
           }
          },
          "scene": {
           "xaxis": {
            "backgroundcolor": "rgb(237,237,237)",
            "gridcolor": "white",
            "gridwidth": 2,
            "linecolor": "white",
            "showbackground": true,
            "showgrid": true,
            "tickcolor": "rgb(51,51,51)",
            "ticks": "outside",
            "zerolinecolor": "white"
           },
           "yaxis": {
            "backgroundcolor": "rgb(237,237,237)",
            "gridcolor": "white",
            "gridwidth": 2,
            "linecolor": "white",
            "showbackground": true,
            "showgrid": true,
            "tickcolor": "rgb(51,51,51)",
            "ticks": "outside",
            "zerolinecolor": "white"
           },
           "zaxis": {
            "backgroundcolor": "rgb(237,237,237)",
            "gridcolor": "white",
            "gridwidth": 2,
            "linecolor": "white",
            "showbackground": true,
            "showgrid": true,
            "tickcolor": "rgb(51,51,51)",
            "ticks": "outside",
            "zerolinecolor": "white"
           }
          },
          "shapedefaults": {
           "fillcolor": "black",
           "line": {
            "width": 0
           },
           "opacity": 0.3
          },
          "ternary": {
           "aaxis": {
            "gridcolor": "white",
            "linecolor": "white",
            "showgrid": true,
            "tickcolor": "rgb(51,51,51)",
            "ticks": "outside"
           },
           "baxis": {
            "gridcolor": "white",
            "linecolor": "white",
            "showgrid": true,
            "tickcolor": "rgb(51,51,51)",
            "ticks": "outside"
           },
           "bgcolor": "rgb(237,237,237)",
           "caxis": {
            "gridcolor": "white",
            "linecolor": "white",
            "showgrid": true,
            "tickcolor": "rgb(51,51,51)",
            "ticks": "outside"
           }
          },
          "xaxis": {
           "automargin": true,
           "gridcolor": "white",
           "linecolor": "white",
           "showgrid": true,
           "tickcolor": "rgb(51,51,51)",
           "ticks": "outside",
           "title": {
            "standoff": 15
           },
           "zerolinecolor": "white"
          },
          "yaxis": {
           "automargin": true,
           "gridcolor": "white",
           "linecolor": "white",
           "showgrid": true,
           "tickcolor": "rgb(51,51,51)",
           "ticks": "outside",
           "title": {
            "standoff": 15
           },
           "zerolinecolor": "white"
          }
         }
        },
        "title": {
         "text": "Datos de PT y DBO5 en función Cluster jeráquico"
        },
        "xaxis": {
         "anchor": "y",
         "domain": [
          0,
          0.18400000000000002
         ],
         "title": {
          "text": "DBO5_x"
         }
        },
        "xaxis2": {
         "anchor": "y2",
         "domain": [
          0.20400000000000001,
          0.388
         ],
         "matches": "x",
         "title": {
          "text": "DBO5_x"
         }
        },
        "xaxis3": {
         "anchor": "y3",
         "domain": [
          0.40800000000000003,
          0.5920000000000001
         ],
         "matches": "x",
         "title": {
          "text": "DBO5_x"
         }
        },
        "xaxis4": {
         "anchor": "y4",
         "domain": [
          0.6120000000000001,
          0.7960000000000002
         ],
         "matches": "x",
         "title": {
          "text": "DBO5_x"
         }
        },
        "xaxis5": {
         "anchor": "y5",
         "domain": [
          0.8160000000000001,
          1
         ],
         "matches": "x",
         "title": {
          "text": "DBO5_x"
         }
        },
        "yaxis": {
         "anchor": "x",
         "domain": [
          0,
          1
         ],
         "title": {
          "text": "PT_x"
         }
        },
        "yaxis2": {
         "anchor": "x2",
         "domain": [
          0,
          1
         ],
         "matches": "y",
         "showticklabels": false
        },
        "yaxis3": {
         "anchor": "x3",
         "domain": [
          0,
          1
         ],
         "matches": "y",
         "showticklabels": false
        },
        "yaxis4": {
         "anchor": "x4",
         "domain": [
          0,
          1
         ],
         "matches": "y",
         "showticklabels": false
        },
        "yaxis5": {
         "anchor": "x5",
         "domain": [
          0,
          1
         ],
         "matches": "y",
         "showticklabels": false
        }
       }
      },
      "text/html": [
       "<div>                            <div id=\"988113e0-7e45-4963-b9bd-4c2bdbc2d22e\" class=\"plotly-graph-div\" style=\"height:525px; width:100%;\"></div>            <script type=\"text/javascript\">                require([\"plotly\"], function(Plotly) {                    window.PLOTLYENV=window.PLOTLYENV || {};                                    if (document.getElementById(\"988113e0-7e45-4963-b9bd-4c2bdbc2d22e\")) {                    Plotly.newPlot(                        \"988113e0-7e45-4963-b9bd-4c2bdbc2d22e\",                        [{\"hovertemplate\": \"Cluster=1<br>DBO5_x=%{x}<br>PT_x=%{y}<extra></extra>\", \"legendgroup\": \"\", \"marker\": {\"color\": \"#F8766D\", \"symbol\": \"circle\"}, \"mode\": \"markers\", \"name\": \"\", \"orientation\": \"v\", \"showlegend\": false, \"type\": \"scatter\", \"x\": [5.0, 5.0, 5.0, 3.5, 5.0, 5.0, 11.0, 12.0, 6.0, 5.0, 5.0, 6.0, 5.0, 5.0, 5.0, 5.0, 8.0, 5.0, 8.0, 5.0, 5.0, 5.0, 5.0, 5.0, 5.0, 12.0, 5.0, 9.5, 8.3, 8.0, 2.0, 3.0, 2.0, 3.0, 10.0, 5.0, 6.0, 3.0, 2.0, 5.0, 2.0, 3.0, 3.0, 4.0, 2.0, 5.0, 9.0, 8.0, 6.0, 8.0, 6.0, 2.0, 2.0, 2.0, 2.0, 3.0, 8.0, 3.0, 3.0, 2.0, 5.0, 3.0, 11.0, 3.0, 10.2, 8.7, 2.0, 5.0, 2.0, 7.0, 8.0, 7.0, 9.0, 11.0, 3.0, 10.0, 5.0, 5.0, 4.0, 4.0, 4.0, 2.0, 5.0, 8.0, 8.0, 10.0, 8.0, 8.0, 9.0, 6.0, 7.0, 10.0, 7.0, 5.0, 7.0, 6.0, 11.0, 7.0, 7.0, 8.0, 5.0, 10.0, 9.0, 12.0, 8.0, 9.0, 8.0, 8.0, 8.0, 8.0, 7.0, 12.0, 11.0, 5.0, 6.0, 7.0, 6.0, 12.0, 6.0, 5.0, 4.8, 5.0, 5.0, 4.5, 5.0, 5.0, 5.0, 6.0, 5.0, 5.0, 5.0, 5.0, 7.0, 7.0, 7.0, 7.0, 5.0, 5.0, 7.0, 6.0, 5.0, 5.0, 5.0, 8.0, 6.0, 6.0, 5.0, 7.0, 7.0, 5.0, 5.0, 5.0, 5.0, 6.0, 2.0, 3.0, 3.0, 7.0, 6.0, 6.0, 5.0, 5.0, 6.0, 6.0, 3.0, 7.0, 3.0, 4.0, 4.0, 3.0, 6.0, 3.0, 2.0, 5.0, 3.0, 8.0, 3.0, 4.0, 3.0, 8.0, 6.0, 3.0, 11.0, 8.9, 9.8, 4.0, 3.0, 2.0, 2.0, 5.0, 2.0, 2.0, 2.0, 6.0, 7.0, 8.0, 10.0, 3.0, 5.0, 3.0, 2.0, 3.0, 2.0, 7.0, 8.0, 10.0, 7.0, 10.0, 10.0, 5.0, 10.0, 8.0, 6.0, 8.0, 11.0, 10.0, 10.0, 12.0, 6.0, 5.0, 10.1, 10.0, 9.0, 11.0, 9.0, 9.0, 12.0, 15.0, 7.0, 9.0, 13.0, 9.0, 11.0, 11.0, 4.0, 7.0, 9.0, 7.0, 6.0, 10.0, 8.0, 9.0, 13.0, 10.0, 7.0, 9.0, 7.0, 7.0, 9.0, 9.0, 2.0, 11.0, 8.0, 9.0, 7.0, 8.0, 6.0, 7.0, 10.0, 12.0, 5.0, 10.0, 11.0, 9.0, 2.0, 6.0], \"xaxis\": \"x\", \"y\": [0.91, 0.84, 0.71, 13.0, 0.72, 0.7, 0.35, 0.6, 0.73, 0.5, 0.58, 0.62, 0.56, 0.67, 1.0, 1.02, 0.46, 0.5, 0.74, 0.75, 0.25, 0.52, 0.6, 0.18, 0.43, 0.46, 0.32, 0.4, 0.24, 0.58, 0.75, 0.68, 0.74, 0.57, 0.55, 0.21, 0.63, 0.626, 0.857, 0.72, 0.59, 0.7, 0.88, 0.87, 0.96, 1.02, 0.75, 0.69, 0.59, 0.47, 0.56, 0.91, 0.59, 1.11, 0.77, 0.51, 0.59, 0.41, 0.39, 0.34, 0.79, 0.67, 0.37, 0.43, 0.36, 0.5, 0.51, 0.48, 0.43, 0.35, 0.63, 0.75, 0.73, 0.54, 0.49, 0.556, 0.605, 0.611, 0.765, 0.747, 0.752, 0.6729999999999999, 0.41, 0.28, 0.41, 0.36, 0.39, 0.54, 0.58, 0.8, 0.42, 0.3, 0.3, 0.34, 0.44, 0.61, 0.44, 0.24, 0.44, 0.37, 0.31, 0.36, 0.21, 0.52, 0.4, 0.27, 0.45, 0.61, 0.75, 0.53, 0.54, 0.46, 0.59, 0.4, 0.79, 0.45, 0.75, 0.49, 0.41, 0.62, 0.45, 0.59, 0.57, 0.83, 0.35, 0.42, 0.26, 0.27, 0.42, 0.28, 0.42, 0.41, 0.64, 0.73, 0.52, 0.38, 0.25, 0.23, 0.39, 0.8, 0.67, 0.47, 0.38, 0.36, 0.38, 0.45, 0.41, 0.35, 0.3, 0.74, 0.67, 0.71, 0.51, 0.68, 0.62, 0.55, 0.57, 0.63, 0.79, 0.76, 0.76, 0.61, 0.61, 0.73, 0.86, 0.97, 0.69, 0.63, 0.55, 0.41, 0.3, 0.46, 0.4, 0.54, 0.54, 0.45, 0.63, 0.41, 0.38, 0.46, 0.61, 0.31, 0.33, 0.41, 0.28, 0.61, 0.24, 0.48, 1.88, 0.52, 0.23, 0.32, 0.37, 0.6, 0.25, 0.44, 0.57, 0.49, 0.203, 0.45899999999999996, 0.213, 0.54, 0.617, 0.64, 0.53, 0.63, 0.43, 0.51, 0.64, 0.7, 0.51, 0.41, 0.75, 0.54, 0.57, 0.59, 0.84, 0.63, 0.53, 0.52, 0.95, 0.52, 0.59, 0.72, 1.03, 0.46, 0.53, 0.68, 0.56, 0.6, 0.63, 0.42, 0.53, 0.299, 0.5, 0.44, 0.36, 0.5, 0.25, 0.32, 0.65, 0.6, 0.56, 0.58, 0.51, 0.56, 0.85, 0.37, 0.55, 0.65, 0.73, 0.84, 0.53, 0.75, 0.79, 0.61, 0.57, 0.47, 0.72, 0.66, 0.67, 0.62, 0.47, 0.73, 0.785, 0.7959999999999999], \"yaxis\": \"y\"}, {\"hovertemplate\": \"Cluster=4<br>DBO5_x=%{x}<br>PT_x=%{y}<extra></extra>\", \"legendgroup\": \"\", \"marker\": {\"color\": \"#F8766D\", \"symbol\": \"circle\"}, \"mode\": \"markers\", \"name\": \"\", \"orientation\": \"v\", \"showlegend\": false, \"type\": \"scatter\", \"x\": [5.0, 5.0, 5.0, 5.0, 6.0, 5.0, 5.0, 5.0, 5.0, 5.0, 5.0, 5.0, 6.0, 5.0, 5.0, 5.0, 5.0, 5.0, 5.0, 5.0, 5.0, 5.0, 5.0, 6.0, 5.0, 5.0, 5.0, 5.0, 5.0, 5.0, 5.0, 6.0, 5.0, 5.0, 5.0, 5.0, 5.0, 5.0, 5.0, 5.0, 5.0, 5.0, 6.0, 5.0, 5.0, 5.0, 5.0, 5.0, 5.0, 5.0, 5.0, 4.5, 4.3, 5.0, 6.0, 5.0, 5.0, 5.0, 5.0, 5.0, 5.0, 5.0, 5.0, 5.0, 5.0, 5.0, 5.0, 5.0, 5.0, 5.0, 5.0, 5.0, 5.0, 5.0, 5.0, 5.0, 5.0, 5.0, 5.0, 5.0, 5.0, 5.0, 5.0, 5.0, 5.0, 6.0, 5.0, 5.0, 4.1, 2.0, 2.0, 2.0, 2.0, 2.0, 4.0, 3.0, 6.0, 7.0, 2.0, 7.0, 3.0, 2.0, 2.0, 2.0, 2.0, 2.0, 3.0, 2.0, 2.0, 2.0, 3.0, 3.0, 6.0, 4.0, 2.0, 3.0, 3.0, 3.0, 3.0, 2.0, 6.0, 7.0, 6.0, 3.0, 6.0, 7.0, 3.0, 3.8, 5.0, 2.0, 4.0, 2.0, 3.0, 3.0, 3.0, 4.0, 5.0, 2.0, 5.0, 4.0, 2.0, 2.0, 1.8, 5.0, 5.0, 5.0, 4.0, 5.0, 3.0, 3.0, 2.0, 5.0, 4.0, 5.0, 4.0, 2.0, 2.0, 4.0, 5.0, 5.0, 5.0, 6.0, 5.0, 3.0, 2.0, 2.0, 5.0], \"xaxis\": \"x2\", \"y\": [0.63, 0.67, 0.85, 0.75, 0.75, 0.57, 0.69, 0.91, 0.7, 0.55, 0.6, 0.77, 0.53, 0.51, 0.51, 0.53, 0.41, 0.33, 0.45, 0.43, 0.47, 0.56, 0.53, 0.39, 0.39, 0.68, 0.53, 0.67, 0.64, 0.62, 0.66, 0.64, 0.64, 0.44, 0.52, 0.55, 0.49, 0.46, 0.49, 0.37, 0.59, 0.64, 0.58, 0.56, 0.42, 0.61, 0.59, 0.44, 0.57, 0.62, 0.49, 0.53, 0.68, 0.6, 0.6, 0.69, 0.66, 0.67, 0.14, 0.48, 0.27, 0.7, 0.52, 0.66, 0.64, 0.58, 0.27, 0.77, 0.42, 0.44, 0.48, 0.44, 0.59, 0.35, 0.65, 0.42, 0.62, 0.51, 0.73, 0.61, 0.51, 0.75, 0.55, 0.61, 0.55, 0.68, 0.22, 0.2, 0.52, 0.75, 0.74, 0.55, 0.68, 0.58, 0.65, 0.44, 0.38, 0.44, 0.67, 0.6, 0.69, 0.66, 0.4, 0.643, 0.637, 0.7979999999999999, 0.71, 0.6559999999999999, 0.703, 0.79, 0.85, 0.98, 0.71, 0.41, 0.4, 0.72, 0.52, 0.4, 0.36, 0.48, 0.4, 0.41, 0.59, 0.5, 0.6, 0.34, 0.49, 0.36, 0.73, 0.26, 0.49, 0.31, 0.38, 0.61, 0.51, 0.58, 0.53, 0.7, 0.77, 0.64, 0.5, 0.56, 0.264, 0.36, 0.25, 0.2, 0.57, 0.65, 0.57, 0.57, 0.25, 0.53, 0.42, 0.68, 0.35, 0.36, 0.22, 0.22, 0.17, 0.21, 0.39, 0.39, 0.54, 0.25, 0.39, 0.379, 0.48200000000000004], \"yaxis\": \"y2\"}, {\"hovertemplate\": \"Cluster=2<br>DBO5_x=%{x}<br>PT_x=%{y}<extra></extra>\", \"legendgroup\": \"\", \"marker\": {\"color\": \"#F8766D\", \"symbol\": \"circle\"}, \"mode\": \"markers\", \"name\": \"\", \"orientation\": \"v\", \"showlegend\": false, \"type\": \"scatter\", \"x\": [5.0, 5.0, 5.0, 8.0, 6.0, 6.0, 5.0], \"xaxis\": \"x3\", \"y\": [0.53, 0.58, 0.71, 0.61, 0.49, 0.3, 0.54], \"yaxis\": \"y3\"}, {\"hovertemplate\": \"Cluster=0<br>DBO5_x=%{x}<br>PT_x=%{y}<extra></extra>\", \"legendgroup\": \"\", \"marker\": {\"color\": \"#F8766D\", \"symbol\": \"circle\"}, \"mode\": \"markers\", \"name\": \"\", \"orientation\": \"v\", \"showlegend\": false, \"type\": \"scatter\", \"x\": [2.0, 7.0, 18.0, 18.0, 11.0, 14.0, 14.0, 10.0, 9.0, 5.0, 20.0, 17.0, 7.0, 11.0, 11.0, 7.0, 5.0, 8.0, 12.0, 10.0, 7.0, 11.0, 5.0, 9.0, 9.0, 30.0, 15.0, 8.0, 21.0, 13.0, 10.0, 12.0, 9.0, 5.0, 8.0, 7.0, 10.0, 8.0, 5.0, 10.0, 8.0, 8.5, 10.0, 20.0, 8.0, 9.0, 8.0, 11.0, 5.0, 6.0, 5.0, 12.0, 16.0, 12.0, 6.0, 8.0, 17.0, 12.0, 5.0, 15.0, 8.0, 5.0, 11.0, 30.0, 11.0, 5.0, 8.0, 9.0, 10.0, 7.0, 9.0, 14.0, 12.0, 11.0, 7.0, 11.0, 4.7, 11.0, 12.0, 5.0, 8.0, 5.0, 11.0, 7.0, 9.0, 6.0, 5.0, 8.0, 13.0, 15.0, 13.0, 17.0, 20.0, 13.0, 12.0, 10.0, 14.0, 13.0, 12.0, 11.0, 15.0, 18.0, 13.0, 16.0, 16.0, 12.0, 11.0, 8.0, 29.0, 35.0, 12.0, 9.0, 13.0, 16.3, 13.2, 15.0, 12.0, 9.0, 16.0, 13.0, 13.0, 12.0, 9.0, 16.0, 15.0, 14.0, 14.0, 18.0, 15.0, 15.0, 23.0, 14.0, 17.0, 16.0, 10.0, 13.0, 8.0, 11.0, 13.0, 9.0, 18.0, 12.0, 14.0, 11.0, 10.0, 9.0, 11.0, 9.0, 21.0, 38.0, 16.0, 7.0, 14.0, 13.0, 12.0, 15.4, 11.9, 14.0, 9.0, 15.0, 13.0, 18.0, 16.0, 6.0, 14.0, 17.0, 12.0, 9.0, 14.0, 13.0, 12.0, 15.0, 15.0, 14.0, 12.0], \"xaxis\": \"x4\", \"y\": [0.68, 1.27, 1.2, 0.63, 0.46, 0.53, 0.59, 0.34, 0.45, 0.47, 0.35, 0.81, 0.46, 0.42, 0.6, 0.26, 0.57, 0.65, 0.61, 0.66, 0.49, 0.56, 0.68, 0.53, 0.45, 0.61, 0.45, 0.51, 0.8, 0.6, 0.45, 0.65, 0.6, 0.67, 0.68, 0.36, 0.47, 0.57, 0.53, 0.77, 0.61, 0.61, 1.09, 0.83, 0.54, 0.65, 0.54, 0.46, 0.69, 0.89, 0.33, 0.71, 0.48, 0.27, 0.56, 0.15, 0.34, 0.53, 0.75, 0.91, 0.59, 0.45, 0.38, 0.33, 0.4, 1.01, 0.68, 0.55, 0.45, 0.31, 0.56, 0.54, 0.78, 1.0, 1.08, 0.58, 0.71, 0.67, 0.82, 0.63, 0.59, 0.43, 0.43, 0.43, 0.68, 0.48, 0.35, 0.617, 0.85, 0.62, 0.6, 0.56, 0.99, 0.59, 0.81, 0.93, 0.75, 0.72, 0.82, 0.69, 0.78, 0.53, 1.31, 0.7, 0.53, 0.71, 0.42, 0.65, 0.52, 1.41, 0.63, 1.3, 1.01, 1.55, 0.56, 0.95, 0.61, 0.66, 0.4, 0.47, 0.61, 0.8, 0.45, 0.67, 0.63, 0.645, 0.653, 0.853, 0.502, 0.779, 1.36, 0.6, 0.78, 0.98, 0.57, 0.6, 0.63, 0.63, 0.77, 0.62, 0.86, 0.66, 0.46, 0.66, 0.58, 6.5, 0.48, 0.42, 1.4, 0.94, 0.65, 0.73, 0.81, 0.63, 0.88, 0.65, 0.57, 0.6, 0.84, 0.65, 0.49, 0.6, 0.54, 0.74, 0.74, 0.39, 0.44, 0.79, 0.63, 0.735, 0.9329999999999999, 0.703, 0.826, 0.856, 0.893], \"yaxis\": \"y4\"}, {\"hovertemplate\": \"Cluster=3<br>DBO5_x=%{x}<br>PT_x=%{y}<extra></extra>\", \"legendgroup\": \"\", \"marker\": {\"color\": \"#F8766D\", \"symbol\": \"circle\"}, \"mode\": \"markers\", \"name\": \"\", \"orientation\": \"v\", \"showlegend\": false, \"type\": \"scatter\", \"x\": [5.0, 9.0, 6.0, 19.0, 15.0, 12.0, 17.0, 15.0, 13.0], \"xaxis\": \"x5\", \"y\": [0.22, 1.02, 0.71, 1.04, 0.98, 0.66, 0.73, 0.85, 0.63], \"yaxis\": \"y5\"}],                        {\"annotations\": [{\"font\": {}, \"showarrow\": false, \"text\": \"Cluster=1\", \"x\": 0.09200000000000001, \"xanchor\": \"center\", \"xref\": \"paper\", \"y\": 1.0, \"yanchor\": \"bottom\", \"yref\": \"paper\"}, {\"font\": {}, \"showarrow\": false, \"text\": \"Cluster=4\", \"x\": 0.29600000000000004, \"xanchor\": \"center\", \"xref\": \"paper\", \"y\": 1.0, \"yanchor\": \"bottom\", \"yref\": \"paper\"}, {\"font\": {}, \"showarrow\": false, \"text\": \"Cluster=2\", \"x\": 0.5, \"xanchor\": \"center\", \"xref\": \"paper\", \"y\": 1.0, \"yanchor\": \"bottom\", \"yref\": \"paper\"}, {\"font\": {}, \"showarrow\": false, \"text\": \"Cluster=0\", \"x\": 0.7040000000000002, \"xanchor\": \"center\", \"xref\": \"paper\", \"y\": 1.0, \"yanchor\": \"bottom\", \"yref\": \"paper\"}, {\"font\": {}, \"showarrow\": false, \"text\": \"Cluster=3\", \"x\": 0.908, \"xanchor\": \"center\", \"xref\": \"paper\", \"y\": 1.0, \"yanchor\": \"bottom\", \"yref\": \"paper\"}], \"legend\": {\"tracegroupgap\": 0}, \"template\": {\"data\": {\"bar\": [{\"error_x\": {\"color\": \"rgb(51,51,51)\"}, \"error_y\": {\"color\": \"rgb(51,51,51)\"}, \"marker\": {\"line\": {\"color\": \"rgb(237,237,237)\", \"width\": 0.5}}, \"type\": \"bar\"}], \"barpolar\": [{\"marker\": {\"line\": {\"color\": \"rgb(237,237,237)\", \"width\": 0.5}}, \"type\": \"barpolar\"}], \"carpet\": [{\"aaxis\": {\"endlinecolor\": \"rgb(51,51,51)\", \"gridcolor\": \"white\", \"linecolor\": \"white\", \"minorgridcolor\": \"white\", \"startlinecolor\": \"rgb(51,51,51)\"}, \"baxis\": {\"endlinecolor\": \"rgb(51,51,51)\", \"gridcolor\": \"white\", \"linecolor\": \"white\", \"minorgridcolor\": \"white\", \"startlinecolor\": \"rgb(51,51,51)\"}, \"type\": \"carpet\"}], \"choropleth\": [{\"colorbar\": {\"outlinewidth\": 0, \"tickcolor\": \"rgb(237,237,237)\", \"ticklen\": 6, \"ticks\": \"inside\"}, \"type\": \"choropleth\"}], \"contour\": [{\"colorbar\": {\"outlinewidth\": 0, \"tickcolor\": \"rgb(237,237,237)\", \"ticklen\": 6, \"ticks\": \"inside\"}, \"colorscale\": [[0, \"rgb(20,44,66)\"], [1, \"rgb(90,179,244)\"]], \"type\": \"contour\"}], \"contourcarpet\": [{\"colorbar\": {\"outlinewidth\": 0, \"tickcolor\": \"rgb(237,237,237)\", \"ticklen\": 6, \"ticks\": \"inside\"}, \"type\": \"contourcarpet\"}], \"heatmap\": [{\"colorbar\": {\"outlinewidth\": 0, \"tickcolor\": \"rgb(237,237,237)\", \"ticklen\": 6, \"ticks\": \"inside\"}, \"colorscale\": [[0, \"rgb(20,44,66)\"], [1, \"rgb(90,179,244)\"]], \"type\": \"heatmap\"}], \"heatmapgl\": [{\"colorbar\": {\"outlinewidth\": 0, \"tickcolor\": \"rgb(237,237,237)\", \"ticklen\": 6, \"ticks\": \"inside\"}, \"colorscale\": [[0, \"rgb(20,44,66)\"], [1, \"rgb(90,179,244)\"]], \"type\": \"heatmapgl\"}], \"histogram\": [{\"marker\": {\"colorbar\": {\"outlinewidth\": 0, \"tickcolor\": \"rgb(237,237,237)\", \"ticklen\": 6, \"ticks\": \"inside\"}}, \"type\": \"histogram\"}], \"histogram2d\": [{\"colorbar\": {\"outlinewidth\": 0, \"tickcolor\": \"rgb(237,237,237)\", \"ticklen\": 6, \"ticks\": \"inside\"}, \"colorscale\": [[0, \"rgb(20,44,66)\"], [1, \"rgb(90,179,244)\"]], \"type\": \"histogram2d\"}], \"histogram2dcontour\": [{\"colorbar\": {\"outlinewidth\": 0, \"tickcolor\": \"rgb(237,237,237)\", \"ticklen\": 6, \"ticks\": \"inside\"}, \"colorscale\": [[0, \"rgb(20,44,66)\"], [1, \"rgb(90,179,244)\"]], \"type\": \"histogram2dcontour\"}], \"mesh3d\": [{\"colorbar\": {\"outlinewidth\": 0, \"tickcolor\": \"rgb(237,237,237)\", \"ticklen\": 6, \"ticks\": \"inside\"}, \"type\": \"mesh3d\"}], \"parcoords\": [{\"line\": {\"colorbar\": {\"outlinewidth\": 0, \"tickcolor\": \"rgb(237,237,237)\", \"ticklen\": 6, \"ticks\": \"inside\"}}, \"type\": \"parcoords\"}], \"pie\": [{\"automargin\": true, \"type\": \"pie\"}], \"scatter\": [{\"marker\": {\"colorbar\": {\"outlinewidth\": 0, \"tickcolor\": \"rgb(237,237,237)\", \"ticklen\": 6, \"ticks\": \"inside\"}}, \"type\": \"scatter\"}], \"scatter3d\": [{\"line\": {\"colorbar\": {\"outlinewidth\": 0, \"tickcolor\": \"rgb(237,237,237)\", \"ticklen\": 6, \"ticks\": \"inside\"}}, \"marker\": {\"colorbar\": {\"outlinewidth\": 0, \"tickcolor\": \"rgb(237,237,237)\", \"ticklen\": 6, \"ticks\": \"inside\"}}, \"type\": \"scatter3d\"}], \"scattercarpet\": [{\"marker\": {\"colorbar\": {\"outlinewidth\": 0, \"tickcolor\": \"rgb(237,237,237)\", \"ticklen\": 6, \"ticks\": \"inside\"}}, \"type\": \"scattercarpet\"}], \"scattergeo\": [{\"marker\": {\"colorbar\": {\"outlinewidth\": 0, \"tickcolor\": \"rgb(237,237,237)\", \"ticklen\": 6, \"ticks\": \"inside\"}}, \"type\": \"scattergeo\"}], \"scattergl\": [{\"marker\": {\"colorbar\": {\"outlinewidth\": 0, \"tickcolor\": \"rgb(237,237,237)\", \"ticklen\": 6, \"ticks\": \"inside\"}}, \"type\": \"scattergl\"}], \"scattermapbox\": [{\"marker\": {\"colorbar\": {\"outlinewidth\": 0, \"tickcolor\": \"rgb(237,237,237)\", \"ticklen\": 6, \"ticks\": \"inside\"}}, \"type\": \"scattermapbox\"}], \"scatterpolar\": [{\"marker\": {\"colorbar\": {\"outlinewidth\": 0, \"tickcolor\": \"rgb(237,237,237)\", \"ticklen\": 6, \"ticks\": \"inside\"}}, \"type\": \"scatterpolar\"}], \"scatterpolargl\": [{\"marker\": {\"colorbar\": {\"outlinewidth\": 0, \"tickcolor\": \"rgb(237,237,237)\", \"ticklen\": 6, \"ticks\": \"inside\"}}, \"type\": \"scatterpolargl\"}], \"scatterternary\": [{\"marker\": {\"colorbar\": {\"outlinewidth\": 0, \"tickcolor\": \"rgb(237,237,237)\", \"ticklen\": 6, \"ticks\": \"inside\"}}, \"type\": \"scatterternary\"}], \"surface\": [{\"colorbar\": {\"outlinewidth\": 0, \"tickcolor\": \"rgb(237,237,237)\", \"ticklen\": 6, \"ticks\": \"inside\"}, \"colorscale\": [[0, \"rgb(20,44,66)\"], [1, \"rgb(90,179,244)\"]], \"type\": \"surface\"}], \"table\": [{\"cells\": {\"fill\": {\"color\": \"rgb(237,237,237)\"}, \"line\": {\"color\": \"white\"}}, \"header\": {\"fill\": {\"color\": \"rgb(217,217,217)\"}, \"line\": {\"color\": \"white\"}}, \"type\": \"table\"}]}, \"layout\": {\"annotationdefaults\": {\"arrowhead\": 0, \"arrowwidth\": 1}, \"coloraxis\": {\"colorbar\": {\"outlinewidth\": 0, \"tickcolor\": \"rgb(237,237,237)\", \"ticklen\": 6, \"ticks\": \"inside\"}}, \"colorscale\": {\"sequential\": [[0, \"rgb(20,44,66)\"], [1, \"rgb(90,179,244)\"]], \"sequentialminus\": [[0, \"rgb(20,44,66)\"], [1, \"rgb(90,179,244)\"]]}, \"colorway\": [\"#F8766D\", \"#A3A500\", \"#00BF7D\", \"#00B0F6\", \"#E76BF3\"], \"font\": {\"color\": \"rgb(51,51,51)\"}, \"geo\": {\"bgcolor\": \"white\", \"lakecolor\": \"white\", \"landcolor\": \"rgb(237,237,237)\", \"showlakes\": true, \"showland\": true, \"subunitcolor\": \"white\"}, \"hoverlabel\": {\"align\": \"left\"}, \"hovermode\": \"closest\", \"paper_bgcolor\": \"white\", \"plot_bgcolor\": \"rgb(237,237,237)\", \"polar\": {\"angularaxis\": {\"gridcolor\": \"white\", \"linecolor\": \"white\", \"showgrid\": true, \"tickcolor\": \"rgb(51,51,51)\", \"ticks\": \"outside\"}, \"bgcolor\": \"rgb(237,237,237)\", \"radialaxis\": {\"gridcolor\": \"white\", \"linecolor\": \"white\", \"showgrid\": true, \"tickcolor\": \"rgb(51,51,51)\", \"ticks\": \"outside\"}}, \"scene\": {\"xaxis\": {\"backgroundcolor\": \"rgb(237,237,237)\", \"gridcolor\": \"white\", \"gridwidth\": 2, \"linecolor\": \"white\", \"showbackground\": true, \"showgrid\": true, \"tickcolor\": \"rgb(51,51,51)\", \"ticks\": \"outside\", \"zerolinecolor\": \"white\"}, \"yaxis\": {\"backgroundcolor\": \"rgb(237,237,237)\", \"gridcolor\": \"white\", \"gridwidth\": 2, \"linecolor\": \"white\", \"showbackground\": true, \"showgrid\": true, \"tickcolor\": \"rgb(51,51,51)\", \"ticks\": \"outside\", \"zerolinecolor\": \"white\"}, \"zaxis\": {\"backgroundcolor\": \"rgb(237,237,237)\", \"gridcolor\": \"white\", \"gridwidth\": 2, \"linecolor\": \"white\", \"showbackground\": true, \"showgrid\": true, \"tickcolor\": \"rgb(51,51,51)\", \"ticks\": \"outside\", \"zerolinecolor\": \"white\"}}, \"shapedefaults\": {\"fillcolor\": \"black\", \"line\": {\"width\": 0}, \"opacity\": 0.3}, \"ternary\": {\"aaxis\": {\"gridcolor\": \"white\", \"linecolor\": \"white\", \"showgrid\": true, \"tickcolor\": \"rgb(51,51,51)\", \"ticks\": \"outside\"}, \"baxis\": {\"gridcolor\": \"white\", \"linecolor\": \"white\", \"showgrid\": true, \"tickcolor\": \"rgb(51,51,51)\", \"ticks\": \"outside\"}, \"bgcolor\": \"rgb(237,237,237)\", \"caxis\": {\"gridcolor\": \"white\", \"linecolor\": \"white\", \"showgrid\": true, \"tickcolor\": \"rgb(51,51,51)\", \"ticks\": \"outside\"}}, \"xaxis\": {\"automargin\": true, \"gridcolor\": \"white\", \"linecolor\": \"white\", \"showgrid\": true, \"tickcolor\": \"rgb(51,51,51)\", \"ticks\": \"outside\", \"title\": {\"standoff\": 15}, \"zerolinecolor\": \"white\"}, \"yaxis\": {\"automargin\": true, \"gridcolor\": \"white\", \"linecolor\": \"white\", \"showgrid\": true, \"tickcolor\": \"rgb(51,51,51)\", \"ticks\": \"outside\", \"title\": {\"standoff\": 15}, \"zerolinecolor\": \"white\"}}}, \"title\": {\"text\": \"Datos de PT y DBO5 en funci\\u00f3n Cluster jer\\u00e1quico\"}, \"xaxis\": {\"anchor\": \"y\", \"domain\": [0.0, 0.18400000000000002], \"title\": {\"text\": \"DBO5_x\"}}, \"xaxis2\": {\"anchor\": \"y2\", \"domain\": [0.20400000000000001, 0.388], \"matches\": \"x\", \"title\": {\"text\": \"DBO5_x\"}}, \"xaxis3\": {\"anchor\": \"y3\", \"domain\": [0.40800000000000003, 0.5920000000000001], \"matches\": \"x\", \"title\": {\"text\": \"DBO5_x\"}}, \"xaxis4\": {\"anchor\": \"y4\", \"domain\": [0.6120000000000001, 0.7960000000000002], \"matches\": \"x\", \"title\": {\"text\": \"DBO5_x\"}}, \"xaxis5\": {\"anchor\": \"y5\", \"domain\": [0.8160000000000001, 1.0], \"matches\": \"x\", \"title\": {\"text\": \"DBO5_x\"}}, \"yaxis\": {\"anchor\": \"x\", \"domain\": [0.0, 1.0], \"title\": {\"text\": \"PT_x\"}}, \"yaxis2\": {\"anchor\": \"x2\", \"domain\": [0.0, 1.0], \"matches\": \"y\", \"showticklabels\": false}, \"yaxis3\": {\"anchor\": \"x3\", \"domain\": [0.0, 1.0], \"matches\": \"y\", \"showticklabels\": false}, \"yaxis4\": {\"anchor\": \"x4\", \"domain\": [0.0, 1.0], \"matches\": \"y\", \"showticklabels\": false}, \"yaxis5\": {\"anchor\": \"x5\", \"domain\": [0.0, 1.0], \"matches\": \"y\", \"showticklabels\": false}},                        {\"responsive\": true}                    ).then(function(){\n",
       "                            \n",
       "var gd = document.getElementById('988113e0-7e45-4963-b9bd-4c2bdbc2d22e');\n",
       "var x = new MutationObserver(function (mutations, observer) {{\n",
       "        var display = window.getComputedStyle(gd).display;\n",
       "        if (!display || display === 'none') {{\n",
       "            console.log([gd, 'removed!']);\n",
       "            Plotly.purge(gd);\n",
       "            observer.disconnect();\n",
       "        }}\n",
       "}});\n",
       "\n",
       "// Listen for the removal of the full notebook cells\n",
       "var notebookContainer = gd.closest('#notebook-container');\n",
       "if (notebookContainer) {{\n",
       "    x.observe(notebookContainer, {childList: true});\n",
       "}}\n",
       "\n",
       "// Listen for the clearing of the current output cell\n",
       "var outputEl = gd.closest('.output');\n",
       "if (outputEl) {{\n",
       "    x.observe(outputEl, {childList: true});\n",
       "}}\n",
       "\n",
       "                        })                };                });            </script>        </div>"
      ]
     },
     "metadata": {},
     "output_type": "display_data"
    }
   ],
   "source": [
    "fig2 = px.scatter(\n",
    "  data_2, x=data_2['DBO5_x'], y=data_2[\"PT_x\"], \n",
    "  template=\"ggplot2\", facet_col = data_2['Cluster']\n",
    ", title=\"Datos de PT y DBO5 en función Cluster jeráquico\",)\n",
    "fig2"
   ]
  },
  {
   "cell_type": "code",
   "execution_count": 80,
   "metadata": {},
   "outputs": [
    {
     "data": {
      "application/vnd.plotly.v1+json": {
       "config": {
        "plotlyServerURL": "https://plot.ly"
       },
       "data": [
        {
         "hovertemplate": "KMeans_Cluster=1<br>DBO5_x=%{x}<br>PT_x=%{y}<extra></extra>",
         "legendgroup": "",
         "marker": {
          "color": "#F8766D",
          "symbol": "circle"
         },
         "mode": "markers",
         "name": "",
         "orientation": "v",
         "showlegend": false,
         "type": "scatter",
         "x": [
          5,
          5,
          5,
          5,
          5,
          5,
          6,
          5,
          5,
          5,
          3.5,
          5,
          5,
          5,
          5,
          5,
          6,
          5,
          5,
          5,
          5,
          5,
          5,
          5,
          5,
          5,
          5,
          5,
          6,
          5,
          11,
          12,
          5,
          5,
          5,
          6,
          5,
          5,
          5,
          6,
          5,
          5,
          5,
          5,
          6,
          5,
          5,
          5,
          5,
          5,
          5,
          5,
          5,
          8,
          5,
          5,
          5,
          6,
          5,
          5,
          5,
          5,
          5,
          5,
          5,
          5,
          5,
          8,
          4.5,
          4.3,
          5,
          6,
          5,
          5,
          5,
          5,
          5,
          5,
          5,
          5,
          5,
          5,
          5,
          5,
          5,
          5,
          5,
          5,
          5,
          5,
          5,
          5,
          5,
          5,
          5,
          5,
          5,
          5,
          5,
          5,
          5,
          5,
          5,
          5,
          5,
          5,
          5,
          6,
          12,
          5,
          5,
          5,
          9.5,
          4.1,
          8.3,
          8,
          2,
          2,
          3,
          2,
          2,
          3,
          2,
          2,
          4,
          3,
          10,
          6,
          7,
          5,
          2,
          6,
          7,
          3,
          2,
          2,
          3,
          2,
          2,
          2,
          3,
          2,
          2,
          2,
          5,
          2,
          3,
          2,
          4,
          3,
          3,
          2,
          5,
          9,
          8,
          6,
          6,
          4,
          8,
          2,
          6,
          3,
          2,
          2,
          3,
          3,
          3,
          2,
          3,
          3,
          5,
          3,
          11,
          3,
          2,
          6,
          7,
          6,
          3,
          6,
          7,
          3,
          10.2,
          3.8,
          8.7,
          5,
          5,
          2,
          4,
          2,
          2,
          3,
          3,
          3,
          7,
          4,
          5,
          8,
          7,
          9,
          2,
          11,
          5,
          4,
          2,
          3,
          2,
          10,
          1.8,
          4,
          4,
          2,
          5,
          6,
          10,
          5,
          11,
          7,
          5,
          9,
          5,
          5,
          4.5,
          3,
          3,
          3,
          4,
          5,
          3,
          3,
          2,
          5,
          4,
          6,
          3,
          3,
          4,
          3,
          8,
          4,
          5,
          4,
          6,
          2,
          3,
          9.8,
          4,
          3,
          2,
          2,
          2,
          2,
          2,
          4,
          5,
          5,
          6,
          7,
          5,
          8,
          6,
          10,
          5,
          3,
          3,
          2,
          2,
          5,
          2,
          8,
          7,
          6,
          10,
          5,
          9,
          9,
          13,
          9,
          4,
          9,
          7,
          6,
          10,
          13,
          11,
          8,
          7,
          2
         ],
         "xaxis": "x",
         "y": [
          0.91,
          0.84,
          0.63,
          0.67,
          0.85,
          0.75,
          0.75,
          0.57,
          0.69,
          0.91,
          13,
          0.72,
          0.7,
          0.55,
          0.6,
          0.77,
          0.53,
          0.51,
          0.51,
          0.53,
          0.41,
          0.33,
          0.45,
          0.43,
          0.7,
          0.47,
          0.56,
          0.53,
          0.39,
          0.39,
          0.35,
          0.6,
          0.68,
          0.53,
          0.67,
          0.73,
          0.64,
          0.62,
          0.66,
          0.64,
          0.64,
          0.5,
          0.58,
          0.44,
          0.62,
          0.56,
          0.67,
          1,
          0.52,
          0.55,
          0.49,
          0.46,
          0.49,
          0.46,
          0.37,
          0.59,
          0.64,
          0.58,
          0.56,
          0.42,
          0.61,
          0.59,
          0.44,
          0.57,
          0.62,
          0.49,
          0.5,
          0.74,
          0.53,
          0.68,
          0.6,
          0.6,
          0.69,
          0.75,
          0.66,
          0.67,
          0.25,
          0.6,
          0.18,
          0.14,
          0.48,
          0.27,
          0.7,
          0.52,
          0.66,
          0.64,
          0.58,
          0.27,
          0.77,
          0.42,
          0.44,
          0.48,
          0.44,
          0.59,
          0.35,
          0.65,
          0.42,
          0.43,
          0.62,
          0.51,
          0.73,
          0.61,
          0.51,
          0.75,
          0.55,
          0.61,
          0.55,
          0.68,
          0.46,
          0.22,
          0.2,
          0.32,
          0.4,
          0.52,
          0.24,
          0.58,
          0.75,
          0.74,
          0.68,
          0.55,
          0.74,
          0.57,
          0.68,
          0.58,
          0.65,
          0.44,
          0.55,
          0.38,
          0.44,
          0.21,
          0.67,
          0.63,
          0.6,
          0.69,
          0.66,
          0.4,
          0.626,
          0.643,
          0.637,
          0.7979999999999999,
          0.71,
          0.6559999999999999,
          0.703,
          0.857,
          0.72,
          0.59,
          0.7,
          0.79,
          0.87,
          0.85,
          0.98,
          0.96,
          1.02,
          0.75,
          0.69,
          0.59,
          0.71,
          0.41,
          0.47,
          0.4,
          0.56,
          0.72,
          0.91,
          0.59,
          0.52,
          0.41,
          0.39,
          0.34,
          0.4,
          0.36,
          0.79,
          0.67,
          0.37,
          0.43,
          0.48,
          0.4,
          0.41,
          0.59,
          0.5,
          0.6,
          0.34,
          0.49,
          0.36,
          0.36,
          0.5,
          0.73,
          0.48,
          0.26,
          0.49,
          0.31,
          0.43,
          0.38,
          0.61,
          0.51,
          0.35,
          0.58,
          0.53,
          0.63,
          0.75,
          0.73,
          0.7,
          0.54,
          0.77,
          0.64,
          0.5,
          0.49,
          0.56,
          0.556,
          0.264,
          0.765,
          0.747,
          0.6729999999999999,
          0.36,
          0.8,
          0.3,
          0.34,
          0.44,
          0.24,
          0.25,
          0.27,
          0.2,
          0.59,
          0.83,
          0.57,
          0.86,
          0.69,
          0.57,
          0.65,
          0.57,
          0.57,
          0.25,
          0.53,
          0.55,
          0.3,
          0.54,
          0.63,
          0.41,
          0.38,
          0.46,
          0.42,
          0.68,
          0.35,
          0.61,
          0.36,
          0.31,
          0.28,
          0.61,
          0.24,
          1.88,
          0.23,
          0.32,
          0.22,
          0.37,
          0.22,
          0.17,
          0.21,
          0.6,
          0.25,
          0.39,
          0.44,
          0.39,
          0.57,
          0.54,
          0.49,
          0.25,
          0.39,
          0.379,
          0.48200000000000004,
          0.213,
          0.53,
          0.43,
          0.75,
          0.59,
          0.52,
          0.59,
          0.6,
          0.63,
          0.42,
          0.5,
          0.36,
          0.5,
          0.25,
          0.32,
          0.56,
          0.84,
          0.53,
          0.47,
          0.785
         ],
         "yaxis": "y"
        },
        {
         "hovertemplate": "KMeans_Cluster=3<br>DBO5_x=%{x}<br>PT_x=%{y}<extra></extra>",
         "legendgroup": "",
         "marker": {
          "color": "#F8766D",
          "symbol": "circle"
         },
         "mode": "markers",
         "name": "",
         "orientation": "v",
         "showlegend": false,
         "type": "scatter",
         "x": [
          5,
          5,
          2,
          2,
          3,
          7,
          2,
          2,
          3,
          8,
          2,
          5,
          5,
          4,
          5,
          8,
          8,
          10,
          8,
          8,
          9,
          7,
          7,
          7,
          6,
          7,
          8,
          5,
          10,
          9,
          8,
          8,
          8,
          10,
          8,
          8,
          7,
          12,
          11,
          5,
          9,
          5,
          7,
          6,
          7,
          5,
          8,
          7,
          6,
          7,
          5,
          12,
          9,
          9,
          6,
          5,
          8,
          4.8,
          10,
          9,
          5,
          8,
          7,
          5,
          10,
          8,
          5,
          10,
          8,
          8.5,
          8,
          9,
          8,
          5,
          5,
          6,
          5,
          5,
          5,
          6,
          6,
          5,
          8,
          5,
          5,
          5,
          5,
          7,
          7,
          7,
          7,
          5,
          8,
          5,
          11,
          11,
          5,
          5,
          8,
          7,
          6,
          5,
          5,
          5,
          9,
          8,
          10,
          6,
          6,
          7,
          5,
          9,
          7,
          7,
          5,
          5,
          5,
          7,
          11,
          4.7,
          12,
          5,
          8,
          5,
          5,
          11,
          6,
          2,
          3,
          7,
          6,
          6,
          5,
          5,
          6,
          6,
          7,
          4,
          3,
          7,
          3,
          2,
          5,
          8,
          6,
          11,
          8.9,
          2,
          5,
          5,
          8,
          5,
          3,
          3,
          2,
          10,
          7,
          10,
          10,
          8,
          10,
          5,
          10,
          8,
          8,
          11,
          10,
          12,
          9,
          6,
          10.1,
          10,
          9,
          11,
          9,
          9,
          12,
          7,
          11,
          11,
          8,
          7,
          8,
          9,
          9,
          9,
          10,
          7,
          9,
          7,
          7,
          9,
          9,
          7,
          2,
          9,
          7,
          8,
          6,
          10,
          6,
          12,
          5,
          10,
          11,
          9,
          9,
          6
         ],
         "xaxis": "x2",
         "y": [
          0.71,
          1.02,
          0.75,
          0.68,
          0.88,
          1.27,
          1.11,
          0.77,
          0.51,
          0.59,
          0.51,
          0.605,
          0.611,
          0.752,
          0.41,
          0.28,
          0.41,
          0.36,
          0.39,
          0.54,
          0.58,
          0.42,
          0.3,
          0.44,
          0.61,
          0.44,
          0.37,
          0.31,
          0.36,
          0.21,
          0.4,
          0.45,
          0.61,
          0.34,
          0.75,
          0.53,
          0.54,
          0.46,
          0.59,
          0.4,
          0.45,
          0.47,
          0.46,
          0.79,
          0.26,
          0.57,
          0.65,
          0.45,
          0.75,
          0.49,
          0.68,
          0.49,
          0.53,
          0.45,
          0.41,
          0.62,
          0.51,
          0.45,
          0.45,
          0.6,
          0.67,
          0.68,
          0.36,
          0.57,
          0.47,
          0.57,
          0.53,
          0.77,
          0.61,
          0.61,
          0.54,
          0.65,
          0.54,
          0.35,
          0.69,
          0.89,
          0.33,
          0.42,
          0.26,
          0.56,
          0.27,
          0.42,
          0.15,
          0.28,
          0.42,
          0.75,
          0.41,
          0.64,
          0.73,
          0.52,
          0.38,
          0.25,
          0.59,
          0.45,
          0.38,
          0.4,
          0.23,
          1.01,
          0.68,
          0.39,
          0.8,
          0.67,
          0.47,
          0.38,
          0.55,
          0.36,
          0.45,
          0.38,
          0.45,
          0.31,
          0.41,
          0.56,
          0.35,
          0.3,
          0.74,
          0.67,
          0.71,
          1.08,
          0.58,
          0.71,
          0.82,
          0.63,
          0.59,
          0.51,
          0.43,
          0.43,
          0.68,
          0.62,
          0.55,
          0.63,
          0.79,
          0.76,
          0.76,
          0.61,
          0.61,
          0.73,
          0.97,
          0.63,
          0.41,
          0.43,
          0.46,
          0.4,
          0.54,
          0.45,
          0.48,
          0.33,
          0.41,
          0.48,
          0.52,
          0.35,
          0.617,
          0.203,
          0.45899999999999996,
          0.54,
          0.617,
          0.93,
          0.64,
          0.63,
          0.51,
          0.65,
          0.64,
          0.7,
          0.51,
          0.41,
          0.54,
          0.57,
          0.84,
          0.63,
          1.3,
          0.53,
          0.95,
          0.52,
          0.66,
          0.72,
          1.03,
          0.46,
          0.53,
          0.56,
          0.53,
          0.299,
          0.63,
          0.44,
          0.65,
          6.5,
          0.6,
          0.42,
          0.58,
          0.51,
          0.56,
          0.85,
          0.37,
          0.55,
          0.65,
          0.73,
          0.73,
          0.75,
          0.79,
          0.61,
          0.57,
          0.72,
          0.74,
          0.66,
          0.67,
          0.62,
          0.47,
          0.73,
          0.79,
          0.7959999999999999
         ],
         "yaxis": "y2"
        },
        {
         "hovertemplate": "KMeans_Cluster=2<br>DBO5_x=%{x}<br>PT_x=%{y}<extra></extra>",
         "legendgroup": "",
         "marker": {
          "color": "#F8766D",
          "symbol": "circle"
         },
         "mode": "markers",
         "name": "",
         "orientation": "v",
         "showlegend": false,
         "type": "scatter",
         "x": [
          5,
          5,
          5,
          5,
          8,
          6,
          6,
          5
         ],
         "xaxis": "x3",
         "y": [
          0.52,
          0.53,
          0.58,
          0.71,
          0.61,
          0.49,
          0.3,
          0.54
         ],
         "yaxis": "y3"
        },
        {
         "hovertemplate": "KMeans_Cluster=0<br>DBO5_x=%{x}<br>PT_x=%{y}<extra></extra>",
         "legendgroup": "",
         "marker": {
          "color": "#F8766D",
          "symbol": "circle"
         },
         "mode": "markers",
         "name": "",
         "orientation": "v",
         "showlegend": false,
         "type": "scatter",
         "x": [
          18,
          18,
          11,
          14,
          14,
          12,
          20,
          17,
          11,
          11,
          12,
          10,
          11,
          30,
          15,
          21,
          13,
          12,
          10,
          20,
          11,
          12,
          16,
          12,
          17,
          12,
          15,
          30,
          14,
          12,
          11,
          11,
          9,
          13,
          15,
          13,
          17,
          20,
          13,
          12,
          14,
          13,
          12,
          11,
          15,
          18,
          13,
          16,
          16,
          12,
          11,
          12,
          13,
          16.3,
          13.2,
          15,
          12,
          16,
          13,
          13,
          12,
          15,
          9,
          16,
          15,
          14,
          14,
          18,
          15,
          15,
          23,
          14,
          17,
          16,
          10,
          13,
          11,
          13,
          9,
          18,
          12,
          14,
          11,
          10,
          11,
          21,
          38,
          16,
          14,
          13,
          12,
          15.4,
          11.9,
          14,
          9,
          15,
          13,
          18,
          16,
          14,
          17,
          12,
          14,
          13,
          12,
          15,
          15,
          14,
          12
         ],
         "xaxis": "x4",
         "y": [
          1.2,
          0.63,
          0.46,
          0.53,
          0.59,
          0.52,
          0.35,
          0.81,
          0.42,
          0.6,
          0.61,
          0.66,
          0.56,
          0.61,
          0.45,
          0.8,
          0.6,
          0.65,
          1.09,
          0.83,
          0.46,
          0.71,
          0.48,
          0.27,
          0.34,
          0.53,
          0.91,
          0.33,
          0.54,
          0.78,
          1,
          0.67,
          0.68,
          0.85,
          0.62,
          0.6,
          0.56,
          0.99,
          0.59,
          0.81,
          0.75,
          0.72,
          0.82,
          0.69,
          0.78,
          0.53,
          1.31,
          0.7,
          0.53,
          0.71,
          0.42,
          0.63,
          1.01,
          1.55,
          0.56,
          0.95,
          0.61,
          0.4,
          0.47,
          0.61,
          0.8,
          0.68,
          0.45,
          0.67,
          0.63,
          0.645,
          0.653,
          0.853,
          0.502,
          0.779,
          1.36,
          0.6,
          0.78,
          0.98,
          0.57,
          0.6,
          0.63,
          0.77,
          0.62,
          0.86,
          0.66,
          0.46,
          0.66,
          0.58,
          0.48,
          1.4,
          0.94,
          0.65,
          0.81,
          0.63,
          0.88,
          0.65,
          0.57,
          0.6,
          0.84,
          0.65,
          0.49,
          0.6,
          0.54,
          0.74,
          0.39,
          0.44,
          0.63,
          0.735,
          0.9329999999999999,
          0.703,
          0.826,
          0.856,
          0.893
         ],
         "yaxis": "y4"
        },
        {
         "hovertemplate": "KMeans_Cluster=4<br>DBO5_x=%{x}<br>PT_x=%{y}<extra></extra>",
         "legendgroup": "",
         "marker": {
          "color": "#F8766D",
          "symbol": "circle"
         },
         "mode": "markers",
         "name": "",
         "orientation": "v",
         "showlegend": false,
         "type": "scatter",
         "x": [
          5,
          9,
          6,
          19,
          15,
          29,
          35,
          12,
          17,
          15,
          13
         ],
         "xaxis": "x5",
         "y": [
          0.22,
          1.02,
          0.71,
          1.04,
          0.98,
          0.52,
          1.41,
          0.66,
          0.73,
          0.85,
          0.63
         ],
         "yaxis": "y5"
        }
       ],
       "layout": {
        "annotations": [
         {
          "font": {},
          "showarrow": false,
          "text": "KMeans_Cluster=1",
          "x": 0.09200000000000001,
          "xanchor": "center",
          "xref": "paper",
          "y": 1,
          "yanchor": "bottom",
          "yref": "paper"
         },
         {
          "font": {},
          "showarrow": false,
          "text": "KMeans_Cluster=3",
          "x": 0.29600000000000004,
          "xanchor": "center",
          "xref": "paper",
          "y": 1,
          "yanchor": "bottom",
          "yref": "paper"
         },
         {
          "font": {},
          "showarrow": false,
          "text": "KMeans_Cluster=2",
          "x": 0.5,
          "xanchor": "center",
          "xref": "paper",
          "y": 1,
          "yanchor": "bottom",
          "yref": "paper"
         },
         {
          "font": {},
          "showarrow": false,
          "text": "KMeans_Cluster=0",
          "x": 0.7040000000000002,
          "xanchor": "center",
          "xref": "paper",
          "y": 1,
          "yanchor": "bottom",
          "yref": "paper"
         },
         {
          "font": {},
          "showarrow": false,
          "text": "KMeans_Cluster=4",
          "x": 0.908,
          "xanchor": "center",
          "xref": "paper",
          "y": 1,
          "yanchor": "bottom",
          "yref": "paper"
         }
        ],
        "legend": {
         "tracegroupgap": 0
        },
        "template": {
         "data": {
          "bar": [
           {
            "error_x": {
             "color": "rgb(51,51,51)"
            },
            "error_y": {
             "color": "rgb(51,51,51)"
            },
            "marker": {
             "line": {
              "color": "rgb(237,237,237)",
              "width": 0.5
             }
            },
            "type": "bar"
           }
          ],
          "barpolar": [
           {
            "marker": {
             "line": {
              "color": "rgb(237,237,237)",
              "width": 0.5
             }
            },
            "type": "barpolar"
           }
          ],
          "carpet": [
           {
            "aaxis": {
             "endlinecolor": "rgb(51,51,51)",
             "gridcolor": "white",
             "linecolor": "white",
             "minorgridcolor": "white",
             "startlinecolor": "rgb(51,51,51)"
            },
            "baxis": {
             "endlinecolor": "rgb(51,51,51)",
             "gridcolor": "white",
             "linecolor": "white",
             "minorgridcolor": "white",
             "startlinecolor": "rgb(51,51,51)"
            },
            "type": "carpet"
           }
          ],
          "choropleth": [
           {
            "colorbar": {
             "outlinewidth": 0,
             "tickcolor": "rgb(237,237,237)",
             "ticklen": 6,
             "ticks": "inside"
            },
            "type": "choropleth"
           }
          ],
          "contour": [
           {
            "colorbar": {
             "outlinewidth": 0,
             "tickcolor": "rgb(237,237,237)",
             "ticklen": 6,
             "ticks": "inside"
            },
            "colorscale": [
             [
              0,
              "rgb(20,44,66)"
             ],
             [
              1,
              "rgb(90,179,244)"
             ]
            ],
            "type": "contour"
           }
          ],
          "contourcarpet": [
           {
            "colorbar": {
             "outlinewidth": 0,
             "tickcolor": "rgb(237,237,237)",
             "ticklen": 6,
             "ticks": "inside"
            },
            "type": "contourcarpet"
           }
          ],
          "heatmap": [
           {
            "colorbar": {
             "outlinewidth": 0,
             "tickcolor": "rgb(237,237,237)",
             "ticklen": 6,
             "ticks": "inside"
            },
            "colorscale": [
             [
              0,
              "rgb(20,44,66)"
             ],
             [
              1,
              "rgb(90,179,244)"
             ]
            ],
            "type": "heatmap"
           }
          ],
          "heatmapgl": [
           {
            "colorbar": {
             "outlinewidth": 0,
             "tickcolor": "rgb(237,237,237)",
             "ticklen": 6,
             "ticks": "inside"
            },
            "colorscale": [
             [
              0,
              "rgb(20,44,66)"
             ],
             [
              1,
              "rgb(90,179,244)"
             ]
            ],
            "type": "heatmapgl"
           }
          ],
          "histogram": [
           {
            "marker": {
             "colorbar": {
              "outlinewidth": 0,
              "tickcolor": "rgb(237,237,237)",
              "ticklen": 6,
              "ticks": "inside"
             }
            },
            "type": "histogram"
           }
          ],
          "histogram2d": [
           {
            "colorbar": {
             "outlinewidth": 0,
             "tickcolor": "rgb(237,237,237)",
             "ticklen": 6,
             "ticks": "inside"
            },
            "colorscale": [
             [
              0,
              "rgb(20,44,66)"
             ],
             [
              1,
              "rgb(90,179,244)"
             ]
            ],
            "type": "histogram2d"
           }
          ],
          "histogram2dcontour": [
           {
            "colorbar": {
             "outlinewidth": 0,
             "tickcolor": "rgb(237,237,237)",
             "ticklen": 6,
             "ticks": "inside"
            },
            "colorscale": [
             [
              0,
              "rgb(20,44,66)"
             ],
             [
              1,
              "rgb(90,179,244)"
             ]
            ],
            "type": "histogram2dcontour"
           }
          ],
          "mesh3d": [
           {
            "colorbar": {
             "outlinewidth": 0,
             "tickcolor": "rgb(237,237,237)",
             "ticklen": 6,
             "ticks": "inside"
            },
            "type": "mesh3d"
           }
          ],
          "parcoords": [
           {
            "line": {
             "colorbar": {
              "outlinewidth": 0,
              "tickcolor": "rgb(237,237,237)",
              "ticklen": 6,
              "ticks": "inside"
             }
            },
            "type": "parcoords"
           }
          ],
          "pie": [
           {
            "automargin": true,
            "type": "pie"
           }
          ],
          "scatter": [
           {
            "marker": {
             "colorbar": {
              "outlinewidth": 0,
              "tickcolor": "rgb(237,237,237)",
              "ticklen": 6,
              "ticks": "inside"
             }
            },
            "type": "scatter"
           }
          ],
          "scatter3d": [
           {
            "line": {
             "colorbar": {
              "outlinewidth": 0,
              "tickcolor": "rgb(237,237,237)",
              "ticklen": 6,
              "ticks": "inside"
             }
            },
            "marker": {
             "colorbar": {
              "outlinewidth": 0,
              "tickcolor": "rgb(237,237,237)",
              "ticklen": 6,
              "ticks": "inside"
             }
            },
            "type": "scatter3d"
           }
          ],
          "scattercarpet": [
           {
            "marker": {
             "colorbar": {
              "outlinewidth": 0,
              "tickcolor": "rgb(237,237,237)",
              "ticklen": 6,
              "ticks": "inside"
             }
            },
            "type": "scattercarpet"
           }
          ],
          "scattergeo": [
           {
            "marker": {
             "colorbar": {
              "outlinewidth": 0,
              "tickcolor": "rgb(237,237,237)",
              "ticklen": 6,
              "ticks": "inside"
             }
            },
            "type": "scattergeo"
           }
          ],
          "scattergl": [
           {
            "marker": {
             "colorbar": {
              "outlinewidth": 0,
              "tickcolor": "rgb(237,237,237)",
              "ticklen": 6,
              "ticks": "inside"
             }
            },
            "type": "scattergl"
           }
          ],
          "scattermapbox": [
           {
            "marker": {
             "colorbar": {
              "outlinewidth": 0,
              "tickcolor": "rgb(237,237,237)",
              "ticklen": 6,
              "ticks": "inside"
             }
            },
            "type": "scattermapbox"
           }
          ],
          "scatterpolar": [
           {
            "marker": {
             "colorbar": {
              "outlinewidth": 0,
              "tickcolor": "rgb(237,237,237)",
              "ticklen": 6,
              "ticks": "inside"
             }
            },
            "type": "scatterpolar"
           }
          ],
          "scatterpolargl": [
           {
            "marker": {
             "colorbar": {
              "outlinewidth": 0,
              "tickcolor": "rgb(237,237,237)",
              "ticklen": 6,
              "ticks": "inside"
             }
            },
            "type": "scatterpolargl"
           }
          ],
          "scatterternary": [
           {
            "marker": {
             "colorbar": {
              "outlinewidth": 0,
              "tickcolor": "rgb(237,237,237)",
              "ticklen": 6,
              "ticks": "inside"
             }
            },
            "type": "scatterternary"
           }
          ],
          "surface": [
           {
            "colorbar": {
             "outlinewidth": 0,
             "tickcolor": "rgb(237,237,237)",
             "ticklen": 6,
             "ticks": "inside"
            },
            "colorscale": [
             [
              0,
              "rgb(20,44,66)"
             ],
             [
              1,
              "rgb(90,179,244)"
             ]
            ],
            "type": "surface"
           }
          ],
          "table": [
           {
            "cells": {
             "fill": {
              "color": "rgb(237,237,237)"
             },
             "line": {
              "color": "white"
             }
            },
            "header": {
             "fill": {
              "color": "rgb(217,217,217)"
             },
             "line": {
              "color": "white"
             }
            },
            "type": "table"
           }
          ]
         },
         "layout": {
          "annotationdefaults": {
           "arrowhead": 0,
           "arrowwidth": 1
          },
          "coloraxis": {
           "colorbar": {
            "outlinewidth": 0,
            "tickcolor": "rgb(237,237,237)",
            "ticklen": 6,
            "ticks": "inside"
           }
          },
          "colorscale": {
           "sequential": [
            [
             0,
             "rgb(20,44,66)"
            ],
            [
             1,
             "rgb(90,179,244)"
            ]
           ],
           "sequentialminus": [
            [
             0,
             "rgb(20,44,66)"
            ],
            [
             1,
             "rgb(90,179,244)"
            ]
           ]
          },
          "colorway": [
           "#F8766D",
           "#A3A500",
           "#00BF7D",
           "#00B0F6",
           "#E76BF3"
          ],
          "font": {
           "color": "rgb(51,51,51)"
          },
          "geo": {
           "bgcolor": "white",
           "lakecolor": "white",
           "landcolor": "rgb(237,237,237)",
           "showlakes": true,
           "showland": true,
           "subunitcolor": "white"
          },
          "hoverlabel": {
           "align": "left"
          },
          "hovermode": "closest",
          "paper_bgcolor": "white",
          "plot_bgcolor": "rgb(237,237,237)",
          "polar": {
           "angularaxis": {
            "gridcolor": "white",
            "linecolor": "white",
            "showgrid": true,
            "tickcolor": "rgb(51,51,51)",
            "ticks": "outside"
           },
           "bgcolor": "rgb(237,237,237)",
           "radialaxis": {
            "gridcolor": "white",
            "linecolor": "white",
            "showgrid": true,
            "tickcolor": "rgb(51,51,51)",
            "ticks": "outside"
           }
          },
          "scene": {
           "xaxis": {
            "backgroundcolor": "rgb(237,237,237)",
            "gridcolor": "white",
            "gridwidth": 2,
            "linecolor": "white",
            "showbackground": true,
            "showgrid": true,
            "tickcolor": "rgb(51,51,51)",
            "ticks": "outside",
            "zerolinecolor": "white"
           },
           "yaxis": {
            "backgroundcolor": "rgb(237,237,237)",
            "gridcolor": "white",
            "gridwidth": 2,
            "linecolor": "white",
            "showbackground": true,
            "showgrid": true,
            "tickcolor": "rgb(51,51,51)",
            "ticks": "outside",
            "zerolinecolor": "white"
           },
           "zaxis": {
            "backgroundcolor": "rgb(237,237,237)",
            "gridcolor": "white",
            "gridwidth": 2,
            "linecolor": "white",
            "showbackground": true,
            "showgrid": true,
            "tickcolor": "rgb(51,51,51)",
            "ticks": "outside",
            "zerolinecolor": "white"
           }
          },
          "shapedefaults": {
           "fillcolor": "black",
           "line": {
            "width": 0
           },
           "opacity": 0.3
          },
          "ternary": {
           "aaxis": {
            "gridcolor": "white",
            "linecolor": "white",
            "showgrid": true,
            "tickcolor": "rgb(51,51,51)",
            "ticks": "outside"
           },
           "baxis": {
            "gridcolor": "white",
            "linecolor": "white",
            "showgrid": true,
            "tickcolor": "rgb(51,51,51)",
            "ticks": "outside"
           },
           "bgcolor": "rgb(237,237,237)",
           "caxis": {
            "gridcolor": "white",
            "linecolor": "white",
            "showgrid": true,
            "tickcolor": "rgb(51,51,51)",
            "ticks": "outside"
           }
          },
          "xaxis": {
           "automargin": true,
           "gridcolor": "white",
           "linecolor": "white",
           "showgrid": true,
           "tickcolor": "rgb(51,51,51)",
           "ticks": "outside",
           "title": {
            "standoff": 15
           },
           "zerolinecolor": "white"
          },
          "yaxis": {
           "automargin": true,
           "gridcolor": "white",
           "linecolor": "white",
           "showgrid": true,
           "tickcolor": "rgb(51,51,51)",
           "ticks": "outside",
           "title": {
            "standoff": 15
           },
           "zerolinecolor": "white"
          }
         }
        },
        "title": {
         "text": "Datos de PT y DBO5 en función Kmeans"
        },
        "xaxis": {
         "anchor": "y",
         "domain": [
          0,
          0.18400000000000002
         ],
         "title": {
          "text": "DBO5_x"
         }
        },
        "xaxis2": {
         "anchor": "y2",
         "domain": [
          0.20400000000000001,
          0.388
         ],
         "matches": "x",
         "title": {
          "text": "DBO5_x"
         }
        },
        "xaxis3": {
         "anchor": "y3",
         "domain": [
          0.40800000000000003,
          0.5920000000000001
         ],
         "matches": "x",
         "title": {
          "text": "DBO5_x"
         }
        },
        "xaxis4": {
         "anchor": "y4",
         "domain": [
          0.6120000000000001,
          0.7960000000000002
         ],
         "matches": "x",
         "title": {
          "text": "DBO5_x"
         }
        },
        "xaxis5": {
         "anchor": "y5",
         "domain": [
          0.8160000000000001,
          1
         ],
         "matches": "x",
         "title": {
          "text": "DBO5_x"
         }
        },
        "yaxis": {
         "anchor": "x",
         "domain": [
          0,
          1
         ],
         "title": {
          "text": "PT_x"
         }
        },
        "yaxis2": {
         "anchor": "x2",
         "domain": [
          0,
          1
         ],
         "matches": "y",
         "showticklabels": false
        },
        "yaxis3": {
         "anchor": "x3",
         "domain": [
          0,
          1
         ],
         "matches": "y",
         "showticklabels": false
        },
        "yaxis4": {
         "anchor": "x4",
         "domain": [
          0,
          1
         ],
         "matches": "y",
         "showticklabels": false
        },
        "yaxis5": {
         "anchor": "x5",
         "domain": [
          0,
          1
         ],
         "matches": "y",
         "showticklabels": false
        }
       }
      },
      "text/html": [
       "<div>                            <div id=\"246a7e98-68c3-4e8a-a8da-8f785e922c31\" class=\"plotly-graph-div\" style=\"height:525px; width:100%;\"></div>            <script type=\"text/javascript\">                require([\"plotly\"], function(Plotly) {                    window.PLOTLYENV=window.PLOTLYENV || {};                                    if (document.getElementById(\"246a7e98-68c3-4e8a-a8da-8f785e922c31\")) {                    Plotly.newPlot(                        \"246a7e98-68c3-4e8a-a8da-8f785e922c31\",                        [{\"hovertemplate\": \"KMeans_Cluster=1<br>DBO5_x=%{x}<br>PT_x=%{y}<extra></extra>\", \"legendgroup\": \"\", \"marker\": {\"color\": \"#F8766D\", \"symbol\": \"circle\"}, \"mode\": \"markers\", \"name\": \"\", \"orientation\": \"v\", \"showlegend\": false, \"type\": \"scatter\", \"x\": [5.0, 5.0, 5.0, 5.0, 5.0, 5.0, 6.0, 5.0, 5.0, 5.0, 3.5, 5.0, 5.0, 5.0, 5.0, 5.0, 6.0, 5.0, 5.0, 5.0, 5.0, 5.0, 5.0, 5.0, 5.0, 5.0, 5.0, 5.0, 6.0, 5.0, 11.0, 12.0, 5.0, 5.0, 5.0, 6.0, 5.0, 5.0, 5.0, 6.0, 5.0, 5.0, 5.0, 5.0, 6.0, 5.0, 5.0, 5.0, 5.0, 5.0, 5.0, 5.0, 5.0, 8.0, 5.0, 5.0, 5.0, 6.0, 5.0, 5.0, 5.0, 5.0, 5.0, 5.0, 5.0, 5.0, 5.0, 8.0, 4.5, 4.3, 5.0, 6.0, 5.0, 5.0, 5.0, 5.0, 5.0, 5.0, 5.0, 5.0, 5.0, 5.0, 5.0, 5.0, 5.0, 5.0, 5.0, 5.0, 5.0, 5.0, 5.0, 5.0, 5.0, 5.0, 5.0, 5.0, 5.0, 5.0, 5.0, 5.0, 5.0, 5.0, 5.0, 5.0, 5.0, 5.0, 5.0, 6.0, 12.0, 5.0, 5.0, 5.0, 9.5, 4.1, 8.3, 8.0, 2.0, 2.0, 3.0, 2.0, 2.0, 3.0, 2.0, 2.0, 4.0, 3.0, 10.0, 6.0, 7.0, 5.0, 2.0, 6.0, 7.0, 3.0, 2.0, 2.0, 3.0, 2.0, 2.0, 2.0, 3.0, 2.0, 2.0, 2.0, 5.0, 2.0, 3.0, 2.0, 4.0, 3.0, 3.0, 2.0, 5.0, 9.0, 8.0, 6.0, 6.0, 4.0, 8.0, 2.0, 6.0, 3.0, 2.0, 2.0, 3.0, 3.0, 3.0, 2.0, 3.0, 3.0, 5.0, 3.0, 11.0, 3.0, 2.0, 6.0, 7.0, 6.0, 3.0, 6.0, 7.0, 3.0, 10.2, 3.8, 8.7, 5.0, 5.0, 2.0, 4.0, 2.0, 2.0, 3.0, 3.0, 3.0, 7.0, 4.0, 5.0, 8.0, 7.0, 9.0, 2.0, 11.0, 5.0, 4.0, 2.0, 3.0, 2.0, 10.0, 1.8, 4.0, 4.0, 2.0, 5.0, 6.0, 10.0, 5.0, 11.0, 7.0, 5.0, 9.0, 5.0, 5.0, 4.5, 3.0, 3.0, 3.0, 4.0, 5.0, 3.0, 3.0, 2.0, 5.0, 4.0, 6.0, 3.0, 3.0, 4.0, 3.0, 8.0, 4.0, 5.0, 4.0, 6.0, 2.0, 3.0, 9.8, 4.0, 3.0, 2.0, 2.0, 2.0, 2.0, 2.0, 4.0, 5.0, 5.0, 6.0, 7.0, 5.0, 8.0, 6.0, 10.0, 5.0, 3.0, 3.0, 2.0, 2.0, 5.0, 2.0, 8.0, 7.0, 6.0, 10.0, 5.0, 9.0, 9.0, 13.0, 9.0, 4.0, 9.0, 7.0, 6.0, 10.0, 13.0, 11.0, 8.0, 7.0, 2.0], \"xaxis\": \"x\", \"y\": [0.91, 0.84, 0.63, 0.67, 0.85, 0.75, 0.75, 0.57, 0.69, 0.91, 13.0, 0.72, 0.7, 0.55, 0.6, 0.77, 0.53, 0.51, 0.51, 0.53, 0.41, 0.33, 0.45, 0.43, 0.7, 0.47, 0.56, 0.53, 0.39, 0.39, 0.35, 0.6, 0.68, 0.53, 0.67, 0.73, 0.64, 0.62, 0.66, 0.64, 0.64, 0.5, 0.58, 0.44, 0.62, 0.56, 0.67, 1.0, 0.52, 0.55, 0.49, 0.46, 0.49, 0.46, 0.37, 0.59, 0.64, 0.58, 0.56, 0.42, 0.61, 0.59, 0.44, 0.57, 0.62, 0.49, 0.5, 0.74, 0.53, 0.68, 0.6, 0.6, 0.69, 0.75, 0.66, 0.67, 0.25, 0.6, 0.18, 0.14, 0.48, 0.27, 0.7, 0.52, 0.66, 0.64, 0.58, 0.27, 0.77, 0.42, 0.44, 0.48, 0.44, 0.59, 0.35, 0.65, 0.42, 0.43, 0.62, 0.51, 0.73, 0.61, 0.51, 0.75, 0.55, 0.61, 0.55, 0.68, 0.46, 0.22, 0.2, 0.32, 0.4, 0.52, 0.24, 0.58, 0.75, 0.74, 0.68, 0.55, 0.74, 0.57, 0.68, 0.58, 0.65, 0.44, 0.55, 0.38, 0.44, 0.21, 0.67, 0.63, 0.6, 0.69, 0.66, 0.4, 0.626, 0.643, 0.637, 0.7979999999999999, 0.71, 0.6559999999999999, 0.703, 0.857, 0.72, 0.59, 0.7, 0.79, 0.87, 0.85, 0.98, 0.96, 1.02, 0.75, 0.69, 0.59, 0.71, 0.41, 0.47, 0.4, 0.56, 0.72, 0.91, 0.59, 0.52, 0.41, 0.39, 0.34, 0.4, 0.36, 0.79, 0.67, 0.37, 0.43, 0.48, 0.4, 0.41, 0.59, 0.5, 0.6, 0.34, 0.49, 0.36, 0.36, 0.5, 0.73, 0.48, 0.26, 0.49, 0.31, 0.43, 0.38, 0.61, 0.51, 0.35, 0.58, 0.53, 0.63, 0.75, 0.73, 0.7, 0.54, 0.77, 0.64, 0.5, 0.49, 0.56, 0.556, 0.264, 0.765, 0.747, 0.6729999999999999, 0.36, 0.8, 0.3, 0.34, 0.44, 0.24, 0.25, 0.27, 0.2, 0.59, 0.83, 0.57, 0.86, 0.69, 0.57, 0.65, 0.57, 0.57, 0.25, 0.53, 0.55, 0.3, 0.54, 0.63, 0.41, 0.38, 0.46, 0.42, 0.68, 0.35, 0.61, 0.36, 0.31, 0.28, 0.61, 0.24, 1.88, 0.23, 0.32, 0.22, 0.37, 0.22, 0.17, 0.21, 0.6, 0.25, 0.39, 0.44, 0.39, 0.57, 0.54, 0.49, 0.25, 0.39, 0.379, 0.48200000000000004, 0.213, 0.53, 0.43, 0.75, 0.59, 0.52, 0.59, 0.6, 0.63, 0.42, 0.5, 0.36, 0.5, 0.25, 0.32, 0.56, 0.84, 0.53, 0.47, 0.785], \"yaxis\": \"y\"}, {\"hovertemplate\": \"KMeans_Cluster=3<br>DBO5_x=%{x}<br>PT_x=%{y}<extra></extra>\", \"legendgroup\": \"\", \"marker\": {\"color\": \"#F8766D\", \"symbol\": \"circle\"}, \"mode\": \"markers\", \"name\": \"\", \"orientation\": \"v\", \"showlegend\": false, \"type\": \"scatter\", \"x\": [5.0, 5.0, 2.0, 2.0, 3.0, 7.0, 2.0, 2.0, 3.0, 8.0, 2.0, 5.0, 5.0, 4.0, 5.0, 8.0, 8.0, 10.0, 8.0, 8.0, 9.0, 7.0, 7.0, 7.0, 6.0, 7.0, 8.0, 5.0, 10.0, 9.0, 8.0, 8.0, 8.0, 10.0, 8.0, 8.0, 7.0, 12.0, 11.0, 5.0, 9.0, 5.0, 7.0, 6.0, 7.0, 5.0, 8.0, 7.0, 6.0, 7.0, 5.0, 12.0, 9.0, 9.0, 6.0, 5.0, 8.0, 4.8, 10.0, 9.0, 5.0, 8.0, 7.0, 5.0, 10.0, 8.0, 5.0, 10.0, 8.0, 8.5, 8.0, 9.0, 8.0, 5.0, 5.0, 6.0, 5.0, 5.0, 5.0, 6.0, 6.0, 5.0, 8.0, 5.0, 5.0, 5.0, 5.0, 7.0, 7.0, 7.0, 7.0, 5.0, 8.0, 5.0, 11.0, 11.0, 5.0, 5.0, 8.0, 7.0, 6.0, 5.0, 5.0, 5.0, 9.0, 8.0, 10.0, 6.0, 6.0, 7.0, 5.0, 9.0, 7.0, 7.0, 5.0, 5.0, 5.0, 7.0, 11.0, 4.7, 12.0, 5.0, 8.0, 5.0, 5.0, 11.0, 6.0, 2.0, 3.0, 7.0, 6.0, 6.0, 5.0, 5.0, 6.0, 6.0, 7.0, 4.0, 3.0, 7.0, 3.0, 2.0, 5.0, 8.0, 6.0, 11.0, 8.9, 2.0, 5.0, 5.0, 8.0, 5.0, 3.0, 3.0, 2.0, 10.0, 7.0, 10.0, 10.0, 8.0, 10.0, 5.0, 10.0, 8.0, 8.0, 11.0, 10.0, 12.0, 9.0, 6.0, 10.1, 10.0, 9.0, 11.0, 9.0, 9.0, 12.0, 7.0, 11.0, 11.0, 8.0, 7.0, 8.0, 9.0, 9.0, 9.0, 10.0, 7.0, 9.0, 7.0, 7.0, 9.0, 9.0, 7.0, 2.0, 9.0, 7.0, 8.0, 6.0, 10.0, 6.0, 12.0, 5.0, 10.0, 11.0, 9.0, 9.0, 6.0], \"xaxis\": \"x2\", \"y\": [0.71, 1.02, 0.75, 0.68, 0.88, 1.27, 1.11, 0.77, 0.51, 0.59, 0.51, 0.605, 0.611, 0.752, 0.41, 0.28, 0.41, 0.36, 0.39, 0.54, 0.58, 0.42, 0.3, 0.44, 0.61, 0.44, 0.37, 0.31, 0.36, 0.21, 0.4, 0.45, 0.61, 0.34, 0.75, 0.53, 0.54, 0.46, 0.59, 0.4, 0.45, 0.47, 0.46, 0.79, 0.26, 0.57, 0.65, 0.45, 0.75, 0.49, 0.68, 0.49, 0.53, 0.45, 0.41, 0.62, 0.51, 0.45, 0.45, 0.6, 0.67, 0.68, 0.36, 0.57, 0.47, 0.57, 0.53, 0.77, 0.61, 0.61, 0.54, 0.65, 0.54, 0.35, 0.69, 0.89, 0.33, 0.42, 0.26, 0.56, 0.27, 0.42, 0.15, 0.28, 0.42, 0.75, 0.41, 0.64, 0.73, 0.52, 0.38, 0.25, 0.59, 0.45, 0.38, 0.4, 0.23, 1.01, 0.68, 0.39, 0.8, 0.67, 0.47, 0.38, 0.55, 0.36, 0.45, 0.38, 0.45, 0.31, 0.41, 0.56, 0.35, 0.3, 0.74, 0.67, 0.71, 1.08, 0.58, 0.71, 0.82, 0.63, 0.59, 0.51, 0.43, 0.43, 0.68, 0.62, 0.55, 0.63, 0.79, 0.76, 0.76, 0.61, 0.61, 0.73, 0.97, 0.63, 0.41, 0.43, 0.46, 0.4, 0.54, 0.45, 0.48, 0.33, 0.41, 0.48, 0.52, 0.35, 0.617, 0.203, 0.45899999999999996, 0.54, 0.617, 0.93, 0.64, 0.63, 0.51, 0.65, 0.64, 0.7, 0.51, 0.41, 0.54, 0.57, 0.84, 0.63, 1.3, 0.53, 0.95, 0.52, 0.66, 0.72, 1.03, 0.46, 0.53, 0.56, 0.53, 0.299, 0.63, 0.44, 0.65, 6.5, 0.6, 0.42, 0.58, 0.51, 0.56, 0.85, 0.37, 0.55, 0.65, 0.73, 0.73, 0.75, 0.79, 0.61, 0.57, 0.72, 0.74, 0.66, 0.67, 0.62, 0.47, 0.73, 0.79, 0.7959999999999999], \"yaxis\": \"y2\"}, {\"hovertemplate\": \"KMeans_Cluster=2<br>DBO5_x=%{x}<br>PT_x=%{y}<extra></extra>\", \"legendgroup\": \"\", \"marker\": {\"color\": \"#F8766D\", \"symbol\": \"circle\"}, \"mode\": \"markers\", \"name\": \"\", \"orientation\": \"v\", \"showlegend\": false, \"type\": \"scatter\", \"x\": [5.0, 5.0, 5.0, 5.0, 8.0, 6.0, 6.0, 5.0], \"xaxis\": \"x3\", \"y\": [0.52, 0.53, 0.58, 0.71, 0.61, 0.49, 0.3, 0.54], \"yaxis\": \"y3\"}, {\"hovertemplate\": \"KMeans_Cluster=0<br>DBO5_x=%{x}<br>PT_x=%{y}<extra></extra>\", \"legendgroup\": \"\", \"marker\": {\"color\": \"#F8766D\", \"symbol\": \"circle\"}, \"mode\": \"markers\", \"name\": \"\", \"orientation\": \"v\", \"showlegend\": false, \"type\": \"scatter\", \"x\": [18.0, 18.0, 11.0, 14.0, 14.0, 12.0, 20.0, 17.0, 11.0, 11.0, 12.0, 10.0, 11.0, 30.0, 15.0, 21.0, 13.0, 12.0, 10.0, 20.0, 11.0, 12.0, 16.0, 12.0, 17.0, 12.0, 15.0, 30.0, 14.0, 12.0, 11.0, 11.0, 9.0, 13.0, 15.0, 13.0, 17.0, 20.0, 13.0, 12.0, 14.0, 13.0, 12.0, 11.0, 15.0, 18.0, 13.0, 16.0, 16.0, 12.0, 11.0, 12.0, 13.0, 16.3, 13.2, 15.0, 12.0, 16.0, 13.0, 13.0, 12.0, 15.0, 9.0, 16.0, 15.0, 14.0, 14.0, 18.0, 15.0, 15.0, 23.0, 14.0, 17.0, 16.0, 10.0, 13.0, 11.0, 13.0, 9.0, 18.0, 12.0, 14.0, 11.0, 10.0, 11.0, 21.0, 38.0, 16.0, 14.0, 13.0, 12.0, 15.4, 11.9, 14.0, 9.0, 15.0, 13.0, 18.0, 16.0, 14.0, 17.0, 12.0, 14.0, 13.0, 12.0, 15.0, 15.0, 14.0, 12.0], \"xaxis\": \"x4\", \"y\": [1.2, 0.63, 0.46, 0.53, 0.59, 0.52, 0.35, 0.81, 0.42, 0.6, 0.61, 0.66, 0.56, 0.61, 0.45, 0.8, 0.6, 0.65, 1.09, 0.83, 0.46, 0.71, 0.48, 0.27, 0.34, 0.53, 0.91, 0.33, 0.54, 0.78, 1.0, 0.67, 0.68, 0.85, 0.62, 0.6, 0.56, 0.99, 0.59, 0.81, 0.75, 0.72, 0.82, 0.69, 0.78, 0.53, 1.31, 0.7, 0.53, 0.71, 0.42, 0.63, 1.01, 1.55, 0.56, 0.95, 0.61, 0.4, 0.47, 0.61, 0.8, 0.68, 0.45, 0.67, 0.63, 0.645, 0.653, 0.853, 0.502, 0.779, 1.36, 0.6, 0.78, 0.98, 0.57, 0.6, 0.63, 0.77, 0.62, 0.86, 0.66, 0.46, 0.66, 0.58, 0.48, 1.4, 0.94, 0.65, 0.81, 0.63, 0.88, 0.65, 0.57, 0.6, 0.84, 0.65, 0.49, 0.6, 0.54, 0.74, 0.39, 0.44, 0.63, 0.735, 0.9329999999999999, 0.703, 0.826, 0.856, 0.893], \"yaxis\": \"y4\"}, {\"hovertemplate\": \"KMeans_Cluster=4<br>DBO5_x=%{x}<br>PT_x=%{y}<extra></extra>\", \"legendgroup\": \"\", \"marker\": {\"color\": \"#F8766D\", \"symbol\": \"circle\"}, \"mode\": \"markers\", \"name\": \"\", \"orientation\": \"v\", \"showlegend\": false, \"type\": \"scatter\", \"x\": [5.0, 9.0, 6.0, 19.0, 15.0, 29.0, 35.0, 12.0, 17.0, 15.0, 13.0], \"xaxis\": \"x5\", \"y\": [0.22, 1.02, 0.71, 1.04, 0.98, 0.52, 1.41, 0.66, 0.73, 0.85, 0.63], \"yaxis\": \"y5\"}],                        {\"annotations\": [{\"font\": {}, \"showarrow\": false, \"text\": \"KMeans_Cluster=1\", \"x\": 0.09200000000000001, \"xanchor\": \"center\", \"xref\": \"paper\", \"y\": 1.0, \"yanchor\": \"bottom\", \"yref\": \"paper\"}, {\"font\": {}, \"showarrow\": false, \"text\": \"KMeans_Cluster=3\", \"x\": 0.29600000000000004, \"xanchor\": \"center\", \"xref\": \"paper\", \"y\": 1.0, \"yanchor\": \"bottom\", \"yref\": \"paper\"}, {\"font\": {}, \"showarrow\": false, \"text\": \"KMeans_Cluster=2\", \"x\": 0.5, \"xanchor\": \"center\", \"xref\": \"paper\", \"y\": 1.0, \"yanchor\": \"bottom\", \"yref\": \"paper\"}, {\"font\": {}, \"showarrow\": false, \"text\": \"KMeans_Cluster=0\", \"x\": 0.7040000000000002, \"xanchor\": \"center\", \"xref\": \"paper\", \"y\": 1.0, \"yanchor\": \"bottom\", \"yref\": \"paper\"}, {\"font\": {}, \"showarrow\": false, \"text\": \"KMeans_Cluster=4\", \"x\": 0.908, \"xanchor\": \"center\", \"xref\": \"paper\", \"y\": 1.0, \"yanchor\": \"bottom\", \"yref\": \"paper\"}], \"legend\": {\"tracegroupgap\": 0}, \"template\": {\"data\": {\"bar\": [{\"error_x\": {\"color\": \"rgb(51,51,51)\"}, \"error_y\": {\"color\": \"rgb(51,51,51)\"}, \"marker\": {\"line\": {\"color\": \"rgb(237,237,237)\", \"width\": 0.5}}, \"type\": \"bar\"}], \"barpolar\": [{\"marker\": {\"line\": {\"color\": \"rgb(237,237,237)\", \"width\": 0.5}}, \"type\": \"barpolar\"}], \"carpet\": [{\"aaxis\": {\"endlinecolor\": \"rgb(51,51,51)\", \"gridcolor\": \"white\", \"linecolor\": \"white\", \"minorgridcolor\": \"white\", \"startlinecolor\": \"rgb(51,51,51)\"}, \"baxis\": {\"endlinecolor\": \"rgb(51,51,51)\", \"gridcolor\": \"white\", \"linecolor\": \"white\", \"minorgridcolor\": \"white\", \"startlinecolor\": \"rgb(51,51,51)\"}, \"type\": \"carpet\"}], \"choropleth\": [{\"colorbar\": {\"outlinewidth\": 0, \"tickcolor\": \"rgb(237,237,237)\", \"ticklen\": 6, \"ticks\": \"inside\"}, \"type\": \"choropleth\"}], \"contour\": [{\"colorbar\": {\"outlinewidth\": 0, \"tickcolor\": \"rgb(237,237,237)\", \"ticklen\": 6, \"ticks\": \"inside\"}, \"colorscale\": [[0, \"rgb(20,44,66)\"], [1, \"rgb(90,179,244)\"]], \"type\": \"contour\"}], \"contourcarpet\": [{\"colorbar\": {\"outlinewidth\": 0, \"tickcolor\": \"rgb(237,237,237)\", \"ticklen\": 6, \"ticks\": \"inside\"}, \"type\": \"contourcarpet\"}], \"heatmap\": [{\"colorbar\": {\"outlinewidth\": 0, \"tickcolor\": \"rgb(237,237,237)\", \"ticklen\": 6, \"ticks\": \"inside\"}, \"colorscale\": [[0, \"rgb(20,44,66)\"], [1, \"rgb(90,179,244)\"]], \"type\": \"heatmap\"}], \"heatmapgl\": [{\"colorbar\": {\"outlinewidth\": 0, \"tickcolor\": \"rgb(237,237,237)\", \"ticklen\": 6, \"ticks\": \"inside\"}, \"colorscale\": [[0, \"rgb(20,44,66)\"], [1, \"rgb(90,179,244)\"]], \"type\": \"heatmapgl\"}], \"histogram\": [{\"marker\": {\"colorbar\": {\"outlinewidth\": 0, \"tickcolor\": \"rgb(237,237,237)\", \"ticklen\": 6, \"ticks\": \"inside\"}}, \"type\": \"histogram\"}], \"histogram2d\": [{\"colorbar\": {\"outlinewidth\": 0, \"tickcolor\": \"rgb(237,237,237)\", \"ticklen\": 6, \"ticks\": \"inside\"}, \"colorscale\": [[0, \"rgb(20,44,66)\"], [1, \"rgb(90,179,244)\"]], \"type\": \"histogram2d\"}], \"histogram2dcontour\": [{\"colorbar\": {\"outlinewidth\": 0, \"tickcolor\": \"rgb(237,237,237)\", \"ticklen\": 6, \"ticks\": \"inside\"}, \"colorscale\": [[0, \"rgb(20,44,66)\"], [1, \"rgb(90,179,244)\"]], \"type\": \"histogram2dcontour\"}], \"mesh3d\": [{\"colorbar\": {\"outlinewidth\": 0, \"tickcolor\": \"rgb(237,237,237)\", \"ticklen\": 6, \"ticks\": \"inside\"}, \"type\": \"mesh3d\"}], \"parcoords\": [{\"line\": {\"colorbar\": {\"outlinewidth\": 0, \"tickcolor\": \"rgb(237,237,237)\", \"ticklen\": 6, \"ticks\": \"inside\"}}, \"type\": \"parcoords\"}], \"pie\": [{\"automargin\": true, \"type\": \"pie\"}], \"scatter\": [{\"marker\": {\"colorbar\": {\"outlinewidth\": 0, \"tickcolor\": \"rgb(237,237,237)\", \"ticklen\": 6, \"ticks\": \"inside\"}}, \"type\": \"scatter\"}], \"scatter3d\": [{\"line\": {\"colorbar\": {\"outlinewidth\": 0, \"tickcolor\": \"rgb(237,237,237)\", \"ticklen\": 6, \"ticks\": \"inside\"}}, \"marker\": {\"colorbar\": {\"outlinewidth\": 0, \"tickcolor\": \"rgb(237,237,237)\", \"ticklen\": 6, \"ticks\": \"inside\"}}, \"type\": \"scatter3d\"}], \"scattercarpet\": [{\"marker\": {\"colorbar\": {\"outlinewidth\": 0, \"tickcolor\": \"rgb(237,237,237)\", \"ticklen\": 6, \"ticks\": \"inside\"}}, \"type\": \"scattercarpet\"}], \"scattergeo\": [{\"marker\": {\"colorbar\": {\"outlinewidth\": 0, \"tickcolor\": \"rgb(237,237,237)\", \"ticklen\": 6, \"ticks\": \"inside\"}}, \"type\": \"scattergeo\"}], \"scattergl\": [{\"marker\": {\"colorbar\": {\"outlinewidth\": 0, \"tickcolor\": \"rgb(237,237,237)\", \"ticklen\": 6, \"ticks\": \"inside\"}}, \"type\": \"scattergl\"}], \"scattermapbox\": [{\"marker\": {\"colorbar\": {\"outlinewidth\": 0, \"tickcolor\": \"rgb(237,237,237)\", \"ticklen\": 6, \"ticks\": \"inside\"}}, \"type\": \"scattermapbox\"}], \"scatterpolar\": [{\"marker\": {\"colorbar\": {\"outlinewidth\": 0, \"tickcolor\": \"rgb(237,237,237)\", \"ticklen\": 6, \"ticks\": \"inside\"}}, \"type\": \"scatterpolar\"}], \"scatterpolargl\": [{\"marker\": {\"colorbar\": {\"outlinewidth\": 0, \"tickcolor\": \"rgb(237,237,237)\", \"ticklen\": 6, \"ticks\": \"inside\"}}, \"type\": \"scatterpolargl\"}], \"scatterternary\": [{\"marker\": {\"colorbar\": {\"outlinewidth\": 0, \"tickcolor\": \"rgb(237,237,237)\", \"ticklen\": 6, \"ticks\": \"inside\"}}, \"type\": \"scatterternary\"}], \"surface\": [{\"colorbar\": {\"outlinewidth\": 0, \"tickcolor\": \"rgb(237,237,237)\", \"ticklen\": 6, \"ticks\": \"inside\"}, \"colorscale\": [[0, \"rgb(20,44,66)\"], [1, \"rgb(90,179,244)\"]], \"type\": \"surface\"}], \"table\": [{\"cells\": {\"fill\": {\"color\": \"rgb(237,237,237)\"}, \"line\": {\"color\": \"white\"}}, \"header\": {\"fill\": {\"color\": \"rgb(217,217,217)\"}, \"line\": {\"color\": \"white\"}}, \"type\": \"table\"}]}, \"layout\": {\"annotationdefaults\": {\"arrowhead\": 0, \"arrowwidth\": 1}, \"coloraxis\": {\"colorbar\": {\"outlinewidth\": 0, \"tickcolor\": \"rgb(237,237,237)\", \"ticklen\": 6, \"ticks\": \"inside\"}}, \"colorscale\": {\"sequential\": [[0, \"rgb(20,44,66)\"], [1, \"rgb(90,179,244)\"]], \"sequentialminus\": [[0, \"rgb(20,44,66)\"], [1, \"rgb(90,179,244)\"]]}, \"colorway\": [\"#F8766D\", \"#A3A500\", \"#00BF7D\", \"#00B0F6\", \"#E76BF3\"], \"font\": {\"color\": \"rgb(51,51,51)\"}, \"geo\": {\"bgcolor\": \"white\", \"lakecolor\": \"white\", \"landcolor\": \"rgb(237,237,237)\", \"showlakes\": true, \"showland\": true, \"subunitcolor\": \"white\"}, \"hoverlabel\": {\"align\": \"left\"}, \"hovermode\": \"closest\", \"paper_bgcolor\": \"white\", \"plot_bgcolor\": \"rgb(237,237,237)\", \"polar\": {\"angularaxis\": {\"gridcolor\": \"white\", \"linecolor\": \"white\", \"showgrid\": true, \"tickcolor\": \"rgb(51,51,51)\", \"ticks\": \"outside\"}, \"bgcolor\": \"rgb(237,237,237)\", \"radialaxis\": {\"gridcolor\": \"white\", \"linecolor\": \"white\", \"showgrid\": true, \"tickcolor\": \"rgb(51,51,51)\", \"ticks\": \"outside\"}}, \"scene\": {\"xaxis\": {\"backgroundcolor\": \"rgb(237,237,237)\", \"gridcolor\": \"white\", \"gridwidth\": 2, \"linecolor\": \"white\", \"showbackground\": true, \"showgrid\": true, \"tickcolor\": \"rgb(51,51,51)\", \"ticks\": \"outside\", \"zerolinecolor\": \"white\"}, \"yaxis\": {\"backgroundcolor\": \"rgb(237,237,237)\", \"gridcolor\": \"white\", \"gridwidth\": 2, \"linecolor\": \"white\", \"showbackground\": true, \"showgrid\": true, \"tickcolor\": \"rgb(51,51,51)\", \"ticks\": \"outside\", \"zerolinecolor\": \"white\"}, \"zaxis\": {\"backgroundcolor\": \"rgb(237,237,237)\", \"gridcolor\": \"white\", \"gridwidth\": 2, \"linecolor\": \"white\", \"showbackground\": true, \"showgrid\": true, \"tickcolor\": \"rgb(51,51,51)\", \"ticks\": \"outside\", \"zerolinecolor\": \"white\"}}, \"shapedefaults\": {\"fillcolor\": \"black\", \"line\": {\"width\": 0}, \"opacity\": 0.3}, \"ternary\": {\"aaxis\": {\"gridcolor\": \"white\", \"linecolor\": \"white\", \"showgrid\": true, \"tickcolor\": \"rgb(51,51,51)\", \"ticks\": \"outside\"}, \"baxis\": {\"gridcolor\": \"white\", \"linecolor\": \"white\", \"showgrid\": true, \"tickcolor\": \"rgb(51,51,51)\", \"ticks\": \"outside\"}, \"bgcolor\": \"rgb(237,237,237)\", \"caxis\": {\"gridcolor\": \"white\", \"linecolor\": \"white\", \"showgrid\": true, \"tickcolor\": \"rgb(51,51,51)\", \"ticks\": \"outside\"}}, \"xaxis\": {\"automargin\": true, \"gridcolor\": \"white\", \"linecolor\": \"white\", \"showgrid\": true, \"tickcolor\": \"rgb(51,51,51)\", \"ticks\": \"outside\", \"title\": {\"standoff\": 15}, \"zerolinecolor\": \"white\"}, \"yaxis\": {\"automargin\": true, \"gridcolor\": \"white\", \"linecolor\": \"white\", \"showgrid\": true, \"tickcolor\": \"rgb(51,51,51)\", \"ticks\": \"outside\", \"title\": {\"standoff\": 15}, \"zerolinecolor\": \"white\"}}}, \"title\": {\"text\": \"Datos de PT y DBO5 en funci\\u00f3n Kmeans\"}, \"xaxis\": {\"anchor\": \"y\", \"domain\": [0.0, 0.18400000000000002], \"title\": {\"text\": \"DBO5_x\"}}, \"xaxis2\": {\"anchor\": \"y2\", \"domain\": [0.20400000000000001, 0.388], \"matches\": \"x\", \"title\": {\"text\": \"DBO5_x\"}}, \"xaxis3\": {\"anchor\": \"y3\", \"domain\": [0.40800000000000003, 0.5920000000000001], \"matches\": \"x\", \"title\": {\"text\": \"DBO5_x\"}}, \"xaxis4\": {\"anchor\": \"y4\", \"domain\": [0.6120000000000001, 0.7960000000000002], \"matches\": \"x\", \"title\": {\"text\": \"DBO5_x\"}}, \"xaxis5\": {\"anchor\": \"y5\", \"domain\": [0.8160000000000001, 1.0], \"matches\": \"x\", \"title\": {\"text\": \"DBO5_x\"}}, \"yaxis\": {\"anchor\": \"x\", \"domain\": [0.0, 1.0], \"title\": {\"text\": \"PT_x\"}}, \"yaxis2\": {\"anchor\": \"x2\", \"domain\": [0.0, 1.0], \"matches\": \"y\", \"showticklabels\": false}, \"yaxis3\": {\"anchor\": \"x3\", \"domain\": [0.0, 1.0], \"matches\": \"y\", \"showticklabels\": false}, \"yaxis4\": {\"anchor\": \"x4\", \"domain\": [0.0, 1.0], \"matches\": \"y\", \"showticklabels\": false}, \"yaxis5\": {\"anchor\": \"x5\", \"domain\": [0.0, 1.0], \"matches\": \"y\", \"showticklabels\": false}},                        {\"responsive\": true}                    ).then(function(){\n",
       "                            \n",
       "var gd = document.getElementById('246a7e98-68c3-4e8a-a8da-8f785e922c31');\n",
       "var x = new MutationObserver(function (mutations, observer) {{\n",
       "        var display = window.getComputedStyle(gd).display;\n",
       "        if (!display || display === 'none') {{\n",
       "            console.log([gd, 'removed!']);\n",
       "            Plotly.purge(gd);\n",
       "            observer.disconnect();\n",
       "        }}\n",
       "}});\n",
       "\n",
       "// Listen for the removal of the full notebook cells\n",
       "var notebookContainer = gd.closest('#notebook-container');\n",
       "if (notebookContainer) {{\n",
       "    x.observe(notebookContainer, {childList: true});\n",
       "}}\n",
       "\n",
       "// Listen for the clearing of the current output cell\n",
       "var outputEl = gd.closest('.output');\n",
       "if (outputEl) {{\n",
       "    x.observe(outputEl, {childList: true});\n",
       "}}\n",
       "\n",
       "                        })                };                });            </script>        </div>"
      ]
     },
     "metadata": {},
     "output_type": "display_data"
    }
   ],
   "source": [
    "fig3 = px.scatter(\n",
    "  data_2, x=data_2['DBO5_x'], y=data_2[\"PT_x\"], \n",
    "  template=\"ggplot2\", facet_col = data_2['KMeans_Cluster']\n",
    ", title=\"Datos de PT y DBO5 en función Kmeans\",)\n",
    "fig3"
   ]
  },
  {
   "cell_type": "code",
   "execution_count": 97,
   "metadata": {},
   "outputs": [
    {
     "data": {
      "image/png": "[encoded data removed]",
      "text/plain": [
       "<Figure size 432x576 with 2 Axes>"
      ]
     },
     "metadata": {
      "needs_background": "light"
     },
     "output_type": "display_data"
    }
   ],
   "source": [
    "fig, ax = plt.subplots(2, 1, figsize = (6, 8))\n",
    "sns.scatterplot(\"DBO5_x\", \"PT_x\", data = data_2, hue = \"DEPURADORA_2_x\", ax = ax[0]);\n",
    "sns.scatterplot(\"DBO5_x\", \"PT_x\", data = data_2, hue = \"Cluster\",\n",
    "                ax = ax[1]);"
   ]
  },
  {
   "cell_type": "code",
   "execution_count": 96,
   "metadata": {},
   "outputs": [
    {
     "data": {
      "image/png": "[encoded data removed]",
      "text/plain": [
       "<Figure size 432x576 with 2 Axes>"
      ]
     },
     "metadata": {
      "needs_background": "light"
     },
     "output_type": "display_data"
    }
   ],
   "source": [
    "fig, ax = plt.subplots(2, 1, figsize = (6, 8))\n",
    "sns.scatterplot(\"DBO5_x\", \"PT_x\", data = data_2, hue = \"DEPURADORA_2_x\", ax = ax[0]);\n",
    "sns.scatterplot(\"DBO5_x\", \"PT_x\", data = data_2, hue = \"KMeans_Cluster\",\n",
    "               ax = ax[1]);"
   ]
  },
  {
   "cell_type": "code",
   "execution_count": 95,
   "metadata": {},
   "outputs": [
    {
     "data": {
      "image/png": "[encoded data removed]",
      "text/plain": [
       "<Figure size 432x576 with 2 Axes>"
      ]
     },
     "metadata": {
      "needs_background": "light"
     },
     "output_type": "display_data"
    }
   ],
   "source": [
    "fig, ax = plt.subplots(2, 1, figsize = (6, 8))\n",
    "sns.scatterplot(\"DBO5_x\", \"PT_x\", data = data_2, hue = \"Cluster\", ax = ax[0]);\n",
    "sns.scatterplot(\"DBO5_x\", \"PT_x\", data = data_2, hue = \"KMeans_Cluster\",\n",
    "                palette = \"gist_stern\", ax = ax[1]);"
   ]
  },
  {
   "cell_type": "code",
   "execution_count": null,
   "metadata": {},
   "outputs": [],
   "source": []
  },
  {
   "cell_type": "code",
   "execution_count": null,
   "metadata": {},
   "outputs": [],
   "source": []
  },
  {
   "cell_type": "code",
   "execution_count": null,
   "metadata": {},
   "outputs": [],
   "source": []
  }
 ],
 "metadata": {
  "kernelspec": {
   "display_name": "Python 3",
   "language": "python",
   "name": "python3"
  },
  "language_info": {
   "codemirror_mode": {
    "name": "ipython",
    "version": 3
   },
   "file_extension": ".py",
   "mimetype": "text/x-python",
   "name": "python",
   "nbconvert_exporter": "python",
   "pygments_lexer": "ipython3",
   "version": "3.8.5"
  }
 },
 "nbformat": 4,
 "nbformat_minor": 4
}
