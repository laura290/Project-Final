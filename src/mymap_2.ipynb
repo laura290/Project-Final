{
 "cells": [
  {
   "cell_type": "code",
   "execution_count": 44,
   "metadata": {},
   "outputs": [],
   "source": [
    "import folium\n",
    "from folium import Map, Marker, Icon, FeatureGroup\n",
    "import pandas as pd"
   ]
  },
  {
   "cell_type": "code",
   "execution_count": 49,
   "metadata": {},
   "outputs": [],
   "source": [
    "df = pd.DataFrame({'Depuradora': ['Viveros de la Villa', 'La China', 'La gavia', 'Butarque', 'Sur oriental', 'Valdebebas','Rejas', 'Sur'], 'Latitud': [40.4502778, 40.3655556, 40.3491667, 40.3336111, 40.3311111, 40.4947222, 40.4511111,40.3311111], 'Longuitud':[-3.743888888888889, -3.6805555555555554, -3.6591666666666667, -3.661111111111111, -3.5380555555555553, -3.5466666666666664, -3.5380555555555553, -3.5380555555555553]})"
   ]
  },
  {
   "cell_type": "code",
   "execution_count": 50,
   "metadata": {},
   "outputs": [
    {
     "data": {
      "text/html": [
       "<div>\n",
       "<style scoped>\n",
       "    .dataframe tbody tr th:only-of-type {\n",
       "        vertical-align: middle;\n",
       "    }\n",
       "\n",
       "    .dataframe tbody tr th {\n",
       "        vertical-align: top;\n",
       "    }\n",
       "\n",
       "    .dataframe thead th {\n",
       "        text-align: right;\n",
       "    }\n",
       "</style>\n",
       "<table border=\"1\" class=\"dataframe\">\n",
       "  <thead>\n",
       "    <tr style=\"text-align: right;\">\n",
       "      <th></th>\n",
       "      <th>Depuradora</th>\n",
       "      <th>Latitud</th>\n",
       "      <th>Longuitud</th>\n",
       "    </tr>\n",
       "  </thead>\n",
       "  <tbody>\n",
       "    <tr>\n",
       "      <th>0</th>\n",
       "      <td>Viveros de la Villa</td>\n",
       "      <td>40.450278</td>\n",
       "      <td>-3.743889</td>\n",
       "    </tr>\n",
       "    <tr>\n",
       "      <th>1</th>\n",
       "      <td>La China</td>\n",
       "      <td>40.365556</td>\n",
       "      <td>-3.680556</td>\n",
       "    </tr>\n",
       "    <tr>\n",
       "      <th>2</th>\n",
       "      <td>La gavia</td>\n",
       "      <td>40.349167</td>\n",
       "      <td>-3.659167</td>\n",
       "    </tr>\n",
       "    <tr>\n",
       "      <th>3</th>\n",
       "      <td>Butarque</td>\n",
       "      <td>40.333611</td>\n",
       "      <td>-3.661111</td>\n",
       "    </tr>\n",
       "    <tr>\n",
       "      <th>4</th>\n",
       "      <td>Sur oriental</td>\n",
       "      <td>40.331111</td>\n",
       "      <td>-3.538056</td>\n",
       "    </tr>\n",
       "    <tr>\n",
       "      <th>5</th>\n",
       "      <td>Valdebebas</td>\n",
       "      <td>40.494722</td>\n",
       "      <td>-3.546667</td>\n",
       "    </tr>\n",
       "    <tr>\n",
       "      <th>6</th>\n",
       "      <td>Rejas</td>\n",
       "      <td>40.451111</td>\n",
       "      <td>-3.538056</td>\n",
       "    </tr>\n",
       "    <tr>\n",
       "      <th>7</th>\n",
       "      <td>Sur</td>\n",
       "      <td>40.331111</td>\n",
       "      <td>-3.538056</td>\n",
       "    </tr>\n",
       "  </tbody>\n",
       "</table>\n",
       "</div>"
      ],
      "text/plain": [
       "            Depuradora    Latitud  Longuitud\n",
       "0  Viveros de la Villa  40.450278  -3.743889\n",
       "1             La China  40.365556  -3.680556\n",
       "2             La gavia  40.349167  -3.659167\n",
       "3             Butarque  40.333611  -3.661111\n",
       "4         Sur oriental  40.331111  -3.538056\n",
       "5           Valdebebas  40.494722  -3.546667\n",
       "6                Rejas  40.451111  -3.538056\n",
       "7                  Sur  40.331111  -3.538056"
      ]
     },
     "execution_count": 50,
     "metadata": {},
     "output_type": "execute_result"
    }
   ],
   "source": [
    "df"
   ]
  },
  {
   "cell_type": "code",
   "execution_count": 53,
   "metadata": {},
   "outputs": [
    {
     "data": {
      "text/html": [
       "<div style=\"width:100%;\"><div style=\"position:relative;width:100%;height:0;padding-bottom:60%;\"><span style=\"color:#565656\">Make this Notebook Trusted to load map: File -> Trust Notebook</span><iframe src=\"about:blank\" style=\"position:absolute;width:100%;height:100%;left:0;top:0;border:none !important;\" data-html=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 onload=\"this.contentDocument.open();this.contentDocument.write(atob(this.getAttribute('data-html')));this.contentDocument.close();\" allowfullscreen webkitallowfullscreen mozallowfullscreen></iframe></div></div>"
      ],
      "text/plain": [
       "<folium.folium.Map at 0x7f58f8282190>"
      ]
     },
     "execution_count": 53,
     "metadata": {},
     "output_type": "execute_result"
    }
   ],
   "source": [
    "mymap_2= Map(location=[40.4167, -3.70325 ],zoom_start=10)\n",
    "latitudes=df['Latitud'].tolist()\n",
    "longuitudes=df['Longuitud'].tolist()\n",
    "popups=df['Depuradora'].tolist()\n",
    "\n",
    "feature_group=folium.FeatureGroup(name='puntos_depuradoras')\n",
    "for lat, lon, dep in zip(latitudes,longuitudes,popups):\n",
    "    if dep ==\"Viveros de la Villa\":\n",
    "        folium.Marker(location=[lat,lon],\n",
    "        popup=dep,\n",
    "        icon=folium.Icon(color='blue')).add_to(feature_group)\n",
    "    elif dep==\"La China\":\n",
    "        folium.Marker(location=[lat,lon],\n",
    "        popup=dep,\n",
    "        icon=folium.Icon(color='red')).add_to(feature_group)\n",
    "    elif dep==\"La gavia\":\n",
    "        folium.Marker(location=[lat,lon],\n",
    "        popup=dep,\n",
    "        icon=folium.Icon(color='green')).add_to(feature_group)\n",
    "    elif dep==\"Butarque\":\n",
    "        folium.Marker(location=[lat,lon],\n",
    "        popup=dep,\n",
    "        icon=folium.Icon(color='green')).add_to(feature_group)   \n",
    "    else:\n",
    "        folium.Marker(location=[lat,lon],\n",
    "        popup=dep,\n",
    "        icon=folium.Icon(color='black')).add_to(feature_group)\n",
    "        \n",
    "mymap_2.add_child(feature_group)"
   ]
  },
  {
   "cell_type": "code",
   "execution_count": 54,
   "metadata": {},
   "outputs": [],
   "source": [
    "mymap.save(\"mapa.html\")"
   ]
  },
  {
   "cell_type": "code",
   "execution_count": null,
   "metadata": {},
   "outputs": [],
   "source": []
  }
 ],
 "metadata": {
  "kernelspec": {
   "display_name": "Python 3",
   "language": "python",
   "name": "python3"
  },
  "language_info": {
   "codemirror_mode": {
    "name": "ipython",
    "version": 3
   },
   "file_extension": ".py",
   "mimetype": "text/x-python",
   "name": "python",
   "nbconvert_exporter": "python",
   "pygments_lexer": "ipython3",
   "version": "3.8.5"
  }
 },
 "nbformat": 4,
 "nbformat_minor": 4
}
