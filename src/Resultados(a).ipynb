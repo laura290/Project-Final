{
 "cells": [
  {
   "cell_type": "code",
   "execution_count": 72,
   "metadata": {},
   "outputs": [],
   "source": [
    "import pandas as pd\n",
    "import numpy as np\n",
    "import matplotlib.pyplot as plt\n",
    "import seaborn as sns\n",
    "import plotly\n",
    "import plotly.express as px\n",
    "import plotly.io as pio\n",
    "import plotly.graph_objects as go"
   ]
  },
  {
   "cell_type": "markdown",
   "metadata": {},
   "source": [
    "## Importación de datos"
   ]
  },
  {
   "cell_type": "code",
   "execution_count": 73,
   "metadata": {},
   "outputs": [],
   "source": [
    "df1 = pd.read_csv('jerarquico_cluster')\n",
    "df2= pd.read_csv('kmeans_cluster')"
   ]
  },
  {
   "cell_type": "markdown",
   "metadata": {},
   "source": [
    "Unificamos ambos dataset que contienen los valores iniciales propuestos como hipótesis ,y los clusters obtenidos por ambos métodos,se eliminan las columnas que se duplican como unión de estos."
   ]
  },
  {
   "cell_type": "markdown",
   "metadata": {},
   "source": [
    "## Evaluación de los resultados obtenidos"
   ]
  },
  {
   "cell_type": "code",
   "execution_count": 74,
   "metadata": {},
   "outputs": [
    {
     "data": {
      "text/html": [
       "<div>\n",
       "<style scoped>\n",
       "    .dataframe tbody tr th:only-of-type {\n",
       "        vertical-align: middle;\n",
       "    }\n",
       "\n",
       "    .dataframe tbody tr th {\n",
       "        vertical-align: top;\n",
       "    }\n",
       "\n",
       "    .dataframe thead th {\n",
       "        text-align: right;\n",
       "    }\n",
       "</style>\n",
       "<table border=\"1\" class=\"dataframe\">\n",
       "  <thead>\n",
       "    <tr style=\"text-align: right;\">\n",
       "      <th></th>\n",
       "      <th>DBO5_x</th>\n",
       "      <th>SS_x</th>\n",
       "      <th>Cluster_2</th>\n",
       "      <th>NT</th>\n",
       "      <th>PT</th>\n",
       "      <th>DEPURADORA_2</th>\n",
       "      <th>KMeans_Cluster_2</th>\n",
       "    </tr>\n",
       "  </thead>\n",
       "  <tbody>\n",
       "    <tr>\n",
       "      <th>0</th>\n",
       "      <td>5.0</td>\n",
       "      <td>5.0</td>\n",
       "      <td>0</td>\n",
       "      <td>15.8</td>\n",
       "      <td>0.91</td>\n",
       "      <td>0</td>\n",
       "      <td>0</td>\n",
       "    </tr>\n",
       "    <tr>\n",
       "      <th>1</th>\n",
       "      <td>5.0</td>\n",
       "      <td>4.0</td>\n",
       "      <td>0</td>\n",
       "      <td>14.9</td>\n",
       "      <td>0.84</td>\n",
       "      <td>0</td>\n",
       "      <td>0</td>\n",
       "    </tr>\n",
       "    <tr>\n",
       "      <th>2</th>\n",
       "      <td>5.0</td>\n",
       "      <td>3.0</td>\n",
       "      <td>0</td>\n",
       "      <td>9.8</td>\n",
       "      <td>0.63</td>\n",
       "      <td>0</td>\n",
       "      <td>0</td>\n",
       "    </tr>\n",
       "    <tr>\n",
       "      <th>3</th>\n",
       "      <td>5.0</td>\n",
       "      <td>3.0</td>\n",
       "      <td>0</td>\n",
       "      <td>7.0</td>\n",
       "      <td>0.67</td>\n",
       "      <td>0</td>\n",
       "      <td>0</td>\n",
       "    </tr>\n",
       "    <tr>\n",
       "      <th>4</th>\n",
       "      <td>5.0</td>\n",
       "      <td>4.0</td>\n",
       "      <td>0</td>\n",
       "      <td>9.7</td>\n",
       "      <td>0.85</td>\n",
       "      <td>0</td>\n",
       "      <td>0</td>\n",
       "    </tr>\n",
       "  </tbody>\n",
       "</table>\n",
       "</div>"
      ],
      "text/plain": [
       "   DBO5_x  SS_x  Cluster_2    NT    PT  DEPURADORA_2  KMeans_Cluster_2\n",
       "0     5.0   5.0          0  15.8  0.91             0                 0\n",
       "1     5.0   4.0          0  14.9  0.84             0                 0\n",
       "2     5.0   3.0          0   9.8  0.63             0                 0\n",
       "3     5.0   3.0          0   7.0  0.67             0                 0\n",
       "4     5.0   4.0          0   9.7  0.85             0                 0"
      ]
     },
     "execution_count": 74,
     "metadata": {},
     "output_type": "execute_result"
    }
   ],
   "source": [
    "data=pd.merge(df1, df2, on='Unnamed: 0')\n",
    "data_2=data.drop(columns=['DBO5_y','Unnamed: 0','SS_y','KMeans_Cluster'], axis=1)\n",
    "data_2.head()\n"
   ]
  },
  {
   "cell_type": "markdown",
   "metadata": {},
   "source": [
    "Se observa por lo datos obtenidos,que los clusters hechos a priori por ubicación,no tienene sentido en función de los datos,es decir,la ubicación,o al menos de la forma en la que esta estructurada,no es determinante y no genera unos buenos resultados.\n",
    "Esta conclusión se puede extraer tanto de los datos random (que si que tienen el mismo tipo de tendencia en el caso del Cluster/Kmeans) y de las gráficas ploteadas abajo,estan siguen un mismo \"patron\" en el caso de ambos cluster."
   ]
  },
  {
   "cell_type": "code",
   "execution_count": 75,
   "metadata": {},
   "outputs": [
    {
     "data": {
      "text/html": [
       "<div>\n",
       "<style scoped>\n",
       "    .dataframe tbody tr th:only-of-type {\n",
       "        vertical-align: middle;\n",
       "    }\n",
       "\n",
       "    .dataframe tbody tr th {\n",
       "        vertical-align: top;\n",
       "    }\n",
       "\n",
       "    .dataframe thead th {\n",
       "        text-align: right;\n",
       "    }\n",
       "</style>\n",
       "<table border=\"1\" class=\"dataframe\">\n",
       "  <thead>\n",
       "    <tr style=\"text-align: right;\">\n",
       "      <th></th>\n",
       "      <th>DBO5_x</th>\n",
       "      <th>SS_x</th>\n",
       "      <th>Cluster_2</th>\n",
       "      <th>NT</th>\n",
       "      <th>PT</th>\n",
       "      <th>DEPURADORA_2</th>\n",
       "      <th>KMeans_Cluster_2</th>\n",
       "    </tr>\n",
       "  </thead>\n",
       "  <tbody>\n",
       "    <tr>\n",
       "      <th>356</th>\n",
       "      <td>5.0</td>\n",
       "      <td>9.0</td>\n",
       "      <td>0</td>\n",
       "      <td>15.231902</td>\n",
       "      <td>0.23</td>\n",
       "      <td>1</td>\n",
       "      <td>4</td>\n",
       "    </tr>\n",
       "    <tr>\n",
       "      <th>299</th>\n",
       "      <td>6.0</td>\n",
       "      <td>9.0</td>\n",
       "      <td>0</td>\n",
       "      <td>12.661963</td>\n",
       "      <td>0.41</td>\n",
       "      <td>2</td>\n",
       "      <td>4</td>\n",
       "    </tr>\n",
       "    <tr>\n",
       "      <th>424</th>\n",
       "      <td>4.0</td>\n",
       "      <td>8.1</td>\n",
       "      <td>0</td>\n",
       "      <td>9.630000</td>\n",
       "      <td>0.41</td>\n",
       "      <td>1</td>\n",
       "      <td>4</td>\n",
       "    </tr>\n",
       "    <tr>\n",
       "      <th>313</th>\n",
       "      <td>10.0</td>\n",
       "      <td>9.0</td>\n",
       "      <td>1</td>\n",
       "      <td>13.358896</td>\n",
       "      <td>0.47</td>\n",
       "      <td>1</td>\n",
       "      <td>4</td>\n",
       "    </tr>\n",
       "    <tr>\n",
       "      <th>428</th>\n",
       "      <td>4.0</td>\n",
       "      <td>4.0</td>\n",
       "      <td>0</td>\n",
       "      <td>9.650000</td>\n",
       "      <td>0.42</td>\n",
       "      <td>1</td>\n",
       "      <td>0</td>\n",
       "    </tr>\n",
       "  </tbody>\n",
       "</table>\n",
       "</div>"
      ],
      "text/plain": [
       "     DBO5_x  SS_x  Cluster_2         NT    PT  DEPURADORA_2  KMeans_Cluster_2\n",
       "356     5.0   9.0          0  15.231902  0.23             1                 4\n",
       "299     6.0   9.0          0  12.661963  0.41             2                 4\n",
       "424     4.0   8.1          0   9.630000  0.41             1                 4\n",
       "313    10.0   9.0          1  13.358896  0.47             1                 4\n",
       "428     4.0   4.0          0   9.650000  0.42             1                 0"
      ]
     },
     "execution_count": 75,
     "metadata": {},
     "output_type": "execute_result"
    }
   ],
   "source": [
    "c=data_2.sample(5, random_state = 0)\n",
    "c"
   ]
  },
  {
   "cell_type": "code",
   "execution_count": 82,
   "metadata": {},
   "outputs": [
    {
     "data": {
      "application/vnd.plotly.v1+json": {
       "config": {
        "plotlyServerURL": "https://plot.ly"
       },
       "data": [
        {
         "hovertemplate": "DEPURADORA_2=0<br>DBO5_x=%{x}<br>SS_x=%{y}<extra></extra>",
         "legendgroup": "",
         "marker": {
          "color": "#F8766D",
          "symbol": "circle"
         },
         "mode": "markers",
         "name": "",
         "orientation": "v",
         "showlegend": false,
         "type": "scatter",
         "x": [
          5,
          5,
          5,
          5,
          5,
          5,
          6,
          5,
          5,
          5,
          5,
          3.5,
          5,
          5,
          5,
          5,
          5,
          6,
          5,
          5,
          5,
          5,
          5,
          5,
          5,
          5,
          5,
          5,
          5,
          6,
          5,
          11,
          12,
          5,
          5,
          5,
          6,
          5,
          5,
          5,
          6,
          5,
          5,
          5,
          5,
          6,
          5,
          5,
          5,
          5,
          5,
          5,
          5,
          5,
          5,
          8,
          5,
          5,
          5,
          6,
          5,
          5,
          5,
          5,
          5,
          5,
          5,
          5,
          5,
          8,
          4.5,
          4.3,
          5,
          6,
          5,
          5,
          5,
          5
         ],
         "xaxis": "x",
         "y": [
          5,
          4,
          3,
          3,
          4,
          5,
          4,
          13,
          3,
          3,
          2,
          7,
          4,
          2,
          2,
          2,
          2,
          2,
          2,
          2,
          2,
          2,
          3,
          2,
          3,
          5,
          3,
          3,
          1,
          3,
          4,
          2,
          3,
          3,
          3,
          3,
          4,
          1,
          2,
          1,
          1,
          2,
          2,
          2,
          2,
          4,
          4,
          4,
          6,
          6,
          3,
          2,
          3,
          1,
          3,
          3,
          1,
          3,
          3,
          2,
          1,
          3,
          2,
          3,
          3,
          3,
          3,
          2,
          7,
          4,
          2,
          3,
          3,
          4,
          3,
          7,
          4,
          3
         ],
         "yaxis": "y"
        },
        {
         "hovertemplate": "DEPURADORA_2=3<br>DBO5_x=%{x}<br>SS_x=%{y}<extra></extra>",
         "legendgroup": "",
         "marker": {
          "color": "#F8766D",
          "symbol": "circle"
         },
         "mode": "markers",
         "name": "",
         "orientation": "v",
         "showlegend": false,
         "type": "scatter",
         "x": [
          5,
          5,
          5,
          5,
          5,
          8,
          6,
          6,
          5,
          5,
          5,
          5,
          5,
          5,
          5,
          5,
          5,
          5,
          5,
          5,
          5,
          5,
          5,
          5,
          5,
          5,
          5,
          5,
          5,
          5,
          5,
          5,
          5,
          5,
          5,
          5,
          5,
          5,
          5,
          6,
          12,
          5,
          5,
          5,
          9.5,
          4.1,
          8.3,
          8,
          2,
          2,
          2,
          3,
          2,
          2,
          3,
          2,
          2,
          4,
          3,
          10,
          6,
          7,
          5,
          2,
          6,
          7,
          3,
          2,
          2,
          2,
          3,
          2,
          2,
          2,
          3,
          2,
          2,
          2
         ],
         "xaxis": "x2",
         "y": [
          3,
          2,
          5,
          5,
          3,
          3,
          3,
          4,
          5,
          4,
          7,
          2,
          3,
          3,
          2,
          2,
          2,
          2,
          4,
          5,
          4,
          2,
          1,
          2,
          1,
          2,
          1,
          1,
          2,
          4,
          1,
          1,
          1,
          2,
          2,
          2,
          2,
          2,
          1,
          1,
          2,
          2,
          1,
          7,
          2,
          3,
          2,
          5.4,
          12,
          3,
          2,
          4.4,
          2,
          2,
          2,
          2,
          2,
          2,
          2,
          2,
          2,
          2,
          5.7,
          2.8,
          4.4,
          2,
          2.2,
          2,
          2,
          22,
          4.6,
          2.4,
          2,
          2.4,
          2,
          2.4,
          2,
          2
         ],
         "yaxis": "y2"
        },
        {
         "hovertemplate": "DEPURADORA_2=2<br>DBO5_x=%{x}<br>SS_x=%{y}<extra></extra>",
         "legendgroup": "",
         "marker": {
          "color": "#F8766D",
          "symbol": "circle"
         },
         "mode": "markers",
         "name": "",
         "orientation": "v",
         "showlegend": false,
         "type": "scatter",
         "x": [
          5,
          2,
          3,
          2,
          3,
          4,
          7,
          3,
          3,
          2,
          5,
          9,
          8,
          6,
          6,
          4,
          8,
          2,
          6,
          3,
          2,
          2,
          3,
          2,
          2,
          3,
          8,
          3,
          3,
          2,
          3,
          3,
          5,
          3,
          11,
          3,
          2,
          6,
          7,
          6,
          3,
          6,
          7,
          3,
          10.2,
          3.8,
          8.7,
          5,
          2,
          5,
          2,
          4,
          2,
          2,
          3,
          3,
          3,
          7,
          4,
          5,
          8,
          7,
          9,
          2,
          11,
          5,
          4,
          2,
          3,
          2,
          10,
          1.8,
          5,
          5,
          4,
          4,
          4,
          2,
          18,
          5,
          8,
          8,
          18,
          10,
          11,
          5,
          8,
          8,
          9,
          6,
          7,
          10,
          7,
          5,
          7,
          6,
          11,
          7,
          7,
          8,
          5,
          10,
          14,
          14,
          9,
          12,
          5,
          8,
          9,
          5,
          8,
          8,
          10,
          8,
          8,
          7,
          12,
          11,
          5,
          9,
          5,
          20,
          17,
          5,
          7,
          11,
          6,
          11,
          7,
          5,
          8,
          12,
          10,
          7,
          6,
          7,
          11,
          5,
          12,
          9,
          9,
          30,
          15,
          6,
          5,
          8,
          21,
          13,
          4.8,
          10,
          12,
          9,
          5,
          8,
          5,
          7
         ],
         "xaxis": "x3",
         "y": [
          7,
          6,
          8,
          4,
          10,
          8,
          15,
          5,
          3,
          6,
          7,
          5,
          2,
          4,
          2,
          2,
          5,
          3,
          4,
          4,
          7,
          6,
          3,
          10,
          12,
          13,
          9,
          7.2,
          5.2,
          5.2,
          3.2,
          2.8,
          6.4,
          5.6,
          6.4,
          5.6,
          3.6,
          3.2,
          3,
          2,
          2,
          3.4,
          2.9,
          3.2,
          2.6,
          3.4,
          3.2,
          5.2,
          12,
          5,
          2.6,
          4,
          2,
          7.8,
          2,
          2,
          4,
          2.4,
          2.8,
          2,
          2.4,
          2,
          5.3,
          2.2,
          2.8,
          3,
          4,
          2.4,
          7.7,
          2,
          3.4,
          1.7,
          10,
          11,
          6.4,
          5,
          9.2,
          5.8,
          9,
          12,
          12,
          13,
          14,
          9,
          14,
          5,
          9,
          8,
          10,
          7,
          9,
          3,
          9,
          7,
          8,
          12,
          5,
          6,
          8,
          12,
          8,
          8,
          12,
          14,
          11,
          11,
          4,
          11,
          5,
          5,
          9,
          7,
          12,
          7,
          9,
          9,
          9,
          9,
          8,
          14,
          16,
          11,
          15,
          35,
          14,
          24,
          12,
          13,
          18,
          15,
          17,
          17,
          17,
          11,
          13,
          15,
          18,
          14,
          9,
          11,
          11,
          14,
          10,
          9,
          9,
          12,
          13,
          15,
          10,
          14,
          15,
          13,
          17,
          14,
          5,
          15
         ],
         "yaxis": "y3"
        },
        {
         "hovertemplate": "DEPURADORA_2=1<br>DBO5_x=%{x}<br>SS_x=%{y}<extra></extra>",
         "legendgroup": "",
         "marker": {
          "color": "#F8766D",
          "symbol": "circle"
         },
         "mode": "markers",
         "name": "",
         "orientation": "v",
         "showlegend": false,
         "type": "scatter",
         "x": [
          5,
          10,
          8,
          5,
          10,
          8,
          8.5,
          10,
          20,
          8,
          9,
          4.5,
          8,
          5,
          11,
          5,
          6,
          5,
          12,
          5,
          16,
          5,
          12,
          6,
          6,
          5,
          8,
          17,
          5,
          5,
          12,
          5,
          5,
          7,
          7,
          7,
          7,
          5,
          15,
          8,
          5,
          11,
          30,
          11,
          5,
          5,
          8,
          7,
          6,
          5,
          5,
          5,
          9,
          8,
          10,
          6,
          6,
          7,
          5,
          9,
          7,
          7,
          5,
          5,
          14,
          12,
          5,
          11,
          7,
          11,
          4.7,
          11,
          12,
          5,
          8,
          5,
          5,
          11,
          6,
          2,
          3,
          3,
          7,
          6,
          6,
          5,
          5,
          6,
          6,
          3,
          7,
          3,
          4,
          4,
          5,
          3,
          3,
          2,
          5,
          4,
          3,
          7,
          9,
          6,
          3,
          6,
          2,
          5,
          3,
          9,
          8,
          3,
          4,
          3,
          6,
          8,
          4,
          5,
          4,
          6,
          2,
          3,
          11,
          8.9,
          9.8,
          4,
          3,
          2,
          2,
          5,
          2,
          2,
          2,
          2,
          4,
          5,
          5,
          6,
          7,
          5,
          8,
          6,
          10,
          5,
          5,
          3,
          3,
          2,
          8,
          2,
          5,
          3,
          5,
          2,
          3,
          2,
          13,
          15,
          13,
          17,
          20,
          13,
          12,
          10,
          14,
          13,
          12,
          11,
          19,
          7,
          8,
          10,
          15,
          18,
          13,
          7,
          16,
          16,
          12,
          10,
          11,
          8,
          10,
          15,
          29,
          35,
          12,
          5,
          10,
          8,
          6,
          8,
          11,
          10,
          10,
          12,
          9,
          13,
          6,
          5,
          16.3,
          13.2,
          10.1,
          10,
          15,
          12,
          9,
          16,
          13,
          9,
          11,
          9,
          13,
          9,
          12,
          12,
          15,
          7,
          9,
          9,
          13,
          9,
          12,
          11,
          16,
          15,
          11,
          14,
          14,
          18,
          15,
          15,
          23,
          14,
          17,
          16,
          10,
          13,
          8,
          4,
          11,
          13,
          9,
          7,
          18,
          12,
          9,
          7,
          6,
          10,
          14,
          11,
          10,
          8,
          9,
          17,
          9,
          11,
          13,
          9,
          21,
          38,
          10,
          7,
          9,
          7,
          7,
          9,
          16,
          9,
          7,
          2,
          14,
          11,
          8,
          13,
          12,
          9,
          15.4,
          11.9,
          14,
          9,
          15,
          15,
          13,
          18,
          7,
          8,
          6,
          7,
          10,
          16,
          6,
          12,
          14,
          5,
          10,
          17,
          12,
          11,
          13,
          9,
          9,
          14,
          2,
          13,
          12,
          6,
          15,
          15,
          14,
          12
         ],
         "xaxis": "x4",
         "y": [
          7,
          9,
          11,
          15,
          14,
          13,
          13,
          22,
          14,
          10,
          12,
          5.5,
          10,
          9,
          14,
          14,
          16,
          15,
          19,
          9,
          12,
          12,
          13,
          15,
          11,
          8,
          14,
          10,
          9,
          11,
          12,
          15,
          9,
          11,
          11,
          11,
          10,
          8,
          13,
          12,
          15,
          11,
          11,
          9,
          9,
          18,
          14,
          11,
          12,
          9,
          12,
          10,
          12,
          8,
          17,
          9,
          10,
          22,
          13,
          11,
          6,
          8,
          11,
          10,
          13,
          15,
          11,
          16,
          19,
          13,
          17,
          16,
          12,
          18,
          11,
          11,
          21,
          12,
          13,
          16,
          12,
          7,
          10,
          10,
          11,
          8,
          8,
          9,
          9,
          6,
          12,
          7,
          7,
          4,
          6,
          5,
          5,
          5,
          5,
          6,
          10,
          16,
          32,
          7,
          8,
          29,
          16,
          10,
          8.4,
          18,
          9.2,
          8,
          8.1,
          8,
          15,
          4.8,
          4,
          4.8,
          2.8,
          8,
          4,
          6.4,
          7.5,
          10.2,
          5,
          6.6,
          7.6,
          11,
          4.8,
          14,
          8.4,
          7.4,
          4.4,
          5.8,
          3.6,
          2.2,
          2,
          4.5,
          5,
          5.6,
          7.2,
          2.2,
          5.6,
          4.2,
          23,
          7.2,
          3.4,
          2.4,
          15,
          3.2,
          12,
          16,
          4.6,
          4.6,
          9.5,
          10,
          16,
          17,
          20,
          16,
          21,
          11,
          18,
          13,
          19,
          14,
          13,
          13,
          39,
          8,
          6,
          8,
          13,
          9,
          16,
          6,
          15,
          12,
          10,
          9,
          12,
          14,
          9,
          27,
          26,
          31,
          13,
          11,
          9.5,
          8.4,
          7,
          8.4,
          8.4,
          6,
          11,
          8,
          14,
          16,
          8.4,
          6.5,
          22,
          11.2,
          11.6,
          9.2,
          15,
          16,
          14,
          7.6,
          11,
          7,
          8.5,
          7.6,
          9.1,
          9.6,
          12,
          7,
          5,
          10,
          18,
          4,
          5.1,
          5,
          46,
          9.3,
          14,
          14,
          8.6,
          10,
          14,
          18,
          13,
          15,
          24,
          12,
          20,
          18,
          14,
          17,
          14,
          8,
          17,
          15,
          16,
          11,
          17,
          14,
          6,
          5,
          8,
          6,
          13,
          13,
          14,
          10,
          14,
          55,
          9,
          14,
          6,
          14,
          19,
          15,
          11,
          9.2,
          11,
          11,
          10,
          8,
          15,
          8,
          14,
          12,
          12,
          6.4,
          7.2,
          10,
          16,
          11,
          13,
          13.6,
          17.5,
          18,
          30,
          17,
          15,
          23,
          9.2,
          8,
          10,
          6.8,
          8,
          16,
          21,
          8,
          14,
          10,
          11,
          11,
          10,
          6.9,
          52,
          12,
          15,
          15,
          9.1,
          13,
          16,
          10,
          11,
          17,
          10,
          16
         ],
         "yaxis": "y4"
        }
       ],
       "layout": {
        "annotations": [
         {
          "font": {},
          "showarrow": false,
          "text": "DEPURADORA_2=0",
          "x": 0.1175,
          "xanchor": "center",
          "xref": "paper",
          "y": 1,
          "yanchor": "bottom",
          "yref": "paper"
         },
         {
          "font": {},
          "showarrow": false,
          "text": "DEPURADORA_2=3",
          "x": 0.3725,
          "xanchor": "center",
          "xref": "paper",
          "y": 1,
          "yanchor": "bottom",
          "yref": "paper"
         },
         {
          "font": {},
          "showarrow": false,
          "text": "DEPURADORA_2=2",
          "x": 0.6275,
          "xanchor": "center",
          "xref": "paper",
          "y": 1,
          "yanchor": "bottom",
          "yref": "paper"
         },
         {
          "font": {},
          "showarrow": false,
          "text": "DEPURADORA_2=1",
          "x": 0.8824999999999998,
          "xanchor": "center",
          "xref": "paper",
          "y": 1,
          "yanchor": "bottom",
          "yref": "paper"
         }
        ],
        "legend": {
         "tracegroupgap": 0
        },
        "template": {
         "data": {
          "bar": [
           {
            "error_x": {
             "color": "rgb(51,51,51)"
            },
            "error_y": {
             "color": "rgb(51,51,51)"
            },
            "marker": {
             "line": {
              "color": "rgb(237,237,237)",
              "width": 0.5
             }
            },
            "type": "bar"
           }
          ],
          "barpolar": [
           {
            "marker": {
             "line": {
              "color": "rgb(237,237,237)",
              "width": 0.5
             }
            },
            "type": "barpolar"
           }
          ],
          "carpet": [
           {
            "aaxis": {
             "endlinecolor": "rgb(51,51,51)",
             "gridcolor": "white",
             "linecolor": "white",
             "minorgridcolor": "white",
             "startlinecolor": "rgb(51,51,51)"
            },
            "baxis": {
             "endlinecolor": "rgb(51,51,51)",
             "gridcolor": "white",
             "linecolor": "white",
             "minorgridcolor": "white",
             "startlinecolor": "rgb(51,51,51)"
            },
            "type": "carpet"
           }
          ],
          "choropleth": [
           {
            "colorbar": {
             "outlinewidth": 0,
             "tickcolor": "rgb(237,237,237)",
             "ticklen": 6,
             "ticks": "inside"
            },
            "type": "choropleth"
           }
          ],
          "contour": [
           {
            "colorbar": {
             "outlinewidth": 0,
             "tickcolor": "rgb(237,237,237)",
             "ticklen": 6,
             "ticks": "inside"
            },
            "colorscale": [
             [
              0,
              "rgb(20,44,66)"
             ],
             [
              1,
              "rgb(90,179,244)"
             ]
            ],
            "type": "contour"
           }
          ],
          "contourcarpet": [
           {
            "colorbar": {
             "outlinewidth": 0,
             "tickcolor": "rgb(237,237,237)",
             "ticklen": 6,
             "ticks": "inside"
            },
            "type": "contourcarpet"
           }
          ],
          "heatmap": [
           {
            "colorbar": {
             "outlinewidth": 0,
             "tickcolor": "rgb(237,237,237)",
             "ticklen": 6,
             "ticks": "inside"
            },
            "colorscale": [
             [
              0,
              "rgb(20,44,66)"
             ],
             [
              1,
              "rgb(90,179,244)"
             ]
            ],
            "type": "heatmap"
           }
          ],
          "heatmapgl": [
           {
            "colorbar": {
             "outlinewidth": 0,
             "tickcolor": "rgb(237,237,237)",
             "ticklen": 6,
             "ticks": "inside"
            },
            "colorscale": [
             [
              0,
              "rgb(20,44,66)"
             ],
             [
              1,
              "rgb(90,179,244)"
             ]
            ],
            "type": "heatmapgl"
           }
          ],
          "histogram": [
           {
            "marker": {
             "colorbar": {
              "outlinewidth": 0,
              "tickcolor": "rgb(237,237,237)",
              "ticklen": 6,
              "ticks": "inside"
             }
            },
            "type": "histogram"
           }
          ],
          "histogram2d": [
           {
            "colorbar": {
             "outlinewidth": 0,
             "tickcolor": "rgb(237,237,237)",
             "ticklen": 6,
             "ticks": "inside"
            },
            "colorscale": [
             [
              0,
              "rgb(20,44,66)"
             ],
             [
              1,
              "rgb(90,179,244)"
             ]
            ],
            "type": "histogram2d"
           }
          ],
          "histogram2dcontour": [
           {
            "colorbar": {
             "outlinewidth": 0,
             "tickcolor": "rgb(237,237,237)",
             "ticklen": 6,
             "ticks": "inside"
            },
            "colorscale": [
             [
              0,
              "rgb(20,44,66)"
             ],
             [
              1,
              "rgb(90,179,244)"
             ]
            ],
            "type": "histogram2dcontour"
           }
          ],
          "mesh3d": [
           {
            "colorbar": {
             "outlinewidth": 0,
             "tickcolor": "rgb(237,237,237)",
             "ticklen": 6,
             "ticks": "inside"
            },
            "type": "mesh3d"
           }
          ],
          "parcoords": [
           {
            "line": {
             "colorbar": {
              "outlinewidth": 0,
              "tickcolor": "rgb(237,237,237)",
              "ticklen": 6,
              "ticks": "inside"
             }
            },
            "type": "parcoords"
           }
          ],
          "pie": [
           {
            "automargin": true,
            "type": "pie"
           }
          ],
          "scatter": [
           {
            "marker": {
             "colorbar": {
              "outlinewidth": 0,
              "tickcolor": "rgb(237,237,237)",
              "ticklen": 6,
              "ticks": "inside"
             }
            },
            "type": "scatter"
           }
          ],
          "scatter3d": [
           {
            "line": {
             "colorbar": {
              "outlinewidth": 0,
              "tickcolor": "rgb(237,237,237)",
              "ticklen": 6,
              "ticks": "inside"
             }
            },
            "marker": {
             "colorbar": {
              "outlinewidth": 0,
              "tickcolor": "rgb(237,237,237)",
              "ticklen": 6,
              "ticks": "inside"
             }
            },
            "type": "scatter3d"
           }
          ],
          "scattercarpet": [
           {
            "marker": {
             "colorbar": {
              "outlinewidth": 0,
              "tickcolor": "rgb(237,237,237)",
              "ticklen": 6,
              "ticks": "inside"
             }
            },
            "type": "scattercarpet"
           }
          ],
          "scattergeo": [
           {
            "marker": {
             "colorbar": {
              "outlinewidth": 0,
              "tickcolor": "rgb(237,237,237)",
              "ticklen": 6,
              "ticks": "inside"
             }
            },
            "type": "scattergeo"
           }
          ],
          "scattergl": [
           {
            "marker": {
             "colorbar": {
              "outlinewidth": 0,
              "tickcolor": "rgb(237,237,237)",
              "ticklen": 6,
              "ticks": "inside"
             }
            },
            "type": "scattergl"
           }
          ],
          "scattermapbox": [
           {
            "marker": {
             "colorbar": {
              "outlinewidth": 0,
              "tickcolor": "rgb(237,237,237)",
              "ticklen": 6,
              "ticks": "inside"
             }
            },
            "type": "scattermapbox"
           }
          ],
          "scatterpolar": [
           {
            "marker": {
             "colorbar": {
              "outlinewidth": 0,
              "tickcolor": "rgb(237,237,237)",
              "ticklen": 6,
              "ticks": "inside"
             }
            },
            "type": "scatterpolar"
           }
          ],
          "scatterpolargl": [
           {
            "marker": {
             "colorbar": {
              "outlinewidth": 0,
              "tickcolor": "rgb(237,237,237)",
              "ticklen": 6,
              "ticks": "inside"
             }
            },
            "type": "scatterpolargl"
           }
          ],
          "scatterternary": [
           {
            "marker": {
             "colorbar": {
              "outlinewidth": 0,
              "tickcolor": "rgb(237,237,237)",
              "ticklen": 6,
              "ticks": "inside"
             }
            },
            "type": "scatterternary"
           }
          ],
          "surface": [
           {
            "colorbar": {
             "outlinewidth": 0,
             "tickcolor": "rgb(237,237,237)",
             "ticklen": 6,
             "ticks": "inside"
            },
            "colorscale": [
             [
              0,
              "rgb(20,44,66)"
             ],
             [
              1,
              "rgb(90,179,244)"
             ]
            ],
            "type": "surface"
           }
          ],
          "table": [
           {
            "cells": {
             "fill": {
              "color": "rgb(237,237,237)"
             },
             "line": {
              "color": "white"
             }
            },
            "header": {
             "fill": {
              "color": "rgb(217,217,217)"
             },
             "line": {
              "color": "white"
             }
            },
            "type": "table"
           }
          ]
         },
         "layout": {
          "annotationdefaults": {
           "arrowhead": 0,
           "arrowwidth": 1
          },
          "coloraxis": {
           "colorbar": {
            "outlinewidth": 0,
            "tickcolor": "rgb(237,237,237)",
            "ticklen": 6,
            "ticks": "inside"
           }
          },
          "colorscale": {
           "sequential": [
            [
             0,
             "rgb(20,44,66)"
            ],
            [
             1,
             "rgb(90,179,244)"
            ]
           ],
           "sequentialminus": [
            [
             0,
             "rgb(20,44,66)"
            ],
            [
             1,
             "rgb(90,179,244)"
            ]
           ]
          },
          "colorway": [
           "#F8766D",
           "#A3A500",
           "#00BF7D",
           "#00B0F6",
           "#E76BF3"
          ],
          "font": {
           "color": "rgb(51,51,51)"
          },
          "geo": {
           "bgcolor": "white",
           "lakecolor": "white",
           "landcolor": "rgb(237,237,237)",
           "showlakes": true,
           "showland": true,
           "subunitcolor": "white"
          },
          "hoverlabel": {
           "align": "left"
          },
          "hovermode": "closest",
          "paper_bgcolor": "white",
          "plot_bgcolor": "rgb(237,237,237)",
          "polar": {
           "angularaxis": {
            "gridcolor": "white",
            "linecolor": "white",
            "showgrid": true,
            "tickcolor": "rgb(51,51,51)",
            "ticks": "outside"
           },
           "bgcolor": "rgb(237,237,237)",
           "radialaxis": {
            "gridcolor": "white",
            "linecolor": "white",
            "showgrid": true,
            "tickcolor": "rgb(51,51,51)",
            "ticks": "outside"
           }
          },
          "scene": {
           "xaxis": {
            "backgroundcolor": "rgb(237,237,237)",
            "gridcolor": "white",
            "gridwidth": 2,
            "linecolor": "white",
            "showbackground": true,
            "showgrid": true,
            "tickcolor": "rgb(51,51,51)",
            "ticks": "outside",
            "zerolinecolor": "white"
           },
           "yaxis": {
            "backgroundcolor": "rgb(237,237,237)",
            "gridcolor": "white",
            "gridwidth": 2,
            "linecolor": "white",
            "showbackground": true,
            "showgrid": true,
            "tickcolor": "rgb(51,51,51)",
            "ticks": "outside",
            "zerolinecolor": "white"
           },
           "zaxis": {
            "backgroundcolor": "rgb(237,237,237)",
            "gridcolor": "white",
            "gridwidth": 2,
            "linecolor": "white",
            "showbackground": true,
            "showgrid": true,
            "tickcolor": "rgb(51,51,51)",
            "ticks": "outside",
            "zerolinecolor": "white"
           }
          },
          "shapedefaults": {
           "fillcolor": "black",
           "line": {
            "width": 0
           },
           "opacity": 0.3
          },
          "ternary": {
           "aaxis": {
            "gridcolor": "white",
            "linecolor": "white",
            "showgrid": true,
            "tickcolor": "rgb(51,51,51)",
            "ticks": "outside"
           },
           "baxis": {
            "gridcolor": "white",
            "linecolor": "white",
            "showgrid": true,
            "tickcolor": "rgb(51,51,51)",
            "ticks": "outside"
           },
           "bgcolor": "rgb(237,237,237)",
           "caxis": {
            "gridcolor": "white",
            "linecolor": "white",
            "showgrid": true,
            "tickcolor": "rgb(51,51,51)",
            "ticks": "outside"
           }
          },
          "xaxis": {
           "automargin": true,
           "gridcolor": "white",
           "linecolor": "white",
           "showgrid": true,
           "tickcolor": "rgb(51,51,51)",
           "ticks": "outside",
           "title": {
            "standoff": 15
           },
           "zerolinecolor": "white"
          },
          "yaxis": {
           "automargin": true,
           "gridcolor": "white",
           "linecolor": "white",
           "showgrid": true,
           "tickcolor": "rgb(51,51,51)",
           "ticks": "outside",
           "title": {
            "standoff": 15
           },
           "zerolinecolor": "white"
          }
         }
        },
        "title": {
         "text": "Datos de SS y DBO5 en función Depuradora(ubicación)"
        },
        "xaxis": {
         "anchor": "y",
         "domain": [
          0,
          0.235
         ],
         "title": {
          "text": "DBO5_x"
         }
        },
        "xaxis2": {
         "anchor": "y2",
         "domain": [
          0.255,
          0.49
         ],
         "matches": "x",
         "title": {
          "text": "DBO5_x"
         }
        },
        "xaxis3": {
         "anchor": "y3",
         "domain": [
          0.51,
          0.745
         ],
         "matches": "x",
         "title": {
          "text": "DBO5_x"
         }
        },
        "xaxis4": {
         "anchor": "y4",
         "domain": [
          0.7649999999999999,
          0.9999999999999999
         ],
         "matches": "x",
         "title": {
          "text": "DBO5_x"
         }
        },
        "yaxis": {
         "anchor": "x",
         "domain": [
          0,
          1
         ],
         "title": {
          "text": "SS_x"
         }
        },
        "yaxis2": {
         "anchor": "x2",
         "domain": [
          0,
          1
         ],
         "matches": "y",
         "showticklabels": false
        },
        "yaxis3": {
         "anchor": "x3",
         "domain": [
          0,
          1
         ],
         "matches": "y",
         "showticklabels": false
        },
        "yaxis4": {
         "anchor": "x4",
         "domain": [
          0,
          1
         ],
         "matches": "y",
         "showticklabels": false
        }
       }
      },
      "text/html": [
       "<div>                            <div id=\"74cb1867-abcc-4baa-b0b5-65e1b727dd2e\" class=\"plotly-graph-div\" style=\"height:525px; width:100%;\"></div>            <script type=\"text/javascript\">                require([\"plotly\"], function(Plotly) {                    window.PLOTLYENV=window.PLOTLYENV || {};                                    if (document.getElementById(\"74cb1867-abcc-4baa-b0b5-65e1b727dd2e\")) {                    Plotly.newPlot(                        \"74cb1867-abcc-4baa-b0b5-65e1b727dd2e\",                        [{\"hovertemplate\": \"DEPURADORA_2=0<br>DBO5_x=%{x}<br>SS_x=%{y}<extra></extra>\", \"legendgroup\": \"\", \"marker\": {\"color\": \"#F8766D\", \"symbol\": \"circle\"}, \"mode\": \"markers\", \"name\": \"\", \"orientation\": \"v\", \"showlegend\": false, \"type\": \"scatter\", \"x\": [5.0, 5.0, 5.0, 5.0, 5.0, 5.0, 6.0, 5.0, 5.0, 5.0, 5.0, 3.5, 5.0, 5.0, 5.0, 5.0, 5.0, 6.0, 5.0, 5.0, 5.0, 5.0, 5.0, 5.0, 5.0, 5.0, 5.0, 5.0, 5.0, 6.0, 5.0, 11.0, 12.0, 5.0, 5.0, 5.0, 6.0, 5.0, 5.0, 5.0, 6.0, 5.0, 5.0, 5.0, 5.0, 6.0, 5.0, 5.0, 5.0, 5.0, 5.0, 5.0, 5.0, 5.0, 5.0, 8.0, 5.0, 5.0, 5.0, 6.0, 5.0, 5.0, 5.0, 5.0, 5.0, 5.0, 5.0, 5.0, 5.0, 8.0, 4.5, 4.3, 5.0, 6.0, 5.0, 5.0, 5.0, 5.0], \"xaxis\": \"x\", \"y\": [5.0, 4.0, 3.0, 3.0, 4.0, 5.0, 4.0, 13.0, 3.0, 3.0, 2.0, 7.0, 4.0, 2.0, 2.0, 2.0, 2.0, 2.0, 2.0, 2.0, 2.0, 2.0, 3.0, 2.0, 3.0, 5.0, 3.0, 3.0, 1.0, 3.0, 4.0, 2.0, 3.0, 3.0, 3.0, 3.0, 4.0, 1.0, 2.0, 1.0, 1.0, 2.0, 2.0, 2.0, 2.0, 4.0, 4.0, 4.0, 6.0, 6.0, 3.0, 2.0, 3.0, 1.0, 3.0, 3.0, 1.0, 3.0, 3.0, 2.0, 1.0, 3.0, 2.0, 3.0, 3.0, 3.0, 3.0, 2.0, 7.0, 4.0, 2.0, 3.0, 3.0, 4.0, 3.0, 7.0, 4.0, 3.0], \"yaxis\": \"y\"}, {\"hovertemplate\": \"DEPURADORA_2=3<br>DBO5_x=%{x}<br>SS_x=%{y}<extra></extra>\", \"legendgroup\": \"\", \"marker\": {\"color\": \"#F8766D\", \"symbol\": \"circle\"}, \"mode\": \"markers\", \"name\": \"\", \"orientation\": \"v\", \"showlegend\": false, \"type\": \"scatter\", \"x\": [5.0, 5.0, 5.0, 5.0, 5.0, 8.0, 6.0, 6.0, 5.0, 5.0, 5.0, 5.0, 5.0, 5.0, 5.0, 5.0, 5.0, 5.0, 5.0, 5.0, 5.0, 5.0, 5.0, 5.0, 5.0, 5.0, 5.0, 5.0, 5.0, 5.0, 5.0, 5.0, 5.0, 5.0, 5.0, 5.0, 5.0, 5.0, 5.0, 6.0, 12.0, 5.0, 5.0, 5.0, 9.5, 4.1, 8.3, 8.0, 2.0, 2.0, 2.0, 3.0, 2.0, 2.0, 3.0, 2.0, 2.0, 4.0, 3.0, 10.0, 6.0, 7.0, 5.0, 2.0, 6.0, 7.0, 3.0, 2.0, 2.0, 2.0, 3.0, 2.0, 2.0, 2.0, 3.0, 2.0, 2.0, 2.0], \"xaxis\": \"x2\", \"y\": [3.0, 2.0, 5.0, 5.0, 3.0, 3.0, 3.0, 4.0, 5.0, 4.0, 7.0, 2.0, 3.0, 3.0, 2.0, 2.0, 2.0, 2.0, 4.0, 5.0, 4.0, 2.0, 1.0, 2.0, 1.0, 2.0, 1.0, 1.0, 2.0, 4.0, 1.0, 1.0, 1.0, 2.0, 2.0, 2.0, 2.0, 2.0, 1.0, 1.0, 2.0, 2.0, 1.0, 7.0, 2.0, 3.0, 2.0, 5.4, 12.0, 3.0, 2.0, 4.4, 2.0, 2.0, 2.0, 2.0, 2.0, 2.0, 2.0, 2.0, 2.0, 2.0, 5.7, 2.8, 4.4, 2.0, 2.2, 2.0, 2.0, 22.0, 4.6, 2.4, 2.0, 2.4, 2.0, 2.4, 2.0, 2.0], \"yaxis\": \"y2\"}, {\"hovertemplate\": \"DEPURADORA_2=2<br>DBO5_x=%{x}<br>SS_x=%{y}<extra></extra>\", \"legendgroup\": \"\", \"marker\": {\"color\": \"#F8766D\", \"symbol\": \"circle\"}, \"mode\": \"markers\", \"name\": \"\", \"orientation\": \"v\", \"showlegend\": false, \"type\": \"scatter\", \"x\": [5.0, 2.0, 3.0, 2.0, 3.0, 4.0, 7.0, 3.0, 3.0, 2.0, 5.0, 9.0, 8.0, 6.0, 6.0, 4.0, 8.0, 2.0, 6.0, 3.0, 2.0, 2.0, 3.0, 2.0, 2.0, 3.0, 8.0, 3.0, 3.0, 2.0, 3.0, 3.0, 5.0, 3.0, 11.0, 3.0, 2.0, 6.0, 7.0, 6.0, 3.0, 6.0, 7.0, 3.0, 10.2, 3.8, 8.7, 5.0, 2.0, 5.0, 2.0, 4.0, 2.0, 2.0, 3.0, 3.0, 3.0, 7.0, 4.0, 5.0, 8.0, 7.0, 9.0, 2.0, 11.0, 5.0, 4.0, 2.0, 3.0, 2.0, 10.0, 1.8, 5.0, 5.0, 4.0, 4.0, 4.0, 2.0, 18.0, 5.0, 8.0, 8.0, 18.0, 10.0, 11.0, 5.0, 8.0, 8.0, 9.0, 6.0, 7.0, 10.0, 7.0, 5.0, 7.0, 6.0, 11.0, 7.0, 7.0, 8.0, 5.0, 10.0, 14.0, 14.0, 9.0, 12.0, 5.0, 8.0, 9.0, 5.0, 8.0, 8.0, 10.0, 8.0, 8.0, 7.0, 12.0, 11.0, 5.0, 9.0, 5.0, 20.0, 17.0, 5.0, 7.0, 11.0, 6.0, 11.0, 7.0, 5.0, 8.0, 12.0, 10.0, 7.0, 6.0, 7.0, 11.0, 5.0, 12.0, 9.0, 9.0, 30.0, 15.0, 6.0, 5.0, 8.0, 21.0, 13.0, 4.8, 10.0, 12.0, 9.0, 5.0, 8.0, 5.0, 7.0], \"xaxis\": \"x3\", \"y\": [7.0, 6.0, 8.0, 4.0, 10.0, 8.0, 15.0, 5.0, 3.0, 6.0, 7.0, 5.0, 2.0, 4.0, 2.0, 2.0, 5.0, 3.0, 4.0, 4.0, 7.0, 6.0, 3.0, 10.0, 12.0, 13.0, 9.0, 7.2, 5.2, 5.2, 3.2, 2.8, 6.4, 5.6, 6.4, 5.6, 3.6, 3.2, 3.0, 2.0, 2.0, 3.4, 2.9, 3.2, 2.6, 3.4, 3.2, 5.2, 12.0, 5.0, 2.6, 4.0, 2.0, 7.8, 2.0, 2.0, 4.0, 2.4, 2.8, 2.0, 2.4, 2.0, 5.3, 2.2, 2.8, 3.0, 4.0, 2.4, 7.7, 2.0, 3.4, 1.7, 10.0, 11.0, 6.4, 5.0, 9.2, 5.8, 9.0, 12.0, 12.0, 13.0, 14.0, 9.0, 14.0, 5.0, 9.0, 8.0, 10.0, 7.0, 9.0, 3.0, 9.0, 7.0, 8.0, 12.0, 5.0, 6.0, 8.0, 12.0, 8.0, 8.0, 12.0, 14.0, 11.0, 11.0, 4.0, 11.0, 5.0, 5.0, 9.0, 7.0, 12.0, 7.0, 9.0, 9.0, 9.0, 9.0, 8.0, 14.0, 16.0, 11.0, 15.0, 35.0, 14.0, 24.0, 12.0, 13.0, 18.0, 15.0, 17.0, 17.0, 17.0, 11.0, 13.0, 15.0, 18.0, 14.0, 9.0, 11.0, 11.0, 14.0, 10.0, 9.0, 9.0, 12.0, 13.0, 15.0, 10.0, 14.0, 15.0, 13.0, 17.0, 14.0, 5.0, 15.0], \"yaxis\": \"y3\"}, {\"hovertemplate\": \"DEPURADORA_2=1<br>DBO5_x=%{x}<br>SS_x=%{y}<extra></extra>\", \"legendgroup\": \"\", \"marker\": {\"color\": \"#F8766D\", \"symbol\": \"circle\"}, \"mode\": \"markers\", \"name\": \"\", \"orientation\": \"v\", \"showlegend\": false, \"type\": \"scatter\", \"x\": [5.0, 10.0, 8.0, 5.0, 10.0, 8.0, 8.5, 10.0, 20.0, 8.0, 9.0, 4.5, 8.0, 5.0, 11.0, 5.0, 6.0, 5.0, 12.0, 5.0, 16.0, 5.0, 12.0, 6.0, 6.0, 5.0, 8.0, 17.0, 5.0, 5.0, 12.0, 5.0, 5.0, 7.0, 7.0, 7.0, 7.0, 5.0, 15.0, 8.0, 5.0, 11.0, 30.0, 11.0, 5.0, 5.0, 8.0, 7.0, 6.0, 5.0, 5.0, 5.0, 9.0, 8.0, 10.0, 6.0, 6.0, 7.0, 5.0, 9.0, 7.0, 7.0, 5.0, 5.0, 14.0, 12.0, 5.0, 11.0, 7.0, 11.0, 4.7, 11.0, 12.0, 5.0, 8.0, 5.0, 5.0, 11.0, 6.0, 2.0, 3.0, 3.0, 7.0, 6.0, 6.0, 5.0, 5.0, 6.0, 6.0, 3.0, 7.0, 3.0, 4.0, 4.0, 5.0, 3.0, 3.0, 2.0, 5.0, 4.0, 3.0, 7.0, 9.0, 6.0, 3.0, 6.0, 2.0, 5.0, 3.0, 9.0, 8.0, 3.0, 4.0, 3.0, 6.0, 8.0, 4.0, 5.0, 4.0, 6.0, 2.0, 3.0, 11.0, 8.9, 9.8, 4.0, 3.0, 2.0, 2.0, 5.0, 2.0, 2.0, 2.0, 2.0, 4.0, 5.0, 5.0, 6.0, 7.0, 5.0, 8.0, 6.0, 10.0, 5.0, 5.0, 3.0, 3.0, 2.0, 8.0, 2.0, 5.0, 3.0, 5.0, 2.0, 3.0, 2.0, 13.0, 15.0, 13.0, 17.0, 20.0, 13.0, 12.0, 10.0, 14.0, 13.0, 12.0, 11.0, 19.0, 7.0, 8.0, 10.0, 15.0, 18.0, 13.0, 7.0, 16.0, 16.0, 12.0, 10.0, 11.0, 8.0, 10.0, 15.0, 29.0, 35.0, 12.0, 5.0, 10.0, 8.0, 6.0, 8.0, 11.0, 10.0, 10.0, 12.0, 9.0, 13.0, 6.0, 5.0, 16.3, 13.2, 10.1, 10.0, 15.0, 12.0, 9.0, 16.0, 13.0, 9.0, 11.0, 9.0, 13.0, 9.0, 12.0, 12.0, 15.0, 7.0, 9.0, 9.0, 13.0, 9.0, 12.0, 11.0, 16.0, 15.0, 11.0, 14.0, 14.0, 18.0, 15.0, 15.0, 23.0, 14.0, 17.0, 16.0, 10.0, 13.0, 8.0, 4.0, 11.0, 13.0, 9.0, 7.0, 18.0, 12.0, 9.0, 7.0, 6.0, 10.0, 14.0, 11.0, 10.0, 8.0, 9.0, 17.0, 9.0, 11.0, 13.0, 9.0, 21.0, 38.0, 10.0, 7.0, 9.0, 7.0, 7.0, 9.0, 16.0, 9.0, 7.0, 2.0, 14.0, 11.0, 8.0, 13.0, 12.0, 9.0, 15.4, 11.9, 14.0, 9.0, 15.0, 15.0, 13.0, 18.0, 7.0, 8.0, 6.0, 7.0, 10.0, 16.0, 6.0, 12.0, 14.0, 5.0, 10.0, 17.0, 12.0, 11.0, 13.0, 9.0, 9.0, 14.0, 2.0, 13.0, 12.0, 6.0, 15.0, 15.0, 14.0, 12.0], \"xaxis\": \"x4\", \"y\": [7.0, 9.0, 11.0, 15.0, 14.0, 13.0, 13.0, 22.0, 14.0, 10.0, 12.0, 5.5, 10.0, 9.0, 14.0, 14.0, 16.0, 15.0, 19.0, 9.0, 12.0, 12.0, 13.0, 15.0, 11.0, 8.0, 14.0, 10.0, 9.0, 11.0, 12.0, 15.0, 9.0, 11.0, 11.0, 11.0, 10.0, 8.0, 13.0, 12.0, 15.0, 11.0, 11.0, 9.0, 9.0, 18.0, 14.0, 11.0, 12.0, 9.0, 12.0, 10.0, 12.0, 8.0, 17.0, 9.0, 10.0, 22.0, 13.0, 11.0, 6.0, 8.0, 11.0, 10.0, 13.0, 15.0, 11.0, 16.0, 19.0, 13.0, 17.0, 16.0, 12.0, 18.0, 11.0, 11.0, 21.0, 12.0, 13.0, 16.0, 12.0, 7.0, 10.0, 10.0, 11.0, 8.0, 8.0, 9.0, 9.0, 6.0, 12.0, 7.0, 7.0, 4.0, 6.0, 5.0, 5.0, 5.0, 5.0, 6.0, 10.0, 16.0, 32.0, 7.0, 8.0, 29.0, 16.0, 10.0, 8.4, 18.0, 9.2, 8.0, 8.1, 8.0, 15.0, 4.8, 4.0, 4.8, 2.8, 8.0, 4.0, 6.4, 7.5, 10.2, 5.0, 6.6, 7.6, 11.0, 4.8, 14.0, 8.4, 7.4, 4.4, 5.8, 3.6, 2.2, 2.0, 4.5, 5.0, 5.6, 7.2, 2.2, 5.6, 4.2, 23.0, 7.2, 3.4, 2.4, 15.0, 3.2, 12.0, 16.0, 4.6, 4.6, 9.5, 10.0, 16.0, 17.0, 20.0, 16.0, 21.0, 11.0, 18.0, 13.0, 19.0, 14.0, 13.0, 13.0, 39.0, 8.0, 6.0, 8.0, 13.0, 9.0, 16.0, 6.0, 15.0, 12.0, 10.0, 9.0, 12.0, 14.0, 9.0, 27.0, 26.0, 31.0, 13.0, 11.0, 9.5, 8.4, 7.0, 8.4, 8.4, 6.0, 11.0, 8.0, 14.0, 16.0, 8.4, 6.5, 22.0, 11.2, 11.6, 9.2, 15.0, 16.0, 14.0, 7.6, 11.0, 7.0, 8.5, 7.6, 9.1, 9.6, 12.0, 7.0, 5.0, 10.0, 18.0, 4.0, 5.1, 5.0, 46.0, 9.3, 14.0, 14.0, 8.6, 10.0, 14.0, 18.0, 13.0, 15.0, 24.0, 12.0, 20.0, 18.0, 14.0, 17.0, 14.0, 8.0, 17.0, 15.0, 16.0, 11.0, 17.0, 14.0, 6.0, 5.0, 8.0, 6.0, 13.0, 13.0, 14.0, 10.0, 14.0, 55.0, 9.0, 14.0, 6.0, 14.0, 19.0, 15.0, 11.0, 9.2, 11.0, 11.0, 10.0, 8.0, 15.0, 8.0, 14.0, 12.0, 12.0, 6.4, 7.2, 10.0, 16.0, 11.0, 13.0, 13.6, 17.5, 18.0, 30.0, 17.0, 15.0, 23.0, 9.2, 8.0, 10.0, 6.8, 8.0, 16.0, 21.0, 8.0, 14.0, 10.0, 11.0, 11.0, 10.0, 6.9, 52.0, 12.0, 15.0, 15.0, 9.1, 13.0, 16.0, 10.0, 11.0, 17.0, 10.0, 16.0], \"yaxis\": \"y4\"}],                        {\"annotations\": [{\"font\": {}, \"showarrow\": false, \"text\": \"DEPURADORA_2=0\", \"x\": 0.1175, \"xanchor\": \"center\", \"xref\": \"paper\", \"y\": 1.0, \"yanchor\": \"bottom\", \"yref\": \"paper\"}, {\"font\": {}, \"showarrow\": false, \"text\": \"DEPURADORA_2=3\", \"x\": 0.3725, \"xanchor\": \"center\", \"xref\": \"paper\", \"y\": 1.0, \"yanchor\": \"bottom\", \"yref\": \"paper\"}, {\"font\": {}, \"showarrow\": false, \"text\": \"DEPURADORA_2=2\", \"x\": 0.6275, \"xanchor\": \"center\", \"xref\": \"paper\", \"y\": 1.0, \"yanchor\": \"bottom\", \"yref\": \"paper\"}, {\"font\": {}, \"showarrow\": false, \"text\": \"DEPURADORA_2=1\", \"x\": 0.8824999999999998, \"xanchor\": \"center\", \"xref\": \"paper\", \"y\": 1.0, \"yanchor\": \"bottom\", \"yref\": \"paper\"}], \"legend\": {\"tracegroupgap\": 0}, \"template\": {\"data\": {\"bar\": [{\"error_x\": {\"color\": \"rgb(51,51,51)\"}, \"error_y\": {\"color\": \"rgb(51,51,51)\"}, \"marker\": {\"line\": {\"color\": \"rgb(237,237,237)\", \"width\": 0.5}}, \"type\": \"bar\"}], \"barpolar\": [{\"marker\": {\"line\": {\"color\": \"rgb(237,237,237)\", \"width\": 0.5}}, \"type\": \"barpolar\"}], \"carpet\": [{\"aaxis\": {\"endlinecolor\": \"rgb(51,51,51)\", \"gridcolor\": \"white\", \"linecolor\": \"white\", \"minorgridcolor\": \"white\", \"startlinecolor\": \"rgb(51,51,51)\"}, \"baxis\": {\"endlinecolor\": \"rgb(51,51,51)\", \"gridcolor\": \"white\", \"linecolor\": \"white\", \"minorgridcolor\": \"white\", \"startlinecolor\": \"rgb(51,51,51)\"}, \"type\": \"carpet\"}], \"choropleth\": [{\"colorbar\": {\"outlinewidth\": 0, \"tickcolor\": \"rgb(237,237,237)\", \"ticklen\": 6, \"ticks\": \"inside\"}, \"type\": \"choropleth\"}], \"contour\": [{\"colorbar\": {\"outlinewidth\": 0, \"tickcolor\": \"rgb(237,237,237)\", \"ticklen\": 6, \"ticks\": \"inside\"}, \"colorscale\": [[0, \"rgb(20,44,66)\"], [1, \"rgb(90,179,244)\"]], \"type\": \"contour\"}], \"contourcarpet\": [{\"colorbar\": {\"outlinewidth\": 0, \"tickcolor\": \"rgb(237,237,237)\", \"ticklen\": 6, \"ticks\": \"inside\"}, \"type\": \"contourcarpet\"}], \"heatmap\": [{\"colorbar\": {\"outlinewidth\": 0, \"tickcolor\": \"rgb(237,237,237)\", \"ticklen\": 6, \"ticks\": \"inside\"}, \"colorscale\": [[0, \"rgb(20,44,66)\"], [1, \"rgb(90,179,244)\"]], \"type\": \"heatmap\"}], \"heatmapgl\": [{\"colorbar\": {\"outlinewidth\": 0, \"tickcolor\": \"rgb(237,237,237)\", \"ticklen\": 6, \"ticks\": \"inside\"}, \"colorscale\": [[0, \"rgb(20,44,66)\"], [1, \"rgb(90,179,244)\"]], \"type\": \"heatmapgl\"}], \"histogram\": [{\"marker\": {\"colorbar\": {\"outlinewidth\": 0, \"tickcolor\": \"rgb(237,237,237)\", \"ticklen\": 6, \"ticks\": \"inside\"}}, \"type\": \"histogram\"}], \"histogram2d\": [{\"colorbar\": {\"outlinewidth\": 0, \"tickcolor\": \"rgb(237,237,237)\", \"ticklen\": 6, \"ticks\": \"inside\"}, \"colorscale\": [[0, \"rgb(20,44,66)\"], [1, \"rgb(90,179,244)\"]], \"type\": \"histogram2d\"}], \"histogram2dcontour\": [{\"colorbar\": {\"outlinewidth\": 0, \"tickcolor\": \"rgb(237,237,237)\", \"ticklen\": 6, \"ticks\": \"inside\"}, \"colorscale\": [[0, \"rgb(20,44,66)\"], [1, \"rgb(90,179,244)\"]], \"type\": \"histogram2dcontour\"}], \"mesh3d\": [{\"colorbar\": {\"outlinewidth\": 0, \"tickcolor\": \"rgb(237,237,237)\", \"ticklen\": 6, \"ticks\": \"inside\"}, \"type\": \"mesh3d\"}], \"parcoords\": [{\"line\": {\"colorbar\": {\"outlinewidth\": 0, \"tickcolor\": \"rgb(237,237,237)\", \"ticklen\": 6, \"ticks\": \"inside\"}}, \"type\": \"parcoords\"}], \"pie\": [{\"automargin\": true, \"type\": \"pie\"}], \"scatter\": [{\"marker\": {\"colorbar\": {\"outlinewidth\": 0, \"tickcolor\": \"rgb(237,237,237)\", \"ticklen\": 6, \"ticks\": \"inside\"}}, \"type\": \"scatter\"}], \"scatter3d\": [{\"line\": {\"colorbar\": {\"outlinewidth\": 0, \"tickcolor\": \"rgb(237,237,237)\", \"ticklen\": 6, \"ticks\": \"inside\"}}, \"marker\": {\"colorbar\": {\"outlinewidth\": 0, \"tickcolor\": \"rgb(237,237,237)\", \"ticklen\": 6, \"ticks\": \"inside\"}}, \"type\": \"scatter3d\"}], \"scattercarpet\": [{\"marker\": {\"colorbar\": {\"outlinewidth\": 0, \"tickcolor\": \"rgb(237,237,237)\", \"ticklen\": 6, \"ticks\": \"inside\"}}, \"type\": \"scattercarpet\"}], \"scattergeo\": [{\"marker\": {\"colorbar\": {\"outlinewidth\": 0, \"tickcolor\": \"rgb(237,237,237)\", \"ticklen\": 6, \"ticks\": \"inside\"}}, \"type\": \"scattergeo\"}], \"scattergl\": [{\"marker\": {\"colorbar\": {\"outlinewidth\": 0, \"tickcolor\": \"rgb(237,237,237)\", \"ticklen\": 6, \"ticks\": \"inside\"}}, \"type\": \"scattergl\"}], \"scattermapbox\": [{\"marker\": {\"colorbar\": {\"outlinewidth\": 0, \"tickcolor\": \"rgb(237,237,237)\", \"ticklen\": 6, \"ticks\": \"inside\"}}, \"type\": \"scattermapbox\"}], \"scatterpolar\": [{\"marker\": {\"colorbar\": {\"outlinewidth\": 0, \"tickcolor\": \"rgb(237,237,237)\", \"ticklen\": 6, \"ticks\": \"inside\"}}, \"type\": \"scatterpolar\"}], \"scatterpolargl\": [{\"marker\": {\"colorbar\": {\"outlinewidth\": 0, \"tickcolor\": \"rgb(237,237,237)\", \"ticklen\": 6, \"ticks\": \"inside\"}}, \"type\": \"scatterpolargl\"}], \"scatterternary\": [{\"marker\": {\"colorbar\": {\"outlinewidth\": 0, \"tickcolor\": \"rgb(237,237,237)\", \"ticklen\": 6, \"ticks\": \"inside\"}}, \"type\": \"scatterternary\"}], \"surface\": [{\"colorbar\": {\"outlinewidth\": 0, \"tickcolor\": \"rgb(237,237,237)\", \"ticklen\": 6, \"ticks\": \"inside\"}, \"colorscale\": [[0, \"rgb(20,44,66)\"], [1, \"rgb(90,179,244)\"]], \"type\": \"surface\"}], \"table\": [{\"cells\": {\"fill\": {\"color\": \"rgb(237,237,237)\"}, \"line\": {\"color\": \"white\"}}, \"header\": {\"fill\": {\"color\": \"rgb(217,217,217)\"}, \"line\": {\"color\": \"white\"}}, \"type\": \"table\"}]}, \"layout\": {\"annotationdefaults\": {\"arrowhead\": 0, \"arrowwidth\": 1}, \"coloraxis\": {\"colorbar\": {\"outlinewidth\": 0, \"tickcolor\": \"rgb(237,237,237)\", \"ticklen\": 6, \"ticks\": \"inside\"}}, \"colorscale\": {\"sequential\": [[0, \"rgb(20,44,66)\"], [1, \"rgb(90,179,244)\"]], \"sequentialminus\": [[0, \"rgb(20,44,66)\"], [1, \"rgb(90,179,244)\"]]}, \"colorway\": [\"#F8766D\", \"#A3A500\", \"#00BF7D\", \"#00B0F6\", \"#E76BF3\"], \"font\": {\"color\": \"rgb(51,51,51)\"}, \"geo\": {\"bgcolor\": \"white\", \"lakecolor\": \"white\", \"landcolor\": \"rgb(237,237,237)\", \"showlakes\": true, \"showland\": true, \"subunitcolor\": \"white\"}, \"hoverlabel\": {\"align\": \"left\"}, \"hovermode\": \"closest\", \"paper_bgcolor\": \"white\", \"plot_bgcolor\": \"rgb(237,237,237)\", \"polar\": {\"angularaxis\": {\"gridcolor\": \"white\", \"linecolor\": \"white\", \"showgrid\": true, \"tickcolor\": \"rgb(51,51,51)\", \"ticks\": \"outside\"}, \"bgcolor\": \"rgb(237,237,237)\", \"radialaxis\": {\"gridcolor\": \"white\", \"linecolor\": \"white\", \"showgrid\": true, \"tickcolor\": \"rgb(51,51,51)\", \"ticks\": \"outside\"}}, \"scene\": {\"xaxis\": {\"backgroundcolor\": \"rgb(237,237,237)\", \"gridcolor\": \"white\", \"gridwidth\": 2, \"linecolor\": \"white\", \"showbackground\": true, \"showgrid\": true, \"tickcolor\": \"rgb(51,51,51)\", \"ticks\": \"outside\", \"zerolinecolor\": \"white\"}, \"yaxis\": {\"backgroundcolor\": \"rgb(237,237,237)\", \"gridcolor\": \"white\", \"gridwidth\": 2, \"linecolor\": \"white\", \"showbackground\": true, \"showgrid\": true, \"tickcolor\": \"rgb(51,51,51)\", \"ticks\": \"outside\", \"zerolinecolor\": \"white\"}, \"zaxis\": {\"backgroundcolor\": \"rgb(237,237,237)\", \"gridcolor\": \"white\", \"gridwidth\": 2, \"linecolor\": \"white\", \"showbackground\": true, \"showgrid\": true, \"tickcolor\": \"rgb(51,51,51)\", \"ticks\": \"outside\", \"zerolinecolor\": \"white\"}}, \"shapedefaults\": {\"fillcolor\": \"black\", \"line\": {\"width\": 0}, \"opacity\": 0.3}, \"ternary\": {\"aaxis\": {\"gridcolor\": \"white\", \"linecolor\": \"white\", \"showgrid\": true, \"tickcolor\": \"rgb(51,51,51)\", \"ticks\": \"outside\"}, \"baxis\": {\"gridcolor\": \"white\", \"linecolor\": \"white\", \"showgrid\": true, \"tickcolor\": \"rgb(51,51,51)\", \"ticks\": \"outside\"}, \"bgcolor\": \"rgb(237,237,237)\", \"caxis\": {\"gridcolor\": \"white\", \"linecolor\": \"white\", \"showgrid\": true, \"tickcolor\": \"rgb(51,51,51)\", \"ticks\": \"outside\"}}, \"xaxis\": {\"automargin\": true, \"gridcolor\": \"white\", \"linecolor\": \"white\", \"showgrid\": true, \"tickcolor\": \"rgb(51,51,51)\", \"ticks\": \"outside\", \"title\": {\"standoff\": 15}, \"zerolinecolor\": \"white\"}, \"yaxis\": {\"automargin\": true, \"gridcolor\": \"white\", \"linecolor\": \"white\", \"showgrid\": true, \"tickcolor\": \"rgb(51,51,51)\", \"ticks\": \"outside\", \"title\": {\"standoff\": 15}, \"zerolinecolor\": \"white\"}}}, \"title\": {\"text\": \"Datos de SS y DBO5 en funci\\u00f3n Depuradora(ubicaci\\u00f3n)\"}, \"xaxis\": {\"anchor\": \"y\", \"domain\": [0.0, 0.235], \"title\": {\"text\": \"DBO5_x\"}}, \"xaxis2\": {\"anchor\": \"y2\", \"domain\": [0.255, 0.49], \"matches\": \"x\", \"title\": {\"text\": \"DBO5_x\"}}, \"xaxis3\": {\"anchor\": \"y3\", \"domain\": [0.51, 0.745], \"matches\": \"x\", \"title\": {\"text\": \"DBO5_x\"}}, \"xaxis4\": {\"anchor\": \"y4\", \"domain\": [0.7649999999999999, 0.9999999999999999], \"matches\": \"x\", \"title\": {\"text\": \"DBO5_x\"}}, \"yaxis\": {\"anchor\": \"x\", \"domain\": [0.0, 1.0], \"title\": {\"text\": \"SS_x\"}}, \"yaxis2\": {\"anchor\": \"x2\", \"domain\": [0.0, 1.0], \"matches\": \"y\", \"showticklabels\": false}, \"yaxis3\": {\"anchor\": \"x3\", \"domain\": [0.0, 1.0], \"matches\": \"y\", \"showticklabels\": false}, \"yaxis4\": {\"anchor\": \"x4\", \"domain\": [0.0, 1.0], \"matches\": \"y\", \"showticklabels\": false}},                        {\"responsive\": true}                    ).then(function(){\n",
       "                            \n",
       "var gd = document.getElementById('74cb1867-abcc-4baa-b0b5-65e1b727dd2e');\n",
       "var x = new MutationObserver(function (mutations, observer) {{\n",
       "        var display = window.getComputedStyle(gd).display;\n",
       "        if (!display || display === 'none') {{\n",
       "            console.log([gd, 'removed!']);\n",
       "            Plotly.purge(gd);\n",
       "            observer.disconnect();\n",
       "        }}\n",
       "}});\n",
       "\n",
       "// Listen for the removal of the full notebook cells\n",
       "var notebookContainer = gd.closest('#notebook-container');\n",
       "if (notebookContainer) {{\n",
       "    x.observe(notebookContainer, {childList: true});\n",
       "}}\n",
       "\n",
       "// Listen for the clearing of the current output cell\n",
       "var outputEl = gd.closest('.output');\n",
       "if (outputEl) {{\n",
       "    x.observe(outputEl, {childList: true});\n",
       "}}\n",
       "\n",
       "                        })                };                });            </script>        </div>"
      ]
     },
     "metadata": {},
     "output_type": "display_data"
    }
   ],
   "source": [
    "fig1 = px.scatter(\n",
    "  data_2, x=data_2['DBO5_x'], y=data_2[\"SS_x\"], \n",
    "  template=\"ggplot2\", facet_col = data_2['DEPURADORA_2']\n",
    ", title=\"Datos de SS y DBO5 en función Depuradora(ubicación)\", \n",
    ")\n",
    "fig1"
   ]
  },
  {
   "cell_type": "code",
   "execution_count": 80,
   "metadata": {},
   "outputs": [
    {
     "data": {
      "application/vnd.plotly.v1+json": {
       "config": {
        "plotlyServerURL": "https://plot.ly"
       },
       "data": [
        {
         "hovertemplate": "KMeans_Cluster_2=0<br>DBO5_x=%{x}<br>SS_x=%{y}<extra></extra>",
         "legendgroup": "",
         "marker": {
          "color": "#F8766D",
          "symbol": "circle"
         },
         "mode": "markers",
         "name": "",
         "orientation": "v",
         "showlegend": false,
         "type": "scatter",
         "x": [
          5,
          5,
          5,
          5,
          5,
          5,
          6,
          5,
          5,
          5,
          3.5,
          5,
          5,
          5,
          5,
          5,
          6,
          5,
          5,
          5,
          5,
          5,
          5,
          5,
          5,
          5,
          5,
          5,
          6,
          5,
          11,
          12,
          5,
          5,
          5,
          6,
          5,
          5,
          5,
          6,
          5,
          5,
          5,
          5,
          6,
          5,
          5,
          5,
          5,
          5,
          5,
          5,
          5,
          5,
          8,
          5,
          5,
          5,
          6,
          5,
          5,
          5,
          5,
          5,
          5,
          5,
          5,
          8,
          4.5,
          4.3,
          5,
          6,
          5,
          5,
          5,
          5,
          5,
          5,
          5,
          5,
          8,
          6,
          6,
          5,
          5,
          5,
          5,
          5,
          5,
          5,
          5,
          5,
          5,
          5,
          5,
          5,
          5,
          5,
          5,
          5,
          5,
          5,
          5,
          5,
          5,
          5,
          5,
          5,
          5,
          5,
          5,
          5,
          5,
          6,
          12,
          5,
          5,
          9.5,
          4.1,
          8.3,
          2,
          2,
          3,
          2,
          2,
          3,
          2,
          2,
          4,
          3,
          10,
          6,
          7,
          5,
          2,
          6,
          7,
          3,
          2,
          2,
          3,
          2,
          2,
          2,
          3,
          2,
          2,
          2,
          2,
          2,
          3,
          3,
          2,
          8,
          6,
          6,
          4,
          8,
          2,
          6,
          3,
          2,
          2,
          3,
          3,
          3,
          2,
          3,
          3,
          5,
          3,
          3,
          2,
          6,
          7,
          6,
          3,
          6,
          7,
          3,
          10.2,
          3.8,
          8.7,
          5,
          5,
          2,
          4,
          2,
          3,
          3,
          3,
          7,
          4,
          5,
          8,
          7,
          2,
          11,
          5,
          4,
          2,
          2,
          10,
          1.8,
          4,
          4,
          2,
          5,
          10,
          5,
          5,
          5,
          4.5,
          3,
          3,
          3,
          4,
          5,
          3,
          3,
          2,
          5,
          4,
          8,
          4,
          5,
          4,
          2,
          3,
          4,
          2,
          2,
          2,
          2,
          4,
          5,
          5,
          6,
          7,
          5,
          6,
          5,
          3,
          3,
          2,
          2,
          5,
          2,
          5,
          9,
          7
         ],
         "xaxis": "x",
         "y": [
          5,
          4,
          3,
          3,
          4,
          5,
          4,
          3,
          3,
          2,
          7,
          4,
          2,
          2,
          2,
          2,
          2,
          2,
          2,
          2,
          2,
          3,
          2,
          3,
          5,
          3,
          3,
          1,
          3,
          4,
          2,
          3,
          3,
          3,
          3,
          4,
          1,
          2,
          1,
          1,
          2,
          2,
          2,
          2,
          4,
          4,
          4,
          6,
          6,
          3,
          2,
          3,
          1,
          3,
          3,
          1,
          3,
          3,
          2,
          1,
          3,
          2,
          3,
          3,
          3,
          3,
          2,
          4,
          2,
          3,
          3,
          4,
          3,
          4,
          3,
          3,
          2,
          5,
          5,
          3,
          3,
          3,
          4,
          5,
          4,
          2,
          3,
          3,
          2,
          2,
          2,
          2,
          4,
          5,
          4,
          2,
          1,
          2,
          1,
          2,
          1,
          1,
          2,
          4,
          1,
          1,
          1,
          2,
          2,
          2,
          2,
          2,
          1,
          1,
          2,
          2,
          1,
          2,
          3,
          2,
          3,
          2,
          4.4,
          2,
          2,
          2,
          2,
          2,
          2,
          2,
          2,
          2,
          2,
          5.7,
          2.8,
          4.4,
          2,
          2.2,
          2,
          2,
          4.6,
          2.4,
          2,
          2.4,
          2,
          2.4,
          2,
          2,
          6,
          4,
          5,
          3,
          6,
          2,
          4,
          2,
          2,
          5,
          3,
          4,
          4,
          7,
          6,
          3,
          7.2,
          5.2,
          5.2,
          3.2,
          2.8,
          6.4,
          5.6,
          5.6,
          3.6,
          3.2,
          3,
          2,
          2,
          3.4,
          2.9,
          3.2,
          2.6,
          3.4,
          3.2,
          5.2,
          5,
          2.6,
          4,
          2,
          2,
          2,
          4,
          2.4,
          2.8,
          2,
          2.4,
          2,
          2.2,
          2.8,
          3,
          4,
          2.4,
          2,
          3.4,
          1.7,
          6.4,
          5,
          5.8,
          5,
          3,
          4,
          5,
          5,
          5.5,
          7,
          6,
          7,
          4,
          6,
          5,
          5,
          5,
          5,
          6,
          4.8,
          4,
          4.8,
          2.8,
          4,
          6.4,
          6.6,
          4.8,
          7.4,
          4.4,
          5.8,
          3.6,
          2.2,
          2,
          4.5,
          5,
          5.6,
          2.2,
          4.2,
          7.2,
          3.4,
          2.4,
          3.2,
          4.6,
          4.6,
          6.5,
          4,
          5
         ],
         "yaxis": "y"
        },
        {
         "hovertemplate": "KMeans_Cluster_2=3<br>DBO5_x=%{x}<br>SS_x=%{y}<extra></extra>",
         "legendgroup": "",
         "marker": {
          "color": "#F8766D",
          "symbol": "circle"
         },
         "mode": "markers",
         "name": "",
         "orientation": "v",
         "showlegend": false,
         "type": "scatter",
         "x": [
          5,
          2,
          7,
          3,
          8,
          9,
          5,
          7,
          11,
          7,
          5,
          8,
          10,
          6,
          7,
          11,
          5,
          10,
          9,
          5,
          8,
          7,
          5,
          10,
          8,
          8.5,
          10,
          5,
          6,
          5,
          6,
          8,
          5,
          5,
          5,
          8,
          10,
          7,
          5,
          11,
          7,
          4.7,
          11,
          5,
          5,
          6,
          2,
          7,
          2,
          9,
          6,
          5,
          5,
          8,
          3,
          10,
          8,
          9,
          9,
          9,
          10,
          8,
          11,
          9,
          10,
          9,
          9,
          7,
          9,
          6,
          9
         ],
         "xaxis": "x2",
         "y": [
          13,
          22,
          15,
          13,
          13,
          14,
          16,
          14,
          24,
          18,
          15,
          17,
          17,
          13,
          15,
          18,
          14,
          14,
          13,
          17,
          14,
          15,
          15,
          14,
          13,
          13,
          22,
          14,
          16,
          15,
          15,
          14,
          15,
          15,
          18,
          14,
          17,
          22,
          13,
          16,
          19,
          17,
          16,
          18,
          21,
          13,
          16,
          16,
          16,
          18,
          15,
          14,
          23,
          15,
          16,
          13,
          14,
          14,
          14,
          18,
          14,
          14,
          17,
          16,
          14,
          14,
          14,
          14,
          18,
          21,
          15
         ],
         "yaxis": "y2"
        },
        {
         "hovertemplate": "KMeans_Cluster_2=4<br>DBO5_x=%{x}<br>SS_x=%{y}<extra></extra>",
         "legendgroup": "",
         "marker": {
          "color": "#F8766D",
          "symbol": "circle"
         },
         "mode": "markers",
         "name": "",
         "orientation": "v",
         "showlegend": false,
         "type": "scatter",
         "x": [
          5,
          5,
          5,
          5,
          8,
          2,
          5,
          3,
          3,
          4,
          5,
          9,
          2,
          2,
          8,
          11,
          2,
          2,
          9,
          3,
          5,
          5,
          4,
          5,
          8,
          10,
          8,
          8,
          9,
          6,
          7,
          7,
          5,
          7,
          6,
          11,
          7,
          7,
          8,
          5,
          10,
          9,
          8,
          9,
          8,
          8,
          10,
          8,
          8,
          7,
          12,
          11,
          5,
          6,
          7,
          12,
          9,
          9,
          6,
          5,
          8,
          4.8,
          5,
          10,
          8,
          8,
          9,
          8,
          5,
          5,
          5,
          6,
          5,
          5,
          5,
          5,
          7,
          7,
          7,
          7,
          5,
          8,
          11,
          11,
          5,
          7,
          6,
          5,
          5,
          5,
          9,
          8,
          6,
          6,
          9,
          7,
          7,
          5,
          5,
          5,
          8,
          5,
          3,
          7,
          6,
          6,
          5,
          5,
          6,
          6,
          7,
          4,
          3,
          6,
          3,
          5,
          3,
          8,
          3,
          4,
          3,
          6,
          11,
          8.9,
          9.8,
          3,
          2,
          2,
          8,
          10,
          5,
          3,
          2,
          7,
          8,
          10,
          7,
          12,
          10,
          10,
          5,
          10,
          8,
          6,
          8,
          11,
          10,
          10,
          12,
          6,
          10.1,
          10,
          9,
          11,
          9,
          9,
          12,
          15,
          7,
          13,
          9,
          11,
          11,
          4,
          7,
          9,
          6,
          10,
          8,
          9,
          13,
          10,
          7,
          9,
          7,
          7,
          9,
          9,
          2,
          11,
          8,
          9,
          7,
          8,
          6,
          7,
          10,
          12,
          5,
          10,
          12,
          11,
          9,
          2,
          6
         ],
         "xaxis": "x3",
         "y": [
          7,
          7,
          7,
          7,
          5.4,
          12,
          7,
          8,
          10,
          8,
          7,
          5,
          10,
          12,
          9,
          6.4,
          12,
          7.8,
          5.3,
          7.7,
          10,
          11,
          9.2,
          12,
          12,
          9,
          9,
          8,
          10,
          7,
          9,
          9,
          7,
          8,
          12,
          5,
          6,
          8,
          12,
          8,
          8,
          11,
          11,
          5,
          9,
          7,
          12,
          7,
          9,
          9,
          9,
          9,
          8,
          12,
          11,
          9,
          11,
          11,
          9,
          9,
          12,
          10,
          7,
          9,
          11,
          10,
          12,
          10,
          9,
          9,
          12,
          11,
          8,
          9,
          11,
          9,
          11,
          11,
          11,
          10,
          8,
          12,
          11,
          9,
          9,
          11,
          12,
          9,
          12,
          10,
          12,
          8,
          9,
          10,
          11,
          6,
          8,
          11,
          10,
          11,
          11,
          11,
          12,
          10,
          10,
          11,
          8,
          8,
          9,
          9,
          12,
          7,
          10,
          7,
          8,
          10,
          8.4,
          9.2,
          8,
          8.1,
          8,
          8,
          7.5,
          10.2,
          5,
          7.6,
          11,
          8.4,
          7.2,
          5.6,
          12,
          9.5,
          10,
          8,
          6,
          8,
          6,
          10,
          9,
          9,
          11,
          9.5,
          8.4,
          7,
          8.4,
          8.4,
          6,
          11,
          8,
          8.4,
          11.6,
          9.2,
          7,
          8.5,
          7.6,
          9.6,
          7,
          5,
          10,
          5.1,
          5,
          9.3,
          8.6,
          8,
          11,
          6,
          8,
          6,
          10,
          9,
          6,
          11,
          9.2,
          11,
          11,
          10,
          8,
          8,
          12,
          6.4,
          7.2,
          11,
          9.2,
          8,
          10,
          6.8,
          8,
          8,
          10,
          11,
          10,
          6.9,
          12,
          9.1,
          10
         ],
         "yaxis": "y3"
        },
        {
         "hovertemplate": "KMeans_Cluster_2=1<br>DBO5_x=%{x}<br>SS_x=%{y}<extra></extra>",
         "legendgroup": "",
         "marker": {
          "color": "#F8766D",
          "symbol": "circle"
         },
         "mode": "markers",
         "name": "",
         "orientation": "v",
         "showlegend": false,
         "type": "scatter",
         "x": [
          18,
          18,
          11,
          14,
          14,
          12,
          20,
          17,
          11,
          12,
          30,
          15,
          21,
          13,
          12,
          20,
          11,
          12,
          16,
          12,
          17,
          12,
          15,
          30,
          14,
          12,
          11,
          12,
          11,
          13,
          15,
          13,
          17,
          20,
          13,
          12,
          14,
          13,
          12,
          11,
          15,
          18,
          13,
          16,
          16,
          11,
          12,
          13,
          16.3,
          13.2,
          15,
          12,
          16,
          13,
          13,
          12,
          16,
          15,
          14,
          14,
          18,
          15,
          15,
          23,
          14,
          17,
          16,
          13,
          13,
          18,
          12,
          14,
          11,
          11,
          21,
          38,
          16,
          14,
          13,
          12,
          15.4,
          11.9,
          14,
          15,
          13,
          18,
          16,
          14,
          17,
          14,
          13,
          12,
          15,
          15,
          14,
          12
         ],
         "xaxis": "x4",
         "y": [
          9,
          14,
          14,
          12,
          14,
          11,
          11,
          15,
          13,
          17,
          14,
          10,
          13,
          15,
          15,
          14,
          14,
          19,
          12,
          13,
          10,
          12,
          13,
          11,
          13,
          15,
          13,
          12,
          12,
          16,
          17,
          20,
          16,
          21,
          11,
          18,
          19,
          14,
          13,
          13,
          13,
          9,
          16,
          15,
          12,
          12,
          13,
          16,
          22,
          11.2,
          15,
          16,
          7.6,
          11,
          9.1,
          12,
          14,
          14,
          10,
          14,
          18,
          13,
          15,
          24,
          12,
          20,
          18,
          17,
          15,
          17,
          14,
          13,
          13,
          14,
          19,
          15,
          15,
          12,
          10,
          16,
          13,
          13.6,
          17.5,
          17,
          15,
          23,
          16,
          14,
          11,
          15,
          13,
          16,
          11,
          17,
          10,
          16
         ],
         "yaxis": "y4"
        },
        {
         "hovertemplate": "KMeans_Cluster_2=2<br>DBO5_x=%{x}<br>SS_x=%{y}<extra></extra>",
         "legendgroup": "",
         "marker": {
          "color": "#F8766D",
          "symbol": "circle"
         },
         "mode": "markers",
         "name": "",
         "orientation": "v",
         "showlegend": false,
         "type": "scatter",
         "x": [
          5,
          9,
          6,
          19,
          15,
          29,
          35,
          12,
          17,
          15,
          13
         ],
         "xaxis": "x5",
         "y": [
          35,
          32,
          29,
          39,
          27,
          26,
          31,
          46,
          55,
          30,
          52
         ],
         "yaxis": "y5"
        }
       ],
       "layout": {
        "annotations": [
         {
          "font": {},
          "showarrow": false,
          "text": "KMeans_Cluster_2=0",
          "x": 0.09200000000000001,
          "xanchor": "center",
          "xref": "paper",
          "y": 1,
          "yanchor": "bottom",
          "yref": "paper"
         },
         {
          "font": {},
          "showarrow": false,
          "text": "KMeans_Cluster_2=3",
          "x": 0.29600000000000004,
          "xanchor": "center",
          "xref": "paper",
          "y": 1,
          "yanchor": "bottom",
          "yref": "paper"
         },
         {
          "font": {},
          "showarrow": false,
          "text": "KMeans_Cluster_2=4",
          "x": 0.5,
          "xanchor": "center",
          "xref": "paper",
          "y": 1,
          "yanchor": "bottom",
          "yref": "paper"
         },
         {
          "font": {},
          "showarrow": false,
          "text": "KMeans_Cluster_2=1",
          "x": 0.7040000000000002,
          "xanchor": "center",
          "xref": "paper",
          "y": 1,
          "yanchor": "bottom",
          "yref": "paper"
         },
         {
          "font": {},
          "showarrow": false,
          "text": "KMeans_Cluster_2=2",
          "x": 0.908,
          "xanchor": "center",
          "xref": "paper",
          "y": 1,
          "yanchor": "bottom",
          "yref": "paper"
         }
        ],
        "legend": {
         "tracegroupgap": 0
        },
        "template": {
         "data": {
          "bar": [
           {
            "error_x": {
             "color": "rgb(51,51,51)"
            },
            "error_y": {
             "color": "rgb(51,51,51)"
            },
            "marker": {
             "line": {
              "color": "rgb(237,237,237)",
              "width": 0.5
             }
            },
            "type": "bar"
           }
          ],
          "barpolar": [
           {
            "marker": {
             "line": {
              "color": "rgb(237,237,237)",
              "width": 0.5
             }
            },
            "type": "barpolar"
           }
          ],
          "carpet": [
           {
            "aaxis": {
             "endlinecolor": "rgb(51,51,51)",
             "gridcolor": "white",
             "linecolor": "white",
             "minorgridcolor": "white",
             "startlinecolor": "rgb(51,51,51)"
            },
            "baxis": {
             "endlinecolor": "rgb(51,51,51)",
             "gridcolor": "white",
             "linecolor": "white",
             "minorgridcolor": "white",
             "startlinecolor": "rgb(51,51,51)"
            },
            "type": "carpet"
           }
          ],
          "choropleth": [
           {
            "colorbar": {
             "outlinewidth": 0,
             "tickcolor": "rgb(237,237,237)",
             "ticklen": 6,
             "ticks": "inside"
            },
            "type": "choropleth"
           }
          ],
          "contour": [
           {
            "colorbar": {
             "outlinewidth": 0,
             "tickcolor": "rgb(237,237,237)",
             "ticklen": 6,
             "ticks": "inside"
            },
            "colorscale": [
             [
              0,
              "rgb(20,44,66)"
             ],
             [
              1,
              "rgb(90,179,244)"
             ]
            ],
            "type": "contour"
           }
          ],
          "contourcarpet": [
           {
            "colorbar": {
             "outlinewidth": 0,
             "tickcolor": "rgb(237,237,237)",
             "ticklen": 6,
             "ticks": "inside"
            },
            "type": "contourcarpet"
           }
          ],
          "heatmap": [
           {
            "colorbar": {
             "outlinewidth": 0,
             "tickcolor": "rgb(237,237,237)",
             "ticklen": 6,
             "ticks": "inside"
            },
            "colorscale": [
             [
              0,
              "rgb(20,44,66)"
             ],
             [
              1,
              "rgb(90,179,244)"
             ]
            ],
            "type": "heatmap"
           }
          ],
          "heatmapgl": [
           {
            "colorbar": {
             "outlinewidth": 0,
             "tickcolor": "rgb(237,237,237)",
             "ticklen": 6,
             "ticks": "inside"
            },
            "colorscale": [
             [
              0,
              "rgb(20,44,66)"
             ],
             [
              1,
              "rgb(90,179,244)"
             ]
            ],
            "type": "heatmapgl"
           }
          ],
          "histogram": [
           {
            "marker": {
             "colorbar": {
              "outlinewidth": 0,
              "tickcolor": "rgb(237,237,237)",
              "ticklen": 6,
              "ticks": "inside"
             }
            },
            "type": "histogram"
           }
          ],
          "histogram2d": [
           {
            "colorbar": {
             "outlinewidth": 0,
             "tickcolor": "rgb(237,237,237)",
             "ticklen": 6,
             "ticks": "inside"
            },
            "colorscale": [
             [
              0,
              "rgb(20,44,66)"
             ],
             [
              1,
              "rgb(90,179,244)"
             ]
            ],
            "type": "histogram2d"
           }
          ],
          "histogram2dcontour": [
           {
            "colorbar": {
             "outlinewidth": 0,
             "tickcolor": "rgb(237,237,237)",
             "ticklen": 6,
             "ticks": "inside"
            },
            "colorscale": [
             [
              0,
              "rgb(20,44,66)"
             ],
             [
              1,
              "rgb(90,179,244)"
             ]
            ],
            "type": "histogram2dcontour"
           }
          ],
          "mesh3d": [
           {
            "colorbar": {
             "outlinewidth": 0,
             "tickcolor": "rgb(237,237,237)",
             "ticklen": 6,
             "ticks": "inside"
            },
            "type": "mesh3d"
           }
          ],
          "parcoords": [
           {
            "line": {
             "colorbar": {
              "outlinewidth": 0,
              "tickcolor": "rgb(237,237,237)",
              "ticklen": 6,
              "ticks": "inside"
             }
            },
            "type": "parcoords"
           }
          ],
          "pie": [
           {
            "automargin": true,
            "type": "pie"
           }
          ],
          "scatter": [
           {
            "marker": {
             "colorbar": {
              "outlinewidth": 0,
              "tickcolor": "rgb(237,237,237)",
              "ticklen": 6,
              "ticks": "inside"
             }
            },
            "type": "scatter"
           }
          ],
          "scatter3d": [
           {
            "line": {
             "colorbar": {
              "outlinewidth": 0,
              "tickcolor": "rgb(237,237,237)",
              "ticklen": 6,
              "ticks": "inside"
             }
            },
            "marker": {
             "colorbar": {
              "outlinewidth": 0,
              "tickcolor": "rgb(237,237,237)",
              "ticklen": 6,
              "ticks": "inside"
             }
            },
            "type": "scatter3d"
           }
          ],
          "scattercarpet": [
           {
            "marker": {
             "colorbar": {
              "outlinewidth": 0,
              "tickcolor": "rgb(237,237,237)",
              "ticklen": 6,
              "ticks": "inside"
             }
            },
            "type": "scattercarpet"
           }
          ],
          "scattergeo": [
           {
            "marker": {
             "colorbar": {
              "outlinewidth": 0,
              "tickcolor": "rgb(237,237,237)",
              "ticklen": 6,
              "ticks": "inside"
             }
            },
            "type": "scattergeo"
           }
          ],
          "scattergl": [
           {
            "marker": {
             "colorbar": {
              "outlinewidth": 0,
              "tickcolor": "rgb(237,237,237)",
              "ticklen": 6,
              "ticks": "inside"
             }
            },
            "type": "scattergl"
           }
          ],
          "scattermapbox": [
           {
            "marker": {
             "colorbar": {
              "outlinewidth": 0,
              "tickcolor": "rgb(237,237,237)",
              "ticklen": 6,
              "ticks": "inside"
             }
            },
            "type": "scattermapbox"
           }
          ],
          "scatterpolar": [
           {
            "marker": {
             "colorbar": {
              "outlinewidth": 0,
              "tickcolor": "rgb(237,237,237)",
              "ticklen": 6,
              "ticks": "inside"
             }
            },
            "type": "scatterpolar"
           }
          ],
          "scatterpolargl": [
           {
            "marker": {
             "colorbar": {
              "outlinewidth": 0,
              "tickcolor": "rgb(237,237,237)",
              "ticklen": 6,
              "ticks": "inside"
             }
            },
            "type": "scatterpolargl"
           }
          ],
          "scatterternary": [
           {
            "marker": {
             "colorbar": {
              "outlinewidth": 0,
              "tickcolor": "rgb(237,237,237)",
              "ticklen": 6,
              "ticks": "inside"
             }
            },
            "type": "scatterternary"
           }
          ],
          "surface": [
           {
            "colorbar": {
             "outlinewidth": 0,
             "tickcolor": "rgb(237,237,237)",
             "ticklen": 6,
             "ticks": "inside"
            },
            "colorscale": [
             [
              0,
              "rgb(20,44,66)"
             ],
             [
              1,
              "rgb(90,179,244)"
             ]
            ],
            "type": "surface"
           }
          ],
          "table": [
           {
            "cells": {
             "fill": {
              "color": "rgb(237,237,237)"
             },
             "line": {
              "color": "white"
             }
            },
            "header": {
             "fill": {
              "color": "rgb(217,217,217)"
             },
             "line": {
              "color": "white"
             }
            },
            "type": "table"
           }
          ]
         },
         "layout": {
          "annotationdefaults": {
           "arrowhead": 0,
           "arrowwidth": 1
          },
          "coloraxis": {
           "colorbar": {
            "outlinewidth": 0,
            "tickcolor": "rgb(237,237,237)",
            "ticklen": 6,
            "ticks": "inside"
           }
          },
          "colorscale": {
           "sequential": [
            [
             0,
             "rgb(20,44,66)"
            ],
            [
             1,
             "rgb(90,179,244)"
            ]
           ],
           "sequentialminus": [
            [
             0,
             "rgb(20,44,66)"
            ],
            [
             1,
             "rgb(90,179,244)"
            ]
           ]
          },
          "colorway": [
           "#F8766D",
           "#A3A500",
           "#00BF7D",
           "#00B0F6",
           "#E76BF3"
          ],
          "font": {
           "color": "rgb(51,51,51)"
          },
          "geo": {
           "bgcolor": "white",
           "lakecolor": "white",
           "landcolor": "rgb(237,237,237)",
           "showlakes": true,
           "showland": true,
           "subunitcolor": "white"
          },
          "hoverlabel": {
           "align": "left"
          },
          "hovermode": "closest",
          "paper_bgcolor": "white",
          "plot_bgcolor": "rgb(237,237,237)",
          "polar": {
           "angularaxis": {
            "gridcolor": "white",
            "linecolor": "white",
            "showgrid": true,
            "tickcolor": "rgb(51,51,51)",
            "ticks": "outside"
           },
           "bgcolor": "rgb(237,237,237)",
           "radialaxis": {
            "gridcolor": "white",
            "linecolor": "white",
            "showgrid": true,
            "tickcolor": "rgb(51,51,51)",
            "ticks": "outside"
           }
          },
          "scene": {
           "xaxis": {
            "backgroundcolor": "rgb(237,237,237)",
            "gridcolor": "white",
            "gridwidth": 2,
            "linecolor": "white",
            "showbackground": true,
            "showgrid": true,
            "tickcolor": "rgb(51,51,51)",
            "ticks": "outside",
            "zerolinecolor": "white"
           },
           "yaxis": {
            "backgroundcolor": "rgb(237,237,237)",
            "gridcolor": "white",
            "gridwidth": 2,
            "linecolor": "white",
            "showbackground": true,
            "showgrid": true,
            "tickcolor": "rgb(51,51,51)",
            "ticks": "outside",
            "zerolinecolor": "white"
           },
           "zaxis": {
            "backgroundcolor": "rgb(237,237,237)",
            "gridcolor": "white",
            "gridwidth": 2,
            "linecolor": "white",
            "showbackground": true,
            "showgrid": true,
            "tickcolor": "rgb(51,51,51)",
            "ticks": "outside",
            "zerolinecolor": "white"
           }
          },
          "shapedefaults": {
           "fillcolor": "black",
           "line": {
            "width": 0
           },
           "opacity": 0.3
          },
          "ternary": {
           "aaxis": {
            "gridcolor": "white",
            "linecolor": "white",
            "showgrid": true,
            "tickcolor": "rgb(51,51,51)",
            "ticks": "outside"
           },
           "baxis": {
            "gridcolor": "white",
            "linecolor": "white",
            "showgrid": true,
            "tickcolor": "rgb(51,51,51)",
            "ticks": "outside"
           },
           "bgcolor": "rgb(237,237,237)",
           "caxis": {
            "gridcolor": "white",
            "linecolor": "white",
            "showgrid": true,
            "tickcolor": "rgb(51,51,51)",
            "ticks": "outside"
           }
          },
          "xaxis": {
           "automargin": true,
           "gridcolor": "white",
           "linecolor": "white",
           "showgrid": true,
           "tickcolor": "rgb(51,51,51)",
           "ticks": "outside",
           "title": {
            "standoff": 15
           },
           "zerolinecolor": "white"
          },
          "yaxis": {
           "automargin": true,
           "gridcolor": "white",
           "linecolor": "white",
           "showgrid": true,
           "tickcolor": "rgb(51,51,51)",
           "ticks": "outside",
           "title": {
            "standoff": 15
           },
           "zerolinecolor": "white"
          }
         }
        },
        "title": {
         "text": "Datos de SS y DBO5 en función Cluster jeráquico"
        },
        "xaxis": {
         "anchor": "y",
         "domain": [
          0,
          0.18400000000000002
         ],
         "title": {
          "text": "DBO5_x"
         }
        },
        "xaxis2": {
         "anchor": "y2",
         "domain": [
          0.20400000000000001,
          0.388
         ],
         "matches": "x",
         "title": {
          "text": "DBO5_x"
         }
        },
        "xaxis3": {
         "anchor": "y3",
         "domain": [
          0.40800000000000003,
          0.5920000000000001
         ],
         "matches": "x",
         "title": {
          "text": "DBO5_x"
         }
        },
        "xaxis4": {
         "anchor": "y4",
         "domain": [
          0.6120000000000001,
          0.7960000000000002
         ],
         "matches": "x",
         "title": {
          "text": "DBO5_x"
         }
        },
        "xaxis5": {
         "anchor": "y5",
         "domain": [
          0.8160000000000001,
          1
         ],
         "matches": "x",
         "title": {
          "text": "DBO5_x"
         }
        },
        "yaxis": {
         "anchor": "x",
         "domain": [
          0,
          1
         ],
         "title": {
          "text": "SS_x"
         }
        },
        "yaxis2": {
         "anchor": "x2",
         "domain": [
          0,
          1
         ],
         "matches": "y",
         "showticklabels": false
        },
        "yaxis3": {
         "anchor": "x3",
         "domain": [
          0,
          1
         ],
         "matches": "y",
         "showticklabels": false
        },
        "yaxis4": {
         "anchor": "x4",
         "domain": [
          0,
          1
         ],
         "matches": "y",
         "showticklabels": false
        },
        "yaxis5": {
         "anchor": "x5",
         "domain": [
          0,
          1
         ],
         "matches": "y",
         "showticklabels": false
        }
       }
      },
      "text/html": [
       "<div>                            <div id=\"d0a9db78-ffc2-4b7c-be89-74e1ebfe6038\" class=\"plotly-graph-div\" style=\"height:525px; width:100%;\"></div>            <script type=\"text/javascript\">                require([\"plotly\"], function(Plotly) {                    window.PLOTLYENV=window.PLOTLYENV || {};                                    if (document.getElementById(\"d0a9db78-ffc2-4b7c-be89-74e1ebfe6038\")) {                    Plotly.newPlot(                        \"d0a9db78-ffc2-4b7c-be89-74e1ebfe6038\",                        [{\"hovertemplate\": \"KMeans_Cluster_2=0<br>DBO5_x=%{x}<br>SS_x=%{y}<extra></extra>\", \"legendgroup\": \"\", \"marker\": {\"color\": \"#F8766D\", \"symbol\": \"circle\"}, \"mode\": \"markers\", \"name\": \"\", \"orientation\": \"v\", \"showlegend\": false, \"type\": \"scatter\", \"x\": [5.0, 5.0, 5.0, 5.0, 5.0, 5.0, 6.0, 5.0, 5.0, 5.0, 3.5, 5.0, 5.0, 5.0, 5.0, 5.0, 6.0, 5.0, 5.0, 5.0, 5.0, 5.0, 5.0, 5.0, 5.0, 5.0, 5.0, 5.0, 6.0, 5.0, 11.0, 12.0, 5.0, 5.0, 5.0, 6.0, 5.0, 5.0, 5.0, 6.0, 5.0, 5.0, 5.0, 5.0, 6.0, 5.0, 5.0, 5.0, 5.0, 5.0, 5.0, 5.0, 5.0, 5.0, 8.0, 5.0, 5.0, 5.0, 6.0, 5.0, 5.0, 5.0, 5.0, 5.0, 5.0, 5.0, 5.0, 8.0, 4.5, 4.3, 5.0, 6.0, 5.0, 5.0, 5.0, 5.0, 5.0, 5.0, 5.0, 5.0, 8.0, 6.0, 6.0, 5.0, 5.0, 5.0, 5.0, 5.0, 5.0, 5.0, 5.0, 5.0, 5.0, 5.0, 5.0, 5.0, 5.0, 5.0, 5.0, 5.0, 5.0, 5.0, 5.0, 5.0, 5.0, 5.0, 5.0, 5.0, 5.0, 5.0, 5.0, 5.0, 5.0, 6.0, 12.0, 5.0, 5.0, 9.5, 4.1, 8.3, 2.0, 2.0, 3.0, 2.0, 2.0, 3.0, 2.0, 2.0, 4.0, 3.0, 10.0, 6.0, 7.0, 5.0, 2.0, 6.0, 7.0, 3.0, 2.0, 2.0, 3.0, 2.0, 2.0, 2.0, 3.0, 2.0, 2.0, 2.0, 2.0, 2.0, 3.0, 3.0, 2.0, 8.0, 6.0, 6.0, 4.0, 8.0, 2.0, 6.0, 3.0, 2.0, 2.0, 3.0, 3.0, 3.0, 2.0, 3.0, 3.0, 5.0, 3.0, 3.0, 2.0, 6.0, 7.0, 6.0, 3.0, 6.0, 7.0, 3.0, 10.2, 3.8, 8.7, 5.0, 5.0, 2.0, 4.0, 2.0, 3.0, 3.0, 3.0, 7.0, 4.0, 5.0, 8.0, 7.0, 2.0, 11.0, 5.0, 4.0, 2.0, 2.0, 10.0, 1.8, 4.0, 4.0, 2.0, 5.0, 10.0, 5.0, 5.0, 5.0, 4.5, 3.0, 3.0, 3.0, 4.0, 5.0, 3.0, 3.0, 2.0, 5.0, 4.0, 8.0, 4.0, 5.0, 4.0, 2.0, 3.0, 4.0, 2.0, 2.0, 2.0, 2.0, 4.0, 5.0, 5.0, 6.0, 7.0, 5.0, 6.0, 5.0, 3.0, 3.0, 2.0, 2.0, 5.0, 2.0, 5.0, 9.0, 7.0], \"xaxis\": \"x\", \"y\": [5.0, 4.0, 3.0, 3.0, 4.0, 5.0, 4.0, 3.0, 3.0, 2.0, 7.0, 4.0, 2.0, 2.0, 2.0, 2.0, 2.0, 2.0, 2.0, 2.0, 2.0, 3.0, 2.0, 3.0, 5.0, 3.0, 3.0, 1.0, 3.0, 4.0, 2.0, 3.0, 3.0, 3.0, 3.0, 4.0, 1.0, 2.0, 1.0, 1.0, 2.0, 2.0, 2.0, 2.0, 4.0, 4.0, 4.0, 6.0, 6.0, 3.0, 2.0, 3.0, 1.0, 3.0, 3.0, 1.0, 3.0, 3.0, 2.0, 1.0, 3.0, 2.0, 3.0, 3.0, 3.0, 3.0, 2.0, 4.0, 2.0, 3.0, 3.0, 4.0, 3.0, 4.0, 3.0, 3.0, 2.0, 5.0, 5.0, 3.0, 3.0, 3.0, 4.0, 5.0, 4.0, 2.0, 3.0, 3.0, 2.0, 2.0, 2.0, 2.0, 4.0, 5.0, 4.0, 2.0, 1.0, 2.0, 1.0, 2.0, 1.0, 1.0, 2.0, 4.0, 1.0, 1.0, 1.0, 2.0, 2.0, 2.0, 2.0, 2.0, 1.0, 1.0, 2.0, 2.0, 1.0, 2.0, 3.0, 2.0, 3.0, 2.0, 4.4, 2.0, 2.0, 2.0, 2.0, 2.0, 2.0, 2.0, 2.0, 2.0, 2.0, 5.7, 2.8, 4.4, 2.0, 2.2, 2.0, 2.0, 4.6, 2.4, 2.0, 2.4, 2.0, 2.4, 2.0, 2.0, 6.0, 4.0, 5.0, 3.0, 6.0, 2.0, 4.0, 2.0, 2.0, 5.0, 3.0, 4.0, 4.0, 7.0, 6.0, 3.0, 7.2, 5.2, 5.2, 3.2, 2.8, 6.4, 5.6, 5.6, 3.6, 3.2, 3.0, 2.0, 2.0, 3.4, 2.9, 3.2, 2.6, 3.4, 3.2, 5.2, 5.0, 2.6, 4.0, 2.0, 2.0, 2.0, 4.0, 2.4, 2.8, 2.0, 2.4, 2.0, 2.2, 2.8, 3.0, 4.0, 2.4, 2.0, 3.4, 1.7, 6.4, 5.0, 5.8, 5.0, 3.0, 4.0, 5.0, 5.0, 5.5, 7.0, 6.0, 7.0, 4.0, 6.0, 5.0, 5.0, 5.0, 5.0, 6.0, 4.8, 4.0, 4.8, 2.8, 4.0, 6.4, 6.6, 4.8, 7.4, 4.4, 5.8, 3.6, 2.2, 2.0, 4.5, 5.0, 5.6, 2.2, 4.2, 7.2, 3.4, 2.4, 3.2, 4.6, 4.6, 6.5, 4.0, 5.0], \"yaxis\": \"y\"}, {\"hovertemplate\": \"KMeans_Cluster_2=3<br>DBO5_x=%{x}<br>SS_x=%{y}<extra></extra>\", \"legendgroup\": \"\", \"marker\": {\"color\": \"#F8766D\", \"symbol\": \"circle\"}, \"mode\": \"markers\", \"name\": \"\", \"orientation\": \"v\", \"showlegend\": false, \"type\": \"scatter\", \"x\": [5.0, 2.0, 7.0, 3.0, 8.0, 9.0, 5.0, 7.0, 11.0, 7.0, 5.0, 8.0, 10.0, 6.0, 7.0, 11.0, 5.0, 10.0, 9.0, 5.0, 8.0, 7.0, 5.0, 10.0, 8.0, 8.5, 10.0, 5.0, 6.0, 5.0, 6.0, 8.0, 5.0, 5.0, 5.0, 8.0, 10.0, 7.0, 5.0, 11.0, 7.0, 4.7, 11.0, 5.0, 5.0, 6.0, 2.0, 7.0, 2.0, 9.0, 6.0, 5.0, 5.0, 8.0, 3.0, 10.0, 8.0, 9.0, 9.0, 9.0, 10.0, 8.0, 11.0, 9.0, 10.0, 9.0, 9.0, 7.0, 9.0, 6.0, 9.0], \"xaxis\": \"x2\", \"y\": [13.0, 22.0, 15.0, 13.0, 13.0, 14.0, 16.0, 14.0, 24.0, 18.0, 15.0, 17.0, 17.0, 13.0, 15.0, 18.0, 14.0, 14.0, 13.0, 17.0, 14.0, 15.0, 15.0, 14.0, 13.0, 13.0, 22.0, 14.0, 16.0, 15.0, 15.0, 14.0, 15.0, 15.0, 18.0, 14.0, 17.0, 22.0, 13.0, 16.0, 19.0, 17.0, 16.0, 18.0, 21.0, 13.0, 16.0, 16.0, 16.0, 18.0, 15.0, 14.0, 23.0, 15.0, 16.0, 13.0, 14.0, 14.0, 14.0, 18.0, 14.0, 14.0, 17.0, 16.0, 14.0, 14.0, 14.0, 14.0, 18.0, 21.0, 15.0], \"yaxis\": \"y2\"}, {\"hovertemplate\": \"KMeans_Cluster_2=4<br>DBO5_x=%{x}<br>SS_x=%{y}<extra></extra>\", \"legendgroup\": \"\", \"marker\": {\"color\": \"#F8766D\", \"symbol\": \"circle\"}, \"mode\": \"markers\", \"name\": \"\", \"orientation\": \"v\", \"showlegend\": false, \"type\": \"scatter\", \"x\": [5.0, 5.0, 5.0, 5.0, 8.0, 2.0, 5.0, 3.0, 3.0, 4.0, 5.0, 9.0, 2.0, 2.0, 8.0, 11.0, 2.0, 2.0, 9.0, 3.0, 5.0, 5.0, 4.0, 5.0, 8.0, 10.0, 8.0, 8.0, 9.0, 6.0, 7.0, 7.0, 5.0, 7.0, 6.0, 11.0, 7.0, 7.0, 8.0, 5.0, 10.0, 9.0, 8.0, 9.0, 8.0, 8.0, 10.0, 8.0, 8.0, 7.0, 12.0, 11.0, 5.0, 6.0, 7.0, 12.0, 9.0, 9.0, 6.0, 5.0, 8.0, 4.8, 5.0, 10.0, 8.0, 8.0, 9.0, 8.0, 5.0, 5.0, 5.0, 6.0, 5.0, 5.0, 5.0, 5.0, 7.0, 7.0, 7.0, 7.0, 5.0, 8.0, 11.0, 11.0, 5.0, 7.0, 6.0, 5.0, 5.0, 5.0, 9.0, 8.0, 6.0, 6.0, 9.0, 7.0, 7.0, 5.0, 5.0, 5.0, 8.0, 5.0, 3.0, 7.0, 6.0, 6.0, 5.0, 5.0, 6.0, 6.0, 7.0, 4.0, 3.0, 6.0, 3.0, 5.0, 3.0, 8.0, 3.0, 4.0, 3.0, 6.0, 11.0, 8.9, 9.8, 3.0, 2.0, 2.0, 8.0, 10.0, 5.0, 3.0, 2.0, 7.0, 8.0, 10.0, 7.0, 12.0, 10.0, 10.0, 5.0, 10.0, 8.0, 6.0, 8.0, 11.0, 10.0, 10.0, 12.0, 6.0, 10.1, 10.0, 9.0, 11.0, 9.0, 9.0, 12.0, 15.0, 7.0, 13.0, 9.0, 11.0, 11.0, 4.0, 7.0, 9.0, 6.0, 10.0, 8.0, 9.0, 13.0, 10.0, 7.0, 9.0, 7.0, 7.0, 9.0, 9.0, 2.0, 11.0, 8.0, 9.0, 7.0, 8.0, 6.0, 7.0, 10.0, 12.0, 5.0, 10.0, 12.0, 11.0, 9.0, 2.0, 6.0], \"xaxis\": \"x3\", \"y\": [7.0, 7.0, 7.0, 7.0, 5.4, 12.0, 7.0, 8.0, 10.0, 8.0, 7.0, 5.0, 10.0, 12.0, 9.0, 6.4, 12.0, 7.8, 5.3, 7.7, 10.0, 11.0, 9.2, 12.0, 12.0, 9.0, 9.0, 8.0, 10.0, 7.0, 9.0, 9.0, 7.0, 8.0, 12.0, 5.0, 6.0, 8.0, 12.0, 8.0, 8.0, 11.0, 11.0, 5.0, 9.0, 7.0, 12.0, 7.0, 9.0, 9.0, 9.0, 9.0, 8.0, 12.0, 11.0, 9.0, 11.0, 11.0, 9.0, 9.0, 12.0, 10.0, 7.0, 9.0, 11.0, 10.0, 12.0, 10.0, 9.0, 9.0, 12.0, 11.0, 8.0, 9.0, 11.0, 9.0, 11.0, 11.0, 11.0, 10.0, 8.0, 12.0, 11.0, 9.0, 9.0, 11.0, 12.0, 9.0, 12.0, 10.0, 12.0, 8.0, 9.0, 10.0, 11.0, 6.0, 8.0, 11.0, 10.0, 11.0, 11.0, 11.0, 12.0, 10.0, 10.0, 11.0, 8.0, 8.0, 9.0, 9.0, 12.0, 7.0, 10.0, 7.0, 8.0, 10.0, 8.4, 9.2, 8.0, 8.1, 8.0, 8.0, 7.5, 10.2, 5.0, 7.6, 11.0, 8.4, 7.2, 5.6, 12.0, 9.5, 10.0, 8.0, 6.0, 8.0, 6.0, 10.0, 9.0, 9.0, 11.0, 9.5, 8.4, 7.0, 8.4, 8.4, 6.0, 11.0, 8.0, 8.4, 11.6, 9.2, 7.0, 8.5, 7.6, 9.6, 7.0, 5.0, 10.0, 5.1, 5.0, 9.3, 8.6, 8.0, 11.0, 6.0, 8.0, 6.0, 10.0, 9.0, 6.0, 11.0, 9.2, 11.0, 11.0, 10.0, 8.0, 8.0, 12.0, 6.4, 7.2, 11.0, 9.2, 8.0, 10.0, 6.8, 8.0, 8.0, 10.0, 11.0, 10.0, 6.9, 12.0, 9.1, 10.0], \"yaxis\": \"y3\"}, {\"hovertemplate\": \"KMeans_Cluster_2=1<br>DBO5_x=%{x}<br>SS_x=%{y}<extra></extra>\", \"legendgroup\": \"\", \"marker\": {\"color\": \"#F8766D\", \"symbol\": \"circle\"}, \"mode\": \"markers\", \"name\": \"\", \"orientation\": \"v\", \"showlegend\": false, \"type\": \"scatter\", \"x\": [18.0, 18.0, 11.0, 14.0, 14.0, 12.0, 20.0, 17.0, 11.0, 12.0, 30.0, 15.0, 21.0, 13.0, 12.0, 20.0, 11.0, 12.0, 16.0, 12.0, 17.0, 12.0, 15.0, 30.0, 14.0, 12.0, 11.0, 12.0, 11.0, 13.0, 15.0, 13.0, 17.0, 20.0, 13.0, 12.0, 14.0, 13.0, 12.0, 11.0, 15.0, 18.0, 13.0, 16.0, 16.0, 11.0, 12.0, 13.0, 16.3, 13.2, 15.0, 12.0, 16.0, 13.0, 13.0, 12.0, 16.0, 15.0, 14.0, 14.0, 18.0, 15.0, 15.0, 23.0, 14.0, 17.0, 16.0, 13.0, 13.0, 18.0, 12.0, 14.0, 11.0, 11.0, 21.0, 38.0, 16.0, 14.0, 13.0, 12.0, 15.4, 11.9, 14.0, 15.0, 13.0, 18.0, 16.0, 14.0, 17.0, 14.0, 13.0, 12.0, 15.0, 15.0, 14.0, 12.0], \"xaxis\": \"x4\", \"y\": [9.0, 14.0, 14.0, 12.0, 14.0, 11.0, 11.0, 15.0, 13.0, 17.0, 14.0, 10.0, 13.0, 15.0, 15.0, 14.0, 14.0, 19.0, 12.0, 13.0, 10.0, 12.0, 13.0, 11.0, 13.0, 15.0, 13.0, 12.0, 12.0, 16.0, 17.0, 20.0, 16.0, 21.0, 11.0, 18.0, 19.0, 14.0, 13.0, 13.0, 13.0, 9.0, 16.0, 15.0, 12.0, 12.0, 13.0, 16.0, 22.0, 11.2, 15.0, 16.0, 7.6, 11.0, 9.1, 12.0, 14.0, 14.0, 10.0, 14.0, 18.0, 13.0, 15.0, 24.0, 12.0, 20.0, 18.0, 17.0, 15.0, 17.0, 14.0, 13.0, 13.0, 14.0, 19.0, 15.0, 15.0, 12.0, 10.0, 16.0, 13.0, 13.6, 17.5, 17.0, 15.0, 23.0, 16.0, 14.0, 11.0, 15.0, 13.0, 16.0, 11.0, 17.0, 10.0, 16.0], \"yaxis\": \"y4\"}, {\"hovertemplate\": \"KMeans_Cluster_2=2<br>DBO5_x=%{x}<br>SS_x=%{y}<extra></extra>\", \"legendgroup\": \"\", \"marker\": {\"color\": \"#F8766D\", \"symbol\": \"circle\"}, \"mode\": \"markers\", \"name\": \"\", \"orientation\": \"v\", \"showlegend\": false, \"type\": \"scatter\", \"x\": [5.0, 9.0, 6.0, 19.0, 15.0, 29.0, 35.0, 12.0, 17.0, 15.0, 13.0], \"xaxis\": \"x5\", \"y\": [35.0, 32.0, 29.0, 39.0, 27.0, 26.0, 31.0, 46.0, 55.0, 30.0, 52.0], \"yaxis\": \"y5\"}],                        {\"annotations\": [{\"font\": {}, \"showarrow\": false, \"text\": \"KMeans_Cluster_2=0\", \"x\": 0.09200000000000001, \"xanchor\": \"center\", \"xref\": \"paper\", \"y\": 1.0, \"yanchor\": \"bottom\", \"yref\": \"paper\"}, {\"font\": {}, \"showarrow\": false, \"text\": \"KMeans_Cluster_2=3\", \"x\": 0.29600000000000004, \"xanchor\": \"center\", \"xref\": \"paper\", \"y\": 1.0, \"yanchor\": \"bottom\", \"yref\": \"paper\"}, {\"font\": {}, \"showarrow\": false, \"text\": \"KMeans_Cluster_2=4\", \"x\": 0.5, \"xanchor\": \"center\", \"xref\": \"paper\", \"y\": 1.0, \"yanchor\": \"bottom\", \"yref\": \"paper\"}, {\"font\": {}, \"showarrow\": false, \"text\": \"KMeans_Cluster_2=1\", \"x\": 0.7040000000000002, \"xanchor\": \"center\", \"xref\": \"paper\", \"y\": 1.0, \"yanchor\": \"bottom\", \"yref\": \"paper\"}, {\"font\": {}, \"showarrow\": false, \"text\": \"KMeans_Cluster_2=2\", \"x\": 0.908, \"xanchor\": \"center\", \"xref\": \"paper\", \"y\": 1.0, \"yanchor\": \"bottom\", \"yref\": \"paper\"}], \"legend\": {\"tracegroupgap\": 0}, \"template\": {\"data\": {\"bar\": [{\"error_x\": {\"color\": \"rgb(51,51,51)\"}, \"error_y\": {\"color\": \"rgb(51,51,51)\"}, \"marker\": {\"line\": {\"color\": \"rgb(237,237,237)\", \"width\": 0.5}}, \"type\": \"bar\"}], \"barpolar\": [{\"marker\": {\"line\": {\"color\": \"rgb(237,237,237)\", \"width\": 0.5}}, \"type\": \"barpolar\"}], \"carpet\": [{\"aaxis\": {\"endlinecolor\": \"rgb(51,51,51)\", \"gridcolor\": \"white\", \"linecolor\": \"white\", \"minorgridcolor\": \"white\", \"startlinecolor\": \"rgb(51,51,51)\"}, \"baxis\": {\"endlinecolor\": \"rgb(51,51,51)\", \"gridcolor\": \"white\", \"linecolor\": \"white\", \"minorgridcolor\": \"white\", \"startlinecolor\": \"rgb(51,51,51)\"}, \"type\": \"carpet\"}], \"choropleth\": [{\"colorbar\": {\"outlinewidth\": 0, \"tickcolor\": \"rgb(237,237,237)\", \"ticklen\": 6, \"ticks\": \"inside\"}, \"type\": \"choropleth\"}], \"contour\": [{\"colorbar\": {\"outlinewidth\": 0, \"tickcolor\": \"rgb(237,237,237)\", \"ticklen\": 6, \"ticks\": \"inside\"}, \"colorscale\": [[0, \"rgb(20,44,66)\"], [1, \"rgb(90,179,244)\"]], \"type\": \"contour\"}], \"contourcarpet\": [{\"colorbar\": {\"outlinewidth\": 0, \"tickcolor\": \"rgb(237,237,237)\", \"ticklen\": 6, \"ticks\": \"inside\"}, \"type\": \"contourcarpet\"}], \"heatmap\": [{\"colorbar\": {\"outlinewidth\": 0, \"tickcolor\": \"rgb(237,237,237)\", \"ticklen\": 6, \"ticks\": \"inside\"}, \"colorscale\": [[0, \"rgb(20,44,66)\"], [1, \"rgb(90,179,244)\"]], \"type\": \"heatmap\"}], \"heatmapgl\": [{\"colorbar\": {\"outlinewidth\": 0, \"tickcolor\": \"rgb(237,237,237)\", \"ticklen\": 6, \"ticks\": \"inside\"}, \"colorscale\": [[0, \"rgb(20,44,66)\"], [1, \"rgb(90,179,244)\"]], \"type\": \"heatmapgl\"}], \"histogram\": [{\"marker\": {\"colorbar\": {\"outlinewidth\": 0, \"tickcolor\": \"rgb(237,237,237)\", \"ticklen\": 6, \"ticks\": \"inside\"}}, \"type\": \"histogram\"}], \"histogram2d\": [{\"colorbar\": {\"outlinewidth\": 0, \"tickcolor\": \"rgb(237,237,237)\", \"ticklen\": 6, \"ticks\": \"inside\"}, \"colorscale\": [[0, \"rgb(20,44,66)\"], [1, \"rgb(90,179,244)\"]], \"type\": \"histogram2d\"}], \"histogram2dcontour\": [{\"colorbar\": {\"outlinewidth\": 0, \"tickcolor\": \"rgb(237,237,237)\", \"ticklen\": 6, \"ticks\": \"inside\"}, \"colorscale\": [[0, \"rgb(20,44,66)\"], [1, \"rgb(90,179,244)\"]], \"type\": \"histogram2dcontour\"}], \"mesh3d\": [{\"colorbar\": {\"outlinewidth\": 0, \"tickcolor\": \"rgb(237,237,237)\", \"ticklen\": 6, \"ticks\": \"inside\"}, \"type\": \"mesh3d\"}], \"parcoords\": [{\"line\": {\"colorbar\": {\"outlinewidth\": 0, \"tickcolor\": \"rgb(237,237,237)\", \"ticklen\": 6, \"ticks\": \"inside\"}}, \"type\": \"parcoords\"}], \"pie\": [{\"automargin\": true, \"type\": \"pie\"}], \"scatter\": [{\"marker\": {\"colorbar\": {\"outlinewidth\": 0, \"tickcolor\": \"rgb(237,237,237)\", \"ticklen\": 6, \"ticks\": \"inside\"}}, \"type\": \"scatter\"}], \"scatter3d\": [{\"line\": {\"colorbar\": {\"outlinewidth\": 0, \"tickcolor\": \"rgb(237,237,237)\", \"ticklen\": 6, \"ticks\": \"inside\"}}, \"marker\": {\"colorbar\": {\"outlinewidth\": 0, \"tickcolor\": \"rgb(237,237,237)\", \"ticklen\": 6, \"ticks\": \"inside\"}}, \"type\": \"scatter3d\"}], \"scattercarpet\": [{\"marker\": {\"colorbar\": {\"outlinewidth\": 0, \"tickcolor\": \"rgb(237,237,237)\", \"ticklen\": 6, \"ticks\": \"inside\"}}, \"type\": \"scattercarpet\"}], \"scattergeo\": [{\"marker\": {\"colorbar\": {\"outlinewidth\": 0, \"tickcolor\": \"rgb(237,237,237)\", \"ticklen\": 6, \"ticks\": \"inside\"}}, \"type\": \"scattergeo\"}], \"scattergl\": [{\"marker\": {\"colorbar\": {\"outlinewidth\": 0, \"tickcolor\": \"rgb(237,237,237)\", \"ticklen\": 6, \"ticks\": \"inside\"}}, \"type\": \"scattergl\"}], \"scattermapbox\": [{\"marker\": {\"colorbar\": {\"outlinewidth\": 0, \"tickcolor\": \"rgb(237,237,237)\", \"ticklen\": 6, \"ticks\": \"inside\"}}, \"type\": \"scattermapbox\"}], \"scatterpolar\": [{\"marker\": {\"colorbar\": {\"outlinewidth\": 0, \"tickcolor\": \"rgb(237,237,237)\", \"ticklen\": 6, \"ticks\": \"inside\"}}, \"type\": \"scatterpolar\"}], \"scatterpolargl\": [{\"marker\": {\"colorbar\": {\"outlinewidth\": 0, \"tickcolor\": \"rgb(237,237,237)\", \"ticklen\": 6, \"ticks\": \"inside\"}}, \"type\": \"scatterpolargl\"}], \"scatterternary\": [{\"marker\": {\"colorbar\": {\"outlinewidth\": 0, \"tickcolor\": \"rgb(237,237,237)\", \"ticklen\": 6, \"ticks\": \"inside\"}}, \"type\": \"scatterternary\"}], \"surface\": [{\"colorbar\": {\"outlinewidth\": 0, \"tickcolor\": \"rgb(237,237,237)\", \"ticklen\": 6, \"ticks\": \"inside\"}, \"colorscale\": [[0, \"rgb(20,44,66)\"], [1, \"rgb(90,179,244)\"]], \"type\": \"surface\"}], \"table\": [{\"cells\": {\"fill\": {\"color\": \"rgb(237,237,237)\"}, \"line\": {\"color\": \"white\"}}, \"header\": {\"fill\": {\"color\": \"rgb(217,217,217)\"}, \"line\": {\"color\": \"white\"}}, \"type\": \"table\"}]}, \"layout\": {\"annotationdefaults\": {\"arrowhead\": 0, \"arrowwidth\": 1}, \"coloraxis\": {\"colorbar\": {\"outlinewidth\": 0, \"tickcolor\": \"rgb(237,237,237)\", \"ticklen\": 6, \"ticks\": \"inside\"}}, \"colorscale\": {\"sequential\": [[0, \"rgb(20,44,66)\"], [1, \"rgb(90,179,244)\"]], \"sequentialminus\": [[0, \"rgb(20,44,66)\"], [1, \"rgb(90,179,244)\"]]}, \"colorway\": [\"#F8766D\", \"#A3A500\", \"#00BF7D\", \"#00B0F6\", \"#E76BF3\"], \"font\": {\"color\": \"rgb(51,51,51)\"}, \"geo\": {\"bgcolor\": \"white\", \"lakecolor\": \"white\", \"landcolor\": \"rgb(237,237,237)\", \"showlakes\": true, \"showland\": true, \"subunitcolor\": \"white\"}, \"hoverlabel\": {\"align\": \"left\"}, \"hovermode\": \"closest\", \"paper_bgcolor\": \"white\", \"plot_bgcolor\": \"rgb(237,237,237)\", \"polar\": {\"angularaxis\": {\"gridcolor\": \"white\", \"linecolor\": \"white\", \"showgrid\": true, \"tickcolor\": \"rgb(51,51,51)\", \"ticks\": \"outside\"}, \"bgcolor\": \"rgb(237,237,237)\", \"radialaxis\": {\"gridcolor\": \"white\", \"linecolor\": \"white\", \"showgrid\": true, \"tickcolor\": \"rgb(51,51,51)\", \"ticks\": \"outside\"}}, \"scene\": {\"xaxis\": {\"backgroundcolor\": \"rgb(237,237,237)\", \"gridcolor\": \"white\", \"gridwidth\": 2, \"linecolor\": \"white\", \"showbackground\": true, \"showgrid\": true, \"tickcolor\": \"rgb(51,51,51)\", \"ticks\": \"outside\", \"zerolinecolor\": \"white\"}, \"yaxis\": {\"backgroundcolor\": \"rgb(237,237,237)\", \"gridcolor\": \"white\", \"gridwidth\": 2, \"linecolor\": \"white\", \"showbackground\": true, \"showgrid\": true, \"tickcolor\": \"rgb(51,51,51)\", \"ticks\": \"outside\", \"zerolinecolor\": \"white\"}, \"zaxis\": {\"backgroundcolor\": \"rgb(237,237,237)\", \"gridcolor\": \"white\", \"gridwidth\": 2, \"linecolor\": \"white\", \"showbackground\": true, \"showgrid\": true, \"tickcolor\": \"rgb(51,51,51)\", \"ticks\": \"outside\", \"zerolinecolor\": \"white\"}}, \"shapedefaults\": {\"fillcolor\": \"black\", \"line\": {\"width\": 0}, \"opacity\": 0.3}, \"ternary\": {\"aaxis\": {\"gridcolor\": \"white\", \"linecolor\": \"white\", \"showgrid\": true, \"tickcolor\": \"rgb(51,51,51)\", \"ticks\": \"outside\"}, \"baxis\": {\"gridcolor\": \"white\", \"linecolor\": \"white\", \"showgrid\": true, \"tickcolor\": \"rgb(51,51,51)\", \"ticks\": \"outside\"}, \"bgcolor\": \"rgb(237,237,237)\", \"caxis\": {\"gridcolor\": \"white\", \"linecolor\": \"white\", \"showgrid\": true, \"tickcolor\": \"rgb(51,51,51)\", \"ticks\": \"outside\"}}, \"xaxis\": {\"automargin\": true, \"gridcolor\": \"white\", \"linecolor\": \"white\", \"showgrid\": true, \"tickcolor\": \"rgb(51,51,51)\", \"ticks\": \"outside\", \"title\": {\"standoff\": 15}, \"zerolinecolor\": \"white\"}, \"yaxis\": {\"automargin\": true, \"gridcolor\": \"white\", \"linecolor\": \"white\", \"showgrid\": true, \"tickcolor\": \"rgb(51,51,51)\", \"ticks\": \"outside\", \"title\": {\"standoff\": 15}, \"zerolinecolor\": \"white\"}}}, \"title\": {\"text\": \"Datos de SS y DBO5 en funci\\u00f3n Cluster jer\\u00e1quico\"}, \"xaxis\": {\"anchor\": \"y\", \"domain\": [0.0, 0.18400000000000002], \"title\": {\"text\": \"DBO5_x\"}}, \"xaxis2\": {\"anchor\": \"y2\", \"domain\": [0.20400000000000001, 0.388], \"matches\": \"x\", \"title\": {\"text\": \"DBO5_x\"}}, \"xaxis3\": {\"anchor\": \"y3\", \"domain\": [0.40800000000000003, 0.5920000000000001], \"matches\": \"x\", \"title\": {\"text\": \"DBO5_x\"}}, \"xaxis4\": {\"anchor\": \"y4\", \"domain\": [0.6120000000000001, 0.7960000000000002], \"matches\": \"x\", \"title\": {\"text\": \"DBO5_x\"}}, \"xaxis5\": {\"anchor\": \"y5\", \"domain\": [0.8160000000000001, 1.0], \"matches\": \"x\", \"title\": {\"text\": \"DBO5_x\"}}, \"yaxis\": {\"anchor\": \"x\", \"domain\": [0.0, 1.0], \"title\": {\"text\": \"SS_x\"}}, \"yaxis2\": {\"anchor\": \"x2\", \"domain\": [0.0, 1.0], \"matches\": \"y\", \"showticklabels\": false}, \"yaxis3\": {\"anchor\": \"x3\", \"domain\": [0.0, 1.0], \"matches\": \"y\", \"showticklabels\": false}, \"yaxis4\": {\"anchor\": \"x4\", \"domain\": [0.0, 1.0], \"matches\": \"y\", \"showticklabels\": false}, \"yaxis5\": {\"anchor\": \"x5\", \"domain\": [0.0, 1.0], \"matches\": \"y\", \"showticklabels\": false}},                        {\"responsive\": true}                    ).then(function(){\n",
       "                            \n",
       "var gd = document.getElementById('d0a9db78-ffc2-4b7c-be89-74e1ebfe6038');\n",
       "var x = new MutationObserver(function (mutations, observer) {{\n",
       "        var display = window.getComputedStyle(gd).display;\n",
       "        if (!display || display === 'none') {{\n",
       "            console.log([gd, 'removed!']);\n",
       "            Plotly.purge(gd);\n",
       "            observer.disconnect();\n",
       "        }}\n",
       "}});\n",
       "\n",
       "// Listen for the removal of the full notebook cells\n",
       "var notebookContainer = gd.closest('#notebook-container');\n",
       "if (notebookContainer) {{\n",
       "    x.observe(notebookContainer, {childList: true});\n",
       "}}\n",
       "\n",
       "// Listen for the clearing of the current output cell\n",
       "var outputEl = gd.closest('.output');\n",
       "if (outputEl) {{\n",
       "    x.observe(outputEl, {childList: true});\n",
       "}}\n",
       "\n",
       "                        })                };                });            </script>        </div>"
      ]
     },
     "metadata": {},
     "output_type": "display_data"
    }
   ],
   "source": [
    "fig2 = px.scatter(\n",
    "  data_2, x=data_2['DBO5_x'], y=data_2[\"SS_x\"], \n",
    "  template=\"ggplot2\", facet_col = data_2['KMeans_Cluster_2']\n",
    ", title=\"Datos de SS y DBO5 en función Cluster jeráquico\",)\n",
    "fig2"
   ]
  },
  {
   "cell_type": "code",
   "execution_count": 34,
   "metadata": {},
   "outputs": [
    {
     "data": {
      "application/vnd.plotly.v1+json": {
       "config": {
        "plotlyServerURL": "https://plot.ly"
       },
       "data": [
        {
         "hovertemplate": "KMeans_Cluster=1<br>DBO5_x=%{x}<br>SS_x=%{y}<extra></extra>",
         "legendgroup": "",
         "marker": {
          "color": "#F8766D",
          "symbol": "circle"
         },
         "mode": "markers",
         "name": "",
         "orientation": "v",
         "showlegend": false,
         "type": "scatter",
         "x": [
          5,
          5,
          5,
          5,
          5,
          5,
          6,
          5,
          5,
          5,
          3.5,
          5,
          5,
          5,
          5,
          5,
          6,
          5,
          5,
          5,
          5,
          5,
          5,
          5,
          5,
          5,
          5,
          5,
          6,
          5,
          11,
          12,
          5,
          5,
          5,
          6,
          5,
          5,
          5,
          6,
          5,
          5,
          5,
          5,
          6,
          5,
          5,
          5,
          5,
          5,
          5,
          5,
          5,
          8,
          5,
          5,
          5,
          6,
          5,
          5,
          5,
          5,
          5,
          5,
          5,
          5,
          5,
          8,
          4.5,
          4.3,
          5,
          6,
          5,
          5,
          5,
          5,
          5,
          5,
          5,
          5,
          5,
          5,
          5,
          5,
          5,
          5,
          5,
          5,
          5,
          5,
          5,
          5,
          5,
          5,
          5,
          5,
          5,
          5,
          5,
          5,
          5,
          5,
          5,
          5,
          5,
          5,
          5,
          6,
          12,
          5,
          5,
          5,
          9.5,
          4.1,
          8.3,
          8,
          2,
          2,
          3,
          2,
          2,
          3,
          2,
          2,
          4,
          3,
          10,
          6,
          7,
          5,
          2,
          6,
          7,
          3,
          2,
          2,
          3,
          2,
          2,
          2,
          3,
          2,
          2,
          2,
          5,
          2,
          3,
          2,
          4,
          3,
          3,
          2,
          5,
          9,
          8,
          6,
          6,
          4,
          8,
          2,
          6,
          3,
          2,
          2,
          3,
          3,
          3,
          2,
          3,
          3,
          5,
          3,
          11,
          3,
          2,
          6,
          7,
          6,
          3,
          6,
          7,
          3,
          10.2,
          3.8,
          8.7,
          5,
          5,
          2,
          4,
          2,
          2,
          3,
          3,
          3,
          7,
          4,
          5,
          8,
          7,
          9,
          2,
          11,
          5,
          4,
          2,
          3,
          2,
          10,
          1.8,
          4,
          4,
          2,
          5,
          6,
          10,
          5,
          11,
          7,
          5,
          9,
          5,
          5,
          4.5,
          3,
          3,
          3,
          4,
          5,
          3,
          3,
          2,
          5,
          4,
          6,
          3,
          3,
          4,
          3,
          8,
          4,
          5,
          4,
          6,
          2,
          3,
          9.8,
          4,
          3,
          2,
          2,
          2,
          2,
          2,
          4,
          5,
          5,
          6,
          7,
          5,
          8,
          6,
          10,
          5,
          3,
          3,
          2,
          2,
          5,
          2,
          8,
          7,
          6,
          10,
          5,
          9,
          9,
          13,
          9,
          4,
          9,
          7,
          6,
          10,
          13,
          11,
          8,
          7,
          2
         ],
         "xaxis": "x",
         "y": [
          5,
          4,
          3,
          3,
          4,
          5,
          4,
          3,
          3,
          2,
          7,
          4,
          2,
          2,
          2,
          2,
          2,
          2,
          2,
          2,
          2,
          3,
          2,
          3,
          5,
          3,
          3,
          1,
          3,
          4,
          2,
          3,
          3,
          3,
          3,
          4,
          1,
          2,
          1,
          1,
          2,
          2,
          2,
          2,
          4,
          4,
          4,
          6,
          3,
          2,
          3,
          1,
          3,
          3,
          1,
          3,
          3,
          2,
          1,
          3,
          2,
          3,
          3,
          3,
          3,
          2,
          7,
          4,
          2,
          3,
          3,
          4,
          3,
          7,
          4,
          3,
          3,
          4,
          7,
          2,
          3,
          3,
          2,
          2,
          2,
          2,
          4,
          5,
          4,
          2,
          1,
          2,
          1,
          2,
          1,
          1,
          2,
          4,
          1,
          1,
          1,
          2,
          2,
          2,
          2,
          2,
          1,
          1,
          2,
          2,
          1,
          7,
          2,
          3,
          2,
          5.4,
          3,
          2,
          4.4,
          2,
          2,
          2,
          2,
          2,
          2,
          2,
          2,
          2,
          2,
          5.7,
          2.8,
          4.4,
          2,
          2.2,
          2,
          2,
          4.6,
          2.4,
          2,
          2.4,
          2,
          2.4,
          2,
          2,
          7,
          6,
          8,
          4,
          8,
          5,
          3,
          6,
          7,
          5,
          2,
          4,
          2,
          2,
          5,
          3,
          4,
          4,
          7,
          6,
          3,
          7.2,
          5.2,
          5.2,
          3.2,
          2.8,
          6.4,
          5.6,
          6.4,
          5.6,
          3.6,
          3.2,
          3,
          2,
          2,
          3.4,
          2.9,
          3.2,
          2.6,
          3.4,
          3.2,
          5.2,
          5,
          2.6,
          4,
          2,
          7.8,
          2,
          2,
          4,
          2.4,
          2.8,
          2,
          2.4,
          2,
          5.3,
          2.2,
          2.8,
          3,
          4,
          2.4,
          7.7,
          2,
          3.4,
          1.7,
          6.4,
          5,
          5.8,
          5,
          7,
          3,
          7,
          5,
          6,
          4,
          5,
          5,
          5,
          5.5,
          7,
          6,
          7,
          4,
          6,
          5,
          5,
          5,
          5,
          6,
          7,
          8.4,
          8,
          8.1,
          8,
          4.8,
          4,
          4.8,
          2.8,
          8,
          4,
          6.4,
          5,
          6.6,
          7.6,
          4.8,
          8.4,
          7.4,
          4.4,
          5.8,
          3.6,
          2.2,
          2,
          4.5,
          5,
          5.6,
          7.2,
          2.2,
          5.6,
          4.2,
          7.2,
          3.4,
          2.4,
          3.2,
          4.6,
          4.6,
          6,
          6,
          7,
          6,
          6.5,
          7,
          4,
          5.1,
          5,
          8,
          6,
          5,
          8,
          6,
          6,
          6.4,
          7.2,
          6.8,
          9.1
         ],
         "yaxis": "y"
        },
        {
         "hovertemplate": "KMeans_Cluster=3<br>DBO5_x=%{x}<br>SS_x=%{y}<extra></extra>",
         "legendgroup": "",
         "marker": {
          "color": "#F8766D",
          "symbol": "circle"
         },
         "mode": "markers",
         "name": "",
         "orientation": "v",
         "showlegend": false,
         "type": "scatter",
         "x": [
          5,
          5,
          2,
          2,
          3,
          7,
          2,
          2,
          3,
          8,
          2,
          5,
          5,
          4,
          5,
          8,
          8,
          10,
          8,
          8,
          9,
          7,
          7,
          7,
          6,
          7,
          8,
          5,
          10,
          9,
          8,
          8,
          8,
          10,
          8,
          8,
          7,
          12,
          11,
          5,
          9,
          5,
          7,
          6,
          7,
          5,
          8,
          7,
          6,
          7,
          5,
          12,
          9,
          9,
          6,
          5,
          8,
          4.8,
          10,
          9,
          5,
          8,
          7,
          5,
          10,
          8,
          5,
          10,
          8,
          8.5,
          8,
          9,
          8,
          5,
          5,
          6,
          5,
          5,
          5,
          6,
          6,
          5,
          8,
          5,
          5,
          5,
          5,
          7,
          7,
          7,
          7,
          5,
          8,
          5,
          11,
          11,
          5,
          5,
          8,
          7,
          6,
          5,
          5,
          5,
          9,
          8,
          10,
          6,
          6,
          7,
          5,
          9,
          7,
          7,
          5,
          5,
          5,
          7,
          11,
          4.7,
          12,
          5,
          8,
          5,
          5,
          11,
          6,
          2,
          3,
          7,
          6,
          6,
          5,
          5,
          6,
          6,
          7,
          4,
          3,
          7,
          3,
          2,
          5,
          8,
          6,
          11,
          8.9,
          2,
          5,
          5,
          8,
          5,
          3,
          3,
          2,
          10,
          7,
          10,
          10,
          8,
          10,
          5,
          10,
          8,
          8,
          11,
          10,
          12,
          9,
          6,
          10.1,
          10,
          9,
          11,
          9,
          9,
          12,
          7,
          11,
          11,
          8,
          7,
          8,
          9,
          9,
          9,
          10,
          7,
          9,
          7,
          7,
          9,
          9,
          7,
          2,
          9,
          7,
          8,
          6,
          10,
          6,
          12,
          5,
          10,
          11,
          9,
          9,
          6
         ],
         "xaxis": "x2",
         "y": [
          13,
          6,
          12,
          22,
          10,
          15,
          10,
          12,
          13,
          9,
          12,
          10,
          11,
          9.2,
          12,
          12,
          13,
          9,
          9,
          8,
          10,
          9,
          9,
          8,
          12,
          8,
          12,
          8,
          8,
          11,
          11,
          9,
          7,
          12,
          7,
          9,
          9,
          9,
          9,
          8,
          14,
          16,
          14,
          12,
          18,
          15,
          17,
          11,
          13,
          15,
          14,
          9,
          11,
          11,
          9,
          9,
          12,
          10,
          14,
          13,
          17,
          14,
          15,
          7,
          9,
          11,
          15,
          14,
          13,
          13,
          10,
          12,
          10,
          9,
          14,
          16,
          15,
          9,
          12,
          15,
          11,
          8,
          14,
          9,
          11,
          15,
          9,
          11,
          11,
          11,
          10,
          8,
          12,
          15,
          11,
          9,
          9,
          18,
          14,
          11,
          12,
          9,
          12,
          10,
          12,
          8,
          17,
          9,
          10,
          22,
          13,
          11,
          6,
          8,
          11,
          10,
          11,
          19,
          13,
          17,
          12,
          18,
          11,
          11,
          21,
          12,
          13,
          16,
          12,
          10,
          10,
          11,
          8,
          8,
          9,
          9,
          12,
          7,
          10,
          16,
          8,
          16,
          10,
          9.2,
          15,
          7.5,
          10.2,
          11,
          14,
          23,
          15,
          12,
          16,
          9.5,
          10,
          13,
          8,
          8,
          9,
          14,
          9,
          11,
          9.5,
          8.4,
          8.4,
          8.4,
          11,
          8,
          14,
          8.4,
          11.6,
          9.2,
          14,
          8.5,
          7.6,
          9.6,
          7,
          10,
          9.3,
          8.6,
          14,
          11,
          10,
          14,
          9,
          14,
          11,
          9.2,
          11,
          11,
          10,
          8,
          8,
          14,
          12,
          11,
          9.2,
          8,
          10,
          8,
          21,
          8,
          10,
          11,
          6.9,
          12,
          15,
          10
         ],
         "yaxis": "y2"
        },
        {
         "hovertemplate": "KMeans_Cluster=2<br>DBO5_x=%{x}<br>SS_x=%{y}<extra></extra>",
         "legendgroup": "",
         "marker": {
          "color": "#F8766D",
          "symbol": "circle"
         },
         "mode": "markers",
         "name": "",
         "orientation": "v",
         "showlegend": false,
         "type": "scatter",
         "x": [
          5,
          5,
          5,
          5,
          8,
          6,
          6,
          5
         ],
         "xaxis": "x3",
         "y": [
          2,
          5,
          5,
          3,
          3,
          3,
          4,
          5
         ],
         "yaxis": "y3"
        },
        {
         "hovertemplate": "KMeans_Cluster=0<br>DBO5_x=%{x}<br>SS_x=%{y}<extra></extra>",
         "legendgroup": "",
         "marker": {
          "color": "#F8766D",
          "symbol": "circle"
         },
         "mode": "markers",
         "name": "",
         "orientation": "v",
         "showlegend": false,
         "type": "scatter",
         "x": [
          18,
          18,
          11,
          14,
          14,
          12,
          20,
          17,
          11,
          11,
          12,
          10,
          11,
          30,
          15,
          21,
          13,
          12,
          10,
          20,
          11,
          12,
          16,
          12,
          17,
          12,
          15,
          30,
          14,
          12,
          11,
          11,
          9,
          13,
          15,
          13,
          17,
          20,
          13,
          12,
          14,
          13,
          12,
          11,
          15,
          18,
          13,
          16,
          16,
          12,
          11,
          12,
          13,
          16.3,
          13.2,
          15,
          12,
          16,
          13,
          13,
          12,
          15,
          9,
          16,
          15,
          14,
          14,
          18,
          15,
          15,
          23,
          14,
          17,
          16,
          10,
          13,
          11,
          13,
          9,
          18,
          12,
          14,
          11,
          10,
          11,
          21,
          38,
          16,
          14,
          13,
          12,
          15.4,
          11.9,
          14,
          9,
          15,
          13,
          18,
          16,
          14,
          17,
          12,
          14,
          13,
          12,
          15,
          15,
          14,
          12
         ],
         "xaxis": "x4",
         "y": [
          9,
          14,
          14,
          12,
          14,
          11,
          11,
          15,
          24,
          13,
          17,
          17,
          18,
          14,
          10,
          13,
          15,
          15,
          22,
          14,
          14,
          19,
          12,
          13,
          10,
          12,
          13,
          11,
          13,
          15,
          16,
          16,
          18,
          16,
          17,
          20,
          16,
          21,
          11,
          18,
          19,
          14,
          13,
          13,
          13,
          9,
          16,
          15,
          12,
          10,
          12,
          13,
          16,
          22,
          11.2,
          15,
          16,
          7.6,
          11,
          9.1,
          12,
          5,
          18,
          14,
          14,
          10,
          14,
          18,
          13,
          15,
          24,
          12,
          20,
          18,
          14,
          17,
          17,
          15,
          16,
          17,
          14,
          13,
          13,
          14,
          14,
          19,
          15,
          15,
          12,
          10,
          16,
          13,
          13.6,
          17.5,
          18,
          17,
          15,
          23,
          16,
          14,
          11,
          10,
          15,
          13,
          16,
          11,
          17,
          10,
          16
         ],
         "yaxis": "y4"
        },
        {
         "hovertemplate": "KMeans_Cluster=4<br>DBO5_x=%{x}<br>SS_x=%{y}<extra></extra>",
         "legendgroup": "",
         "marker": {
          "color": "#F8766D",
          "symbol": "circle"
         },
         "mode": "markers",
         "name": "",
         "orientation": "v",
         "showlegend": false,
         "type": "scatter",
         "x": [
          5,
          9,
          6,
          19,
          15,
          29,
          35,
          12,
          17,
          15,
          13
         ],
         "xaxis": "x5",
         "y": [
          35,
          32,
          29,
          39,
          27,
          26,
          31,
          46,
          55,
          30,
          52
         ],
         "yaxis": "y5"
        }
       ],
       "layout": {
        "annotations": [
         {
          "font": {},
          "showarrow": false,
          "text": "KMeans_Cluster=1",
          "x": 0.09200000000000001,
          "xanchor": "center",
          "xref": "paper",
          "y": 1,
          "yanchor": "bottom",
          "yref": "paper"
         },
         {
          "font": {},
          "showarrow": false,
          "text": "KMeans_Cluster=3",
          "x": 0.29600000000000004,
          "xanchor": "center",
          "xref": "paper",
          "y": 1,
          "yanchor": "bottom",
          "yref": "paper"
         },
         {
          "font": {},
          "showarrow": false,
          "text": "KMeans_Cluster=2",
          "x": 0.5,
          "xanchor": "center",
          "xref": "paper",
          "y": 1,
          "yanchor": "bottom",
          "yref": "paper"
         },
         {
          "font": {},
          "showarrow": false,
          "text": "KMeans_Cluster=0",
          "x": 0.7040000000000002,
          "xanchor": "center",
          "xref": "paper",
          "y": 1,
          "yanchor": "bottom",
          "yref": "paper"
         },
         {
          "font": {},
          "showarrow": false,
          "text": "KMeans_Cluster=4",
          "x": 0.908,
          "xanchor": "center",
          "xref": "paper",
          "y": 1,
          "yanchor": "bottom",
          "yref": "paper"
         }
        ],
        "legend": {
         "tracegroupgap": 0
        },
        "template": {
         "data": {
          "bar": [
           {
            "error_x": {
             "color": "rgb(51,51,51)"
            },
            "error_y": {
             "color": "rgb(51,51,51)"
            },
            "marker": {
             "line": {
              "color": "rgb(237,237,237)",
              "width": 0.5
             }
            },
            "type": "bar"
           }
          ],
          "barpolar": [
           {
            "marker": {
             "line": {
              "color": "rgb(237,237,237)",
              "width": 0.5
             }
            },
            "type": "barpolar"
           }
          ],
          "carpet": [
           {
            "aaxis": {
             "endlinecolor": "rgb(51,51,51)",
             "gridcolor": "white",
             "linecolor": "white",
             "minorgridcolor": "white",
             "startlinecolor": "rgb(51,51,51)"
            },
            "baxis": {
             "endlinecolor": "rgb(51,51,51)",
             "gridcolor": "white",
             "linecolor": "white",
             "minorgridcolor": "white",
             "startlinecolor": "rgb(51,51,51)"
            },
            "type": "carpet"
           }
          ],
          "choropleth": [
           {
            "colorbar": {
             "outlinewidth": 0,
             "tickcolor": "rgb(237,237,237)",
             "ticklen": 6,
             "ticks": "inside"
            },
            "type": "choropleth"
           }
          ],
          "contour": [
           {
            "colorbar": {
             "outlinewidth": 0,
             "tickcolor": "rgb(237,237,237)",
             "ticklen": 6,
             "ticks": "inside"
            },
            "colorscale": [
             [
              0,
              "rgb(20,44,66)"
             ],
             [
              1,
              "rgb(90,179,244)"
             ]
            ],
            "type": "contour"
           }
          ],
          "contourcarpet": [
           {
            "colorbar": {
             "outlinewidth": 0,
             "tickcolor": "rgb(237,237,237)",
             "ticklen": 6,
             "ticks": "inside"
            },
            "type": "contourcarpet"
           }
          ],
          "heatmap": [
           {
            "colorbar": {
             "outlinewidth": 0,
             "tickcolor": "rgb(237,237,237)",
             "ticklen": 6,
             "ticks": "inside"
            },
            "colorscale": [
             [
              0,
              "rgb(20,44,66)"
             ],
             [
              1,
              "rgb(90,179,244)"
             ]
            ],
            "type": "heatmap"
           }
          ],
          "heatmapgl": [
           {
            "colorbar": {
             "outlinewidth": 0,
             "tickcolor": "rgb(237,237,237)",
             "ticklen": 6,
             "ticks": "inside"
            },
            "colorscale": [
             [
              0,
              "rgb(20,44,66)"
             ],
             [
              1,
              "rgb(90,179,244)"
             ]
            ],
            "type": "heatmapgl"
           }
          ],
          "histogram": [
           {
            "marker": {
             "colorbar": {
              "outlinewidth": 0,
              "tickcolor": "rgb(237,237,237)",
              "ticklen": 6,
              "ticks": "inside"
             }
            },
            "type": "histogram"
           }
          ],
          "histogram2d": [
           {
            "colorbar": {
             "outlinewidth": 0,
             "tickcolor": "rgb(237,237,237)",
             "ticklen": 6,
             "ticks": "inside"
            },
            "colorscale": [
             [
              0,
              "rgb(20,44,66)"
             ],
             [
              1,
              "rgb(90,179,244)"
             ]
            ],
            "type": "histogram2d"
           }
          ],
          "histogram2dcontour": [
           {
            "colorbar": {
             "outlinewidth": 0,
             "tickcolor": "rgb(237,237,237)",
             "ticklen": 6,
             "ticks": "inside"
            },
            "colorscale": [
             [
              0,
              "rgb(20,44,66)"
             ],
             [
              1,
              "rgb(90,179,244)"
             ]
            ],
            "type": "histogram2dcontour"
           }
          ],
          "mesh3d": [
           {
            "colorbar": {
             "outlinewidth": 0,
             "tickcolor": "rgb(237,237,237)",
             "ticklen": 6,
             "ticks": "inside"
            },
            "type": "mesh3d"
           }
          ],
          "parcoords": [
           {
            "line": {
             "colorbar": {
              "outlinewidth": 0,
              "tickcolor": "rgb(237,237,237)",
              "ticklen": 6,
              "ticks": "inside"
             }
            },
            "type": "parcoords"
           }
          ],
          "pie": [
           {
            "automargin": true,
            "type": "pie"
           }
          ],
          "scatter": [
           {
            "marker": {
             "colorbar": {
              "outlinewidth": 0,
              "tickcolor": "rgb(237,237,237)",
              "ticklen": 6,
              "ticks": "inside"
             }
            },
            "type": "scatter"
           }
          ],
          "scatter3d": [
           {
            "line": {
             "colorbar": {
              "outlinewidth": 0,
              "tickcolor": "rgb(237,237,237)",
              "ticklen": 6,
              "ticks": "inside"
             }
            },
            "marker": {
             "colorbar": {
              "outlinewidth": 0,
              "tickcolor": "rgb(237,237,237)",
              "ticklen": 6,
              "ticks": "inside"
             }
            },
            "type": "scatter3d"
           }
          ],
          "scattercarpet": [
           {
            "marker": {
             "colorbar": {
              "outlinewidth": 0,
              "tickcolor": "rgb(237,237,237)",
              "ticklen": 6,
              "ticks": "inside"
             }
            },
            "type": "scattercarpet"
           }
          ],
          "scattergeo": [
           {
            "marker": {
             "colorbar": {
              "outlinewidth": 0,
              "tickcolor": "rgb(237,237,237)",
              "ticklen": 6,
              "ticks": "inside"
             }
            },
            "type": "scattergeo"
           }
          ],
          "scattergl": [
           {
            "marker": {
             "colorbar": {
              "outlinewidth": 0,
              "tickcolor": "rgb(237,237,237)",
              "ticklen": 6,
              "ticks": "inside"
             }
            },
            "type": "scattergl"
           }
          ],
          "scattermapbox": [
           {
            "marker": {
             "colorbar": {
              "outlinewidth": 0,
              "tickcolor": "rgb(237,237,237)",
              "ticklen": 6,
              "ticks": "inside"
             }
            },
            "type": "scattermapbox"
           }
          ],
          "scatterpolar": [
           {
            "marker": {
             "colorbar": {
              "outlinewidth": 0,
              "tickcolor": "rgb(237,237,237)",
              "ticklen": 6,
              "ticks": "inside"
             }
            },
            "type": "scatterpolar"
           }
          ],
          "scatterpolargl": [
           {
            "marker": {
             "colorbar": {
              "outlinewidth": 0,
              "tickcolor": "rgb(237,237,237)",
              "ticklen": 6,
              "ticks": "inside"
             }
            },
            "type": "scatterpolargl"
           }
          ],
          "scatterternary": [
           {
            "marker": {
             "colorbar": {
              "outlinewidth": 0,
              "tickcolor": "rgb(237,237,237)",
              "ticklen": 6,
              "ticks": "inside"
             }
            },
            "type": "scatterternary"
           }
          ],
          "surface": [
           {
            "colorbar": {
             "outlinewidth": 0,
             "tickcolor": "rgb(237,237,237)",
             "ticklen": 6,
             "ticks": "inside"
            },
            "colorscale": [
             [
              0,
              "rgb(20,44,66)"
             ],
             [
              1,
              "rgb(90,179,244)"
             ]
            ],
            "type": "surface"
           }
          ],
          "table": [
           {
            "cells": {
             "fill": {
              "color": "rgb(237,237,237)"
             },
             "line": {
              "color": "white"
             }
            },
            "header": {
             "fill": {
              "color": "rgb(217,217,217)"
             },
             "line": {
              "color": "white"
             }
            },
            "type": "table"
           }
          ]
         },
         "layout": {
          "annotationdefaults": {
           "arrowhead": 0,
           "arrowwidth": 1
          },
          "coloraxis": {
           "colorbar": {
            "outlinewidth": 0,
            "tickcolor": "rgb(237,237,237)",
            "ticklen": 6,
            "ticks": "inside"
           }
          },
          "colorscale": {
           "sequential": [
            [
             0,
             "rgb(20,44,66)"
            ],
            [
             1,
             "rgb(90,179,244)"
            ]
           ],
           "sequentialminus": [
            [
             0,
             "rgb(20,44,66)"
            ],
            [
             1,
             "rgb(90,179,244)"
            ]
           ]
          },
          "colorway": [
           "#F8766D",
           "#A3A500",
           "#00BF7D",
           "#00B0F6",
           "#E76BF3"
          ],
          "font": {
           "color": "rgb(51,51,51)"
          },
          "geo": {
           "bgcolor": "white",
           "lakecolor": "white",
           "landcolor": "rgb(237,237,237)",
           "showlakes": true,
           "showland": true,
           "subunitcolor": "white"
          },
          "hoverlabel": {
           "align": "left"
          },
          "hovermode": "closest",
          "paper_bgcolor": "white",
          "plot_bgcolor": "rgb(237,237,237)",
          "polar": {
           "angularaxis": {
            "gridcolor": "white",
            "linecolor": "white",
            "showgrid": true,
            "tickcolor": "rgb(51,51,51)",
            "ticks": "outside"
           },
           "bgcolor": "rgb(237,237,237)",
           "radialaxis": {
            "gridcolor": "white",
            "linecolor": "white",
            "showgrid": true,
            "tickcolor": "rgb(51,51,51)",
            "ticks": "outside"
           }
          },
          "scene": {
           "xaxis": {
            "backgroundcolor": "rgb(237,237,237)",
            "gridcolor": "white",
            "gridwidth": 2,
            "linecolor": "white",
            "showbackground": true,
            "showgrid": true,
            "tickcolor": "rgb(51,51,51)",
            "ticks": "outside",
            "zerolinecolor": "white"
           },
           "yaxis": {
            "backgroundcolor": "rgb(237,237,237)",
            "gridcolor": "white",
            "gridwidth": 2,
            "linecolor": "white",
            "showbackground": true,
            "showgrid": true,
            "tickcolor": "rgb(51,51,51)",
            "ticks": "outside",
            "zerolinecolor": "white"
           },
           "zaxis": {
            "backgroundcolor": "rgb(237,237,237)",
            "gridcolor": "white",
            "gridwidth": 2,
            "linecolor": "white",
            "showbackground": true,
            "showgrid": true,
            "tickcolor": "rgb(51,51,51)",
            "ticks": "outside",
            "zerolinecolor": "white"
           }
          },
          "shapedefaults": {
           "fillcolor": "black",
           "line": {
            "width": 0
           },
           "opacity": 0.3
          },
          "ternary": {
           "aaxis": {
            "gridcolor": "white",
            "linecolor": "white",
            "showgrid": true,
            "tickcolor": "rgb(51,51,51)",
            "ticks": "outside"
           },
           "baxis": {
            "gridcolor": "white",
            "linecolor": "white",
            "showgrid": true,
            "tickcolor": "rgb(51,51,51)",
            "ticks": "outside"
           },
           "bgcolor": "rgb(237,237,237)",
           "caxis": {
            "gridcolor": "white",
            "linecolor": "white",
            "showgrid": true,
            "tickcolor": "rgb(51,51,51)",
            "ticks": "outside"
           }
          },
          "xaxis": {
           "automargin": true,
           "gridcolor": "white",
           "linecolor": "white",
           "showgrid": true,
           "tickcolor": "rgb(51,51,51)",
           "ticks": "outside",
           "title": {
            "standoff": 15
           },
           "zerolinecolor": "white"
          },
          "yaxis": {
           "automargin": true,
           "gridcolor": "white",
           "linecolor": "white",
           "showgrid": true,
           "tickcolor": "rgb(51,51,51)",
           "ticks": "outside",
           "title": {
            "standoff": 15
           },
           "zerolinecolor": "white"
          }
         }
        },
        "title": {
         "text": "Datos de SS y DBO5 en función Kmeans"
        },
        "xaxis": {
         "anchor": "y",
         "domain": [
          0,
          0.18400000000000002
         ],
         "title": {
          "text": "DBO5_x"
         }
        },
        "xaxis2": {
         "anchor": "y2",
         "domain": [
          0.20400000000000001,
          0.388
         ],
         "matches": "x",
         "title": {
          "text": "DBO5_x"
         }
        },
        "xaxis3": {
         "anchor": "y3",
         "domain": [
          0.40800000000000003,
          0.5920000000000001
         ],
         "matches": "x",
         "title": {
          "text": "DBO5_x"
         }
        },
        "xaxis4": {
         "anchor": "y4",
         "domain": [
          0.6120000000000001,
          0.7960000000000002
         ],
         "matches": "x",
         "title": {
          "text": "DBO5_x"
         }
        },
        "xaxis5": {
         "anchor": "y5",
         "domain": [
          0.8160000000000001,
          1
         ],
         "matches": "x",
         "title": {
          "text": "DBO5_x"
         }
        },
        "yaxis": {
         "anchor": "x",
         "domain": [
          0,
          1
         ],
         "title": {
          "text": "SS_x"
         }
        },
        "yaxis2": {
         "anchor": "x2",
         "domain": [
          0,
          1
         ],
         "matches": "y",
         "showticklabels": false
        },
        "yaxis3": {
         "anchor": "x3",
         "domain": [
          0,
          1
         ],
         "matches": "y",
         "showticklabels": false
        },
        "yaxis4": {
         "anchor": "x4",
         "domain": [
          0,
          1
         ],
         "matches": "y",
         "showticklabels": false
        },
        "yaxis5": {
         "anchor": "x5",
         "domain": [
          0,
          1
         ],
         "matches": "y",
         "showticklabels": false
        }
       }
      },
      "text/html": [
       "<div>                            <div id=\"40f2eff5-b827-41c4-8f94-37171f66df56\" class=\"plotly-graph-div\" style=\"height:525px; width:100%;\"></div>            <script type=\"text/javascript\">                require([\"plotly\"], function(Plotly) {                    window.PLOTLYENV=window.PLOTLYENV || {};                                    if (document.getElementById(\"40f2eff5-b827-41c4-8f94-37171f66df56\")) {                    Plotly.newPlot(                        \"40f2eff5-b827-41c4-8f94-37171f66df56\",                        [{\"hovertemplate\": \"KMeans_Cluster=1<br>DBO5_x=%{x}<br>SS_x=%{y}<extra></extra>\", \"legendgroup\": \"\", \"marker\": {\"color\": \"#F8766D\", \"symbol\": \"circle\"}, \"mode\": \"markers\", \"name\": \"\", \"orientation\": \"v\", \"showlegend\": false, \"type\": \"scatter\", \"x\": [5.0, 5.0, 5.0, 5.0, 5.0, 5.0, 6.0, 5.0, 5.0, 5.0, 3.5, 5.0, 5.0, 5.0, 5.0, 5.0, 6.0, 5.0, 5.0, 5.0, 5.0, 5.0, 5.0, 5.0, 5.0, 5.0, 5.0, 5.0, 6.0, 5.0, 11.0, 12.0, 5.0, 5.0, 5.0, 6.0, 5.0, 5.0, 5.0, 6.0, 5.0, 5.0, 5.0, 5.0, 6.0, 5.0, 5.0, 5.0, 5.0, 5.0, 5.0, 5.0, 5.0, 8.0, 5.0, 5.0, 5.0, 6.0, 5.0, 5.0, 5.0, 5.0, 5.0, 5.0, 5.0, 5.0, 5.0, 8.0, 4.5, 4.3, 5.0, 6.0, 5.0, 5.0, 5.0, 5.0, 5.0, 5.0, 5.0, 5.0, 5.0, 5.0, 5.0, 5.0, 5.0, 5.0, 5.0, 5.0, 5.0, 5.0, 5.0, 5.0, 5.0, 5.0, 5.0, 5.0, 5.0, 5.0, 5.0, 5.0, 5.0, 5.0, 5.0, 5.0, 5.0, 5.0, 5.0, 6.0, 12.0, 5.0, 5.0, 5.0, 9.5, 4.1, 8.3, 8.0, 2.0, 2.0, 3.0, 2.0, 2.0, 3.0, 2.0, 2.0, 4.0, 3.0, 10.0, 6.0, 7.0, 5.0, 2.0, 6.0, 7.0, 3.0, 2.0, 2.0, 3.0, 2.0, 2.0, 2.0, 3.0, 2.0, 2.0, 2.0, 5.0, 2.0, 3.0, 2.0, 4.0, 3.0, 3.0, 2.0, 5.0, 9.0, 8.0, 6.0, 6.0, 4.0, 8.0, 2.0, 6.0, 3.0, 2.0, 2.0, 3.0, 3.0, 3.0, 2.0, 3.0, 3.0, 5.0, 3.0, 11.0, 3.0, 2.0, 6.0, 7.0, 6.0, 3.0, 6.0, 7.0, 3.0, 10.2, 3.8, 8.7, 5.0, 5.0, 2.0, 4.0, 2.0, 2.0, 3.0, 3.0, 3.0, 7.0, 4.0, 5.0, 8.0, 7.0, 9.0, 2.0, 11.0, 5.0, 4.0, 2.0, 3.0, 2.0, 10.0, 1.8, 4.0, 4.0, 2.0, 5.0, 6.0, 10.0, 5.0, 11.0, 7.0, 5.0, 9.0, 5.0, 5.0, 4.5, 3.0, 3.0, 3.0, 4.0, 5.0, 3.0, 3.0, 2.0, 5.0, 4.0, 6.0, 3.0, 3.0, 4.0, 3.0, 8.0, 4.0, 5.0, 4.0, 6.0, 2.0, 3.0, 9.8, 4.0, 3.0, 2.0, 2.0, 2.0, 2.0, 2.0, 4.0, 5.0, 5.0, 6.0, 7.0, 5.0, 8.0, 6.0, 10.0, 5.0, 3.0, 3.0, 2.0, 2.0, 5.0, 2.0, 8.0, 7.0, 6.0, 10.0, 5.0, 9.0, 9.0, 13.0, 9.0, 4.0, 9.0, 7.0, 6.0, 10.0, 13.0, 11.0, 8.0, 7.0, 2.0], \"xaxis\": \"x\", \"y\": [5.0, 4.0, 3.0, 3.0, 4.0, 5.0, 4.0, 3.0, 3.0, 2.0, 7.0, 4.0, 2.0, 2.0, 2.0, 2.0, 2.0, 2.0, 2.0, 2.0, 2.0, 3.0, 2.0, 3.0, 5.0, 3.0, 3.0, 1.0, 3.0, 4.0, 2.0, 3.0, 3.0, 3.0, 3.0, 4.0, 1.0, 2.0, 1.0, 1.0, 2.0, 2.0, 2.0, 2.0, 4.0, 4.0, 4.0, 6.0, 3.0, 2.0, 3.0, 1.0, 3.0, 3.0, 1.0, 3.0, 3.0, 2.0, 1.0, 3.0, 2.0, 3.0, 3.0, 3.0, 3.0, 2.0, 7.0, 4.0, 2.0, 3.0, 3.0, 4.0, 3.0, 7.0, 4.0, 3.0, 3.0, 4.0, 7.0, 2.0, 3.0, 3.0, 2.0, 2.0, 2.0, 2.0, 4.0, 5.0, 4.0, 2.0, 1.0, 2.0, 1.0, 2.0, 1.0, 1.0, 2.0, 4.0, 1.0, 1.0, 1.0, 2.0, 2.0, 2.0, 2.0, 2.0, 1.0, 1.0, 2.0, 2.0, 1.0, 7.0, 2.0, 3.0, 2.0, 5.4, 3.0, 2.0, 4.4, 2.0, 2.0, 2.0, 2.0, 2.0, 2.0, 2.0, 2.0, 2.0, 2.0, 5.7, 2.8, 4.4, 2.0, 2.2, 2.0, 2.0, 4.6, 2.4, 2.0, 2.4, 2.0, 2.4, 2.0, 2.0, 7.0, 6.0, 8.0, 4.0, 8.0, 5.0, 3.0, 6.0, 7.0, 5.0, 2.0, 4.0, 2.0, 2.0, 5.0, 3.0, 4.0, 4.0, 7.0, 6.0, 3.0, 7.2, 5.2, 5.2, 3.2, 2.8, 6.4, 5.6, 6.4, 5.6, 3.6, 3.2, 3.0, 2.0, 2.0, 3.4, 2.9, 3.2, 2.6, 3.4, 3.2, 5.2, 5.0, 2.6, 4.0, 2.0, 7.8, 2.0, 2.0, 4.0, 2.4, 2.8, 2.0, 2.4, 2.0, 5.3, 2.2, 2.8, 3.0, 4.0, 2.4, 7.7, 2.0, 3.4, 1.7, 6.4, 5.0, 5.8, 5.0, 7.0, 3.0, 7.0, 5.0, 6.0, 4.0, 5.0, 5.0, 5.0, 5.5, 7.0, 6.0, 7.0, 4.0, 6.0, 5.0, 5.0, 5.0, 5.0, 6.0, 7.0, 8.4, 8.0, 8.1, 8.0, 4.8, 4.0, 4.8, 2.8, 8.0, 4.0, 6.4, 5.0, 6.6, 7.6, 4.8, 8.4, 7.4, 4.4, 5.8, 3.6, 2.2, 2.0, 4.5, 5.0, 5.6, 7.2, 2.2, 5.6, 4.2, 7.2, 3.4, 2.4, 3.2, 4.6, 4.6, 6.0, 6.0, 7.0, 6.0, 6.5, 7.0, 4.0, 5.1, 5.0, 8.0, 6.0, 5.0, 8.0, 6.0, 6.0, 6.4, 7.2, 6.8, 9.1], \"yaxis\": \"y\"}, {\"hovertemplate\": \"KMeans_Cluster=3<br>DBO5_x=%{x}<br>SS_x=%{y}<extra></extra>\", \"legendgroup\": \"\", \"marker\": {\"color\": \"#F8766D\", \"symbol\": \"circle\"}, \"mode\": \"markers\", \"name\": \"\", \"orientation\": \"v\", \"showlegend\": false, \"type\": \"scatter\", \"x\": [5.0, 5.0, 2.0, 2.0, 3.0, 7.0, 2.0, 2.0, 3.0, 8.0, 2.0, 5.0, 5.0, 4.0, 5.0, 8.0, 8.0, 10.0, 8.0, 8.0, 9.0, 7.0, 7.0, 7.0, 6.0, 7.0, 8.0, 5.0, 10.0, 9.0, 8.0, 8.0, 8.0, 10.0, 8.0, 8.0, 7.0, 12.0, 11.0, 5.0, 9.0, 5.0, 7.0, 6.0, 7.0, 5.0, 8.0, 7.0, 6.0, 7.0, 5.0, 12.0, 9.0, 9.0, 6.0, 5.0, 8.0, 4.8, 10.0, 9.0, 5.0, 8.0, 7.0, 5.0, 10.0, 8.0, 5.0, 10.0, 8.0, 8.5, 8.0, 9.0, 8.0, 5.0, 5.0, 6.0, 5.0, 5.0, 5.0, 6.0, 6.0, 5.0, 8.0, 5.0, 5.0, 5.0, 5.0, 7.0, 7.0, 7.0, 7.0, 5.0, 8.0, 5.0, 11.0, 11.0, 5.0, 5.0, 8.0, 7.0, 6.0, 5.0, 5.0, 5.0, 9.0, 8.0, 10.0, 6.0, 6.0, 7.0, 5.0, 9.0, 7.0, 7.0, 5.0, 5.0, 5.0, 7.0, 11.0, 4.7, 12.0, 5.0, 8.0, 5.0, 5.0, 11.0, 6.0, 2.0, 3.0, 7.0, 6.0, 6.0, 5.0, 5.0, 6.0, 6.0, 7.0, 4.0, 3.0, 7.0, 3.0, 2.0, 5.0, 8.0, 6.0, 11.0, 8.9, 2.0, 5.0, 5.0, 8.0, 5.0, 3.0, 3.0, 2.0, 10.0, 7.0, 10.0, 10.0, 8.0, 10.0, 5.0, 10.0, 8.0, 8.0, 11.0, 10.0, 12.0, 9.0, 6.0, 10.1, 10.0, 9.0, 11.0, 9.0, 9.0, 12.0, 7.0, 11.0, 11.0, 8.0, 7.0, 8.0, 9.0, 9.0, 9.0, 10.0, 7.0, 9.0, 7.0, 7.0, 9.0, 9.0, 7.0, 2.0, 9.0, 7.0, 8.0, 6.0, 10.0, 6.0, 12.0, 5.0, 10.0, 11.0, 9.0, 9.0, 6.0], \"xaxis\": \"x2\", \"y\": [13.0, 6.0, 12.0, 22.0, 10.0, 15.0, 10.0, 12.0, 13.0, 9.0, 12.0, 10.0, 11.0, 9.2, 12.0, 12.0, 13.0, 9.0, 9.0, 8.0, 10.0, 9.0, 9.0, 8.0, 12.0, 8.0, 12.0, 8.0, 8.0, 11.0, 11.0, 9.0, 7.0, 12.0, 7.0, 9.0, 9.0, 9.0, 9.0, 8.0, 14.0, 16.0, 14.0, 12.0, 18.0, 15.0, 17.0, 11.0, 13.0, 15.0, 14.0, 9.0, 11.0, 11.0, 9.0, 9.0, 12.0, 10.0, 14.0, 13.0, 17.0, 14.0, 15.0, 7.0, 9.0, 11.0, 15.0, 14.0, 13.0, 13.0, 10.0, 12.0, 10.0, 9.0, 14.0, 16.0, 15.0, 9.0, 12.0, 15.0, 11.0, 8.0, 14.0, 9.0, 11.0, 15.0, 9.0, 11.0, 11.0, 11.0, 10.0, 8.0, 12.0, 15.0, 11.0, 9.0, 9.0, 18.0, 14.0, 11.0, 12.0, 9.0, 12.0, 10.0, 12.0, 8.0, 17.0, 9.0, 10.0, 22.0, 13.0, 11.0, 6.0, 8.0, 11.0, 10.0, 11.0, 19.0, 13.0, 17.0, 12.0, 18.0, 11.0, 11.0, 21.0, 12.0, 13.0, 16.0, 12.0, 10.0, 10.0, 11.0, 8.0, 8.0, 9.0, 9.0, 12.0, 7.0, 10.0, 16.0, 8.0, 16.0, 10.0, 9.2, 15.0, 7.5, 10.2, 11.0, 14.0, 23.0, 15.0, 12.0, 16.0, 9.5, 10.0, 13.0, 8.0, 8.0, 9.0, 14.0, 9.0, 11.0, 9.5, 8.4, 8.4, 8.4, 11.0, 8.0, 14.0, 8.4, 11.6, 9.2, 14.0, 8.5, 7.6, 9.6, 7.0, 10.0, 9.3, 8.6, 14.0, 11.0, 10.0, 14.0, 9.0, 14.0, 11.0, 9.2, 11.0, 11.0, 10.0, 8.0, 8.0, 14.0, 12.0, 11.0, 9.2, 8.0, 10.0, 8.0, 21.0, 8.0, 10.0, 11.0, 6.9, 12.0, 15.0, 10.0], \"yaxis\": \"y2\"}, {\"hovertemplate\": \"KMeans_Cluster=2<br>DBO5_x=%{x}<br>SS_x=%{y}<extra></extra>\", \"legendgroup\": \"\", \"marker\": {\"color\": \"#F8766D\", \"symbol\": \"circle\"}, \"mode\": \"markers\", \"name\": \"\", \"orientation\": \"v\", \"showlegend\": false, \"type\": \"scatter\", \"x\": [5.0, 5.0, 5.0, 5.0, 8.0, 6.0, 6.0, 5.0], \"xaxis\": \"x3\", \"y\": [2.0, 5.0, 5.0, 3.0, 3.0, 3.0, 4.0, 5.0], \"yaxis\": \"y3\"}, {\"hovertemplate\": \"KMeans_Cluster=0<br>DBO5_x=%{x}<br>SS_x=%{y}<extra></extra>\", \"legendgroup\": \"\", \"marker\": {\"color\": \"#F8766D\", \"symbol\": \"circle\"}, \"mode\": \"markers\", \"name\": \"\", \"orientation\": \"v\", \"showlegend\": false, \"type\": \"scatter\", \"x\": [18.0, 18.0, 11.0, 14.0, 14.0, 12.0, 20.0, 17.0, 11.0, 11.0, 12.0, 10.0, 11.0, 30.0, 15.0, 21.0, 13.0, 12.0, 10.0, 20.0, 11.0, 12.0, 16.0, 12.0, 17.0, 12.0, 15.0, 30.0, 14.0, 12.0, 11.0, 11.0, 9.0, 13.0, 15.0, 13.0, 17.0, 20.0, 13.0, 12.0, 14.0, 13.0, 12.0, 11.0, 15.0, 18.0, 13.0, 16.0, 16.0, 12.0, 11.0, 12.0, 13.0, 16.3, 13.2, 15.0, 12.0, 16.0, 13.0, 13.0, 12.0, 15.0, 9.0, 16.0, 15.0, 14.0, 14.0, 18.0, 15.0, 15.0, 23.0, 14.0, 17.0, 16.0, 10.0, 13.0, 11.0, 13.0, 9.0, 18.0, 12.0, 14.0, 11.0, 10.0, 11.0, 21.0, 38.0, 16.0, 14.0, 13.0, 12.0, 15.4, 11.9, 14.0, 9.0, 15.0, 13.0, 18.0, 16.0, 14.0, 17.0, 12.0, 14.0, 13.0, 12.0, 15.0, 15.0, 14.0, 12.0], \"xaxis\": \"x4\", \"y\": [9.0, 14.0, 14.0, 12.0, 14.0, 11.0, 11.0, 15.0, 24.0, 13.0, 17.0, 17.0, 18.0, 14.0, 10.0, 13.0, 15.0, 15.0, 22.0, 14.0, 14.0, 19.0, 12.0, 13.0, 10.0, 12.0, 13.0, 11.0, 13.0, 15.0, 16.0, 16.0, 18.0, 16.0, 17.0, 20.0, 16.0, 21.0, 11.0, 18.0, 19.0, 14.0, 13.0, 13.0, 13.0, 9.0, 16.0, 15.0, 12.0, 10.0, 12.0, 13.0, 16.0, 22.0, 11.2, 15.0, 16.0, 7.6, 11.0, 9.1, 12.0, 5.0, 18.0, 14.0, 14.0, 10.0, 14.0, 18.0, 13.0, 15.0, 24.0, 12.0, 20.0, 18.0, 14.0, 17.0, 17.0, 15.0, 16.0, 17.0, 14.0, 13.0, 13.0, 14.0, 14.0, 19.0, 15.0, 15.0, 12.0, 10.0, 16.0, 13.0, 13.6, 17.5, 18.0, 17.0, 15.0, 23.0, 16.0, 14.0, 11.0, 10.0, 15.0, 13.0, 16.0, 11.0, 17.0, 10.0, 16.0], \"yaxis\": \"y4\"}, {\"hovertemplate\": \"KMeans_Cluster=4<br>DBO5_x=%{x}<br>SS_x=%{y}<extra></extra>\", \"legendgroup\": \"\", \"marker\": {\"color\": \"#F8766D\", \"symbol\": \"circle\"}, \"mode\": \"markers\", \"name\": \"\", \"orientation\": \"v\", \"showlegend\": false, \"type\": \"scatter\", \"x\": [5.0, 9.0, 6.0, 19.0, 15.0, 29.0, 35.0, 12.0, 17.0, 15.0, 13.0], \"xaxis\": \"x5\", \"y\": [35.0, 32.0, 29.0, 39.0, 27.0, 26.0, 31.0, 46.0, 55.0, 30.0, 52.0], \"yaxis\": \"y5\"}],                        {\"annotations\": [{\"font\": {}, \"showarrow\": false, \"text\": \"KMeans_Cluster=1\", \"x\": 0.09200000000000001, \"xanchor\": \"center\", \"xref\": \"paper\", \"y\": 1.0, \"yanchor\": \"bottom\", \"yref\": \"paper\"}, {\"font\": {}, \"showarrow\": false, \"text\": \"KMeans_Cluster=3\", \"x\": 0.29600000000000004, \"xanchor\": \"center\", \"xref\": \"paper\", \"y\": 1.0, \"yanchor\": \"bottom\", \"yref\": \"paper\"}, {\"font\": {}, \"showarrow\": false, \"text\": \"KMeans_Cluster=2\", \"x\": 0.5, \"xanchor\": \"center\", \"xref\": \"paper\", \"y\": 1.0, \"yanchor\": \"bottom\", \"yref\": \"paper\"}, {\"font\": {}, \"showarrow\": false, \"text\": \"KMeans_Cluster=0\", \"x\": 0.7040000000000002, \"xanchor\": \"center\", \"xref\": \"paper\", \"y\": 1.0, \"yanchor\": \"bottom\", \"yref\": \"paper\"}, {\"font\": {}, \"showarrow\": false, \"text\": \"KMeans_Cluster=4\", \"x\": 0.908, \"xanchor\": \"center\", \"xref\": \"paper\", \"y\": 1.0, \"yanchor\": \"bottom\", \"yref\": \"paper\"}], \"legend\": {\"tracegroupgap\": 0}, \"template\": {\"data\": {\"bar\": [{\"error_x\": {\"color\": \"rgb(51,51,51)\"}, \"error_y\": {\"color\": \"rgb(51,51,51)\"}, \"marker\": {\"line\": {\"color\": \"rgb(237,237,237)\", \"width\": 0.5}}, \"type\": \"bar\"}], \"barpolar\": [{\"marker\": {\"line\": {\"color\": \"rgb(237,237,237)\", \"width\": 0.5}}, \"type\": \"barpolar\"}], \"carpet\": [{\"aaxis\": {\"endlinecolor\": \"rgb(51,51,51)\", \"gridcolor\": \"white\", \"linecolor\": \"white\", \"minorgridcolor\": \"white\", \"startlinecolor\": \"rgb(51,51,51)\"}, \"baxis\": {\"endlinecolor\": \"rgb(51,51,51)\", \"gridcolor\": \"white\", \"linecolor\": \"white\", \"minorgridcolor\": \"white\", \"startlinecolor\": \"rgb(51,51,51)\"}, \"type\": \"carpet\"}], \"choropleth\": [{\"colorbar\": {\"outlinewidth\": 0, \"tickcolor\": \"rgb(237,237,237)\", \"ticklen\": 6, \"ticks\": \"inside\"}, \"type\": \"choropleth\"}], \"contour\": [{\"colorbar\": {\"outlinewidth\": 0, \"tickcolor\": \"rgb(237,237,237)\", \"ticklen\": 6, \"ticks\": \"inside\"}, \"colorscale\": [[0, \"rgb(20,44,66)\"], [1, \"rgb(90,179,244)\"]], \"type\": \"contour\"}], \"contourcarpet\": [{\"colorbar\": {\"outlinewidth\": 0, \"tickcolor\": \"rgb(237,237,237)\", \"ticklen\": 6, \"ticks\": \"inside\"}, \"type\": \"contourcarpet\"}], \"heatmap\": [{\"colorbar\": {\"outlinewidth\": 0, \"tickcolor\": \"rgb(237,237,237)\", \"ticklen\": 6, \"ticks\": \"inside\"}, \"colorscale\": [[0, \"rgb(20,44,66)\"], [1, \"rgb(90,179,244)\"]], \"type\": \"heatmap\"}], \"heatmapgl\": [{\"colorbar\": {\"outlinewidth\": 0, \"tickcolor\": \"rgb(237,237,237)\", \"ticklen\": 6, \"ticks\": \"inside\"}, \"colorscale\": [[0, \"rgb(20,44,66)\"], [1, \"rgb(90,179,244)\"]], \"type\": \"heatmapgl\"}], \"histogram\": [{\"marker\": {\"colorbar\": {\"outlinewidth\": 0, \"tickcolor\": \"rgb(237,237,237)\", \"ticklen\": 6, \"ticks\": \"inside\"}}, \"type\": \"histogram\"}], \"histogram2d\": [{\"colorbar\": {\"outlinewidth\": 0, \"tickcolor\": \"rgb(237,237,237)\", \"ticklen\": 6, \"ticks\": \"inside\"}, \"colorscale\": [[0, \"rgb(20,44,66)\"], [1, \"rgb(90,179,244)\"]], \"type\": \"histogram2d\"}], \"histogram2dcontour\": [{\"colorbar\": {\"outlinewidth\": 0, \"tickcolor\": \"rgb(237,237,237)\", \"ticklen\": 6, \"ticks\": \"inside\"}, \"colorscale\": [[0, \"rgb(20,44,66)\"], [1, \"rgb(90,179,244)\"]], \"type\": \"histogram2dcontour\"}], \"mesh3d\": [{\"colorbar\": {\"outlinewidth\": 0, \"tickcolor\": \"rgb(237,237,237)\", \"ticklen\": 6, \"ticks\": \"inside\"}, \"type\": \"mesh3d\"}], \"parcoords\": [{\"line\": {\"colorbar\": {\"outlinewidth\": 0, \"tickcolor\": \"rgb(237,237,237)\", \"ticklen\": 6, \"ticks\": \"inside\"}}, \"type\": \"parcoords\"}], \"pie\": [{\"automargin\": true, \"type\": \"pie\"}], \"scatter\": [{\"marker\": {\"colorbar\": {\"outlinewidth\": 0, \"tickcolor\": \"rgb(237,237,237)\", \"ticklen\": 6, \"ticks\": \"inside\"}}, \"type\": \"scatter\"}], \"scatter3d\": [{\"line\": {\"colorbar\": {\"outlinewidth\": 0, \"tickcolor\": \"rgb(237,237,237)\", \"ticklen\": 6, \"ticks\": \"inside\"}}, \"marker\": {\"colorbar\": {\"outlinewidth\": 0, \"tickcolor\": \"rgb(237,237,237)\", \"ticklen\": 6, \"ticks\": \"inside\"}}, \"type\": \"scatter3d\"}], \"scattercarpet\": [{\"marker\": {\"colorbar\": {\"outlinewidth\": 0, \"tickcolor\": \"rgb(237,237,237)\", \"ticklen\": 6, \"ticks\": \"inside\"}}, \"type\": \"scattercarpet\"}], \"scattergeo\": [{\"marker\": {\"colorbar\": {\"outlinewidth\": 0, \"tickcolor\": \"rgb(237,237,237)\", \"ticklen\": 6, \"ticks\": \"inside\"}}, \"type\": \"scattergeo\"}], \"scattergl\": [{\"marker\": {\"colorbar\": {\"outlinewidth\": 0, \"tickcolor\": \"rgb(237,237,237)\", \"ticklen\": 6, \"ticks\": \"inside\"}}, \"type\": \"scattergl\"}], \"scattermapbox\": [{\"marker\": {\"colorbar\": {\"outlinewidth\": 0, \"tickcolor\": \"rgb(237,237,237)\", \"ticklen\": 6, \"ticks\": \"inside\"}}, \"type\": \"scattermapbox\"}], \"scatterpolar\": [{\"marker\": {\"colorbar\": {\"outlinewidth\": 0, \"tickcolor\": \"rgb(237,237,237)\", \"ticklen\": 6, \"ticks\": \"inside\"}}, \"type\": \"scatterpolar\"}], \"scatterpolargl\": [{\"marker\": {\"colorbar\": {\"outlinewidth\": 0, \"tickcolor\": \"rgb(237,237,237)\", \"ticklen\": 6, \"ticks\": \"inside\"}}, \"type\": \"scatterpolargl\"}], \"scatterternary\": [{\"marker\": {\"colorbar\": {\"outlinewidth\": 0, \"tickcolor\": \"rgb(237,237,237)\", \"ticklen\": 6, \"ticks\": \"inside\"}}, \"type\": \"scatterternary\"}], \"surface\": [{\"colorbar\": {\"outlinewidth\": 0, \"tickcolor\": \"rgb(237,237,237)\", \"ticklen\": 6, \"ticks\": \"inside\"}, \"colorscale\": [[0, \"rgb(20,44,66)\"], [1, \"rgb(90,179,244)\"]], \"type\": \"surface\"}], \"table\": [{\"cells\": {\"fill\": {\"color\": \"rgb(237,237,237)\"}, \"line\": {\"color\": \"white\"}}, \"header\": {\"fill\": {\"color\": \"rgb(217,217,217)\"}, \"line\": {\"color\": \"white\"}}, \"type\": \"table\"}]}, \"layout\": {\"annotationdefaults\": {\"arrowhead\": 0, \"arrowwidth\": 1}, \"coloraxis\": {\"colorbar\": {\"outlinewidth\": 0, \"tickcolor\": \"rgb(237,237,237)\", \"ticklen\": 6, \"ticks\": \"inside\"}}, \"colorscale\": {\"sequential\": [[0, \"rgb(20,44,66)\"], [1, \"rgb(90,179,244)\"]], \"sequentialminus\": [[0, \"rgb(20,44,66)\"], [1, \"rgb(90,179,244)\"]]}, \"colorway\": [\"#F8766D\", \"#A3A500\", \"#00BF7D\", \"#00B0F6\", \"#E76BF3\"], \"font\": {\"color\": \"rgb(51,51,51)\"}, \"geo\": {\"bgcolor\": \"white\", \"lakecolor\": \"white\", \"landcolor\": \"rgb(237,237,237)\", \"showlakes\": true, \"showland\": true, \"subunitcolor\": \"white\"}, \"hoverlabel\": {\"align\": \"left\"}, \"hovermode\": \"closest\", \"paper_bgcolor\": \"white\", \"plot_bgcolor\": \"rgb(237,237,237)\", \"polar\": {\"angularaxis\": {\"gridcolor\": \"white\", \"linecolor\": \"white\", \"showgrid\": true, \"tickcolor\": \"rgb(51,51,51)\", \"ticks\": \"outside\"}, \"bgcolor\": \"rgb(237,237,237)\", \"radialaxis\": {\"gridcolor\": \"white\", \"linecolor\": \"white\", \"showgrid\": true, \"tickcolor\": \"rgb(51,51,51)\", \"ticks\": \"outside\"}}, \"scene\": {\"xaxis\": {\"backgroundcolor\": \"rgb(237,237,237)\", \"gridcolor\": \"white\", \"gridwidth\": 2, \"linecolor\": \"white\", \"showbackground\": true, \"showgrid\": true, \"tickcolor\": \"rgb(51,51,51)\", \"ticks\": \"outside\", \"zerolinecolor\": \"white\"}, \"yaxis\": {\"backgroundcolor\": \"rgb(237,237,237)\", \"gridcolor\": \"white\", \"gridwidth\": 2, \"linecolor\": \"white\", \"showbackground\": true, \"showgrid\": true, \"tickcolor\": \"rgb(51,51,51)\", \"ticks\": \"outside\", \"zerolinecolor\": \"white\"}, \"zaxis\": {\"backgroundcolor\": \"rgb(237,237,237)\", \"gridcolor\": \"white\", \"gridwidth\": 2, \"linecolor\": \"white\", \"showbackground\": true, \"showgrid\": true, \"tickcolor\": \"rgb(51,51,51)\", \"ticks\": \"outside\", \"zerolinecolor\": \"white\"}}, \"shapedefaults\": {\"fillcolor\": \"black\", \"line\": {\"width\": 0}, \"opacity\": 0.3}, \"ternary\": {\"aaxis\": {\"gridcolor\": \"white\", \"linecolor\": \"white\", \"showgrid\": true, \"tickcolor\": \"rgb(51,51,51)\", \"ticks\": \"outside\"}, \"baxis\": {\"gridcolor\": \"white\", \"linecolor\": \"white\", \"showgrid\": true, \"tickcolor\": \"rgb(51,51,51)\", \"ticks\": \"outside\"}, \"bgcolor\": \"rgb(237,237,237)\", \"caxis\": {\"gridcolor\": \"white\", \"linecolor\": \"white\", \"showgrid\": true, \"tickcolor\": \"rgb(51,51,51)\", \"ticks\": \"outside\"}}, \"xaxis\": {\"automargin\": true, \"gridcolor\": \"white\", \"linecolor\": \"white\", \"showgrid\": true, \"tickcolor\": \"rgb(51,51,51)\", \"ticks\": \"outside\", \"title\": {\"standoff\": 15}, \"zerolinecolor\": \"white\"}, \"yaxis\": {\"automargin\": true, \"gridcolor\": \"white\", \"linecolor\": \"white\", \"showgrid\": true, \"tickcolor\": \"rgb(51,51,51)\", \"ticks\": \"outside\", \"title\": {\"standoff\": 15}, \"zerolinecolor\": \"white\"}}}, \"title\": {\"text\": \"Datos de SS y DBO5 en funci\\u00f3n Kmeans\"}, \"xaxis\": {\"anchor\": \"y\", \"domain\": [0.0, 0.18400000000000002], \"title\": {\"text\": \"DBO5_x\"}}, \"xaxis2\": {\"anchor\": \"y2\", \"domain\": [0.20400000000000001, 0.388], \"matches\": \"x\", \"title\": {\"text\": \"DBO5_x\"}}, \"xaxis3\": {\"anchor\": \"y3\", \"domain\": [0.40800000000000003, 0.5920000000000001], \"matches\": \"x\", \"title\": {\"text\": \"DBO5_x\"}}, \"xaxis4\": {\"anchor\": \"y4\", \"domain\": [0.6120000000000001, 0.7960000000000002], \"matches\": \"x\", \"title\": {\"text\": \"DBO5_x\"}}, \"xaxis5\": {\"anchor\": \"y5\", \"domain\": [0.8160000000000001, 1.0], \"matches\": \"x\", \"title\": {\"text\": \"DBO5_x\"}}, \"yaxis\": {\"anchor\": \"x\", \"domain\": [0.0, 1.0], \"title\": {\"text\": \"SS_x\"}}, \"yaxis2\": {\"anchor\": \"x2\", \"domain\": [0.0, 1.0], \"matches\": \"y\", \"showticklabels\": false}, \"yaxis3\": {\"anchor\": \"x3\", \"domain\": [0.0, 1.0], \"matches\": \"y\", \"showticklabels\": false}, \"yaxis4\": {\"anchor\": \"x4\", \"domain\": [0.0, 1.0], \"matches\": \"y\", \"showticklabels\": false}, \"yaxis5\": {\"anchor\": \"x5\", \"domain\": [0.0, 1.0], \"matches\": \"y\", \"showticklabels\": false}},                        {\"responsive\": true}                    ).then(function(){\n",
       "                            \n",
       "var gd = document.getElementById('40f2eff5-b827-41c4-8f94-37171f66df56');\n",
       "var x = new MutationObserver(function (mutations, observer) {{\n",
       "        var display = window.getComputedStyle(gd).display;\n",
       "        if (!display || display === 'none') {{\n",
       "            console.log([gd, 'removed!']);\n",
       "            Plotly.purge(gd);\n",
       "            observer.disconnect();\n",
       "        }}\n",
       "}});\n",
       "\n",
       "// Listen for the removal of the full notebook cells\n",
       "var notebookContainer = gd.closest('#notebook-container');\n",
       "if (notebookContainer) {{\n",
       "    x.observe(notebookContainer, {childList: true});\n",
       "}}\n",
       "\n",
       "// Listen for the clearing of the current output cell\n",
       "var outputEl = gd.closest('.output');\n",
       "if (outputEl) {{\n",
       "    x.observe(outputEl, {childList: true});\n",
       "}}\n",
       "\n",
       "                        })                };                });            </script>        </div>"
      ]
     },
     "metadata": {},
     "output_type": "display_data"
    }
   ],
   "source": [
    "fig3 = px.scatter(\n",
    "  data_2, x=data_2['DBO5_x'], y=data_2[\"SS_x\"], \n",
    "  template=\"ggplot2\", facet_col = data_2['KMeans_Cluster']\n",
    ", title=\"Datos de SS y DBO5 en función Kmeans\",)\n",
    "fig3"
   ]
  },
  {
   "cell_type": "code",
   "execution_count": 78,
   "metadata": {},
   "outputs": [],
   "source": [
    "data_2.to_csv('tabla de resultados')"
   ]
  },
  {
   "cell_type": "code",
   "execution_count": null,
   "metadata": {},
   "outputs": [],
   "source": []
  }
 ],
 "metadata": {
  "kernelspec": {
   "display_name": "Python 3",
   "language": "python",
   "name": "python3"
  },
  "language_info": {
   "codemirror_mode": {
    "name": "ipython",
    "version": 3
   },
   "file_extension": ".py",
   "mimetype": "text/x-python",
   "name": "python",
   "nbconvert_exporter": "python",
   "pygments_lexer": "ipython3",
   "version": "3.8.5"
  }
 },
 "nbformat": 4,
 "nbformat_minor": 4
}
